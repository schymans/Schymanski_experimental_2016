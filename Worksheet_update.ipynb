{
 "cells": [
  {
   "cell_type": "markdown",
   "metadata": {},
   "source": [
    "# Sequential update of worksheet files\n",
    "This worksheet exports other worksheets to .sage files in order to save time when executing every particular worksheet. It can also be used to reproduce all computational results with one click, just click on `Cell` -> `Run All`.\n",
    "This converts all other worksheets to .sage files and them loads them into the current worksheet, which executes all the code in each worksheet. This can take tens of minutes! "
   ]
  },
  {
   "cell_type": "code",
   "execution_count": 1,
   "metadata": {
    "collapsed": false
   },
   "outputs": [],
   "source": [
    "import json   # for reading notebook metadata\n",
    "def fun_export_ipynb(worksheet, folder):\n",
    "    '''\n",
    "    Exports worksheet.ipynb to a .py or .sage depending on kernel.\n",
    "    Example:\n",
    "    fun_export_ipynb('Worksheet_setup', 'temp/')\n",
    "    Need to import json before using this function. Unless option output=True is given,\n",
    "    each line of text has a semicolon added in the .py file, preventing any output.\n",
    "    '''\n",
    "    str1 = 'jupyter nbconvert  --to=python \\'' + worksheet+'.ipynb\\''\n",
    "    print str1\n",
    "    print 'Exporting specified worksheet to .py file...'\n",
    "    \n",
    "    try:\n",
    "        retcode = os.system(str1)\n",
    "        if retcode < 0:\n",
    "            print >>sys.stderr, \"nbconvert was terminated by signal\", -retcode\n",
    "        else:\n",
    "            print >>sys.stderr, \"nbconvert returned\", retcode\n",
    "    except OSError as e:\n",
    "        print >>sys.stderr, \"Execution failed:\", e\n",
    "        print >>sys.stderr, \"Trying ipython nbconvert instead...\"\n",
    "        str1 = 'ipython nbconvert  --to script \\'' + worksheet+'.ipynb\\''    # for new version of python\n",
    "        try:      \n",
    "            retcode = os.system(str1)\n",
    "            if retcode < 0:\n",
    "                print >>sys.stderr, \"nbconvert was terminated by signal\", -retcode\n",
    "            else:\n",
    "                print >>sys.stderr, \"nbconvert returned\", retcode\n",
    "        except OSError as e:\n",
    "            print >>sys.stderr, \"Execution failed:\", e              \n",
    "\n",
    "    str1 = worksheet + '.py'\n",
    "    \n",
    "    print 'Checking if specified ipynb file was run with sage kernel...'\n",
    "    with open(worksheet+'.ipynb') as data_file:    \n",
    "        data = json.load(data_file)\n",
    "    \n",
    "    if data['metadata']['kernelspec']['name'][0:4] == 'sage':\n",
    "        print 'Renaming .py file to .sage if notebook kernel was sage (to avoid exponent error)'\n",
    "        str2 = folder + worksheet + '.sage'\n",
    "        os.rename(str1, str2)"
   ]
  },
  {
   "cell_type": "code",
   "execution_count": 2,
   "metadata": {
    "collapsed": true
   },
   "outputs": [],
   "source": [
    "def fun_export_load_ipynb(list_wsnames, folder, load1 = True):\n",
    "    '''\n",
    "    Exports worksheet 'name' to .sage file in specified folder and then imports it \n",
    "    into current worksheet, executing all code and displaying its output. \n",
    "    If you only want to export but not load the files, set option load1 = False.\n",
    "    '''\n",
    "    for name in list_wsnames:\n",
    "        fun_export_ipynb(name, folder)\n",
    "        print 'created file ' + folder + name\n",
    "        if load1:\n",
    "            load(folder + name + '.sage')\n",
    "            print 'imported file ' + folder + name"
   ]
  },
  {
   "cell_type": "code",
   "execution_count": 3,
   "metadata": {
    "collapsed": false,
    "scrolled": false
   },
   "outputs": [
    {
     "name": "stdout",
     "output_type": "stream",
     "text": [
      "jupyter nbconvert  --to=python 'Worksheet_setup.ipynb'\n",
      "Exporting specified worksheet to .py file...\n"
     ]
    },
    {
     "name": "stderr",
     "output_type": "stream",
     "text": [
      "nbconvert returned 0\n"
     ]
    },
    {
     "name": "stdout",
     "output_type": "stream",
     "text": [
      "Checking if specified ipynb file was run with sage kernel...\n",
      "Renaming .py file to .sage if notebook kernel was sage (to avoid exponent error)\n",
      "created file temp/Worksheet_setup\n",
      "imported file temp/Worksheet_setup\n"
     ]
    },
    {
     "name": "stderr",
     "output_type": "stream",
     "text": [
      "/home/sschyman/Programs/sage-upgrade/local/lib/python2.7/site-packages/traitlets/traitlets.py:809: DeprecationWarning: A parent of InlineBackend._config_changed has adopted the new (traitlets 4.1) @observe(change) API\n",
      "  clsname, change_or_name), DeprecationWarning)\n"
     ]
    }
   ],
   "source": [
    "fun_export_load_ipynb(['Worksheet_setup'], 'temp/')"
   ]
  },
  {
   "cell_type": "markdown",
   "metadata": {},
   "source": [
    "## Executing all worksheets in the correct order to reproduce figures saved in subfolder /figures\n",
    "Below, list_wsnames contains a list of worksheet names that need to be executed in the specified order to recreate all figures in the directory /figures. This will take a few minutes. If you only want to export the worksheets as .sage files to the temp folder, just change `load1 = True` to `load1 = False`. This will make sure that the worksheet load up-to-date code, when they load the respective .sage files. "
   ]
  },
  {
   "cell_type": "code",
   "execution_count": 4,
   "metadata": {
    "collapsed": false,
    "scrolled": true
   },
   "outputs": [
    {
     "name": "stdout",
     "output_type": "stream",
     "text": [
      "jupyter nbconvert  --to=python 'leaf_enbalance_eqs.ipynb'\n",
      "Exporting specified worksheet to .py file...\n"
     ]
    },
    {
     "name": "stderr",
     "output_type": "stream",
     "text": [
      "nbconvert returned 0\n"
     ]
    },
    {
     "name": "stdout",
     "output_type": "stream",
     "text": [
      "Checking if specified ipynb file was run with sage kernel...\n",
      "Renaming .py file to .sage if notebook kernel was sage (to avoid exponent error)\n",
      "created file temp/leaf_enbalance_eqs\n"
     ]
    },
    {
     "data": {
      "text/html": [
       "<html><script type=\"math/tex; mode=display\">\\newcommand{\\Bold}[1]{\\mathbf{#1}}R_{s} = E_{l} + H_{l} + {R_{ll}}</script></html>"
      ],
      "text/plain": [
       "R_s == E_l + H_l + R_ll"
      ]
     },
     "metadata": {},
     "output_type": "display_data"
    },
    {
     "data": {
      "text/html": [
       "<html><script type=\"math/tex; mode=display\">\\newcommand{\\Bold}[1]{\\mathbf{#1}}{R_{ll}} = {\\left(T_{l}^{4} - T_{w}^{4}\\right)} {a_{sh}} \\epsilon_{l} {\\sigma}</script></html>"
      ],
      "text/plain": [
       "R_ll == (T_l^4 - T_w^4)*a_sh*epsilon_l*sigm"
      ]
     },
     "metadata": {},
     "output_type": "display_data"
    },
    {
     "data": {
      "text/html": [
       "<html><script type=\"math/tex; mode=display\">\\newcommand{\\Bold}[1]{\\mathbf{#1}}H_{l} = -{\\left(T_{a} - T_{l}\\right)} {a_{sh}} h_{c}</script></html>"
      ],
      "text/plain": [
       "H_l == -(T_a - T_l)*a_sh*h_c"
      ]
     },
     "metadata": {},
     "output_type": "display_data"
    },
    {
     "data": {
      "text/html": [
       "<html><script type=\"math/tex; mode=display\">\\newcommand{\\Bold}[1]{\\mathbf{#1}}E_{l} = {E_{l,mol}} M_{w} \\lambda_{E}</script></html>"
      ],
      "text/plain": [
       "E_l == E_lmol*M_w*lambda_E"
      ]
     },
     "metadata": {},
     "output_type": "display_data"
    },
    {
     "data": {
      "text/html": [
       "<html><script type=\"math/tex; mode=display\">\\newcommand{\\Bold}[1]{\\mathbf{#1}}M_{w} \\lambda_{E}</script></html>"
      ],
      "text/plain": [
       "M_w*lambda_E"
      ]
     },
     "metadata": {},
     "output_type": "display_data"
    },
    {
     "name": "stdout",
     "output_type": "stream",
     "text": [
      "44100.0000000000kilogram*meter^2/(mole*second^2)\n"
     ]
    },
    {
     "data": {
      "text/html": [
       "<html><script type=\"math/tex; mode=display\">\\newcommand{\\Bold}[1]{\\mathbf{#1}}{E_{l,mol}} = -{\\left({C_{wa}} - {C_{wl}}\\right)} {g_{tw}}</script></html>"
      ],
      "text/plain": [
       "E_lmol == -(C_wa - C_wl)*g_tw"
      ]
     },
     "metadata": {},
     "output_type": "display_data"
    },
    {
     "data": {
      "text/html": [
       "<html><script type=\"math/tex; mode=display\">\\newcommand{\\Bold}[1]{\\mathbf{#1}}{g_{tw}} = \\frac{{g_{bw}} {g_{sw}}}{{g_{bw}} + {g_{sw}}}</script></html>"
      ],
      "text/plain": [
       "g_tw == g_bw*g_sw/(g_bw + g_sw)"
      ]
     },
     "metadata": {},
     "output_type": "display_data"
    },
    {
     "data": {
      "text/html": [
       "<html><script type=\"math/tex; mode=display\">\\newcommand{\\Bold}[1]{\\mathbf{#1}}{g_{tw}} = \\frac{1}{\\frac{1}{{g_{bw}}} + \\frac{1}{{g_{sw}}}}</script></html>"
      ],
      "text/plain": [
       "g_tw == (1/(1/g_bw + 1/g_sw))"
      ]
     },
     "metadata": {},
     "output_type": "display_data"
    },
    {
     "data": {
      "text/html": [
       "<html><script type=\"math/tex; mode=display\">\\newcommand{\\Bold}[1]{\\mathbf{#1}}{g_{bw}} = \\frac{{D_{va}} {N_{Sh_L}}}{L_{l}}</script></html>"
      ],
      "text/plain": [
       "g_bw == D_va*Sh/L_l"
      ]
     },
     "metadata": {},
     "output_type": "display_data"
    },
    {
     "data": {
      "text/html": [
       "<html><script type=\"math/tex; mode=display\">\\newcommand{\\Bold}[1]{\\mathbf{#1}}{g_{bw}} = \\frac{a_{s} h_{c}}{{N_{Le}}^{\\frac{2}{3}} {c_{pa}} \\rho_{a}}</script></html>"
      ],
      "text/plain": [
       "g_bw == a_s*h_c/(Le^(2/3)*c_pa*rho_a)"
      ]
     },
     "metadata": {},
     "output_type": "display_data"
    },
    {
     "name": "stdout",
     "output_type": "stream",
     "text": [
      "meter/second == meter/second\n"
     ]
    },
    {
     "data": {
      "text/html": [
       "<html><script type=\"math/tex; mode=display\">\\newcommand{\\Bold}[1]{\\mathbf{#1}}{N_{Le}} = \\frac{\\alpha_{a}}{{D_{va}}}</script></html>"
      ],
      "text/plain": [
       "Le == alpha_a/D_va"
      ]
     },
     "metadata": {},
     "output_type": "display_data"
    },
    {
     "data": {
      "text/html": [
       "<html><script type=\"math/tex; mode=display\">\\newcommand{\\Bold}[1]{\\mathbf{#1}}{C_{wl}} = \\frac{{P_{wl}}}{{R_{mol}} T_{l}}</script></html>"
      ],
      "text/plain": [
       "C_wl == P_wl/(R_mol*T_l)"
      ]
     },
     "metadata": {},
     "output_type": "display_data"
    },
    {
     "name": "stdout",
     "output_type": "stream",
     "text": [
      "mole/meter^3 == mole/meter^3\n"
     ]
    },
    {
     "data": {
      "text/html": [
       "<html><script type=\"math/tex; mode=display\">\\newcommand{\\Bold}[1]{\\mathbf{#1}}{P_{wl}} = 611 \\, e^{\\left(-\\frac{M_{w} \\lambda_{E} {\\left(\\frac{273}{T_{l}} - 1\\right)}}{273 \\, {R_{mol}}}\\right)}</script></html>"
      ],
      "text/plain": [
       "P_wl == 611*e^(-1/273*M_w*lambda_E*(273/T_l - 1)/R_mol)"
      ]
     },
     "metadata": {},
     "output_type": "display_data"
    },
    {
     "data": {
      "text/html": [
       "<html><script type=\"math/tex; mode=display\">\\newcommand{\\Bold}[1]{\\mathbf{#1}}{E_{l,mol}} = -\\frac{{\\left({P_{wa}} - {P_{wl}}\\right)} {g_{tw,mol}}}{P_{a}}</script></html>"
      ],
      "text/plain": [
       "E_lmol == -(P_wa - P_wl)*g_twmol/P_a"
      ]
     },
     "metadata": {},
     "output_type": "display_data"
    },
    {
     "name": "stdout",
     "output_type": "stream",
     "text": [
      "mole/(meter^2*second) == mole/(meter^2*second)\n"
     ]
    },
    {
     "data": {
      "text/html": [
       "<html><script type=\"math/tex; mode=display\">\\newcommand{\\Bold}[1]{\\mathbf{#1}}{g_{tw,mol}} = -\\frac{{\\left(P_{a} {P_{wl}} T_{a} - P_{a} {P_{wa}} T_{l}\\right)} {g_{tw}}}{{\\left({P_{wa}} - {P_{wl}}\\right)} {R_{mol}} T_{a} T_{l}}</script></html>"
      ],
      "text/plain": [
       "g_twmol == -(P_a*P_wl*T_a - P_a*P_wa*T_l)*g_tw/((P_wa - P_wl)*R_mol*T_a*T_l)"
      ]
     },
     "metadata": {},
     "output_type": "display_data"
    },
    {
     "name": "stdout",
     "output_type": "stream",
     "text": [
      "mole/(meter^2*second) == mole/(meter^2*second)\n"
     ]
    },
    {
     "data": {
      "text/html": [
       "<html><script type=\"math/tex; mode=display\">\\newcommand{\\Bold}[1]{\\mathbf{#1}}{g_{tw,mol}} = \\frac{P_{a} {g_{tw}}}{{R_{mol}} T_{a}}</script></html>"
      ],
      "text/plain": [
       "g_twmol == P_a*g_tw/(R_mol*T_a)"
      ]
     },
     "metadata": {},
     "output_type": "display_data"
    },
    {
     "name": "stdout",
     "output_type": "stream",
     "text": [
      "mole/(meter^2*second) == mole/(meter^2*second)\n"
     ]
    },
    {
     "data": {
      "text/html": [
       "<html><script type=\"math/tex; mode=display\">\\newcommand{\\Bold}[1]{\\mathbf{#1}}{C_{wa}} = \\frac{{P_{wa}}}{{R_{mol}} T_{a}}</script></html>"
      ],
      "text/plain": [
       "C_wa == P_wa/(R_mol*T_a)"
      ]
     },
     "metadata": {},
     "output_type": "display_data"
    },
    {
     "name": "stdout",
     "output_type": "stream",
     "text": [
      "mole/meter^3 == mole/meter^3\n"
     ]
    },
    {
     "data": {
      "text/html": [
       "<html><script type=\"math/tex; mode=display\">\\newcommand{\\Bold}[1]{\\mathbf{#1}}h_{c} = \\frac{{N_{Nu_L}} k_{a}}{L_{l}}</script></html>"
      ],
      "text/plain": [
       "h_c == Nu*k_a/L_l"
      ]
     },
     "metadata": {},
     "output_type": "display_data"
    },
    {
     "name": "stdout",
     "output_type": "stream",
     "text": [
      "kilogram/(kelvin*second^3) == kilogram/(kelvin*second^3)\n"
     ]
    },
    {
     "data": {
      "text/html": [
       "<html><script type=\"math/tex; mode=display\">\\newcommand{\\Bold}[1]{\\mathbf{#1}}{N_{Re_L}} = \\frac{L_{l} v_{w}}{\\nu_{a}}</script></html>"
      ],
      "text/plain": [
       "Re == L_l*v_w/nu_a"
      ]
     },
     "metadata": {},
     "output_type": "display_data"
    },
    {
     "name": "stdout",
     "output_type": "stream",
     "text": [
      "1 == 1\n"
     ]
    },
    {
     "data": {
      "text/html": [
       "<html><script type=\"math/tex; mode=display\">\\newcommand{\\Bold}[1]{\\mathbf{#1}}{N_{Gr_L}} = \\frac{L_{l}^{3} g {\\left(\\rho_{a} - \\rho_{\\mathit{al}}\\right)}}{\\nu_{a}^{2} \\rho_{\\mathit{al}}}</script></html>"
      ],
      "text/plain": [
       "Gr == L_l^3*g*(rho_a - rho_al)/(nu_a^2*rho_al)"
      ]
     },
     "metadata": {},
     "output_type": "display_data"
    },
    {
     "name": "stdout",
     "output_type": "stream",
     "text": [
      "1 == 1\n"
     ]
    },
    {
     "data": {
      "text/html": [
       "<html><script type=\"math/tex; mode=display\">\\newcommand{\\Bold}[1]{\\mathbf{#1}}{N_{Nu_L}} = {N_{Pr}}^{\\frac{1}{3}} {\\left(-0.0370000000000000 \\, {\\left({N_{Re_L}} + {N_{Re_c}} - \\frac{1}{2} \\, {\\left| {N_{Re_L}} - {N_{Re_c}} \\right|}\\right)}^{\\frac{4}{5}} + 0.0370000000000000 \\, {N_{Re_L}}^{\\frac{4}{5}} + 0.664000000000000 \\, \\sqrt{{N_{Re_L}} + {N_{Re_c}} - \\frac{1}{2} \\, {\\left| {N_{Re_L}} - {N_{Re_c}} \\right|}}\\right)}</script></html>"
      ],
      "text/plain": [
       "Nu == Pr^(1/3)*(-0.0370000000000000*(Re + Re_c - 1/2*abs(Re - Re_c))^(4/5) + 0.0370000000000000*Re^(4/5) + 0.664000000000000*sqrt(Re + Re_c - 1/2*abs(Re - Re_c)))"
      ]
     },
     "metadata": {},
     "output_type": "display_data"
    },
    {
     "data": {
      "text/html": [
       "<html><script type=\"math/tex; mode=display\">\\newcommand{\\Bold}[1]{\\mathbf{#1}}\\rho_{a} = \\frac{M_{N_{2}} {P_{N2}} + M_{O_{2}} {P_{O2}} + M_{w} {P_{wa}}}{{R_{mol}} T_{a}}</script></html>"
      ],
      "text/plain": [
       "rho_a == (M_N2*P_N2 + M_O2*P_O2 + M_w*P_wa)/(R_mol*T_a)"
      ]
     },
     "metadata": {},
     "output_type": "display_data"
    },
    {
     "name": "stdout",
     "output_type": "stream",
     "text": [
      "kilogram/meter^3 == kilogram/meter^3\n"
     ]
    },
    {
     "data": {
      "text/html": [
       "<html><script type=\"math/tex; mode=display\">\\newcommand{\\Bold}[1]{\\mathbf{#1}}P_{a} = {P_{N2}} + {P_{O2}} + {P_{wa}}</script></html>"
      ],
      "text/plain": [
       "P_a == P_N2 + P_O2 + P_wa"
      ]
     },
     "metadata": {},
     "output_type": "display_data"
    },
    {
     "name": "stdout",
     "output_type": "stream",
     "text": [
      "kilogram/(meter*second^2) == kilogram/(meter*second^2)\n"
     ]
    },
    {
     "data": {
      "text/html": [
       "<html><script type=\"math/tex; mode=display\">\\newcommand{\\Bold}[1]{\\mathbf{#1}}{P_{O2}} = \\frac{21}{100} \\, P_{a} - \\frac{21}{100} \\, {P_{wa}}</script></html>"
      ],
      "text/plain": [
       "P_O2 == 21/100*P_a - 21/100*P_wa"
      ]
     },
     "metadata": {},
     "output_type": "display_data"
    },
    {
     "name": "stdout",
     "output_type": "stream",
     "text": [
      "kilogram/(meter*second^2) == kilogram/(meter*second^2)\n"
     ]
    },
    {
     "data": {
      "text/html": [
       "<html><script type=\"math/tex; mode=display\">\\newcommand{\\Bold}[1]{\\mathbf{#1}}{P_{N2}} = \\frac{79}{100} \\, P_{a} - \\frac{79}{100} \\, {P_{wa}}</script></html>"
      ],
      "text/plain": [
       "P_N2 == 79/100*P_a - 79/100*P_wa"
      ]
     },
     "metadata": {},
     "output_type": "display_data"
    },
    {
     "data": {
      "text/html": [
       "<html><script type=\"math/tex; mode=display\">\\newcommand{\\Bold}[1]{\\mathbf{#1}}\\rho_{a} = \\frac{79 \\, M_{N_{2}} {\\left(P_{a} - {P_{wa}}\\right)} + 21 \\, M_{O_{2}} {\\left(P_{a} - {P_{wa}}\\right)} + 100 \\, M_{w} {P_{wa}}}{100 \\, {R_{mol}} T_{a}}</script></html>"
      ],
      "text/plain": [
       "rho_a == 1/100*(79*M_N2*(P_a - P_wa) + 21*M_O2*(P_a - P_wa) + 100*M_w*P_wa)/(R_mol*T_a)"
      ]
     },
     "metadata": {},
     "output_type": "display_data"
    },
    {
     "name": "stdout",
     "output_type": "stream",
     "text": [
      "(1.13400000000000e-7)*T_l^4 - 900.306522304087\n",
      "C_wa            1.29441408346663\n",
      "C_wl            1.91570361006325\n",
      "D_va            0.0000248765000000000\n",
      "E_l             185.424519010311\n",
      "E_lmol          0.00420463761928142\n",
      "H_l             325.157459266011\n",
      "L_l             0.0300000000000000\n",
      "Le              0.888469037042992\n",
      "M_N2            0.0280000000000000\n",
      "M_O2            0.0320000000000000\n",
      "M_w             0.0180000000000000\n",
      "Nu              26.1863624980041\n",
      "P_a             101325         \n",
      "P_wa            3212.56734153661\n",
      "P_wl            4868.42309771766\n",
      "Pr              0.710000000000000\n",
      "R_ll            89.4180217236781\n",
      "R_mol           8.31447200000000\n",
      "R_s             600            \n",
      "Re              1927.40122068744\n",
      "Re_c            3000           \n",
      "T_a             298.500000000000\n",
      "T_l             305.650648423  \n",
      "T_w             298.500000000000\n",
      "a_s             1.00000000000000\n",
      "a_sh            2              \n",
      "alpha_a         0.0000221020000000000\n",
      "c_pa            1010           \n",
      "epsilon_l       1              \n",
      "g               9.81000000000000\n",
      "g_bw            0.0209367439791525\n",
      "g_sw            0.0100000000000000\n",
      "g_tw            0.00676759777734245\n",
      "h_c             22.7362219510171\n",
      "k_a             0.0260474000000000\n",
      "lambda_E        2.45000000000000e6\n",
      "nu_a            0.0000155650000000000\n",
      "rho_a           1.16339248053449\n",
      "sigm            5.67000000000000e-8\n",
      "v_w             1              \n"
     ]
    },
    {
     "data": {
      "text/html": [
       "<html><script type=\"math/tex; mode=display\">\\newcommand{\\Bold}[1]{\\mathbf{#1}}E_{l} = -H_{l} - {R_{ll}} + R_{s}</script></html>"
      ],
      "text/plain": [
       "E_l == -H_l - R_ll + R_s"
      ]
     },
     "metadata": {},
     "output_type": "display_data"
    },
    {
     "name": "stdout",
     "output_type": "stream",
     "text": [
      "jupyter nbconvert  --to=python 'leaf_enbalance_eqs.ipynb'\n",
      "Exporting specified worksheet to .py file...\n"
     ]
    },
    {
     "name": "stderr",
     "output_type": "stream",
     "text": [
      "nbconvert returned 0\n"
     ]
    },
    {
     "name": "stdout",
     "output_type": "stream",
     "text": [
      "Checking if specified ipynb file was run with sage kernel...\n",
      "Renaming .py file to .sage if notebook kernel was sage (to avoid exponent error)\n",
      "imported file temp/leaf_enbalance_eqs\n",
      "jupyter nbconvert  --to=python 'E_PM_eqs.ipynb'\n",
      "Exporting specified worksheet to .py file...\n"
     ]
    },
    {
     "name": "stderr",
     "output_type": "stream",
     "text": [
      "nbconvert returned 0\n"
     ]
    },
    {
     "name": "stdout",
     "output_type": "stream",
     "text": [
      "Checking if specified ipynb file was run with sage kernel...\n",
      "Renaming .py file to .sage if notebook kernel was sage (to avoid exponent error)\n",
      "created file temp/E_PM_eqs\n"
     ]
    },
    {
     "data": {
      "text/html": [
       "<html><script type=\"math/tex; mode=display\">\\newcommand{\\Bold}[1]{\\mathbf{#1}}E_{w} = -{\\left({P_{wa}} - {P_{wl}}\\right)} f_{u}</script></html>"
      ],
      "text/plain": [
       "E_w == -(P_wa - P_wl)*f_u"
      ]
     },
     "metadata": {},
     "output_type": "display_data"
    },
    {
     "data": {
      "text/html": [
       "<html><script type=\"math/tex; mode=display\">\\newcommand{\\Bold}[1]{\\mathbf{#1}}{\\beta_B} = \\frac{{\\left(T_{a} - T_{l}\\right)} \\gamma_{v}}{{P_{wa}} - {P_{wl}}}</script></html>"
      ],
      "text/plain": [
       "beta_B == (T_a - T_l)*gamma_v/(P_wa - P_wl)"
      ]
     },
     "metadata": {},
     "output_type": "display_data"
    },
    {
     "data": {
      "text/html": [
       "<html><script type=\"math/tex; mode=display\">\\newcommand{\\Bold}[1]{\\mathbf{#1}}{\\Delta_{eTa}} = \\frac{{P_{was}} - {P_{wl}}}{T_{a} - T_{l}}</script></html>"
      ],
      "text/plain": [
       "Delta_eTa == (P_was - P_wl)/(T_a - T_l)"
      ]
     },
     "metadata": {},
     "output_type": "display_data"
    },
    {
     "data": {
      "text/html": [
       "<html><script type=\"math/tex; mode=display\">\\newcommand{\\Bold}[1]{\\mathbf{#1}}{P_{was}} = 611 \\, e^{\\left(-\\frac{M_{w} \\lambda_{E} {\\left(\\frac{273}{T_{a}} - 1\\right)}}{273 \\, {R_{mol}}}\\right)}</script></html>"
      ],
      "text/plain": [
       "P_was == 611*e^(-1/273*M_w*lambda_E*(273/T_a - 1)/R_mol)"
      ]
     },
     "metadata": {},
     "output_type": "display_data"
    },
    {
     "data": {
      "text/html": [
       "<html><script type=\"math/tex; mode=display\">\\newcommand{\\Bold}[1]{\\mathbf{#1}}{\\Delta_{eTa}} = \\frac{611 \\, M_{w} \\lambda_{E} e^{\\left(-\\frac{M_{w} \\lambda_{E} {\\left(\\frac{273}{T_{a}} - 1\\right)}}{273 \\, {R_{mol}}}\\right)}}{{R_{mol}} T_{a}^{2}}</script></html>"
      ],
      "text/plain": [
       "Delta_eTa == 611*M_w*lambda_E*e^(-1/273*M_w*lambda_E*(273/T_a - 1)/R_mol)/(R_mol*T_a^2)"
      ]
     },
     "metadata": {},
     "output_type": "display_data"
    },
    {
     "data": {
      "text/html": [
       "<html><script type=\"math/tex; mode=display\">\\newcommand{\\Bold}[1]{\\mathbf{#1}}{\\beta_B} = \\frac{{\\left({P_{was}} - {P_{wl}}\\right)} \\gamma_{v}}{{\\Delta_{eTa}} {\\left({P_{wa}} - {P_{wl}}\\right)}}</script></html>"
      ],
      "text/plain": [
       "beta_B == (P_was - P_wl)*gamma_v/(Delta_eTa*(P_wa - P_wl))"
      ]
     },
     "metadata": {},
     "output_type": "display_data"
    },
    {
     "data": {
      "text/html": [
       "<html><script type=\"math/tex; mode=display\">\\newcommand{\\Bold}[1]{\\mathbf{#1}}E_{w} = -\\frac{{R_{ll}} - R_{s}}{{\\beta_B} + 1}</script></html>"
      ],
      "text/plain": [
       "E_w == -(R_ll - R_s)/(beta_B + 1)"
      ]
     },
     "metadata": {},
     "output_type": "display_data"
    },
    {
     "name": "stdout",
     "output_type": "stream",
     "text": [
      "[\n",
      "[P_wl == (Delta_eTa*P_wa*f_u + P_was*f_u*gamma_v - Delta_eTa*R_ll + Delta_eTa*R_s)/(Delta_eTa*f_u + f_u*gamma_v), E_w == -((P_wa - P_was)*f_u*gamma_v + Delta_eTa*R_ll - Delta_eTa*R_s)/(Delta_eTa + gamma_v), beta_B == -((P_wa - P_was)*f_u - R_ll + R_s)*gamma_v/((P_wa - P_was)*f_u*gamma_v + Delta_eTa*R_ll - Delta_eTa*R_s)]\n",
      "]\n"
     ]
    },
    {
     "data": {
      "text/html": [
       "<html><script type=\"math/tex; mode=display\">\\newcommand{\\Bold}[1]{\\mathbf{#1}}{P_{wl}} = \\frac{{\\Delta_{eTa}} {P_{wa}} f_{u} + {P_{was}} f_{u} \\gamma_{v} - {\\Delta_{eTa}} {R_{ll}} + {\\Delta_{eTa}} R_{s}}{{\\left({\\Delta_{eTa}} + \\gamma_{v}\\right)} f_{u}}</script></html>"
      ],
      "text/plain": [
       "P_wl == (Delta_eTa*P_wa*f_u + P_was*f_u*gamma_v - Delta_eTa*R_ll + Delta_eTa*R_s)/((Delta_eTa + gamma_v)*f_u)"
      ]
     },
     "metadata": {},
     "output_type": "display_data"
    },
    {
     "data": {
      "text/html": [
       "<html><script type=\"math/tex; mode=display\">\\newcommand{\\Bold}[1]{\\mathbf{#1}}E_{w} = -\\frac{{\\left({P_{wa}} - {P_{was}}\\right)} f_{u} \\gamma_{v} + {\\Delta_{eTa}} {R_{ll}} - {\\Delta_{eTa}} R_{s}}{{\\Delta_{eTa}} + \\gamma_{v}}</script></html>"
      ],
      "text/plain": [
       "E_w == -((P_wa - P_was)*f_u*gamma_v + Delta_eTa*R_ll - Delta_eTa*R_s)/(Delta_eTa + gamma_v)"
      ]
     },
     "metadata": {},
     "output_type": "display_data"
    },
    {
     "data": {
      "text/html": [
       "<html><script type=\"math/tex; mode=display\">\\newcommand{\\Bold}[1]{\\mathbf{#1}}T_{l} = \\frac{T_{a} f_{u} \\gamma_{v} + {\\left({\\Delta_{eTa}} T_{a} + {P_{wa}} - {P_{was}}\\right)} f_{u} - {R_{ll}} + R_{s}}{{\\Delta_{eTa}} f_{u} + f_{u} \\gamma_{v}}</script></html>"
      ],
      "text/plain": [
       "T_l == (T_a*f_u*gamma_v + (Delta_eTa*T_a + P_wa - P_was)*f_u - R_ll + R_s)/(Delta_eTa*f_u + f_u*gamma_v)"
      ]
     },
     "metadata": {},
     "output_type": "display_data"
    },
    {
     "data": {
      "text/html": [
       "<html><script type=\"math/tex; mode=display\">\\newcommand{\\Bold}[1]{\\mathbf{#1}}T_{l} = \\frac{T_{a} f_{u} \\gamma_{v} + {\\left({\\Delta_{eTa}} T_{a} + {P_{wa}} - 611 \\, e^{\\left(-\\frac{M_{w} \\lambda_{E} {\\left(\\frac{273}{T_{a}} - 1\\right)}}{273 \\, {R_{mol}}}\\right)}\\right)} f_{u} - {R_{ll}} + R_{s}}{{\\Delta_{eTa}} f_{u} + f_{u} \\gamma_{v}}</script></html>"
      ],
      "text/plain": [
       "T_l == (T_a*f_u*gamma_v + (Delta_eTa*T_a + P_wa - 611*e^(-1/273*M_w*lambda_E*(273/T_a - 1)/R_mol))*f_u - R_ll + R_s)/(Delta_eTa*f_u + f_u*gamma_v)"
      ]
     },
     "metadata": {},
     "output_type": "display_data"
    },
    {
     "data": {
      "text/html": [
       "<html><script type=\"math/tex; mode=display\">\\newcommand{\\Bold}[1]{\\mathbf{#1}}T_{l} = \\frac{{\\left({\\Delta_{eTa}} f_{u} + f_{u} \\gamma_{v}\\right)} T_{a} + {P_{wa}} f_{u} - {P_{was}} f_{u} - {R_{ll}} + R_{s}}{{\\Delta_{eTa}} f_{u} + f_{u} \\gamma_{v}}</script></html>"
      ],
      "text/plain": [
       "T_l == ((Delta_eTa*f_u + f_u*gamma_v)*T_a + P_wa*f_u - P_was*f_u - R_ll + R_s)/(Delta_eTa*f_u + f_u*gamma_v)"
      ]
     },
     "metadata": {},
     "output_type": "display_data"
    },
    {
     "name": "stdout",
     "output_type": "stream",
     "text": [
      "kelvin == kelvin\n"
     ]
    },
    {
     "data": {
      "text/html": [
       "<html><script type=\"math/tex; mode=display\">\\newcommand{\\Bold}[1]{\\mathbf{#1}}{P_{wl}} = \\frac{{P_{was}} f_{u} \\gamma_{v} + {\\left({P_{wa}} f_{u} - {R_{ll}} + R_{s}\\right)} {\\Delta_{eTa}}}{{\\Delta_{eTa}} f_{u} + f_{u} \\gamma_{v}}</script></html>"
      ],
      "text/plain": [
       "P_wl == (P_was*f_u*gamma_v + (P_wa*f_u - R_ll + R_s)*Delta_eTa)/(Delta_eTa*f_u + f_u*gamma_v)"
      ]
     },
     "metadata": {},
     "output_type": "display_data"
    },
    {
     "data": {
      "text/html": [
       "<html><script type=\"math/tex; mode=display\">\\newcommand{\\Bold}[1]{\\mathbf{#1}}T_{l} = \\frac{273 \\, M_{w} \\lambda_{E}}{M_{w} \\lambda_{E} + 273 \\, {R_{mol}} \\log\\left(\\frac{611 \\, {\\left({\\Delta_{eTa}} f_{u} + f_{u} \\gamma_{v}\\right)}}{{\\Delta_{eTa}} {P_{wa}} f_{u} + {P_{was}} f_{u} \\gamma_{v} - {\\Delta_{eTa}} {R_{ll}} + {\\Delta_{eTa}} R_{s}}\\right)}</script></html>"
      ],
      "text/plain": [
       "T_l == 273*M_w*lambda_E/(M_w*lambda_E + 273*R_mol*log(611*(Delta_eTa*f_u + f_u*gamma_v)/(Delta_eTa*P_wa*f_u + P_was*f_u*gamma_v - Delta_eTa*R_ll + Delta_eTa*R_s)))"
      ]
     },
     "metadata": {},
     "output_type": "display_data"
    },
    {
     "data": {
      "text/html": [
       "<html><script type=\"math/tex; mode=display\">\\newcommand{\\Bold}[1]{\\mathbf{#1}}E_{l} = -{\\left({P_{wa}} - {P_{wl}}\\right)} S f_{u}</script></html>"
      ],
      "text/plain": [
       "E_l == -(P_wa - P_wl)*S*f_u"
      ]
     },
     "metadata": {},
     "output_type": "display_data"
    },
    {
     "data": {
      "text/html": [
       "<html><script type=\"math/tex; mode=display\">\\newcommand{\\Bold}[1]{\\mathbf{#1}}H_{l} = -{\\left(T_{a} - T_{l}\\right)} f_{u} \\gamma_{v}</script></html>"
      ],
      "text/plain": [
       "H_l == -(T_a - T_l)*f_u*gamma_v"
      ]
     },
     "metadata": {},
     "output_type": "display_data"
    },
    {
     "data": {
      "text/html": [
       "<html><script type=\"math/tex; mode=display\">\\newcommand{\\Bold}[1]{\\mathbf{#1}}H_{l} = -\\frac{{\\left({P_{was}} - {P_{wl}}\\right)} f_{u} \\gamma_{v}}{{\\Delta_{eTa}}}</script></html>"
      ],
      "text/plain": [
       "H_l == -(P_was - P_wl)*f_u*gamma_v/Delta_eTa"
      ]
     },
     "metadata": {},
     "output_type": "display_data"
    },
    {
     "data": {
      "text/html": [
       "<html><script type=\"math/tex; mode=display\">\\newcommand{\\Bold}[1]{\\mathbf{#1}}T_{l} = \\frac{{\\Delta_{eTa}} T_{a} - {P_{was}} + {P_{wl}}}{{\\Delta_{eTa}}}</script></html>"
      ],
      "text/plain": [
       "T_l == (Delta_eTa*T_a - P_was + P_wl)/Delta_eTa"
      ]
     },
     "metadata": {},
     "output_type": "display_data"
    },
    {
     "data": {
      "text/html": [
       "<html><script type=\"math/tex; mode=display\">\\newcommand{\\Bold}[1]{\\mathbf{#1}}H_{l} = -\\frac{{\\left({P_{was}} - {P_{wl}}\\right)} f_{u} \\gamma_{v}}{{\\Delta_{eTa}}}</script></html>"
      ],
      "text/plain": [
       "H_l == -(P_was - P_wl)*f_u*gamma_v/Delta_eTa"
      ]
     },
     "metadata": {},
     "output_type": "display_data"
    },
    {
     "data": {
      "text/html": [
       "<html><script type=\"math/tex; mode=display\">\\newcommand{\\Bold}[1]{\\mathbf{#1}}E_{l} = -\\frac{{\\Delta_{eTa}} {\\left({R_{ll}} - R_{s}\\right)} S + {\\left({P_{wa}} S - {P_{was}} S\\right)} f_{u} \\gamma_{v}}{{\\Delta_{eTa}} S + \\gamma_{v}}</script></html>"
      ],
      "text/plain": [
       "E_l == -(Delta_eTa*(R_ll - R_s)*S + (P_wa*S - P_was*S)*f_u*gamma_v)/(Delta_eTa*S + gamma_v)"
      ]
     },
     "metadata": {},
     "output_type": "display_data"
    },
    {
     "name": "stdout",
     "output_type": "stream",
     "text": [
      "kilogram/second^3 == kilogram/second^3\n"
     ]
    },
    {
     "data": {
      "text/html": [
       "<html><script type=\"math/tex; mode=display\">\\newcommand{\\Bold}[1]{\\mathbf{#1}}H_{l} = \\frac{{\\left({\\left({P_{wa}} S - {P_{was}} S\\right)} f_{u} - {R_{ll}} + R_{s}\\right)} \\gamma_{v}}{{\\Delta_{eTa}} S + \\gamma_{v}}</script></html>"
      ],
      "text/plain": [
       "H_l == ((P_wa*S - P_was*S)*f_u - R_ll + R_s)*gamma_v/(Delta_eTa*S + gamma_v)"
      ]
     },
     "metadata": {},
     "output_type": "display_data"
    },
    {
     "name": "stdout",
     "output_type": "stream",
     "text": [
      "kilogram/second^3 == kilogram/second^3\n"
     ]
    },
    {
     "data": {
      "text/html": [
       "<html><script type=\"math/tex; mode=display\">\\newcommand{\\Bold}[1]{\\mathbf{#1}}{P_{wl}} = \\frac{{\\Delta_{eTa}} {P_{wa}} S f_{u} + {P_{was}} f_{u} \\gamma_{v} - {\\Delta_{eTa}} {\\left({R_{ll}} - R_{s}\\right)}}{{\\Delta_{eTa}} S f_{u} + f_{u} \\gamma_{v}}</script></html>"
      ],
      "text/plain": [
       "P_wl == (Delta_eTa*P_wa*S*f_u + P_was*f_u*gamma_v - Delta_eTa*(R_ll - R_s))/(Delta_eTa*S*f_u + f_u*gamma_v)"
      ]
     },
     "metadata": {},
     "output_type": "display_data"
    },
    {
     "name": "stdout",
     "output_type": "stream",
     "text": [
      "kilogram/(meter*second^2) == kilogram/(meter*second^2)\n"
     ]
    },
    {
     "data": {
      "text/html": [
       "<html><script type=\"math/tex; mode=display\">\\newcommand{\\Bold}[1]{\\mathbf{#1}}T_{l} = \\frac{{P_{wa}} S f_{u} - {P_{was}} S f_{u} + {\\left({\\Delta_{eTa}} S f_{u} + f_{u} \\gamma_{v}\\right)} T_{a} - {R_{ll}} + R_{s}}{{\\Delta_{eTa}} S f_{u} + f_{u} \\gamma_{v}}</script></html>"
      ],
      "text/plain": [
       "T_l == (P_wa*S*f_u - P_was*S*f_u + (Delta_eTa*S*f_u + f_u*gamma_v)*T_a - R_ll + R_s)/(Delta_eTa*S*f_u + f_u*gamma_v)"
      ]
     },
     "metadata": {},
     "output_type": "display_data"
    },
    {
     "data": {
      "text/html": [
       "<html><script type=\"math/tex; mode=display\">\\newcommand{\\Bold}[1]{\\mathbf{#1}}S = \\frac{M_{w} {g_{tw,mol}} \\lambda_{E}}{P_{a} f_{u}}</script></html>"
      ],
      "text/plain": [
       "S == M_w*g_twmol*lambda_E/(P_a*f_u)"
      ]
     },
     "metadata": {},
     "output_type": "display_data"
    },
    {
     "data": {
      "text/html": [
       "<html><script type=\"math/tex; mode=display\">\\newcommand{\\Bold}[1]{\\mathbf{#1}}H_{l} = -{\\left(T_{a} - T_{l}\\right)} f_{u} \\gamma_{v}</script></html>"
      ],
      "text/plain": [
       "H_l == -(T_a - T_l)*f_u*gamma_v"
      ]
     },
     "metadata": {},
     "output_type": "display_data"
    },
    {
     "data": {
      "text/html": [
       "<html><script type=\"math/tex; mode=display\">\\newcommand{\\Bold}[1]{\\mathbf{#1}}H_{l} = -{\\left(T_{a} - T_{l}\\right)} {a_{sh}} h_{c}</script></html>"
      ],
      "text/plain": [
       "H_l == -(T_a - T_l)*a_sh*h_c"
      ]
     },
     "metadata": {},
     "output_type": "display_data"
    },
    {
     "data": {
      "text/html": [
       "<html><script type=\"math/tex; mode=display\">\\newcommand{\\Bold}[1]{\\mathbf{#1}}\\gamma_{v} = \\frac{{a_{sh}} h_{c}}{f_{u}}</script></html>"
      ],
      "text/plain": [
       "gamma_v == a_sh*h_c/f_u"
      ]
     },
     "metadata": {},
     "output_type": "display_data"
    },
    {
     "data": {
      "text/html": [
       "<html><script type=\"math/tex; mode=display\">\\newcommand{\\Bold}[1]{\\mathbf{#1}}E_{l} = -{\\left({P_{wa}} - {P_{wl}}\\right)} S f_{u}</script></html>"
      ],
      "text/plain": [
       "E_l == -(P_wa - P_wl)*S*f_u"
      ]
     },
     "metadata": {},
     "output_type": "display_data"
    },
    {
     "data": {
      "text/html": [
       "<html><script type=\"math/tex; mode=display\">\\newcommand{\\Bold}[1]{\\mathbf{#1}}E_{w} = -\\frac{M_{w} {\\left({P_{wa}} - {P_{wl}}\\right)} {g_{bw}} \\lambda_{E}}{{R_{mol}} T_{a}}</script></html>"
      ],
      "text/plain": [
       "E_w == -M_w*(P_wa - P_wl)*g_bw*lambda_E/(R_mol*T_a)"
      ]
     },
     "metadata": {},
     "output_type": "display_data"
    },
    {
     "data": {
      "text/html": [
       "<html><script type=\"math/tex; mode=display\">\\newcommand{\\Bold}[1]{\\mathbf{#1}}f_{u} = \\frac{M_{w} {g_{bw}} \\lambda_{E}}{{R_{mol}} T_{a}}</script></html>"
      ],
      "text/plain": [
       "f_u == M_w*g_bw*lambda_E/(R_mol*T_a)"
      ]
     },
     "metadata": {},
     "output_type": "display_data"
    },
    {
     "data": {
      "text/html": [
       "<html><script type=\"math/tex; mode=display\">\\newcommand{\\Bold}[1]{\\mathbf{#1}}\\gamma_{v} = \\frac{{a_{sh}} h_{c}}{f_{u}}</script></html>"
      ],
      "text/plain": [
       "gamma_v == a_sh*h_c/f_u"
      ]
     },
     "metadata": {},
     "output_type": "display_data"
    },
    {
     "data": {
      "text/html": [
       "<html><script type=\"math/tex; mode=display\">\\newcommand{\\Bold}[1]{\\mathbf{#1}}\\gamma_{v} = \\frac{{N_{Le}}^{\\frac{2}{3}} {R_{mol}} T_{a} {a_{sh}} {c_{pa}} \\rho_{a}}{M_{w} a_{s} \\lambda_{E}}</script></html>"
      ],
      "text/plain": [
       "gamma_v == Le^(2/3)*R_mol*T_a*a_sh*c_pa*rho_a/(M_w*a_s*lambda_E)"
      ]
     },
     "metadata": {},
     "output_type": "display_data"
    },
    {
     "data": {
      "text/html": [
       "<html><script type=\"math/tex; mode=display\">\\newcommand{\\Bold}[1]{\\mathbf{#1}}S = \\frac{{g_{sw}}}{{g_{bw}} + {g_{sw}}}</script></html>"
      ],
      "text/plain": [
       "S == g_sw/(g_bw + g_sw)"
      ]
     },
     "metadata": {},
     "output_type": "display_data"
    },
    {
     "data": {
      "text/html": [
       "<html><script type=\"math/tex; mode=display\">\\newcommand{\\Bold}[1]{\\mathbf{#1}}E_{l} = -\\frac{{\\left(M_{w} {P_{wa}} - M_{w} {P_{was}}\\right)} \\gamma_{v} \\lambda_{E} + {\\left({\\Delta_{eTa}} {R_{ll}} {R_{mol}} - {\\Delta_{eTa}} {R_{mol}} R_{s}\\right)} T_{a} {r_{bw}}}{{R_{mol}} T_{a} \\gamma_{v} {r_{sw}} + {\\left({\\Delta_{eTa}} {R_{mol}} T_{a} + {R_{mol}} T_{a} \\gamma_{v}\\right)} {r_{bw}}}</script></html>"
      ],
      "text/plain": [
       "E_l == -((M_w*P_wa - M_w*P_was)*gamma_v*lambda_E + (Delta_eTa*R_ll*R_mol - Delta_eTa*R_mol*R_s)*T_a*r_bw)/(R_mol*T_a*gamma_v*r_sw + (Delta_eTa*R_mol*T_a + R_mol*T_a*gamma_v)*r_bw)"
      ]
     },
     "metadata": {},
     "output_type": "display_data"
    },
    {
     "data": {
      "text/html": [
       "<html><script type=\"math/tex; mode=display\">\\newcommand{\\Bold}[1]{\\mathbf{#1}}E_{l} = -\\frac{{\\left(M_{w} {P_{wa}} - M_{w} {P_{was}}\\right)} {N_{Le}}^{\\frac{2}{3}} {a_{sh}} {c_{pa}} {g_{bw}} {g_{sw}} \\lambda_{E} \\rho_{a} + {\\left({\\Delta_{eTa}} M_{w} {R_{ll}} - {\\Delta_{eTa}} M_{w} R_{s}\\right)} a_{s} {g_{sw}} \\lambda_{E}}{{\\Delta_{eTa}} M_{w} a_{s} {g_{sw}} \\lambda_{E} + {\\left({R_{mol}} T_{a} {a_{sh}} {c_{pa}} {g_{bw}} + {R_{mol}} T_{a} {a_{sh}} {c_{pa}} {g_{sw}}\\right)} {N_{Le}}^{\\frac{2}{3}} \\rho_{a}}</script></html>"
      ],
      "text/plain": [
       "E_l == -((M_w*P_wa - M_w*P_was)*Le^(2/3)*a_sh*c_pa*g_bw*g_sw*lambda_E*rho_a + (Delta_eTa*M_w*R_ll - Delta_eTa*M_w*R_s)*a_s*g_sw*lambda_E)/(Delta_eTa*M_w*a_s*g_sw*lambda_E + (R_mol*T_a*a_sh*c_pa*g_bw + R_mol*T_a*a_sh*c_pa*g_sw)*Le^(2/3)*rho_a)"
      ]
     },
     "metadata": {},
     "output_type": "display_data"
    },
    {
     "data": {
      "text/html": [
       "<html><script type=\"math/tex; mode=display\">\\newcommand{\\Bold}[1]{\\mathbf{#1}}E_{l} = -\\frac{{\\left(M_{w} {P_{wa}} - M_{w} {P_{was}}\\right)} \\gamma_{v} \\lambda_{E} + {\\left({\\Delta_{eTa}} {R_{ll}} {R_{mol}} - {\\Delta_{eTa}} {R_{mol}} R_{s}\\right)} T_{a} {r_{bw}}}{{R_{mol}} T_{a} \\gamma_{v} {r_{sw}} + {\\left({\\Delta_{eTa}} {R_{mol}} T_{a} + {R_{mol}} T_{a} \\gamma_{v}\\right)} {r_{bw}}}</script></html>"
      ],
      "text/plain": [
       "E_l == -((M_w*P_wa - M_w*P_was)*gamma_v*lambda_E + (Delta_eTa*R_ll*R_mol - Delta_eTa*R_mol*R_s)*T_a*r_bw)/(R_mol*T_a*gamma_v*r_sw + (Delta_eTa*R_mol*T_a + R_mol*T_a*gamma_v)*r_bw)"
      ]
     },
     "metadata": {},
     "output_type": "display_data"
    },
    {
     "data": {
      "text/html": [
       "<html><script type=\"math/tex; mode=display\">\\newcommand{\\Bold}[1]{\\mathbf{#1}}E_{l} = -\\frac{{\\left(M_{w} {P_{wa}} - M_{w} {P_{was}}\\right)} {N_{Le}}^{\\frac{2}{3}} {a_{sh}} {c_{pa}} \\lambda_{E} \\rho_{a} + {\\left({\\Delta_{eTa}} M_{w} {R_{ll}} - {\\Delta_{eTa}} M_{w} R_{s}\\right)} a_{s} \\lambda_{E} {r_{bw}}}{{\\Delta_{eTa}} M_{w} a_{s} \\lambda_{E} {r_{bw}} + {\\left({R_{mol}} T_{a} {a_{sh}} {c_{pa}} {r_{bw}} + {R_{mol}} T_{a} {a_{sh}} {c_{pa}} {r_{sw}}\\right)} {N_{Le}}^{\\frac{2}{3}} \\rho_{a}}</script></html>"
      ],
      "text/plain": [
       "E_l == -((M_w*P_wa - M_w*P_was)*Le^(2/3)*a_sh*c_pa*lambda_E*rho_a + (Delta_eTa*M_w*R_ll - Delta_eTa*M_w*R_s)*a_s*lambda_E*r_bw)/(Delta_eTa*M_w*a_s*lambda_E*r_bw + (R_mol*T_a*a_sh*c_pa*r_bw + R_mol*T_a*a_sh*c_pa*r_sw)*Le^(2/3)*rho_a)"
      ]
     },
     "metadata": {},
     "output_type": "display_data"
    },
    {
     "data": {
      "text/html": [
       "<html><script type=\"math/tex; mode=display\">\\newcommand{\\Bold}[1]{\\mathbf{#1}}E_{l} = -\\frac{{\\left(M_{w} {P_{wa}} - M_{w} {P_{was}}\\right)} {N_{Le}}^{\\frac{2}{3}} {a_{sh}} {c_{pa}} {g_{bw}} {g_{sw}} \\lambda_{E} \\rho_{a} + {\\left({\\Delta_{eTa}} M_{w} {R_{ll}} - {\\Delta_{eTa}} M_{w} R_{s}\\right)} a_{s} {g_{sw}} \\lambda_{E}}{{\\Delta_{eTa}} M_{w} a_{s} {g_{sw}} \\lambda_{E} + {\\left({R_{mol}} T_{a} {a_{sh}} {c_{pa}} {g_{bw}} + {R_{mol}} T_{a} {a_{sh}} {c_{pa}} {g_{sw}}\\right)} {N_{Le}}^{\\frac{2}{3}} \\rho_{a}}</script></html>"
      ],
      "text/plain": [
       "E_l == -((M_w*P_wa - M_w*P_was)*Le^(2/3)*a_sh*c_pa*g_bw*g_sw*lambda_E*rho_a + (Delta_eTa*M_w*R_ll - Delta_eTa*M_w*R_s)*a_s*g_sw*lambda_E)/(Delta_eTa*M_w*a_s*g_sw*lambda_E + (R_mol*T_a*a_sh*c_pa*g_bw + R_mol*T_a*a_sh*c_pa*g_sw)*Le^(2/3)*rho_a)"
      ]
     },
     "metadata": {},
     "output_type": "display_data"
    },
    {
     "data": {
      "text/html": [
       "<html><script type=\"math/tex; mode=display\">\\newcommand{\\Bold}[1]{\\mathbf{#1}}f_{u} = \\frac{{c_{pa}} \\rho_{a}}{\\gamma_{v} r_{a}}</script></html>"
      ],
      "text/plain": [
       "f_u == c_pa*rho_a/(gamma_v*r_a)"
      ]
     },
     "metadata": {},
     "output_type": "display_data"
    },
    {
     "data": {
      "text/html": [
       "<html><script type=\"math/tex; mode=display\">\\newcommand{\\Bold}[1]{\\mathbf{#1}}E_{w} = -\\frac{{\\Delta_{eTa}} {R_{ll}} - {\\Delta_{eTa}} R_{s} + \\frac{{\\left({P_{wa}} - {P_{was}}\\right)} {c_{pa}} \\rho_{a}}{r_{a}}}{{\\Delta_{eTa}} + \\gamma_{v}}</script></html>"
      ],
      "text/plain": [
       "E_w == -(Delta_eTa*R_ll - Delta_eTa*R_s + (P_wa - P_was)*c_pa*rho_a/r_a)/(Delta_eTa + gamma_v)"
      ]
     },
     "metadata": {},
     "output_type": "display_data"
    },
    {
     "data": {
      "text/html": [
       "<html><script type=\"math/tex; mode=display\">\\newcommand{\\Bold}[1]{\\mathbf{#1}}\\gamma_{v} = \\gamma_{v} {\\left(\\frac{r_{s}}{r_{a}} + 1\\right)}</script></html>"
      ],
      "text/plain": [
       "gamma_v == gamma_v*(r_s/r_a + 1)"
      ]
     },
     "metadata": {},
     "output_type": "display_data"
    },
    {
     "data": {
      "text/html": [
       "<html><script type=\"math/tex; mode=display\">\\newcommand{\\Bold}[1]{\\mathbf{#1}}E_{l} = -\\frac{{\\Delta_{eTa}} {R_{ll}} - {\\Delta_{eTa}} R_{s} + \\frac{{\\left({P_{wa}} - {P_{was}}\\right)} {c_{pa}} \\rho_{a}}{r_{a}}}{\\gamma_{v} {\\left(\\frac{r_{s}}{r_{a}} + 1\\right)} + {\\Delta_{eTa}}}</script></html>"
      ],
      "text/plain": [
       "E_l == -(Delta_eTa*R_ll - Delta_eTa*R_s + (P_wa - P_was)*c_pa*rho_a/r_a)/(gamma_v*(r_s/r_a + 1) + Delta_eTa)"
      ]
     },
     "metadata": {},
     "output_type": "display_data"
    },
    {
     "data": {
      "text/html": [
       "<html><script type=\"math/tex; mode=display\">\\newcommand{\\Bold}[1]{\\mathbf{#1}}\\gamma_{v} = \\gamma_{v} n_{\\mathit{MU}} {\\left(\\frac{r_{s}}{r_{a}} + 1\\right)}</script></html>"
      ],
      "text/plain": [
       "gamma_v == gamma_v*n_MU*(r_s/r_a + 1)"
      ]
     },
     "metadata": {},
     "output_type": "display_data"
    },
    {
     "data": {
      "text/html": [
       "<html><script type=\"math/tex; mode=display\">\\newcommand{\\Bold}[1]{\\mathbf{#1}}E_{l} = -\\frac{{\\Delta_{eTa}} {R_{ll}} - {\\Delta_{eTa}} R_{s} + \\frac{{\\left({P_{wa}} - {P_{was}}\\right)} {c_{pa}} \\rho_{a}}{r_{a}}}{\\gamma_{v} n_{\\mathit{MU}} {\\left(\\frac{r_{s}}{r_{a}} + 1\\right)} + {\\Delta_{eTa}}}</script></html>"
      ],
      "text/plain": [
       "E_l == -(Delta_eTa*R_ll - Delta_eTa*R_s + (P_wa - P_was)*c_pa*rho_a/r_a)/(gamma_v*n_MU*(r_s/r_a + 1) + Delta_eTa)"
      ]
     },
     "metadata": {},
     "output_type": "display_data"
    },
    {
     "data": {
      "text/html": [
       "<html><script type=\"math/tex; mode=display\">\\newcommand{\\Bold}[1]{\\mathbf{#1}}\\gamma_{v} = \\frac{P_{a} {c_{pa}}}{\\epsilon \\lambda_{E}}</script></html>"
      ],
      "text/plain": [
       "gamma_v == P_a*c_pa/(epsilon*lambda_E)"
      ]
     },
     "metadata": {},
     "output_type": "display_data"
    },
    {
     "data": {
      "text/html": [
       "<html><script type=\"math/tex; mode=display\">\\newcommand{\\Bold}[1]{\\mathbf{#1}}\\epsilon = \\frac{M_{w} P_{a}}{{R_{mol}} T_{a} \\rho_{a}}</script></html>"
      ],
      "text/plain": [
       "epsilon == M_w*P_a/(R_mol*T_a*rho_a)"
      ]
     },
     "metadata": {},
     "output_type": "display_data"
    },
    {
     "data": {
      "text/html": [
       "<html><script type=\"math/tex; mode=display\">\\newcommand{\\Bold}[1]{\\mathbf{#1}}\\epsilon = \\frac{100 \\, M_{w} P_{a}}{79 \\, M_{N_{2}} {\\left(P_{a} - {P_{wa}}\\right)} + 21 \\, M_{O_{2}} {\\left(P_{a} - {P_{wa}}\\right)} + 100 \\, M_{w} {P_{wa}}}</script></html>"
      ],
      "text/plain": [
       "epsilon == 100*M_w*P_a/(79*M_N2*(P_a - P_wa) + 21*M_O2*(P_a - P_wa) + 100*M_w*P_wa)"
      ]
     },
     "metadata": {},
     "output_type": "display_data"
    },
    {
     "data": {
      "text/html": [
       "<html><script type=\"math/tex; mode=display\">\\newcommand{\\Bold}[1]{\\mathbf{#1}}H_{l} = -{\\left(T_{a} - T_{l}\\right)} {a_{sh}} h_{c}</script></html>"
      ],
      "text/plain": [
       "H_l == -(T_a - T_l)*a_sh*h_c"
      ]
     },
     "metadata": {},
     "output_type": "display_data"
    },
    {
     "data": {
      "text/html": [
       "<html><script type=\"math/tex; mode=display\">\\newcommand{\\Bold}[1]{\\mathbf{#1}}E_{l} = -\\frac{{\\left({P_{wa}} - {P_{wl}}\\right)} a_{s} \\epsilon \\lambda_{E} \\rho_{a}}{P_{a} {\\left(r_{s} + {r_{v}}\\right)}}</script></html>"
      ],
      "text/plain": [
       "E_l == -(P_wa - P_wl)*a_s*epsilon*lambda_E*rho_a/(P_a*(r_s + r_v))"
      ]
     },
     "metadata": {},
     "output_type": "display_data"
    },
    {
     "name": "stdout",
     "output_type": "stream",
     "text": [
      "kilogram/second^3 == kilogram/second^3\n"
     ]
    },
    {
     "data": {
      "text/html": [
       "<html><script type=\"math/tex; mode=display\">\\newcommand{\\Bold}[1]{\\mathbf{#1}}H_{l} = -\\frac{{\\left(T_{a} - T_{l}\\right)} {a_{sh}} {c_{pa}} \\rho_{a}}{r_{a}}</script></html>"
      ],
      "text/plain": [
       "H_l == -(T_a - T_l)*a_sh*c_pa*rho_a/r_a"
      ]
     },
     "metadata": {},
     "output_type": "display_data"
    },
    {
     "data": {
      "text/html": [
       "<html><script type=\"math/tex; mode=display\">\\newcommand{\\Bold}[1]{\\mathbf{#1}}E_{l} = -M_{w} {g_{tw}} \\lambda_{E} {\\left(\\frac{{P_{wa}}}{{R_{mol}} T_{a}} - \\frac{{P_{wl}}}{{R_{mol}} T_{l}}\\right)}</script></html>"
      ],
      "text/plain": [
       "E_l == -M_w*g_tw*lambda_E*(P_wa/(R_mol*T_a) - P_wl/(R_mol*T_l))"
      ]
     },
     "metadata": {},
     "output_type": "display_data"
    },
    {
     "data": {
      "text/html": [
       "<html><script type=\"math/tex; mode=display\">\\newcommand{\\Bold}[1]{\\mathbf{#1}}{r_{v}} = \\frac{a_{s}}{{g_{bw}}}</script></html>"
      ],
      "text/plain": [
       "r_v == a_s/g_bw"
      ]
     },
     "metadata": {},
     "output_type": "display_data"
    },
    {
     "data": {
      "text/html": [
       "<html><script type=\"math/tex; mode=display\">\\newcommand{\\Bold}[1]{\\mathbf{#1}}E_{l} = -M_{w} {g_{tw}} \\lambda_{E} {\\left(\\frac{{P_{wa}}}{{R_{mol}} T_{a}} - \\frac{{P_{wl}}}{{R_{mol}} T_{l}}\\right)}</script></html>"
      ],
      "text/plain": [
       "E_l == -M_w*g_tw*lambda_E*(P_wa/(R_mol*T_a) - P_wl/(R_mol*T_l))"
      ]
     },
     "metadata": {},
     "output_type": "display_data"
    },
    {
     "data": {
      "text/html": [
       "<html><script type=\"math/tex; mode=display\">\\newcommand{\\Bold}[1]{\\mathbf{#1}}E_{l} = -\\frac{M_{w} {\\left({P_{wa}} - {P_{wl}}\\right)} a_{s} \\lambda_{E}}{{R_{mol}} T_{a} {\\left(r_{s} + {r_{v}}\\right)}}</script></html>"
      ],
      "text/plain": [
       "E_l == -M_w*(P_wa - P_wl)*a_s*lambda_E/(R_mol*T_a*(r_s + r_v))"
      ]
     },
     "metadata": {},
     "output_type": "display_data"
    },
    {
     "data": {
      "text/html": [
       "<html><script type=\"math/tex; mode=display\">\\newcommand{\\Bold}[1]{\\mathbf{#1}}r_{s} = \\frac{a_{s}}{{g_{sw}}}</script></html>"
      ],
      "text/plain": [
       "r_s == a_s/g_sw"
      ]
     },
     "metadata": {},
     "output_type": "display_data"
    },
    {
     "data": {
      "text/html": [
       "<html><script type=\"math/tex; mode=display\">\\newcommand{\\Bold}[1]{\\mathbf{#1}}r_{a} = \\frac{{c_{pa}} \\rho_{a}}{h_{c}}</script></html>"
      ],
      "text/plain": [
       "r_a == c_pa*rho_a/h_c"
      ]
     },
     "metadata": {},
     "output_type": "display_data"
    },
    {
     "data": {
      "text/html": [
       "<html><script type=\"math/tex; mode=display\">\\newcommand{\\Bold}[1]{\\mathbf{#1}}E_{l} = -{\\left({P_{wa}} - {P_{wl}}\\right)} c_{E}</script></html>"
      ],
      "text/plain": [
       "E_l == -(P_wa - P_wl)*c_E"
      ]
     },
     "metadata": {},
     "output_type": "display_data"
    },
    {
     "name": "stdout",
     "output_type": "stream",
     "text": [
      "kilogram/second^3 == kilogram/second^3\n"
     ]
    },
    {
     "data": {
      "text/html": [
       "<html><script type=\"math/tex; mode=display\">\\newcommand{\\Bold}[1]{\\mathbf{#1}}H_{l} = -{\\left(T_{a} - T_{l}\\right)} c_{H}</script></html>"
      ],
      "text/plain": [
       "H_l == -(T_a - T_l)*c_H"
      ]
     },
     "metadata": {},
     "output_type": "display_data"
    },
    {
     "data": {
      "text/html": [
       "<html><script type=\"math/tex; mode=display\">\\newcommand{\\Bold}[1]{\\mathbf{#1}}H_{l} = -{\\left(T_{a} - T_{l}\\right)} c_{E} \\gamma_{v}</script></html>"
      ],
      "text/plain": [
       "H_l == -(T_a - T_l)*c_E*gamma_v"
      ]
     },
     "metadata": {},
     "output_type": "display_data"
    },
    {
     "data": {
      "text/html": [
       "<html><script type=\"math/tex; mode=display\">\\newcommand{\\Bold}[1]{\\mathbf{#1}}{\\Delta_{eTa}} = \\frac{{P_{was}} - {P_{wl}}}{T_{a} - T_{l}}</script></html>"
      ],
      "text/plain": [
       "Delta_eTa == (P_was - P_wl)/(T_a - T_l)"
      ]
     },
     "metadata": {},
     "output_type": "display_data"
    },
    {
     "data": {
      "text/html": [
       "<html><script type=\"math/tex; mode=display\">\\newcommand{\\Bold}[1]{\\mathbf{#1}}H_{l} = -\\frac{{\\left({P_{was}} - {P_{wl}}\\right)} c_{E} \\gamma_{v}}{{\\Delta_{eTa}}}</script></html>"
      ],
      "text/plain": [
       "H_l == -(P_was - P_wl)*c_E*gamma_v/Delta_eTa"
      ]
     },
     "metadata": {},
     "output_type": "display_data"
    },
    {
     "name": "stdout",
     "output_type": "stream",
     "text": [
      "kilogram/second^3 == kilogram/second^3\n"
     ]
    },
    {
     "data": {
      "text/html": [
       "<html><script type=\"math/tex; mode=display\">\\newcommand{\\Bold}[1]{\\mathbf{#1}}E_{l} = -\\frac{{\\left({P_{wa}} - {P_{was}}\\right)} c_{E} c_{H} + {\\left({\\Delta_{eTa}} {R_{ll}} - {\\Delta_{eTa}} R_{s}\\right)} c_{E}}{{\\Delta_{eTa}} c_{E} + c_{H}}</script></html>"
      ],
      "text/plain": [
       "E_l == -((P_wa - P_was)*c_E*c_H + (Delta_eTa*R_ll - Delta_eTa*R_s)*c_E)/(Delta_eTa*c_E + c_H)"
      ]
     },
     "metadata": {},
     "output_type": "display_data"
    },
    {
     "name": "stdout",
     "output_type": "stream",
     "text": [
      "kilogram/second^3 == kilogram/second^3\n",
      "E_{l} = -\\frac{{\\left({P_{wa}} - {P_{was}}\\right)} c_{E} c_{H} + {\\left({\\Delta_{eTa}} {R_{ll}} - {\\Delta_{eTa}} R_{s}\\right)} c_{E}}{{\\Delta_{eTa}} c_{E} + c_{H}}\n"
     ]
    },
    {
     "data": {
      "text/html": [
       "<html><script type=\"math/tex; mode=display\">\\newcommand{\\Bold}[1]{\\mathbf{#1}}H_{l} = \\frac{{\\left({\\left({P_{wa}} - {P_{was}}\\right)} c_{E} - {R_{ll}} + R_{s}\\right)} c_{H}}{{\\Delta_{eTa}} c_{E} + c_{H}}</script></html>"
      ],
      "text/plain": [
       "H_l == ((P_wa - P_was)*c_E - R_ll + R_s)*c_H/(Delta_eTa*c_E + c_H)"
      ]
     },
     "metadata": {},
     "output_type": "display_data"
    },
    {
     "name": "stdout",
     "output_type": "stream",
     "text": [
      "kilogram/second^3 == kilogram/second^3\n",
      "H_{l} = \\frac{{\\left({\\left({P_{wa}} - {P_{was}}\\right)} c_{E} - {R_{ll}} + R_{s}\\right)} c_{H}}{{\\Delta_{eTa}} c_{E} + c_{H}}\n"
     ]
    },
    {
     "data": {
      "text/html": [
       "<html><script type=\"math/tex; mode=display\">\\newcommand{\\Bold}[1]{\\mathbf{#1}}{P_{wl}} = \\frac{{\\Delta_{eTa}} {P_{wa}} c_{E} - {\\Delta_{eTa}} {R_{ll}} + {\\Delta_{eTa}} R_{s} + {P_{was}} c_{H}}{{\\Delta_{eTa}} c_{E} + c_{H}}</script></html>"
      ],
      "text/plain": [
       "P_wl == (Delta_eTa*P_wa*c_E - Delta_eTa*R_ll + Delta_eTa*R_s + P_was*c_H)/(Delta_eTa*c_E + c_H)"
      ]
     },
     "metadata": {},
     "output_type": "display_data"
    },
    {
     "name": "stdout",
     "output_type": "stream",
     "text": [
      "kilogram/(meter*second^2) == kilogram/(meter*second^2)\n",
      "{P_{wl}} = \\frac{{\\Delta_{eTa}} {P_{wa}} c_{E} - {\\Delta_{eTa}} {R_{ll}} + {\\Delta_{eTa}} R_{s} + {P_{was}} c_{H}}{{\\Delta_{eTa}} c_{E} + c_{H}}\n"
     ]
    },
    {
     "data": {
      "text/html": [
       "<html><script type=\"math/tex; mode=display\">\\newcommand{\\Bold}[1]{\\mathbf{#1}}T_{l} = \\frac{{\\Delta_{eTa}} T_{a} c_{E} + {P_{wa}} c_{E} - {P_{was}} c_{E} + T_{a} c_{H} - {R_{ll}} + R_{s}}{{\\Delta_{eTa}} c_{E} + c_{H}}</script></html>"
      ],
      "text/plain": [
       "T_l == (Delta_eTa*T_a*c_E + P_wa*c_E - P_was*c_E + T_a*c_H - R_ll + R_s)/(Delta_eTa*c_E + c_H)"
      ]
     },
     "metadata": {},
     "output_type": "display_data"
    },
    {
     "name": "stdout",
     "output_type": "stream",
     "text": [
      "kelvin == kelvin\n"
     ]
    },
    {
     "data": {
      "text/html": [
       "<html><script type=\"math/tex; mode=display\">\\newcommand{\\Bold}[1]{\\mathbf{#1}}T_{l} = \\frac{{\\left({\\Delta_{eTa}} T_{a} + {P_{wa}} - {P_{was}}\\right)} c_{E} + T_{a} c_{H} - {R_{ll}} + R_{s}}{{\\Delta_{eTa}} c_{E} + c_{H}}</script></html>"
      ],
      "text/plain": [
       "T_l == ((Delta_eTa*T_a + P_wa - P_was)*c_E + T_a*c_H - R_ll + R_s)/(Delta_eTa*c_E + c_H)"
      ]
     },
     "metadata": {},
     "output_type": "display_data"
    },
    {
     "data": {
      "text/html": [
       "<html><script type=\"math/tex; mode=display\">\\newcommand{\\Bold}[1]{\\mathbf{#1}}T_{l} = T_{a} + \\frac{{\\left({P_{wa}} - {P_{was}}\\right)} c_{E} - {R_{ll}} + R_{s}}{{\\Delta_{eTa}} c_{E} + c_{H}}</script></html>"
      ],
      "text/plain": [
       "T_l == T_a + ((P_wa - P_was)*c_E - R_ll + R_s)/(Delta_eTa*c_E + c_H)"
      ]
     },
     "metadata": {},
     "output_type": "display_data"
    },
    {
     "data": {
      "text/html": [
       "<html><script type=\"math/tex; mode=display\">\\newcommand{\\Bold}[1]{\\mathbf{#1}}{P_{wl}} = 611 \\, e^{\\left(-\\frac{M_{w} \\lambda_{E} {\\left(\\frac{273}{T_{l}} - 1\\right)}}{273 \\, {R_{mol}}}\\right)}</script></html>"
      ],
      "text/plain": [
       "P_wl == 611*e^(-1/273*M_w*lambda_E*(273/T_l - 1)/R_mol)"
      ]
     },
     "metadata": {},
     "output_type": "display_data"
    },
    {
     "data": {
      "text/html": [
       "<html><script type=\"math/tex; mode=display\">\\newcommand{\\Bold}[1]{\\mathbf{#1}}T_{l} = \\frac{273 \\, M_{w} \\lambda_{E}}{M_{w} \\lambda_{E} + 273 \\, {R_{mol}} \\log\\left(\\frac{611 \\, {\\left({\\Delta_{eTa}} c_{E} + c_{H}\\right)}}{{\\Delta_{eTa}} {P_{wa}} c_{E} - {\\Delta_{eTa}} {R_{ll}} + {\\Delta_{eTa}} R_{s} + {P_{was}} c_{H}}\\right)}</script></html>"
      ],
      "text/plain": [
       "T_l == 273*M_w*lambda_E/(M_w*lambda_E + 273*R_mol*log(611*(Delta_eTa*c_E + c_H)/(Delta_eTa*P_wa*c_E - Delta_eTa*R_ll + Delta_eTa*R_s + P_was*c_H)))"
      ]
     },
     "metadata": {},
     "output_type": "display_data"
    },
    {
     "data": {
      "text/html": [
       "<html><script type=\"math/tex; mode=display\">\\newcommand{\\Bold}[1]{\\mathbf{#1}}c_{E} = \\frac{M_{w} {g_{tw,mol}} \\lambda_{E}}{P_{a}}</script></html>"
      ],
      "text/plain": [
       "c_E == M_w*g_twmol*lambda_E/P_a"
      ]
     },
     "metadata": {},
     "output_type": "display_data"
    },
    {
     "name": "stdout",
     "output_type": "stream",
     "text": [
      "meter/second == meter/second\n"
     ]
    },
    {
     "data": {
      "text/html": [
       "<html><script type=\"math/tex; mode=display\">\\newcommand{\\Bold}[1]{\\mathbf{#1}}c_{H} = {a_{sh}} h_{c}</script></html>"
      ],
      "text/plain": [
       "c_H == a_sh*h_c"
      ]
     },
     "metadata": {},
     "output_type": "display_data"
    },
    {
     "data": {
      "text/html": [
       "<html><script type=\"math/tex; mode=display\">\\newcommand{\\Bold}[1]{\\mathbf{#1}}H_{l} = \\frac{{\\left(M_{w} {P_{wa}} - M_{w} {P_{was}}\\right)} {a_{sh}} {g_{tw,mol}} h_{c} \\lambda_{E} - {\\left(P_{a} {R_{ll}} - P_{a} R_{s}\\right)} {a_{sh}} h_{c}}{{\\Delta_{eTa}} M_{w} {g_{tw,mol}} \\lambda_{E} + P_{a} {a_{sh}} h_{c}}</script></html>"
      ],
      "text/plain": [
       "H_l == ((M_w*P_wa - M_w*P_was)*a_sh*g_twmol*h_c*lambda_E - (P_a*R_ll - P_a*R_s)*a_sh*h_c)/(Delta_eTa*M_w*g_twmol*lambda_E + P_a*a_sh*h_c)"
      ]
     },
     "metadata": {},
     "output_type": "display_data"
    },
    {
     "data": {
      "text/html": [
       "<html><script type=\"math/tex; mode=display\">\\newcommand{\\Bold}[1]{\\mathbf{#1}}E_{l} = -\\frac{{\\left({\\left(M_{w} {P_{wa}} - M_{w} {P_{was}}\\right)} {a_{sh}} {g_{tw,mol}} h_{c} + {\\left({\\Delta_{eTa}} M_{w} {R_{ll}} - {\\Delta_{eTa}} M_{w} R_{s}\\right)} {g_{tw,mol}}\\right)} \\lambda_{E}}{{\\Delta_{eTa}} M_{w} {g_{tw,mol}} \\lambda_{E} + P_{a} {a_{sh}} h_{c}}</script></html>"
      ],
      "text/plain": [
       "E_l == -((M_w*P_wa - M_w*P_was)*a_sh*g_twmol*h_c + (Delta_eTa*M_w*R_ll - Delta_eTa*M_w*R_s)*g_twmol)*lambda_E/(Delta_eTa*M_w*g_twmol*lambda_E + P_a*a_sh*h_c)"
      ]
     },
     "metadata": {},
     "output_type": "display_data"
    },
    {
     "data": {
      "text/html": [
       "<html><script type=\"math/tex; mode=display\">\\newcommand{\\Bold}[1]{\\mathbf{#1}}T_{l} = \\frac{P_{a} T_{a} {a_{sh}} h_{c} + {\\left({\\Delta_{eTa}} M_{w} T_{a} + M_{w} {P_{wa}} - M_{w} {P_{was}}\\right)} {g_{tw,mol}} \\lambda_{E} - P_{a} {R_{ll}} + P_{a} R_{s}}{{\\Delta_{eTa}} M_{w} {g_{tw,mol}} \\lambda_{E} + P_{a} {a_{sh}} h_{c}}</script></html>"
      ],
      "text/plain": [
       "T_l == (P_a*T_a*a_sh*h_c + (Delta_eTa*M_w*T_a + M_w*P_wa - M_w*P_was)*g_twmol*lambda_E - P_a*R_ll + P_a*R_s)/(Delta_eTa*M_w*g_twmol*lambda_E + P_a*a_sh*h_c)"
      ]
     },
     "metadata": {},
     "output_type": "display_data"
    },
    {
     "name": "stdout",
     "output_type": "stream",
     "text": [
      "$ g $ $ v_{w} $ $ {P_{wa}} $ $ {a_{sh}} $ $ M_{O_{2}} $ $ T_{a} $ $ {R_{mol}} $ $ T_{w} $ $ R_{s} $ $ {c_{pa}} $ $ M_{N_{2}} $ $ \\epsilon_{l} $ $ {\\sigma} $ $ a_{s} $ $ P_{a} $ $ {N_{Pr}} $ $ {N_{Re_c}} $ $ M_{w} $ $ \\lambda_{E} $ $ \\epsilon $ $ {g_{sw}} $ $ L_{l} $ \n",
      "$ g $ $ v_{w} $ $ {P_{wa}} $ $ {a_{sh}} $ $ M_{O_{2}} $ $ T_{a} $ $ {R_{mol}} $ $ T_{w} $ $ R_{s} $ $ {c_{pa}} $ $ M_{N_{2}} $ $ \\epsilon_{l} $ $ {\\sigma} $ $ a_{s} $ $ P_{a} $ $ {N_{Pr}} $ $ {N_{Re_c}} $ $ M_{w} $ $ \\lambda_{E} $ $ \\epsilon $ $ {g_{sw}} $ $ L_{l} $ \n",
      "T_l = 305.650648423\n",
      "E_l = 185.424519010311\n",
      "H_l = 325.157459266011\n",
      "R_ll = 89.4180217236781\n",
      "Direct estimates: \n",
      "E_l == 201.520517691209\n",
      "H_l == 398.479482308791\n",
      "T_l == 307.263098002106\n",
      "P_wl == 4888.37878666472\n",
      "Using estimated T_l: \n",
      "5332.58270455183\n",
      "E_l == 254.937149826832\n",
      "H_l == 398.479482308791\n",
      "0 == 110.468903558398\n",
      "Using estimated T_l only to calculate R_ll: \n",
      "E_l == 164.417599968095\n",
      "H_l == 325.113496473507\n",
      "307.263098002106 == 305.649681621994\n",
      "Using 1 iteration to get T_l: \n",
      "T_l(R_ll=0): 307.263098002106\n",
      "R_ll(T_l) = 110.468903558398\n",
      "T_l = 305.649681621994\n",
      "E_l == 199.088662380171\n",
      "H_l == 325.113496473508\n",
      "185.424519010311 == 199.120796183645\n",
      "185.424519010311 == 185.424519010311\n",
      "T_l = 305.650648423\n",
      "E_l = 185.424519010311\n",
      "H_l = 325.157459266011\n",
      "R_ll = 89.4180217236781\n",
      "Direct estimates: \n",
      "E_l == 201.520517691209\n",
      "H_l == 398.479482308791\n",
      "T_l == 307.263098002106\n",
      "Using estimated T_l: \n",
      "E_l == 236.648612148471\n",
      "H_l == 398.479482308791\n",
      "0 == 110.468903558398\n",
      "Using estimated T_l only to calculate R_ll: \n",
      "E_l == 156.390826464557\n",
      "H_l == 333.140269977045\n",
      "307.263098002106 == 305.826201131717\n",
      "Using 1 iteration to get T_l: \n",
      "T_l(R_ll=0): 307.479451379050\n",
      "R_ll(T_l) = 113.318783813751\n",
      "T_l = 305.783550529736\n",
      "E_l == 189.502633426895\n",
      "H_l == 331.200842871040\n"
     ]
    },
    {
     "data": {
      "text/html": [
       "<html><script type=\"math/tex; mode=display\">\\newcommand{\\Bold}[1]{\\mathbf{#1}}T_{l} = \\frac{273 \\, M_{w} \\lambda_{E}}{M_{w} \\lambda_{E} + 273 \\, {R_{mol}} \\log\\left(\\frac{611 \\, {\\left({\\left({N_{Le}} {P_{wa}} - {N_{Le}} {P_{wl}}\\right)} {N_{Le}}^{\\frac{1}{3}} {R_{mol}} T_{a} T_{l} {a_{sh}} {c_{pa}}^{2} {g_{sw}}^{2} h_{c} \\rho_{a}^{2} + {\\left({P_{wa}} - {P_{wl}}\\right)} {R_{mol}} T_{a} T_{l} a_{s}^{2} {a_{sh}} h_{c}^{3} - {\\left({\\Delta_{eTa}} M_{w} {P_{wl}} T_{a} - {\\Delta_{eTa}} M_{w} {P_{wa}} T_{l}\\right)} a_{s}^{2} {g_{sw}} h_{c}^{2} \\lambda_{E} + {\\left(2 \\, {\\left({P_{wa}} - {P_{wl}}\\right)} {R_{mol}} T_{a} T_{l} a_{s} {a_{sh}} {c_{pa}} {g_{sw}} h_{c}^{2} - {\\left({\\Delta_{eTa}} M_{w} {P_{wl}} T_{a} - {\\Delta_{eTa}} M_{w} {P_{wa}} T_{l}\\right)} a_{s} {c_{pa}} {g_{sw}}^{2} h_{c} \\lambda_{E}\\right)} {N_{Le}}^{\\frac{2}{3}} \\rho_{a}\\right)}}{{\\left({P_{wa}} {P_{was}} - {P_{was}} {P_{wl}}\\right)} {R_{mol}} T_{a} T_{l} a_{s}^{2} {a_{sh}} h_{c}^{3} - {\\left({\\left({\\Delta_{eTa}} {P_{wa}} - {\\Delta_{eTa}} {P_{wl}}\\right)} {R_{ll}} {R_{mol}} - {\\left({\\Delta_{eTa}} {P_{wa}} - {\\Delta_{eTa}} {P_{wl}}\\right)} {R_{mol}} R_{s}\\right)} T_{a} T_{l} a_{s}^{2} h_{c}^{2} - {\\left({\\Delta_{eTa}} M_{w} {P_{wa}} {P_{wl}} T_{a} - {\\Delta_{eTa}} M_{w} {P_{wa}}^{2} T_{l}\\right)} a_{s}^{2} {g_{sw}} h_{c}^{2} \\lambda_{E} + {\\left({\\left({N_{Le}} {P_{wa}} {P_{was}} - {N_{Le}} {P_{was}} {P_{wl}}\\right)} {R_{mol}} T_{a} T_{l} {a_{sh}} {c_{pa}}^{2} {g_{sw}}^{2} h_{c} - {\\left({\\left({\\Delta_{eTa}} {N_{Le}} {P_{wa}} - {\\Delta_{eTa}} {N_{Le}} {P_{wl}}\\right)} {R_{ll}} {R_{mol}} - {\\left({\\Delta_{eTa}} {N_{Le}} {P_{wa}} - {\\Delta_{eTa}} {N_{Le}} {P_{wl}}\\right)} {R_{mol}} R_{s}\\right)} T_{a} T_{l} {c_{pa}}^{2} {g_{sw}}^{2}\\right)} {N_{Le}}^{\\frac{1}{3}} \\rho_{a}^{2} + {\\left(2 \\, {\\left({P_{wa}} {P_{was}} - {P_{was}} {P_{wl}}\\right)} {R_{mol}} T_{a} T_{l} a_{s} {a_{sh}} {c_{pa}} {g_{sw}} h_{c}^{2} - 2 \\, {\\left({\\left({\\Delta_{eTa}} {P_{wa}} - {\\Delta_{eTa}} {P_{wl}}\\right)} {R_{ll}} {R_{mol}} - {\\left({\\Delta_{eTa}} {P_{wa}} - {\\Delta_{eTa}} {P_{wl}}\\right)} {R_{mol}} R_{s}\\right)} T_{a} T_{l} a_{s} {c_{pa}} {g_{sw}} h_{c} - {\\left({\\Delta_{eTa}} M_{w} {P_{wa}} {P_{wl}} T_{a} - {\\Delta_{eTa}} M_{w} {P_{wa}}^{2} T_{l}\\right)} a_{s} {c_{pa}} {g_{sw}}^{2} h_{c} \\lambda_{E}\\right)} {N_{Le}}^{\\frac{2}{3}} \\rho_{a}}\\right)}</script></html>"
      ],
      "text/plain": [
       "T_l == 273*M_w*lambda_E/(M_w*lambda_E + 273*R_mol*log(611*((Le*P_wa - Le*P_wl)*Le^(1/3)*R_mol*T_a*T_l*a_sh*c_pa^2*g_sw^2*h_c*rho_a^2 + (P_wa - P_wl)*R_mol*T_a*T_l*a_s^2*a_sh*h_c^3 - (Delta_eTa*M_w*P_wl*T_a - Delta_eTa*M_w*P_wa*T_l)*a_s^2*g_sw*h_c^2*lambda_E + (2*(P_wa - P_wl)*R_mol*T_a*T_l*a_s*a_sh*c_pa*g_sw*h_c^2 - (Delta_eTa*M_w*P_wl*T_a - Delta_eTa*M_w*P_wa*T_l)*a_s*c_pa*g_sw^2*h_c*lambda_E)*Le^(2/3)*rho_a)/((P_wa*P_was - P_was*P_wl)*R_mol*T_a*T_l*a_s^2*a_sh*h_c^3 - ((Delta_eTa*P_wa - Delta_eTa*P_wl)*R_ll*R_mol - (Delta_eTa*P_wa - Delta_eTa*P_wl)*R_mol*R_s)*T_a*T_l*a_s^2*h_c^2 - (Delta_eTa*M_w*P_wa*P_wl*T_a - Delta_eTa*M_w*P_wa^2*T_l)*a_s^2*g_sw*h_c^2*lambda_E + ((Le*P_wa*P_was - Le*P_was*P_wl)*R_mol*T_a*T_l*a_sh*c_pa^2*g_sw^2*h_c - ((Delta_eTa*Le*P_wa - Delta_eTa*Le*P_wl)*R_ll*R_mol - (Delta_eTa*Le*P_wa - Delta_eTa*Le*P_wl)*R_mol*R_s)*T_a*T_l*c_pa^2*g_sw^2)*Le^(1/3)*rho_a^2 + (2*(P_wa*P_was - P_was*P_wl)*R_mol*T_a*T_l*a_s*a_sh*c_pa*g_sw*h_c^2 - 2*((Delta_eTa*P_wa - Delta_eTa*P_wl)*R_ll*R_mol - (Delta_eTa*P_wa - Delta_eTa*P_wl)*R_mol*R_s)*T_a*T_l*a_s*c_pa*g_sw*h_c - (Delta_eTa*M_w*P_wa*P_wl*T_a - Delta_eTa*M_w*P_wa^2*T_l)*a_s*c_pa*g_sw^2*h_c*lambda_E)*Le^(2/3)*rho_a)))"
      ]
     },
     "metadata": {},
     "output_type": "display_data"
    },
    {
     "data": {
      "text/html": [
       "<html><script type=\"math/tex; mode=display\">\\newcommand{\\Bold}[1]{\\mathbf{#1}}E_{l} = -\\frac{{\\left({\\left({\\left(M_{w} {P_{wa}} - M_{w} {P_{was}}\\right)} {P_{wl}} T_{a} - {\\left(M_{w} {P_{wa}}^{2} - M_{w} {P_{wa}} {P_{was}}\\right)} T_{l}\\right)} {a_{sh}} {g_{bw}} {g_{sw}} h_{c} + {\\left({\\left({\\Delta_{eTa}} M_{w} {P_{wl}} {R_{ll}} - {\\Delta_{eTa}} M_{w} {P_{wl}} R_{s}\\right)} T_{a} - {\\left({\\Delta_{eTa}} M_{w} {P_{wa}} {R_{ll}} - {\\Delta_{eTa}} M_{w} {P_{wa}} R_{s}\\right)} T_{l}\\right)} {g_{bw}} {g_{sw}}\\right)} \\lambda_{E}}{{\\left({\\Delta_{eTa}} M_{w} {P_{wl}} T_{a} - {\\Delta_{eTa}} M_{w} {P_{wa}} T_{l}\\right)} {g_{bw}} {g_{sw}} \\lambda_{E} - {\\left({\\left({P_{wa}} - {P_{wl}}\\right)} {R_{mol}} T_{a} T_{l} {a_{sh}} {g_{bw}} + {\\left({P_{wa}} - {P_{wl}}\\right)} {R_{mol}} T_{a} T_{l} {a_{sh}} {g_{sw}}\\right)} h_{c}}</script></html>"
      ],
      "text/plain": [
       "E_l == -(((M_w*P_wa - M_w*P_was)*P_wl*T_a - (M_w*P_wa^2 - M_w*P_wa*P_was)*T_l)*a_sh*g_bw*g_sw*h_c + ((Delta_eTa*M_w*P_wl*R_ll - Delta_eTa*M_w*P_wl*R_s)*T_a - (Delta_eTa*M_w*P_wa*R_ll - Delta_eTa*M_w*P_wa*R_s)*T_l)*g_bw*g_sw)*lambda_E/((Delta_eTa*M_w*P_wl*T_a - Delta_eTa*M_w*P_wa*T_l)*g_bw*g_sw*lambda_E - ((P_wa - P_wl)*R_mol*T_a*T_l*a_sh*g_bw + (P_wa - P_wl)*R_mol*T_a*T_l*a_sh*g_sw)*h_c)"
      ]
     },
     "metadata": {},
     "output_type": "display_data"
    },
    {
     "data": {
      "text/html": [
       "<html><script type=\"math/tex; mode=display\">\\newcommand{\\Bold}[1]{\\mathbf{#1}}E_{l} = -{\\left({P_{wa}} - {P_{wl}}\\right)} c_{E}</script></html>"
      ],
      "text/plain": [
       "E_l == -(P_wa - P_wl)*c_E"
      ]
     },
     "metadata": {},
     "output_type": "display_data"
    },
    {
     "data": {
      "text/html": [
       "<html><script type=\"math/tex; mode=display\">\\newcommand{\\Bold}[1]{\\mathbf{#1}}H_{l} = -{\\left(T_{a} - T_{l}\\right)} c_{H}</script></html>"
      ],
      "text/plain": [
       "H_l == -(T_a - T_l)*c_H"
      ]
     },
     "metadata": {},
     "output_type": "display_data"
    },
    {
     "data": {
      "text/html": [
       "<html><script type=\"math/tex; mode=display\">\\newcommand{\\Bold}[1]{\\mathbf{#1}}\\gamma_{v} = \\frac{c_{H}}{c_{E}}</script></html>"
      ],
      "text/plain": [
       "gamma_v == c_H/c_E"
      ]
     },
     "metadata": {},
     "output_type": "display_data"
    },
    {
     "data": {
      "text/html": [
       "<html><script type=\"math/tex; mode=display\">\\newcommand{\\Bold}[1]{\\mathbf{#1}}{\\Delta_{eTa}} = \\frac{{P_{was}} - {P_{wl}}}{T_{a} - T_{l}}</script></html>"
      ],
      "text/plain": [
       "Delta_eTa == (P_was - P_wl)/(T_a - T_l)"
      ]
     },
     "metadata": {},
     "output_type": "display_data"
    },
    {
     "data": {
      "text/html": [
       "<html><script type=\"math/tex; mode=display\">\\newcommand{\\Bold}[1]{\\mathbf{#1}}E_{l} = -\\frac{{P_{wa}} c_{H} - {P_{wl}} c_{H}}{\\gamma_{v}}</script></html>"
      ],
      "text/plain": [
       "E_l == -(P_wa*c_H - P_wl*c_H)/gamma_v"
      ]
     },
     "metadata": {},
     "output_type": "display_data"
    },
    {
     "name": "stdout",
     "output_type": "stream",
     "text": [
      "kilogram/second^3 == kilogram/second^3\n"
     ]
    },
    {
     "data": {
      "text/html": [
       "<html><script type=\"math/tex; mode=display\">\\newcommand{\\Bold}[1]{\\mathbf{#1}}E_{l} = -\\frac{{\\left({\\Delta_{eTa}} T_{a} - {\\Delta_{eTa}} T_{l} + {P_{wa}} - {P_{was}}\\right)} c_{H}}{\\gamma_{v}}</script></html>"
      ],
      "text/plain": [
       "E_l == -(Delta_eTa*T_a - Delta_eTa*T_l + P_wa - P_was)*c_H/gamma_v"
      ]
     },
     "metadata": {},
     "output_type": "display_data"
    },
    {
     "name": "stdout",
     "output_type": "stream",
     "text": [
      "kilogram/second^3 == kilogram/second^3\n"
     ]
    },
    {
     "data": {
      "text/html": [
       "<html><script type=\"math/tex; mode=display\">\\newcommand{\\Bold}[1]{\\mathbf{#1}}E_{l} = -\\frac{{\\left({P_{wa}} - {P_{was}}\\right)} c_{E} c_{H} + {\\left({\\Delta_{eTa}} {R_{ll}} - {\\Delta_{eTa}} R_{s}\\right)} c_{E}}{{\\Delta_{eTa}} c_{E} + c_{H}}</script></html>"
      ],
      "text/plain": [
       "E_l == -((P_wa - P_was)*c_E*c_H + (Delta_eTa*R_ll - Delta_eTa*R_s)*c_E)/(Delta_eTa*c_E + c_H)"
      ]
     },
     "metadata": {},
     "output_type": "display_data"
    },
    {
     "name": "stdout",
     "output_type": "stream",
     "text": [
      "kilogram/second^3 == kilogram/second^3\n",
      "E_{l} = -\\frac{{\\left({P_{wa}} - {P_{was}}\\right)} c_{E} c_{H} + {\\left({\\Delta_{eTa}} {R_{ll}} - {\\Delta_{eTa}} R_{s}\\right)} c_{E}}{{\\Delta_{eTa}} c_{E} + c_{H}}\n"
     ]
    },
    {
     "data": {
      "text/html": [
       "<html><script type=\"math/tex; mode=display\">\\newcommand{\\Bold}[1]{\\mathbf{#1}}H_{l} = \\frac{{\\left({\\left({P_{wa}} - {P_{was}}\\right)} c_{E} - {R_{ll}} + R_{s}\\right)} c_{H}}{{\\Delta_{eTa}} c_{E} + c_{H}}</script></html>"
      ],
      "text/plain": [
       "H_l == ((P_wa - P_was)*c_E - R_ll + R_s)*c_H/(Delta_eTa*c_E + c_H)"
      ]
     },
     "metadata": {},
     "output_type": "display_data"
    },
    {
     "name": "stdout",
     "output_type": "stream",
     "text": [
      "kilogram/second^3 == kilogram/second^3\n",
      "H_{l} = \\frac{{\\left({\\left({P_{wa}} - {P_{was}}\\right)} c_{E} - {R_{ll}} + R_{s}\\right)} c_{H}}{{\\Delta_{eTa}} c_{E} + c_{H}}\n"
     ]
    },
    {
     "data": {
      "text/html": [
       "<html><script type=\"math/tex; mode=display\">\\newcommand{\\Bold}[1]{\\mathbf{#1}}T_{l} = \\frac{{\\left({\\Delta_{eTa}} T_{a} + {P_{wa}} - {P_{was}}\\right)} c_{E} + T_{a} c_{H} - {R_{ll}} + R_{s}}{{\\Delta_{eTa}} c_{E} + c_{H}}</script></html>"
      ],
      "text/plain": [
       "T_l == ((Delta_eTa*T_a + P_wa - P_was)*c_E + T_a*c_H - R_ll + R_s)/(Delta_eTa*c_E + c_H)"
      ]
     },
     "metadata": {},
     "output_type": "display_data"
    },
    {
     "name": "stdout",
     "output_type": "stream",
     "text": [
      "kelvin == kelvin\n",
      "T_{l} = \\frac{{\\left({\\Delta_{eTa}} T_{a} + {P_{wa}} - {P_{was}}\\right)} c_{E} + T_{a} c_{H} - {R_{ll}} + R_{s}}{{\\Delta_{eTa}} c_{E} + c_{H}}\n",
      "0 == 0\n",
      "0 == 0\n",
      "0 == 0\n",
      "[\n",
      "[E_l == -(Delta_eTa*(R_ll - R_s)*c_E + (P_wa*c_E - P_was*c_E)*c_H)/(Delta_eTa*c_E + c_H), H_l == (P_wa*c_E - P_was*c_E - R_ll + R_s)*c_H/(Delta_eTa*c_E + c_H), P_wl == ((P_wa*c_E - R_ll + R_s)*Delta_eTa + P_was*c_H)/(Delta_eTa*c_E + c_H), T_l == (Delta_eTa*T_a*c_E + P_wa*c_E - P_was*c_E + T_a*c_H - R_ll + R_s)/(Delta_eTa*c_E + c_H)]\n",
      "]\n"
     ]
    },
    {
     "data": {
      "text/html": [
       "<html><script type=\"math/tex; mode=display\">\\newcommand{\\Bold}[1]{\\mathbf{#1}}E_{l} = -\\frac{{\\Delta_{eTa}} {\\left({R_{ll}} - R_{s}\\right)} c_{E} + {\\left({P_{wa}} c_{E} - {P_{was}} c_{E}\\right)} c_{H}}{{\\Delta_{eTa}} c_{E} + c_{H}}</script></html>"
      ],
      "text/plain": [
       "E_l == -(Delta_eTa*(R_ll - R_s)*c_E + (P_wa*c_E - P_was*c_E)*c_H)/(Delta_eTa*c_E + c_H)"
      ]
     },
     "metadata": {},
     "output_type": "display_data"
    },
    {
     "name": "stdout",
     "output_type": "stream",
     "text": [
      "kilogram/second^3 == kilogram/second^3\n",
      "E_{l} = -\\frac{{\\Delta_{eTa}} {\\left({R_{ll}} - R_{s}\\right)} c_{E} + {\\left({P_{wa}} c_{E} - {P_{was}} c_{E}\\right)} c_{H}}{{\\Delta_{eTa}} c_{E} + c_{H}}\n"
     ]
    },
    {
     "data": {
      "text/html": [
       "<html><script type=\"math/tex; mode=display\">\\newcommand{\\Bold}[1]{\\mathbf{#1}}H_{l} = \\frac{{\\left({P_{wa}} c_{E} - {P_{was}} c_{E} - {R_{ll}} + R_{s}\\right)} c_{H}}{{\\Delta_{eTa}} c_{E} + c_{H}}</script></html>"
      ],
      "text/plain": [
       "H_l == (P_wa*c_E - P_was*c_E - R_ll + R_s)*c_H/(Delta_eTa*c_E + c_H)"
      ]
     },
     "metadata": {},
     "output_type": "display_data"
    },
    {
     "name": "stdout",
     "output_type": "stream",
     "text": [
      "kilogram/second^3 == kilogram/second^3\n",
      "H_{l} = \\frac{{\\left({P_{wa}} c_{E} - {P_{was}} c_{E} - {R_{ll}} + R_{s}\\right)} c_{H}}{{\\Delta_{eTa}} c_{E} + c_{H}}\n"
     ]
    },
    {
     "data": {
      "text/html": [
       "<html><script type=\"math/tex; mode=display\">\\newcommand{\\Bold}[1]{\\mathbf{#1}}{P_{wl}} = \\frac{{\\left({P_{wa}} c_{E} - {R_{ll}} + R_{s}\\right)} {\\Delta_{eTa}} + {P_{was}} c_{H}}{{\\Delta_{eTa}} c_{E} + c_{H}}</script></html>"
      ],
      "text/plain": [
       "P_wl == ((P_wa*c_E - R_ll + R_s)*Delta_eTa + P_was*c_H)/(Delta_eTa*c_E + c_H)"
      ]
     },
     "metadata": {},
     "output_type": "display_data"
    },
    {
     "name": "stdout",
     "output_type": "stream",
     "text": [
      "kilogram/(meter*second^2) == kilogram/(meter*second^2)\n",
      "{P_{wl}} = \\frac{{\\left({P_{wa}} c_{E} - {R_{ll}} + R_{s}\\right)} {\\Delta_{eTa}} + {P_{was}} c_{H}}{{\\Delta_{eTa}} c_{E} + c_{H}}\n"
     ]
    },
    {
     "data": {
      "text/html": [
       "<html><script type=\"math/tex; mode=display\">\\newcommand{\\Bold}[1]{\\mathbf{#1}}T_{l} = \\frac{{\\Delta_{eTa}} T_{a} c_{E} + {P_{wa}} c_{E} - {P_{was}} c_{E} + T_{a} c_{H} - {R_{ll}} + R_{s}}{{\\Delta_{eTa}} c_{E} + c_{H}}</script></html>"
      ],
      "text/plain": [
       "T_l == (Delta_eTa*T_a*c_E + P_wa*c_E - P_was*c_E + T_a*c_H - R_ll + R_s)/(Delta_eTa*c_E + c_H)"
      ]
     },
     "metadata": {},
     "output_type": "display_data"
    },
    {
     "name": "stdout",
     "output_type": "stream",
     "text": [
      "kelvin == kelvin\n",
      "T_{l} = \\frac{{\\Delta_{eTa}} T_{a} c_{E} + {P_{wa}} c_{E} - {P_{was}} c_{E} + T_{a} c_{H} - {R_{ll}} + R_{s}}{{\\Delta_{eTa}} c_{E} + c_{H}}\n",
      "0 == 0\n",
      "0 == 0\n",
      "0 == 0\n",
      "[\n",
      "[E_l == -(Delta_eTa*(R_ll - R_s)*c_E + (P_wa*c_E - P_was*c_E)*c_H)/(Delta_eTa*c_E + c_H), H_l == (P_wa*c_E - P_was*c_E - R_ll + R_s)*c_H/(Delta_eTa*c_E + c_H), P_wl == ((P_wa*c_E - R_ll + R_s)*Delta_eTa + P_was*c_H)/(Delta_eTa*c_E + c_H), T_l == (Delta_eTa*T_a*c_E + P_wa*c_E - P_was*c_E + T_a*c_H - R_ll + R_s)/(Delta_eTa*c_E + c_H)]\n",
      "]\n"
     ]
    },
    {
     "data": {
      "text/html": [
       "<html><script type=\"math/tex; mode=display\">\\newcommand{\\Bold}[1]{\\mathbf{#1}}E_{l} = -\\frac{{\\Delta_{eTa}} {\\left({R_{ll}} - R_{s}\\right)} c_{E} + {\\left({P_{wa}} c_{E} - {P_{was}} c_{E}\\right)} c_{H}}{{\\Delta_{eTa}} c_{E} + c_{H}}</script></html>"
      ],
      "text/plain": [
       "E_l == -(Delta_eTa*(R_ll - R_s)*c_E + (P_wa*c_E - P_was*c_E)*c_H)/(Delta_eTa*c_E + c_H)"
      ]
     },
     "metadata": {},
     "output_type": "display_data"
    },
    {
     "data": {
      "text/html": [
       "<html><script type=\"math/tex; mode=display\">\\newcommand{\\Bold}[1]{\\mathbf{#1}}H_{l} = \\frac{{\\left({P_{wa}} c_{E} - {P_{was}} c_{E} - {R_{ll}} + R_{s}\\right)} c_{H}}{{\\Delta_{eTa}} c_{E} + c_{H}}</script></html>"
      ],
      "text/plain": [
       "H_l == (P_wa*c_E - P_was*c_E - R_ll + R_s)*c_H/(Delta_eTa*c_E + c_H)"
      ]
     },
     "metadata": {},
     "output_type": "display_data"
    },
    {
     "data": {
      "text/html": [
       "<html><script type=\"math/tex; mode=display\">\\newcommand{\\Bold}[1]{\\mathbf{#1}}{P_{wl}} = \\frac{{\\left({P_{wa}} c_{E} - {R_{ll}} + R_{s}\\right)} {\\Delta_{eTa}} + {P_{was}} c_{H}}{{\\Delta_{eTa}} c_{E} + c_{H}}</script></html>"
      ],
      "text/plain": [
       "P_wl == ((P_wa*c_E - R_ll + R_s)*Delta_eTa + P_was*c_H)/(Delta_eTa*c_E + c_H)"
      ]
     },
     "metadata": {},
     "output_type": "display_data"
    },
    {
     "data": {
      "text/html": [
       "<html><script type=\"math/tex; mode=display\">\\newcommand{\\Bold}[1]{\\mathbf{#1}}T_{l} = \\frac{{\\Delta_{eTa}} T_{a} c_{E} + {P_{wa}} c_{E} - {P_{was}} c_{E} + T_{a} c_{H} - {R_{ll}} + R_{s}}{{\\Delta_{eTa}} c_{E} + c_{H}}</script></html>"
      ],
      "text/plain": [
       "T_l == (Delta_eTa*T_a*c_E + P_wa*c_E - P_was*c_E + T_a*c_H - R_ll + R_s)/(Delta_eTa*c_E + c_H)"
      ]
     },
     "metadata": {},
     "output_type": "display_data"
    },
    {
     "data": {
      "text/html": [
       "<html><script type=\"math/tex; mode=display\">\\newcommand{\\Bold}[1]{\\mathbf{#1}}E_{l} = -\\frac{{\\Delta_{eTa}} {R_{ll}} - {\\Delta_{eTa}} R_{s} + \\frac{{\\left({P_{wa}} - {P_{was}}\\right)} {c_{pa}} \\rho_{a}}{r_{a}}}{\\gamma_{v} {\\left(\\frac{r_{s}}{r_{a}} + 1\\right)} + {\\Delta_{eTa}}}</script></html>"
      ],
      "text/plain": [
       "E_l == -(Delta_eTa*R_ll - Delta_eTa*R_s + (P_wa - P_was)*c_pa*rho_a/r_a)/(gamma_v*(r_s/r_a + 1) + Delta_eTa)"
      ]
     },
     "metadata": {},
     "output_type": "display_data"
    },
    {
     "data": {
      "text/html": [
       "<html><script type=\"math/tex; mode=display\">\\newcommand{\\Bold}[1]{\\mathbf{#1}}r_{a} = \\frac{{c_{pa}} \\rho_{a}}{h_{c}}</script></html>"
      ],
      "text/plain": [
       "r_a == c_pa*rho_a/h_c"
      ]
     },
     "metadata": {},
     "output_type": "display_data"
    },
    {
     "data": {
      "text/html": [
       "<html><script type=\"math/tex; mode=display\">\\newcommand{\\Bold}[1]{\\mathbf{#1}}\\gamma_{v} = \\frac{P_{a} {c_{pa}}}{\\epsilon \\lambda_{E}}</script></html>"
      ],
      "text/plain": [
       "gamma_v == P_a*c_pa/(epsilon*lambda_E)"
      ]
     },
     "metadata": {},
     "output_type": "display_data"
    },
    {
     "data": {
      "text/html": [
       "<html><script type=\"math/tex; mode=display\">\\newcommand{\\Bold}[1]{\\mathbf{#1}}\\epsilon = \\frac{M_{w} P_{a}}{{R_{mol}} T_{a} \\rho_{a}}</script></html>"
      ],
      "text/plain": [
       "epsilon == M_w*P_a/(R_mol*T_a*rho_a)"
      ]
     },
     "metadata": {},
     "output_type": "display_data"
    },
    {
     "data": {
      "text/html": [
       "<html><script type=\"math/tex; mode=display\">\\newcommand{\\Bold}[1]{\\mathbf{#1}}E_{l} = -\\frac{{\\left({P_{wa}} - {P_{wl}}\\right)} a_{s} \\epsilon \\lambda_{E} \\rho_{a}}{P_{a} {\\left(r_{s} + {r_{v}}\\right)}}</script></html>"
      ],
      "text/plain": [
       "E_l == -(P_wa - P_wl)*a_s*epsilon*lambda_E*rho_a/(P_a*(r_s + r_v))"
      ]
     },
     "metadata": {},
     "output_type": "display_data"
    },
    {
     "data": {
      "text/html": [
       "<html><script type=\"math/tex; mode=display\">\\newcommand{\\Bold}[1]{\\mathbf{#1}}E_{l} = -\\frac{{\\Delta_{eTa}} {R_{ll}} - {\\Delta_{eTa}} R_{s} + \\frac{{\\left({P_{wa}} - {P_{was}}\\right)} {c_{pa}} \\rho_{a}}{r_{a}}}{\\gamma_{v} n_{\\mathit{MU}} {\\left(\\frac{r_{s}}{r_{a}} + 1\\right)} + {\\Delta_{eTa}}}</script></html>"
      ],
      "text/plain": [
       "E_l == -(Delta_eTa*R_ll - Delta_eTa*R_s + (P_wa - P_was)*c_pa*rho_a/r_a)/(gamma_v*n_MU*(r_s/r_a + 1) + Delta_eTa)"
      ]
     },
     "metadata": {},
     "output_type": "display_data"
    },
    {
     "name": "stdout",
     "output_type": "stream",
     "text": [
      "numerical solution: \n",
      "T_l = 308.321395271\n",
      "E_l = 180.542235053942\n",
      "H_l = 150.521099595469\n",
      "R_ll = 68.9366653505872\n",
      "g_bw = 0.0131620455576424\n",
      "g_tw = 0.00291849206962754\n",
      "Direct estimates: \n",
      "E_l = 198.222104889662\n",
      "H_l = 201.777895110338\n",
      "T_l == 310.133484539870\n",
      "T_l == 310.133484539870\n",
      "T_l == 309.093414355984\n",
      "400 == 400.000000000000\n",
      "Using T_l from eq_Tl_Delta: \n",
      "T_l = 310.133484539870\n",
      "P_wl = 6256.38161942359\n",
      "E_l = 216.096641092879\n",
      "H_l = 201.777895110338\n",
      "R_ll = 93.2413750164809\n",
      "400 == 511.115911219698\n",
      "Using T_l from eq_Tl_Delta only to calculate R_ll: \n",
      "T_l = 310.133484539870\n",
      "R_ll = 93.2413750164809\n",
      "E_l = 169.892070077829\n",
      "H_l = 136.866554905690\n",
      "400 == 400.000000000000\n",
      "Using T_l from eq_Tl_Delta2: \n",
      "T_l = 309.093414355984\n",
      "P_wl = 5906.50495424575\n",
      "E_l = 198.222104889662\n",
      "H_l = 172.358447812370\n",
      "R_ll = 79.2391719599519\n",
      "400 == 449.819724661984\n",
      "Using T_l from eq_Tl_Delta2 only to calculate R_ll: \n",
      "T_l = 309.093414355984\n",
      "R_ll = 79.2391719599519\n",
      "E_l = 174.146435695707\n",
      "H_l = 146.614392344341\n",
      "400 == 400.000000000000\n",
      "T_l = 305.650648423\n",
      "E_l = 185.424519010311\n",
      "H_l = 325.157459266011\n",
      "R_ll = 89.4180217236781\n",
      "Direct estimates: \n",
      "E_l == 201.520517691209\n",
      "H_l == 398.479482308791\n",
      "T_l == 307.263098002106\n",
      "Using estimated T_l: \n",
      "E_l == 254.937149826832\n",
      "H_l == 398.479482308791\n",
      "0 == 110.468903558398\n",
      "Using estimated T_l only to calculate R_ll: \n",
      "E_l == 164.417599968095\n",
      "H_l == 325.113496473507\n",
      "307.263098002106 == 305.649681621994\n",
      "Using 1 iteration to get T_l: \n",
      "T_l(R_ll=0): 307.263098002106\n",
      "R_ll(T_l) = 110.468903558398\n",
      "T_l = 305.649681621994\n",
      "E_l == 199.088662380171\n",
      "H_l == 325.113496473508\n"
     ]
    },
    {
     "data": {
      "text/html": [
       "<html><script type=\"math/tex; mode=display\">\\newcommand{\\Bold}[1]{\\mathbf{#1}}E_{l} = -\\frac{{\\left({P_{wa}} - {P_{was}}\\right)} f_{u} \\gamma_{v} + {\\Delta_{eTa}} {R_{ll}} - {\\Delta_{eTa}} R_{s}}{{\\Delta_{eTa}} + \\gamma_{v}}</script></html>"
      ],
      "text/plain": [
       "E_l == -((P_wa - P_was)*f_u*gamma_v + Delta_eTa*R_ll - Delta_eTa*R_s)/(Delta_eTa + gamma_v)"
      ]
     },
     "metadata": {},
     "output_type": "display_data"
    },
    {
     "data": {
      "text/html": [
       "<html><script type=\"math/tex; mode=display\">\\newcommand{\\Bold}[1]{\\mathbf{#1}}E_{w} = -\\frac{{\\left({P_{wa}} - {P_{was}}\\right)} f_{u} \\gamma_{v} + {\\Delta_{eTa}} {R_{ll}} - {\\Delta_{eTa}} R_{s}}{{\\Delta_{eTa}} + \\gamma_{v}}</script></html>"
      ],
      "text/plain": [
       "E_w == -((P_wa - P_was)*f_u*gamma_v + Delta_eTa*R_ll - Delta_eTa*R_s)/(Delta_eTa + gamma_v)"
      ]
     },
     "metadata": {},
     "output_type": "display_data"
    },
    {
     "data": {
      "text/html": [
       "<html><script type=\"math/tex; mode=display\">\\newcommand{\\Bold}[1]{\\mathbf{#1}}E_{l} = -\\frac{{\\left({P_{wa}} - {P_{was}}\\right)} {c_{pa}} \\rho_{a} + {\\left({\\Delta_{eTa}} {R_{ll}} - {\\Delta_{eTa}} R_{s}\\right)} r_{a}}{{\\left({\\Delta_{eTa}} + \\gamma_{v}\\right)} r_{a}}</script></html>"
      ],
      "text/plain": [
       "E_l == -((P_wa - P_was)*c_pa*rho_a + (Delta_eTa*R_ll - Delta_eTa*R_s)*r_a)/((Delta_eTa + gamma_v)*r_a)"
      ]
     },
     "metadata": {},
     "output_type": "display_data"
    },
    {
     "data": {
      "text/html": [
       "<html><script type=\"math/tex; mode=display\">\\newcommand{\\Bold}[1]{\\mathbf{#1}}E_{w} = -\\frac{{\\Delta_{eTa}} {R_{ll}} - {\\Delta_{eTa}} R_{s} + \\frac{{\\left({P_{wa}} - {P_{was}}\\right)} {c_{pa}} \\rho_{a}}{r_{a}}}{{\\Delta_{eTa}} + \\gamma_{v}}</script></html>"
      ],
      "text/plain": [
       "E_w == -(Delta_eTa*R_ll - Delta_eTa*R_s + (P_wa - P_was)*c_pa*rho_a/r_a)/(Delta_eTa + gamma_v)"
      ]
     },
     "metadata": {},
     "output_type": "display_data"
    },
    {
     "data": {
      "text/html": [
       "<html><script type=\"math/tex; mode=display\">\\newcommand{\\Bold}[1]{\\mathbf{#1}}E_{l} = -\\frac{{\\left({\\left({P_{wa}} - {P_{was}}\\right)} f_{u} \\gamma_{v} + {\\Delta_{eTa}} {R_{ll}} - {\\Delta_{eTa}} R_{s}\\right)} S}{{\\Delta_{eTa}} S + \\gamma_{v}}</script></html>"
      ],
      "text/plain": [
       "E_l == -((P_wa - P_was)*f_u*gamma_v + Delta_eTa*R_ll - Delta_eTa*R_s)*S/(Delta_eTa*S + gamma_v)"
      ]
     },
     "metadata": {},
     "output_type": "display_data"
    },
    {
     "data": {
      "text/html": [
       "<html><script type=\"math/tex; mode=display\">\\newcommand{\\Bold}[1]{\\mathbf{#1}}E_{l} = -\\frac{{\\Delta_{eTa}} {\\left({R_{ll}} - R_{s}\\right)} S + {\\left({P_{wa}} S - {P_{was}} S\\right)} f_{u} \\gamma_{v}}{{\\Delta_{eTa}} S + \\gamma_{v}}</script></html>"
      ],
      "text/plain": [
       "E_l == -(Delta_eTa*(R_ll - R_s)*S + (P_wa*S - P_was*S)*f_u*gamma_v)/(Delta_eTa*S + gamma_v)"
      ]
     },
     "metadata": {},
     "output_type": "display_data"
    },
    {
     "data": {
      "text/html": [
       "<html><script type=\"math/tex; mode=display\">\\newcommand{\\Bold}[1]{\\mathbf{#1}}E_{l} = -\\frac{{\\Delta_{eTa}} {\\left({R_{ll}} - R_{s}\\right)} S + {\\left({P_{wa}} S - {P_{was}} S\\right)} f_{u} \\gamma_{v}}{{\\Delta_{eTa}} S + \\gamma_{v}}</script></html>"
      ],
      "text/plain": [
       "E_l == -(Delta_eTa*(R_ll - R_s)*S + (P_wa*S - P_was*S)*f_u*gamma_v)/(Delta_eTa*S + gamma_v)"
      ]
     },
     "metadata": {},
     "output_type": "display_data"
    },
    {
     "data": {
      "text/html": [
       "<html><script type=\"math/tex; mode=display\">\\newcommand{\\Bold}[1]{\\mathbf{#1}}E_{l} = -\\frac{{\\Delta_{eTa}} {R_{ll}} - {\\Delta_{eTa}} R_{s} + \\frac{{\\left({P_{wa}} - {P_{was}}\\right)} {c_{pa}} \\rho_{a}}{r_{a}}}{\\gamma_{v} {\\left(\\frac{r_{s}}{r_{a}} + 1\\right)} + {\\Delta_{eTa}}}</script></html>"
      ],
      "text/plain": [
       "E_l == -(Delta_eTa*R_ll - Delta_eTa*R_s + (P_wa - P_was)*c_pa*rho_a/r_a)/(gamma_v*(r_s/r_a + 1) + Delta_eTa)"
      ]
     },
     "metadata": {},
     "output_type": "display_data"
    },
    {
     "data": {
      "text/html": [
       "<html><script type=\"math/tex; mode=display\">\\newcommand{\\Bold}[1]{\\mathbf{#1}}E_{l} = -\\frac{{\\left({P_{wa}} - {P_{wl}}\\right)} a_{s} \\epsilon \\lambda_{E} \\rho_{a}}{P_{a} {\\left(r_{s} + {r_{v}}\\right)}}</script></html>"
      ],
      "text/plain": [
       "E_l == -(P_wa - P_wl)*a_s*epsilon*lambda_E*rho_a/(P_a*(r_s + r_v))"
      ]
     },
     "metadata": {},
     "output_type": "display_data"
    },
    {
     "data": {
      "text/html": [
       "<html><script type=\"math/tex; mode=display\">\\newcommand{\\Bold}[1]{\\mathbf{#1}}H_{l} = -\\frac{{\\left(T_{a} - T_{l}\\right)} {a_{sh}} {c_{pa}} \\rho_{a}}{r_{a}}</script></html>"
      ],
      "text/plain": [
       "H_l == -(T_a - T_l)*a_sh*c_pa*rho_a/r_a"
      ]
     },
     "metadata": {},
     "output_type": "display_data"
    },
    {
     "data": {
      "text/html": [
       "<html><script type=\"math/tex; mode=display\">\\newcommand{\\Bold}[1]{\\mathbf{#1}}\\gamma_{v} = \\frac{P_{a} {c_{pa}}}{\\epsilon \\lambda_{E}}</script></html>"
      ],
      "text/plain": [
       "gamma_v == P_a*c_pa/(epsilon*lambda_E)"
      ]
     },
     "metadata": {},
     "output_type": "display_data"
    },
    {
     "data": {
      "text/html": [
       "<html><script type=\"math/tex; mode=display\">\\newcommand{\\Bold}[1]{\\mathbf{#1}}E_{l} = -\\frac{{\\left({P_{wa}} - {P_{was}}\\right)} {c_{pa}} \\epsilon \\lambda_{E} \\rho_{a} + {\\left({\\Delta_{eTa}} {R_{ll}} - {\\Delta_{eTa}} R_{s}\\right)} \\epsilon \\lambda_{E} r_{a}}{P_{a} {c_{pa}} r_{s} + {\\left({\\Delta_{eTa}} \\epsilon \\lambda_{E} + P_{a} {c_{pa}}\\right)} r_{a}}</script></html>"
      ],
      "text/plain": [
       "E_l == -((P_wa - P_was)*c_pa*epsilon*lambda_E*rho_a + (Delta_eTa*R_ll - Delta_eTa*R_s)*epsilon*lambda_E*r_a)/(P_a*c_pa*r_s + (Delta_eTa*epsilon*lambda_E + P_a*c_pa)*r_a)"
      ]
     },
     "metadata": {},
     "output_type": "display_data"
    },
    {
     "data": {
      "text/html": [
       "<html><script type=\"math/tex; mode=display\">\\newcommand{\\Bold}[1]{\\mathbf{#1}}E_{l} = -\\frac{{\\left({P_{wa}} - {P_{was}}\\right)} {c_{pa}} \\epsilon \\lambda_{E} \\rho_{a} + {\\left({\\Delta_{eTa}} {R_{ll}} - {\\Delta_{eTa}} R_{s}\\right)} \\epsilon \\lambda_{E} r_{a}}{P_{a} {c_{pa}} r_{s} + {\\left({\\Delta_{eTa}} \\epsilon \\lambda_{E} + P_{a} {c_{pa}}\\right)} r_{a}}</script></html>"
      ],
      "text/plain": [
       "E_l == -((P_wa - P_was)*c_pa*epsilon*lambda_E*rho_a + (Delta_eTa*R_ll - Delta_eTa*R_s)*epsilon*lambda_E*r_a)/(P_a*c_pa*r_s + (Delta_eTa*epsilon*lambda_E + P_a*c_pa)*r_a)"
      ]
     },
     "metadata": {},
     "output_type": "display_data"
    },
    {
     "data": {
      "text/html": [
       "<html><script type=\"math/tex; mode=display\">\\newcommand{\\Bold}[1]{\\mathbf{#1}}E_{l} = -\\frac{{\\left({P_{wa}} - {P_{was}}\\right)} {c_{pa}} \\rho_{a} + {\\left({\\Delta_{eTa}} {R_{ll}} - {\\Delta_{eTa}} R_{s}\\right)} r_{a}}{{\\left({\\Delta_{eTa}} + \\gamma_{v}\\right)} r_{a} + \\gamma_{v} r_{s}}</script></html>"
      ],
      "text/plain": [
       "E_l == -((P_wa - P_was)*c_pa*rho_a + (Delta_eTa*R_ll - Delta_eTa*R_s)*r_a)/((Delta_eTa + gamma_v)*r_a + gamma_v*r_s)"
      ]
     },
     "metadata": {},
     "output_type": "display_data"
    },
    {
     "data": {
      "text/html": [
       "<html><script type=\"math/tex; mode=display\">\\newcommand{\\Bold}[1]{\\mathbf{#1}}E_{l} = -\\frac{{\\left({P_{wa}} - {P_{was}}\\right)} {c_{pa}} \\rho_{a} + {\\left({\\Delta_{eTa}} {R_{ll}} - {\\Delta_{eTa}} R_{s}\\right)} r_{a}}{{\\left({\\Delta_{eTa}} + \\gamma_{v}\\right)} r_{a} + \\gamma_{v} r_{s}}</script></html>"
      ],
      "text/plain": [
       "E_l == -((P_wa - P_was)*c_pa*rho_a + (Delta_eTa*R_ll - Delta_eTa*R_s)*r_a)/((Delta_eTa + gamma_v)*r_a + gamma_v*r_s)"
      ]
     },
     "metadata": {},
     "output_type": "display_data"
    },
    {
     "data": {
      "text/html": [
       "<html><script type=\"math/tex; mode=display\">\\newcommand{\\Bold}[1]{\\mathbf{#1}}E_{l} = -\\frac{{\\left({P_{wa}} - {P_{was}}\\right)} a_{s} {a_{sh}} {c_{pa}} \\epsilon \\lambda_{E} \\rho_{a} + {\\left({\\Delta_{eTa}} {R_{ll}} - {\\Delta_{eTa}} R_{s}\\right)} a_{s} \\epsilon \\lambda_{E} r_{a}}{P_{a} {a_{sh}} {c_{pa}} r_{s} + {\\left({\\Delta_{eTa}} a_{s} \\epsilon \\lambda_{E} + P_{a} {a_{sh}} {c_{pa}}\\right)} r_{a}}</script></html>"
      ],
      "text/plain": [
       "E_l == -((P_wa - P_was)*a_s*a_sh*c_pa*epsilon*lambda_E*rho_a + (Delta_eTa*R_ll - Delta_eTa*R_s)*a_s*epsilon*lambda_E*r_a)/(P_a*a_sh*c_pa*r_s + (Delta_eTa*a_s*epsilon*lambda_E + P_a*a_sh*c_pa)*r_a)"
      ]
     },
     "metadata": {},
     "output_type": "display_data"
    },
    {
     "name": "stdout",
     "output_type": "stream",
     "text": [
      "kilogram/second^3 == kilogram/second^3\n"
     ]
    },
    {
     "data": {
      "text/html": [
       "<html><script type=\"math/tex; mode=display\">\\newcommand{\\Bold}[1]{\\mathbf{#1}}E_{l} = -\\frac{{\\left({P_{wa}} - {P_{was}}\\right)} a_{s} {c_{pa}} \\epsilon \\lambda_{E} \\rho_{a} + {\\left({\\Delta_{eTa}} {R_{ll}} - {\\Delta_{eTa}} R_{s}\\right)} a_{s} \\epsilon \\lambda_{E} r_{a}}{P_{a} {a_{sh}} {c_{pa}} r_{s} + {\\left({\\Delta_{eTa}} a_{s} \\epsilon \\lambda_{E} + P_{a} {a_{sh}} {c_{pa}}\\right)} r_{a}}</script></html>"
      ],
      "text/plain": [
       "E_l == -((P_wa - P_was)*a_s*c_pa*epsilon*lambda_E*rho_a + (Delta_eTa*R_ll - Delta_eTa*R_s)*a_s*epsilon*lambda_E*r_a)/(P_a*a_sh*c_pa*r_s + (Delta_eTa*a_s*epsilon*lambda_E + P_a*a_sh*c_pa)*r_a)"
      ]
     },
     "metadata": {},
     "output_type": "display_data"
    },
    {
     "data": {
      "text/html": [
       "<html><script type=\"math/tex; mode=display\">\\newcommand{\\Bold}[1]{\\mathbf{#1}}E_{l} = -\\frac{{\\Delta_{eTa}} {R_{ll}} - {\\Delta_{eTa}} R_{s} + \\frac{{\\left({P_{wa}} - {P_{was}}\\right)} {c_{pa}} \\rho_{a}}{r_{a}}}{{\\Delta_{eTa}} + \\frac{P_{a} {a_{sh}} {c_{pa}} {\\left(\\frac{r_{s}}{r_{a}} + 1\\right)}}{a_{s} \\epsilon \\lambda_{E}}}</script></html>"
      ],
      "text/plain": [
       "E_l == -(Delta_eTa*R_ll - Delta_eTa*R_s + (P_wa - P_was)*c_pa*rho_a/r_a)/(Delta_eTa + P_a*a_sh*c_pa*(r_s/r_a + 1)/(a_s*epsilon*lambda_E))"
      ]
     },
     "metadata": {},
     "output_type": "display_data"
    },
    {
     "data": {
      "text/html": [
       "<html><script type=\"math/tex; mode=display\">\\newcommand{\\Bold}[1]{\\mathbf{#1}}E_{l} = -\\frac{\\frac{{\\left({P_{wa}} - {P_{was}}\\right)} a_{s} {a_{sh}} {c_{pa}} \\epsilon \\lambda_{E} \\rho_{a}^{2}}{P_{a} {\\left(r_{a} + r_{s}\\right)} r_{a}} + \\frac{{\\left({\\Delta_{eTa}} {R_{ll}} - {\\Delta_{eTa}} R_{s}\\right)} a_{s} \\epsilon \\lambda_{E} \\rho_{a}}{P_{a} {\\left(r_{a} + r_{s}\\right)}}}{\\frac{{\\Delta_{eTa}} a_{s} \\epsilon \\lambda_{E} \\rho_{a}}{P_{a} {\\left(r_{a} + r_{s}\\right)}} + \\frac{{a_{sh}} {c_{pa}} \\rho_{a}}{r_{a}}}</script></html>"
      ],
      "text/plain": [
       "E_l == -((P_wa - P_was)*a_s*a_sh*c_pa*epsilon*lambda_E*rho_a^2/(P_a*(r_a + r_s)*r_a) + (Delta_eTa*R_ll - Delta_eTa*R_s)*a_s*epsilon*lambda_E*rho_a/(P_a*(r_a + r_s)))/(Delta_eTa*a_s*epsilon*lambda_E*rho_a/(P_a*(r_a + r_s)) + a_sh*c_pa*rho_a/r_a)"
      ]
     },
     "metadata": {},
     "output_type": "display_data"
    },
    {
     "data": {
      "text/html": [
       "<html><script type=\"math/tex; mode=display\">\\newcommand{\\Bold}[1]{\\mathbf{#1}}E_{w} = -\\frac{{\\Delta_{eTa}} {R_{ll}} - {\\Delta_{eTa}} R_{s} + \\frac{{\\left({P_{wa}} - {P_{was}}\\right)} {c_{pa}} \\rho_{a}}{r_{a}}}{{\\Delta_{eTa}} + \\gamma_{v}}</script></html>"
      ],
      "text/plain": [
       "E_w == -(Delta_eTa*R_ll - Delta_eTa*R_s + (P_wa - P_was)*c_pa*rho_a/r_a)/(Delta_eTa + gamma_v)"
      ]
     },
     "metadata": {},
     "output_type": "display_data"
    },
    {
     "data": {
      "text/html": [
       "<html><script type=\"math/tex; mode=display\">\\newcommand{\\Bold}[1]{\\mathbf{#1}}\\gamma_{v} = \\frac{c_{H}}{c_{E}}</script></html>"
      ],
      "text/plain": [
       "gamma_v == c_H/c_E"
      ]
     },
     "metadata": {},
     "output_type": "display_data"
    },
    {
     "data": {
      "text/html": [
       "<html><script type=\"math/tex; mode=display\">\\newcommand{\\Bold}[1]{\\mathbf{#1}}E_{l} = -\\frac{{\\Delta_{eTa}} {\\left({R_{ll}} - R_{s}\\right)} c_{E} + {\\left({P_{wa}} c_{E} - {P_{was}} c_{E}\\right)} c_{H}}{{\\Delta_{eTa}} c_{E} + c_{H}}</script></html>"
      ],
      "text/plain": [
       "E_l == -(Delta_eTa*(R_ll - R_s)*c_E + (P_wa*c_E - P_was*c_E)*c_H)/(Delta_eTa*c_E + c_H)"
      ]
     },
     "metadata": {},
     "output_type": "display_data"
    },
    {
     "data": {
      "text/html": [
       "<html><script type=\"math/tex; mode=display\">\\newcommand{\\Bold}[1]{\\mathbf{#1}}E_{l} = -\\frac{{\\Delta_{eTa}} {\\left({R_{ll}} - R_{s}\\right)} c_{E} + {\\left({P_{wa}} c_{E} - {P_{was}} c_{E}\\right)} c_{H}}{{\\Delta_{eTa}} c_{E} + c_{H}}</script></html>"
      ],
      "text/plain": [
       "E_l == -(Delta_eTa*(R_ll - R_s)*c_E + (P_wa*c_E - P_was*c_E)*c_H)/(Delta_eTa*c_E + c_H)"
      ]
     },
     "metadata": {},
     "output_type": "display_data"
    },
    {
     "data": {
      "text/html": [
       "<html><script type=\"math/tex; mode=display\">\\newcommand{\\Bold}[1]{\\mathbf{#1}}\\gamma_{v} = \\frac{P_{a} {c_{pa}}}{\\epsilon \\lambda_{E}}</script></html>"
      ],
      "text/plain": [
       "gamma_v == P_a*c_pa/(epsilon*lambda_E)"
      ]
     },
     "metadata": {},
     "output_type": "display_data"
    },
    {
     "data": {
      "text/html": [
       "<html><script type=\"math/tex; mode=display\">\\newcommand{\\Bold}[1]{\\mathbf{#1}}E_{l} = -\\frac{{\\left({P_{wa}} - {P_{was}}\\right)} a_{s} {a_{sh}} {c_{pa}} \\epsilon \\lambda_{E} \\rho_{a} + {\\left({\\Delta_{eTa}} {R_{ll}} - {\\Delta_{eTa}} R_{s}\\right)} a_{s} \\epsilon \\lambda_{E} r_{a}}{P_{a} {a_{sh}} {c_{pa}} r_{s} + {\\left({\\Delta_{eTa}} a_{s} \\epsilon \\lambda_{E} + P_{a} {a_{sh}} {c_{pa}}\\right)} r_{a}}</script></html>"
      ],
      "text/plain": [
       "E_l == -((P_wa - P_was)*a_s*a_sh*c_pa*epsilon*lambda_E*rho_a + (Delta_eTa*R_ll - Delta_eTa*R_s)*a_s*epsilon*lambda_E*r_a)/(P_a*a_sh*c_pa*r_s + (Delta_eTa*a_s*epsilon*lambda_E + P_a*a_sh*c_pa)*r_a)"
      ]
     },
     "metadata": {},
     "output_type": "display_data"
    },
    {
     "name": "stdout",
     "output_type": "stream",
     "text": [
      "kilogram/second^3 == kilogram/second^3\n"
     ]
    },
    {
     "data": {
      "text/html": [
       "<html><script type=\"math/tex; mode=display\">\\newcommand{\\Bold}[1]{\\mathbf{#1}}E_{l} = -\\frac{{\\left({P_{wa}} - {P_{was}}\\right)} a_{s} {a_{sh}} {c_{pa}} \\epsilon \\lambda_{E} \\rho_{a} + {\\left({\\Delta_{eTa}} {R_{ll}} - {\\Delta_{eTa}} R_{s}\\right)} a_{s} \\epsilon \\lambda_{E} r_{a}}{P_{a} {a_{sh}} {c_{pa}} r_{s} + {\\left({\\Delta_{eTa}} a_{s} \\epsilon \\lambda_{E} + P_{a} {a_{sh}} {c_{pa}}\\right)} r_{a}}</script></html>"
      ],
      "text/plain": [
       "E_l == -((P_wa - P_was)*a_s*a_sh*c_pa*epsilon*lambda_E*rho_a + (Delta_eTa*R_ll - Delta_eTa*R_s)*a_s*epsilon*lambda_E*r_a)/(P_a*a_sh*c_pa*r_s + (Delta_eTa*a_s*epsilon*lambda_E + P_a*a_sh*c_pa)*r_a)"
      ]
     },
     "metadata": {},
     "output_type": "display_data"
    },
    {
     "name": "stdout",
     "output_type": "stream",
     "text": [
      "kilogram/second^3 == kilogram/second^3\n"
     ]
    },
    {
     "data": {
      "text/html": [
       "<html><script type=\"math/tex; mode=display\">\\newcommand{\\Bold}[1]{\\mathbf{#1}}E_{l} = -\\frac{{\\left({P_{wa}} - {P_{was}}\\right)} a_{s} {a_{sh}} {c_{pa}} \\epsilon \\lambda_{E} \\rho_{a} + {\\left({\\Delta_{eTa}} {R_{ll}} - {\\Delta_{eTa}} R_{s}\\right)} a_{s} \\epsilon \\lambda_{E} r_{a}}{P_{a} {a_{sh}} {c_{pa}} r_{s} + {\\left({\\Delta_{eTa}} a_{s} \\epsilon \\lambda_{E} + P_{a} {a_{sh}} {c_{pa}}\\right)} r_{a}}</script></html>"
      ],
      "text/plain": [
       "E_l == -((P_wa - P_was)*a_s*a_sh*c_pa*epsilon*lambda_E*rho_a + (Delta_eTa*R_ll - Delta_eTa*R_s)*a_s*epsilon*lambda_E*r_a)/(P_a*a_sh*c_pa*r_s + (Delta_eTa*a_s*epsilon*lambda_E + P_a*a_sh*c_pa)*r_a)"
      ]
     },
     "metadata": {},
     "output_type": "display_data"
    },
    {
     "data": {
      "text/html": [
       "<html><script type=\"math/tex; mode=display\">\\newcommand{\\Bold}[1]{\\mathbf{#1}}E_{l} = -\\frac{{\\left({P_{wa}} - {P_{was}}\\right)} a_{s} {a_{sh}} {c_{pa}} \\rho_{a} + {\\left({\\Delta_{eTa}} {R_{ll}} - {\\Delta_{eTa}} R_{s}\\right)} a_{s} r_{a}}{{a_{sh}} \\gamma_{v} r_{s} + {\\left({\\Delta_{eTa}} a_{s} + {a_{sh}} \\gamma_{v}\\right)} r_{a}}</script></html>"
      ],
      "text/plain": [
       "E_l == -((P_wa - P_was)*a_s*a_sh*c_pa*rho_a + (Delta_eTa*R_ll - Delta_eTa*R_s)*a_s*r_a)/(a_sh*gamma_v*r_s + (Delta_eTa*a_s + a_sh*gamma_v)*r_a)"
      ]
     },
     "metadata": {},
     "output_type": "display_data"
    },
    {
     "data": {
      "text/html": [
       "<html><script type=\"math/tex; mode=display\">\\newcommand{\\Bold}[1]{\\mathbf{#1}}r_{a} = \\frac{{c_{pa}} \\rho_{a}}{h_{c}}</script></html>"
      ],
      "text/plain": [
       "r_a == c_pa*rho_a/h_c"
      ]
     },
     "metadata": {},
     "output_type": "display_data"
    },
    {
     "data": {
      "text/html": [
       "<html><script type=\"math/tex; mode=display\">\\newcommand{\\Bold}[1]{\\mathbf{#1}}{r_{v}} = \\frac{a_{s}}{{g_{bw}}}</script></html>"
      ],
      "text/plain": [
       "r_v == a_s/g_bw"
      ]
     },
     "metadata": {},
     "output_type": "display_data"
    },
    {
     "data": {
      "text/html": [
       "<html><script type=\"math/tex; mode=display\">\\newcommand{\\Bold}[1]{\\mathbf{#1}}\\frac{r_{a}}{{r_{v}}} = \\frac{1}{{N_{Le}}^{\\frac{2}{3}}}</script></html>"
      ],
      "text/plain": [
       "r_a/r_v == Le^(-2/3)"
      ]
     },
     "metadata": {},
     "output_type": "display_data"
    },
    {
     "name": "stdout",
     "output_type": "stream",
     "text": [
      "1.08204645272521\n"
     ]
    },
    {
     "data": {
      "image/png": "[encoded data removed]",
      "text/plain": [
       "Graphics object consisting of 1 graphics primitive"
      ]
     },
     "metadata": {},
     "output_type": "display_data"
    },
    {
     "name": "stdout",
     "output_type": "stream",
     "text": [
      "T_l = 308.321395271\n",
      "E_l = 180.542235053942\n",
      "H_l = 150.521099595469\n",
      "R_ll = 68.9366653505872\n",
      "g_bw = 0.0131620455576424\n",
      "g_tw = 0.00291849206962754\n",
      "Direct estimates: \n",
      "E_l = 198.222104889662\n",
      "H_l = 201.777895110338\n",
      "T_l == 310.133484539870\n",
      "T_l == 310.133484539870\n",
      "T_l == 309.093414355984\n",
      "400 == 400.000000000000\n",
      "Penman-stomata: \n",
      "E_l = 198.222104889662\n",
      "H_l = 201.777895110338\n",
      "T_l = 310.133484539870\n",
      "400 == 400.000000000000\n",
      "PM-equation: \n",
      "E_l = 241.448619283973\n",
      "H_l = 158.551380716027\n",
      "400 == 400.000000000000\n",
      "MU-equation: \n",
      "E_l = 156.668183937778\n",
      "H_l = 243.331816062222\n",
      "400 == 400.000000000000\n",
      "Corrected MU-equation: \n",
      "E_l = 195.741933442269\n",
      "H_l = 204.258066557731\n",
      "400 == 400.000000000000\n",
      "4*T_l^3*a_sh*epsilon_l*sigm\n",
      "[\n",
      "Rll1 == -3*T1^4*a_sh*epsilon_l*sigm - T_w^4*a_sh*epsilon_l*sigm\n",
      "]\n"
     ]
    },
    {
     "data": {
      "text/html": [
       "<html><script type=\"math/tex; mode=display\">\\newcommand{\\Bold}[1]{\\mathbf{#1}}{R_{ll}} = -{\\left(3 \\, T_{a}^{4} - 4 \\, T_{a}^{3} T_{l} + T_{w}^{4}\\right)} {a_{sh}} \\epsilon_{l} {\\sigma}</script></html>"
      ],
      "text/plain": [
       "R_ll == -(3*T_a^4 - 4*T_a^3*T_l + T_w^4)*a_sh*epsilon_l*sigm"
      ]
     },
     "metadata": {},
     "output_type": "display_data"
    },
    {
     "data": {
      "image/png": "[encoded data removed]",
      "text/plain": [
       "Graphics object consisting of 2 graphics primitives"
      ]
     },
     "metadata": {},
     "output_type": "display_data"
    },
    {
     "data": {
      "text/html": [
       "<html><script type=\"math/tex; mode=display\">\\newcommand{\\Bold}[1]{\\mathbf{#1}}E_{l} = -{\\left({P_{wa}} - {P_{wl}}\\right)} c_{E}</script></html>"
      ],
      "text/plain": [
       "E_l == -(P_wa - P_wl)*c_E"
      ]
     },
     "metadata": {},
     "output_type": "display_data"
    },
    {
     "data": {
      "text/html": [
       "<html><script type=\"math/tex; mode=display\">\\newcommand{\\Bold}[1]{\\mathbf{#1}}H_{l} = -{\\left(T_{a} - T_{l}\\right)} c_{H}</script></html>"
      ],
      "text/plain": [
       "H_l == -(T_a - T_l)*c_H"
      ]
     },
     "metadata": {},
     "output_type": "display_data"
    },
    {
     "data": {
      "text/html": [
       "<html><script type=\"math/tex; mode=display\">\\newcommand{\\Bold}[1]{\\mathbf{#1}}{R_{ll}} = -{\\left(3 \\, T_{a}^{4} - 4 \\, T_{a}^{3} T_{l} + T_{w}^{4}\\right)} {a_{sh}} \\epsilon_{l} {\\sigma}</script></html>"
      ],
      "text/plain": [
       "R_ll == -(3*T_a^4 - 4*T_a^3*T_l + T_w^4)*a_sh*epsilon_l*sigm"
      ]
     },
     "metadata": {},
     "output_type": "display_data"
    },
    {
     "data": {
      "text/html": [
       "<html><script type=\"math/tex; mode=display\">\\newcommand{\\Bold}[1]{\\mathbf{#1}}\\gamma_{v} = \\frac{c_{H}}{c_{E}}</script></html>"
      ],
      "text/plain": [
       "gamma_v == c_H/c_E"
      ]
     },
     "metadata": {},
     "output_type": "display_data"
    },
    {
     "data": {
      "text/html": [
       "<html><script type=\"math/tex; mode=display\">\\newcommand{\\Bold}[1]{\\mathbf{#1}}{\\Delta_{eTa}} = \\frac{{P_{was}} - {P_{wl}}}{T_{a} - T_{l}}</script></html>"
      ],
      "text/plain": [
       "Delta_eTa == (P_was - P_wl)/(T_a - T_l)"
      ]
     },
     "metadata": {},
     "output_type": "display_data"
    },
    {
     "data": {
      "text/html": [
       "<html><script type=\"math/tex; mode=display\">\\newcommand{\\Bold}[1]{\\mathbf{#1}}E_{l} = -\\frac{{P_{wa}} c_{H} - {P_{wl}} c_{H}}{\\gamma_{v}}</script></html>"
      ],
      "text/plain": [
       "E_l == -(P_wa*c_H - P_wl*c_H)/gamma_v"
      ]
     },
     "metadata": {},
     "output_type": "display_data"
    },
    {
     "name": "stdout",
     "output_type": "stream",
     "text": [
      "kilogram/second^3 == kilogram/second^3\n"
     ]
    },
    {
     "data": {
      "text/html": [
       "<html><script type=\"math/tex; mode=display\">\\newcommand{\\Bold}[1]{\\mathbf{#1}}E_{l} = -\\frac{{\\left({\\Delta_{eTa}} T_{a} - {\\Delta_{eTa}} T_{l} + {P_{wa}} - {P_{was}}\\right)} c_{H}}{\\gamma_{v}}</script></html>"
      ],
      "text/plain": [
       "E_l == -(Delta_eTa*T_a - Delta_eTa*T_l + P_wa - P_was)*c_H/gamma_v"
      ]
     },
     "metadata": {},
     "output_type": "display_data"
    },
    {
     "name": "stdout",
     "output_type": "stream",
     "text": [
      "kilogram/second^3 == kilogram/second^3\n"
     ]
    },
    {
     "data": {
      "text/html": [
       "<html><script type=\"math/tex; mode=display\">\\newcommand{\\Bold}[1]{\\mathbf{#1}}E_{l} = -\\frac{{\\left({\\Delta_{eTa}} T_{a}^{4} - {\\Delta_{eTa}} T_{w}^{4} + 4 \\, {\\left({P_{wa}} - {P_{was}}\\right)} T_{a}^{3}\\right)} {a_{sh}} c_{E} \\epsilon_{l} {\\sigma} - {\\Delta_{eTa}} R_{s} c_{E} + {\\left({P_{wa}} - {P_{was}}\\right)} c_{E} c_{H}}{4 \\, T_{a}^{3} {a_{sh}} \\epsilon_{l} {\\sigma} + {\\Delta_{eTa}} c_{E} + c_{H}}</script></html>"
      ],
      "text/plain": [
       "E_l == -((Delta_eTa*T_a^4 - Delta_eTa*T_w^4 + 4*(P_wa - P_was)*T_a^3)*a_sh*c_E*epsilon_l*sigm - Delta_eTa*R_s*c_E + (P_wa - P_was)*c_E*c_H)/(4*T_a^3*a_sh*epsilon_l*sigm + Delta_eTa*c_E + c_H)"
      ]
     },
     "metadata": {},
     "output_type": "display_data"
    },
    {
     "name": "stdout",
     "output_type": "stream",
     "text": [
      "kilogram/second^3 == kilogram/second^3\n"
     ]
    },
    {
     "data": {
      "text/html": [
       "<html><script type=\"math/tex; mode=display\">\\newcommand{\\Bold}[1]{\\mathbf{#1}}H_{l} = -\\frac{{\\left(T_{a}^{4} - T_{w}^{4}\\right)} {a_{sh}} c_{H} \\epsilon_{l} {\\sigma} - {\\left({\\left({P_{wa}} - {P_{was}}\\right)} c_{E} + R_{s}\\right)} c_{H}}{4 \\, T_{a}^{3} {a_{sh}} \\epsilon_{l} {\\sigma} + {\\Delta_{eTa}} c_{E} + c_{H}}</script></html>"
      ],
      "text/plain": [
       "H_l == -((T_a^4 - T_w^4)*a_sh*c_H*epsilon_l*sigm - ((P_wa - P_was)*c_E + R_s)*c_H)/(4*T_a^3*a_sh*epsilon_l*sigm + Delta_eTa*c_E + c_H)"
      ]
     },
     "metadata": {},
     "output_type": "display_data"
    },
    {
     "name": "stdout",
     "output_type": "stream",
     "text": [
      "kilogram/second^3 == kilogram/second^3\n"
     ]
    },
    {
     "data": {
      "text/html": [
       "<html><script type=\"math/tex; mode=display\">\\newcommand{\\Bold}[1]{\\mathbf{#1}}T_{l} = \\frac{{\\left(3 \\, T_{a}^{4} + T_{w}^{4}\\right)} {a_{sh}} \\epsilon_{l} {\\sigma} + {\\left({\\Delta_{eTa}} T_{a} + {P_{wa}} - {P_{was}}\\right)} c_{E} + T_{a} c_{H} + R_{s}}{4 \\, T_{a}^{3} {a_{sh}} \\epsilon_{l} {\\sigma} + {\\Delta_{eTa}} c_{E} + c_{H}}</script></html>"
      ],
      "text/plain": [
       "T_l == ((3*T_a^4 + T_w^4)*a_sh*epsilon_l*sigm + (Delta_eTa*T_a + P_wa - P_was)*c_E + T_a*c_H + R_s)/(4*T_a^3*a_sh*epsilon_l*sigm + Delta_eTa*c_E + c_H)"
      ]
     },
     "metadata": {},
     "output_type": "display_data"
    },
    {
     "name": "stdout",
     "output_type": "stream",
     "text": [
      "kelvin == kelvin\n"
     ]
    },
    {
     "data": {
      "text/html": [
       "<html><script type=\"math/tex; mode=display\">\\newcommand{\\Bold}[1]{\\mathbf{#1}}T_{l} = \\frac{{\\left(3 \\, T_{a}^{4} + T_{w}^{4}\\right)} {a_{sh}} \\epsilon_{l} {\\sigma} + {\\left({\\Delta_{eTa}} T_{a} + {P_{wa}} - {P_{was}}\\right)} c_{E} + T_{a} c_{H} + R_{s}}{4 \\, T_{a}^{3} {a_{sh}} \\epsilon_{l} {\\sigma} + {\\Delta_{eTa}} c_{E} + c_{H}}</script></html>"
      ],
      "text/plain": [
       "T_l == ((3*T_a^4 + T_w^4)*a_sh*epsilon_l*sigm + (Delta_eTa*T_a + P_wa - P_was)*c_E + T_a*c_H + R_s)/(4*T_a^3*a_sh*epsilon_l*sigm + Delta_eTa*c_E + c_H)"
      ]
     },
     "metadata": {},
     "output_type": "display_data"
    },
    {
     "data": {
      "text/html": [
       "<html><script type=\"math/tex; mode=display\">\\newcommand{\\Bold}[1]{\\mathbf{#1}}E_{l} = -\\frac{{\\left({\\Delta_{eTa}} T_{a}^{4} - {\\Delta_{eTa}} T_{w}^{4} + 4 \\, {\\left({P_{wa}} - {P_{was}}\\right)} T_{a}^{3}\\right)} {a_{sh}} c_{E} \\epsilon_{l} {\\sigma} - {\\Delta_{eTa}} R_{s} c_{E} + {\\left({P_{wa}} - {P_{was}}\\right)} c_{E} c_{H}}{4 \\, T_{a}^{3} {a_{sh}} \\epsilon_{l} {\\sigma} + {\\Delta_{eTa}} c_{E} + c_{H}}</script></html>"
      ],
      "text/plain": [
       "E_l == -((Delta_eTa*T_a^4 - Delta_eTa*T_w^4 + 4*(P_wa - P_was)*T_a^3)*a_sh*c_E*epsilon_l*sigm - Delta_eTa*R_s*c_E + (P_wa - P_was)*c_E*c_H)/(4*T_a^3*a_sh*epsilon_l*sigm + Delta_eTa*c_E + c_H)"
      ]
     },
     "metadata": {},
     "output_type": "display_data"
    },
    {
     "data": {
      "text/html": [
       "<html><script type=\"math/tex; mode=display\">\\newcommand{\\Bold}[1]{\\mathbf{#1}}E_{l} = -\\frac{{\\left(M_{w} {P_{wa}} T_{w}^{4} + {\\left(3 \\, M_{w} {P_{wa}} - 4 \\, M_{w} {P_{wl}}\\right)} T_{a}^{4}\\right)} {a_{sh}} \\epsilon_{l} {g_{tw}} \\lambda_{E} {\\sigma} + {\\left(M_{w} {P_{wa}} R_{s} + {\\left(M_{w} {P_{wa}} - M_{w} {P_{wl}}\\right)} T_{a} c_{H} + {\\left(M_{w} {P_{wa}}^{2} - M_{w} {P_{wa}} {P_{was}} + {\\left({\\Delta_{eTa}} M_{w} {P_{wa}} - {\\Delta_{eTa}} M_{w} {P_{wl}}\\right)} T_{a}\\right)} c_{E}\\right)} {g_{tw}} \\lambda_{E}}{{R_{mol}} T_{a}^{2} c_{H} + {\\left(3 \\, {R_{mol}} T_{a}^{5} + {R_{mol}} T_{a} T_{w}^{4}\\right)} {a_{sh}} \\epsilon_{l} {\\sigma} + {R_{mol}} R_{s} T_{a} + {\\left({\\Delta_{eTa}} {R_{mol}} T_{a}^{2} + {\\left({P_{wa}} - {P_{was}}\\right)} {R_{mol}} T_{a}\\right)} c_{E}}</script></html>"
      ],
      "text/plain": [
       "E_l == -((M_w*P_wa*T_w^4 + (3*M_w*P_wa - 4*M_w*P_wl)*T_a^4)*a_sh*epsilon_l*g_tw*lambda_E*sigm + (M_w*P_wa*R_s + (M_w*P_wa - M_w*P_wl)*T_a*c_H + (M_w*P_wa^2 - M_w*P_wa*P_was + (Delta_eTa*M_w*P_wa - Delta_eTa*M_w*P_wl)*T_a)*c_E)*g_tw*lambda_E)/(R_mol*T_a^2*c_H + (3*R_mol*T_a^5 + R_mol*T_a*T_w^4)*a_sh*epsilon_l*sigm + R_mol*R_s*T_a + (Delta_eTa*R_mol*T_a^2 + (P_wa - P_was)*R_mol*T_a)*c_E)"
      ]
     },
     "metadata": {},
     "output_type": "display_data"
    },
    {
     "data": {
      "text/html": [
       "<html><script type=\"math/tex; mode=display\">\\newcommand{\\Bold}[1]{\\mathbf{#1}}H_{l} = -\\frac{{\\left(T_{a}^{4} - T_{w}^{4}\\right)} {a_{sh}} c_{H} \\epsilon_{l} {\\sigma} - {\\left({\\left({P_{wa}} - {P_{was}}\\right)} c_{E} + R_{s}\\right)} c_{H}}{4 \\, T_{a}^{3} {a_{sh}} \\epsilon_{l} {\\sigma} + {\\Delta_{eTa}} c_{E} + c_{H}}</script></html>"
      ],
      "text/plain": [
       "H_l == -((T_a^4 - T_w^4)*a_sh*c_H*epsilon_l*sigm - ((P_wa - P_was)*c_E + R_s)*c_H)/(4*T_a^3*a_sh*epsilon_l*sigm + Delta_eTa*c_E + c_H)"
      ]
     },
     "metadata": {},
     "output_type": "display_data"
    },
    {
     "data": {
      "text/html": [
       "<html><script type=\"math/tex; mode=display\">\\newcommand{\\Bold}[1]{\\mathbf{#1}}{R_{ll}} = \\frac{{\\left(4 \\, R_{s} T_{a}^{3} {a_{sh}} + {\\left({\\Delta_{eTa}} T_{a}^{4} - {\\Delta_{eTa}} T_{w}^{4} + 4 \\, {\\left({P_{wa}} - {P_{was}}\\right)} T_{a}^{3}\\right)} {a_{sh}} c_{E} + {\\left(T_{a}^{4} - T_{w}^{4}\\right)} {a_{sh}} c_{H}\\right)} \\epsilon_{l} {\\sigma}}{4 \\, T_{a}^{3} {a_{sh}} \\epsilon_{l} {\\sigma} + {\\Delta_{eTa}} c_{E} + c_{H}}</script></html>"
      ],
      "text/plain": [
       "R_ll == (4*R_s*T_a^3*a_sh + (Delta_eTa*T_a^4 - Delta_eTa*T_w^4 + 4*(P_wa - P_was)*T_a^3)*a_sh*c_E + (T_a^4 - T_w^4)*a_sh*c_H)*epsilon_l*sigm/(4*T_a^3*a_sh*epsilon_l*sigm + Delta_eTa*c_E + c_H)"
      ]
     },
     "metadata": {},
     "output_type": "display_data"
    },
    {
     "name": "stdout",
     "output_type": "stream",
     "text": [
      "T_l = 308.321395271\n",
      "E_l = 180.542235053942\n",
      "H_l = 150.521099595469\n",
      "R_ll = 68.9366653505872\n",
      "g_bw = 0.0131620455576424\n",
      "g_tw = 0.00291849206962754\n",
      "Direct estimates: \n",
      "E_l = 177.353891811830\n",
      "H_l = 153.963492920038\n",
      "T_l = 308.443094724766\n",
      "R_ll = 68.6826152681320\n",
      "308.443094724766 == 308.443094724766\n",
      "308.443094724766 == 308.443094724766\n",
      "308.443094724766 == 307.807922524752\n",
      "400 == 400.000000000000\n",
      "Using T_l from eq_Tl_Delta_Rlllin.rhs() only to calculate R_ll: \n",
      "T_l = 308.443094724766\n",
      "R_ll = 70.5556017512511\n",
      "E_l = 176.784812127415\n",
      "H_l = 152.659586121334\n",
      "400 == 400.000000000000\n",
      "Penman-stomata: \n",
      "E_l = 198.222104889662\n",
      "H_l = 201.777895110338\n",
      "T_l = 310.133484539870\n",
      "400 == 400.000000000000\n",
      "PM-equation: \n",
      "E_l = 241.448619283973\n",
      "H_l = 158.551380716027\n",
      "400 == 400.000000000000\n",
      "MU-equation: \n",
      "E_l = 156.668183937778\n",
      "H_l = 243.331816062222\n",
      "400 == 400.000000000000\n",
      "Corrected MU-equation: \n",
      "E_l = 195.741933442269\n",
      "H_l = 204.258066557731\n",
      "400 == 400.000000000000\n",
      "imported file temp/E_PM_eqs\n",
      "jupyter nbconvert  --to=python 'stomatal_cond_eqs.ipynb'\n",
      "Exporting specified worksheet to .py file...\n"
     ]
    },
    {
     "name": "stderr",
     "output_type": "stream",
     "text": [
      "nbconvert returned 0\n"
     ]
    },
    {
     "name": "stdout",
     "output_type": "stream",
     "text": [
      "Checking if specified ipynb file was run with sage kernel...\n",
      "Renaming .py file to .sage if notebook kernel was sage (to avoid exponent error)\n",
      "created file temp/stomatal_cond_eqs\n"
     ]
    },
    {
     "data": {
      "text/html": [
       "<html><script type=\"math/tex; mode=display\">\\newcommand{\\Bold}[1]{\\mathbf{#1}}{k_{dv}} = \\frac{{D_{va}}}{V_{m}}</script></html>"
      ],
      "text/plain": [
       "k_dv == D_va/V_m"
      ]
     },
     "metadata": {},
     "output_type": "display_data"
    },
    {
     "name": "stdout",
     "output_type": "stream",
     "text": [
      "mole/(meter*second) == mole/(meter*second)\n"
     ]
    },
    {
     "data": {
      "text/html": [
       "<html><script type=\"math/tex; mode=display\">\\newcommand{\\Bold}[1]{\\mathbf{#1}}g_{\\mathit{sp}} = \\frac{A_{p} {k_{dv}} n_{p}}{d_{p}}</script></html>"
      ],
      "text/plain": [
       "g_sp == A_p*k_dv*n_p/d_p"
      ]
     },
     "metadata": {},
     "output_type": "display_data"
    },
    {
     "name": "stdout",
     "output_type": "stream",
     "text": [
      "mole/(meter^2*second) == mole/(meter^2*second)\n"
     ]
    },
    {
     "data": {
      "text/html": [
       "<html><script type=\"math/tex; mode=display\">\\newcommand{\\Bold}[1]{\\mathbf{#1}}A_{p} = \\pi r_{p}^{2}</script></html>"
      ],
      "text/plain": [
       "A_p == pi*r_p^2"
      ]
     },
     "metadata": {},
     "output_type": "display_data"
    },
    {
     "name": "stdout",
     "output_type": "stream",
     "text": [
      "meter^2 == meter^2\n"
     ]
    },
    {
     "data": {
      "text/html": [
       "<html><script type=\"math/tex; mode=display\">\\newcommand{\\Bold}[1]{\\mathbf{#1}}r_{\\mathit{sp}} = \\frac{d_{p}}{A_{p} {k_{dv}} n_{p}}</script></html>"
      ],
      "text/plain": [
       "r_sp == d_p/(A_p*k_dv*n_p)"
      ]
     },
     "metadata": {},
     "output_type": "display_data"
    },
    {
     "name": "stdout",
     "output_type": "stream",
     "text": [
      "meter^2*second/mole == meter^2*second/mole\n"
     ]
    },
    {
     "data": {
      "text/html": [
       "<html><script type=\"math/tex; mode=display\">\\newcommand{\\Bold}[1]{\\mathbf{#1}}r_{\\mathit{sp}} = \\frac{d_{p}}{\\pi {k_{dv}} n_{p} r_{p}^{2}}</script></html>"
      ],
      "text/plain": [
       "r_sp == d_p/(pi*k_dv*n_p*r_p^2)"
      ]
     },
     "metadata": {},
     "output_type": "display_data"
    },
    {
     "name": "stdout",
     "output_type": "stream",
     "text": [
      "meter^2*second/mole == meter^2*second/mole\n"
     ]
    },
    {
     "data": {
      "text/html": [
       "<html><script type=\"math/tex; mode=display\">\\newcommand{\\Bold}[1]{\\mathbf{#1}}r_{\\mathit{vs}} = \\frac{\\frac{1}{r_{p}} - \\frac{4}{\\pi s_{p}}}{4 \\, {k_{dv}} n_{p}}</script></html>"
      ],
      "text/plain": [
       "r_vs == 1/4*(1/r_p - 4/(pi*s_p))/(k_dv*n_p)"
      ]
     },
     "metadata": {},
     "output_type": "display_data"
    },
    {
     "data": {
      "text/html": [
       "<html><script type=\"math/tex; mode=display\">\\newcommand{\\Bold}[1]{\\mathbf{#1}}r_{\\mathit{vs}} = \\frac{\\frac{1}{r_{p}} - \\frac{4}{\\pi s_{p}}}{4 \\, {k_{dv}} n_{p}}</script></html>"
      ],
      "text/plain": [
       "r_vs == 1/4*(1/r_p - 4/(pi*s_p))/(k_dv*n_p)"
      ]
     },
     "metadata": {},
     "output_type": "display_data"
    },
    {
     "data": {
      "text/html": [
       "<html><script type=\"math/tex; mode=display\">\\newcommand{\\Bold}[1]{\\mathbf{#1}}s_{p} = \\frac{1}{\\sqrt{n_{p}}}</script></html>"
      ],
      "text/plain": [
       "s_p == 1/sqrt(n_p)"
      ]
     },
     "metadata": {},
     "output_type": "display_data"
    },
    {
     "data": {
      "text/html": [
       "<html><script type=\"math/tex; mode=display\">\\newcommand{\\Bold}[1]{\\mathbf{#1}}r_{\\mathit{end}} = \\frac{1}{4 \\, {k_{dv}} n_{p} r_{p}}</script></html>"
      ],
      "text/plain": [
       "r_end == 1/4/(k_dv*n_p*r_p)"
      ]
     },
     "metadata": {},
     "output_type": "display_data"
    },
    {
     "data": {
      "text/html": [
       "<html><script type=\"math/tex; mode=display\">\\newcommand{\\Bold}[1]{\\mathbf{#1}}r_{\\mathit{end}} = \\frac{\\log\\left(\\frac{2 \\, l_{p}}{r_{p}}\\right)}{\\pi {k_{dv}} l_{p} n_{p}}</script></html>"
      ],
      "text/plain": [
       "r_end == log(2*l_p/r_p)/(pi*k_dv*l_p*n_p)"
      ]
     },
     "metadata": {},
     "output_type": "display_data"
    },
    {
     "data": {
      "text/html": [
       "<html><script type=\"math/tex; mode=display\">\\newcommand{\\Bold}[1]{\\mathbf{#1}}{g_{sw,mol}} = \\frac{1}{r_{\\mathit{end}} + r_{\\mathit{sp}} + r_{\\mathit{vs}}}</script></html>"
      ],
      "text/plain": [
       "g_swmol == (1/(r_end + r_sp + r_vs))"
      ]
     },
     "metadata": {},
     "output_type": "display_data"
    },
    {
     "data": {
      "text/html": [
       "<html><script type=\"math/tex; mode=display\">\\newcommand{\\Bold}[1]{\\mathbf{#1}}n_{p} = \\frac{1}{s_{p}^{2}}</script></html>"
      ],
      "text/plain": [
       "n_p == s_p^(-2)"
      ]
     },
     "metadata": {},
     "output_type": "display_data"
    },
    {
     "data": {
      "text/html": [
       "<html><script type=\"math/tex; mode=display\">\\newcommand{\\Bold}[1]{\\mathbf{#1}}{r_{bw,mol}} = \\frac{B_{l}}{{k_{dv}}}</script></html>"
      ],
      "text/plain": [
       "r_bwmol == B_l/k_dv"
      ]
     },
     "metadata": {},
     "output_type": "display_data"
    },
    {
     "data": {
      "text/html": [
       "<html><script type=\"math/tex; mode=display\">\\newcommand{\\Bold}[1]{\\mathbf{#1}}\\frac{2 \\, \\pi B_{l} r_{p}^{2}}{2 \\, \\pi B_{l} r_{p}^{2} + {\\left(\\pi r_{p} + 2 \\, d_{p}\\right)} s_{p}^{2}}</script></html>"
      ],
      "text/plain": [
       "2*pi*B_l*r_p^2/(2*pi*B_l*r_p^2 + (pi*r_p + 2*d_p)*s_p^2)"
      ]
     },
     "metadata": {},
     "output_type": "display_data"
    },
    {
     "data": {
      "text/html": [
       "<html><script type=\"math/tex; mode=display\">\\newcommand{\\Bold}[1]{\\mathbf{#1}}\\frac{2}{\\frac{s_{p}^{2} {\\left(\\frac{1}{r_{p}} + \\frac{2 \\, d_{p}}{\\pi r_{p}^{2}}\\right)}}{B_{l}} + 2}</script></html>"
      ],
      "text/plain": [
       "2/(s_p^2*(1/r_p + 2*d_p/(pi*r_p^2))/B_l + 2)"
      ]
     },
     "metadata": {},
     "output_type": "display_data"
    },
    {
     "data": {
      "text/html": [
       "<html><script type=\"math/tex; mode=display\">\\newcommand{\\Bold}[1]{\\mathbf{#1}}A_{p} = \\pi r_{p}^{2}</script></html>"
      ],
      "text/plain": [
       "A_p == pi*r_p^2"
      ]
     },
     "metadata": {},
     "output_type": "display_data"
    },
    {
     "data": {
      "text/html": [
       "<html><script type=\"math/tex; mode=display\">\\newcommand{\\Bold}[1]{\\mathbf{#1}}r_{p} = \\sqrt{\\frac{A_{p}}{\\pi}}</script></html>"
      ],
      "text/plain": [
       "r_p == sqrt(A_p/pi)"
      ]
     },
     "metadata": {},
     "output_type": "display_data"
    },
    {
     "data": {
      "text/html": [
       "<html><script type=\"math/tex; mode=display\">\\newcommand{\\Bold}[1]{\\mathbf{#1}}{g_{sw}} = -\\frac{{\\left({P_{wa}} - {P_{wl}}\\right)} {R_{mol}} T_{a} T_{l} {g_{sw,mol}}}{P_{a} {P_{wl}} T_{a} - P_{a} {P_{wa}} T_{l}}</script></html>"
      ],
      "text/plain": [
       "g_sw == -(P_wa - P_wl)*R_mol*T_a*T_l*g_swmol/(P_a*P_wl*T_a - P_a*P_wa*T_l)"
      ]
     },
     "metadata": {},
     "output_type": "display_data"
    },
    {
     "data": {
      "text/html": [
       "<html><script type=\"math/tex; mode=display\">\\newcommand{\\Bold}[1]{\\mathbf{#1}}{g_{sw}} = \\frac{{R_{mol}} T_{a} {g_{sw,mol}}}{P_{a}}</script></html>"
      ],
      "text/plain": [
       "g_sw == R_mol*T_a*g_swmol/P_a"
      ]
     },
     "metadata": {},
     "output_type": "display_data"
    },
    {
     "name": "stdout",
     "output_type": "stream",
     "text": [
      "imported file temp/stomatal_cond_eqs\n",
      "jupyter nbconvert  --to=python 'leaf_enbalance2s_eqs.ipynb'\n",
      "Exporting specified worksheet to .py file...\n"
     ]
    },
    {
     "name": "stderr",
     "output_type": "stream",
     "text": [
      "nbconvert returned 0\n"
     ]
    },
    {
     "name": "stdout",
     "output_type": "stream",
     "text": [
      "Checking if specified ipynb file was run with sage kernel...\n",
      "Renaming .py file to .sage if notebook kernel was sage (to avoid exponent error)\n",
      "created file temp/leaf_enbalance2s_eqs\n"
     ]
    },
    {
     "data": {
      "text/html": [
       "<html><script type=\"math/tex; mode=display\">\\newcommand{\\Bold}[1]{\\mathbf{#1}}Q_{l} = -\\frac{{\\left({T_{l_l}} - {T_{l_u}}\\right)} k_{l}}{z_{l}}</script></html>"
      ],
      "text/plain": [
       "Q_l == -(T_ll - T_lu)*k_l/z_l"
      ]
     },
     "metadata": {},
     "output_type": "display_data"
    },
    {
     "name": "stdout",
     "output_type": "stream",
     "text": [
      "kilogram/second^3 == kilogram/second^3\n"
     ]
    },
    {
     "data": {
      "text/html": [
       "<html><script type=\"math/tex; mode=display\">\\newcommand{\\Bold}[1]{\\mathbf{#1}}{T_{l_u}} = \\frac{{T_{l_l}} k_{l} + Q_{l} z_{l}}{k_{l}}</script></html>"
      ],
      "text/plain": [
       "T_lu == (T_ll*k_l + Q_l*z_l)/k_l"
      ]
     },
     "metadata": {},
     "output_type": "display_data"
    },
    {
     "name": "stdout",
     "output_type": "stream",
     "text": [
      "kelvin == kelvin\n"
     ]
    },
    {
     "data": {
      "text/html": [
       "<html><script type=\"math/tex; mode=display\">\\newcommand{\\Bold}[1]{\\mathbf{#1}}{H_{l_u}} = -{\\left({T_{a}} - {T_{l_u}}\\right)} {h_{c_u}}</script></html>"
      ],
      "text/plain": [
       "H_lu == -(T_a - T_lu)*h_cu"
      ]
     },
     "metadata": {},
     "output_type": "display_data"
    },
    {
     "name": "stdout",
     "output_type": "stream",
     "text": [
      "kilogram/second^3 == kilogram/second^3\n"
     ]
    },
    {
     "data": {
      "text/html": [
       "<html><script type=\"math/tex; mode=display\">\\newcommand{\\Bold}[1]{\\mathbf{#1}}{H_{l_l}} = -{\\left({T_{a}} - {T_{l_l}}\\right)} {h_{c_l}}</script></html>"
      ],
      "text/plain": [
       "H_ll == -(T_a - T_ll)*h_cl"
      ]
     },
     "metadata": {},
     "output_type": "display_data"
    },
    {
     "name": "stdout",
     "output_type": "stream",
     "text": [
      "kilogram/second^3 == kilogram/second^3\n"
     ]
    },
    {
     "data": {
      "text/html": [
       "<html><script type=\"math/tex; mode=display\">\\newcommand{\\Bold}[1]{\\mathbf{#1}}{h_{c_u}} = \\frac{{N_{Nu_L}} k_{a}}{L_{l}}</script></html>"
      ],
      "text/plain": [
       "h_cu == Nu*k_a/L_l"
      ]
     },
     "metadata": {},
     "output_type": "display_data"
    },
    {
     "name": "stdout",
     "output_type": "stream",
     "text": [
      "kilogram/(kelvin*second^3) == kilogram/(kelvin*second^3)\n"
     ]
    },
    {
     "data": {
      "text/html": [
       "<html><script type=\"math/tex; mode=display\">\\newcommand{\\Bold}[1]{\\mathbf{#1}}{h_{c_u}} = \\frac{{N_{Nu_L}} k_{a}}{L_{l}}</script></html>"
      ],
      "text/plain": [
       "h_cu == Nu*k_a/L_l"
      ]
     },
     "metadata": {},
     "output_type": "display_data"
    },
    {
     "name": "stdout",
     "output_type": "stream",
     "text": [
      "kilogram/(kelvin*second^3) == kilogram/(kelvin*second^3)\n"
     ]
    },
    {
     "data": {
      "text/html": [
       "<html><script type=\"math/tex; mode=display\">\\newcommand{\\Bold}[1]{\\mathbf{#1}}{R_{ll_u}} = {\\left({T_{l_u}}^{4} - T_{w}^{4}\\right)} \\epsilon_{l} {\\sigma}</script></html>"
      ],
      "text/plain": [
       "R_llu == (T_lu^4 - T_w^4)*epsilon_l*sigm"
      ]
     },
     "metadata": {},
     "output_type": "display_data"
    },
    {
     "name": "stdout",
     "output_type": "stream",
     "text": [
      "kilogram/second^3 == kilogram/second^3\n"
     ]
    },
    {
     "data": {
      "text/html": [
       "<html><script type=\"math/tex; mode=display\">\\newcommand{\\Bold}[1]{\\mathbf{#1}}{R_{ll_l}} = {\\left({T_{l_l}}^{4} - T_{w}^{4}\\right)} \\epsilon_{l} {\\sigma}</script></html>"
      ],
      "text/plain": [
       "R_lll == (T_ll^4 - T_w^4)*epsilon_l*sigm"
      ]
     },
     "metadata": {},
     "output_type": "display_data"
    },
    {
     "name": "stdout",
     "output_type": "stream",
     "text": [
      "kilogram/second^3 == kilogram/second^3\n",
      "Fraction of one-sided leaf area covered by stomata (1 if stomata are on one side only, 2 if they are on both sides)\n",
      "Average 1-sided convective transfer coefficient\n"
     ]
    },
    {
     "data": {
      "text/html": [
       "<html><script type=\"math/tex; mode=display\">\\newcommand{\\Bold}[1]{\\mathbf{#1}}{E_{l_u}} = -\\frac{{{C_{wa}}} {M_{w}} {{R_{mol}}} {T_{l_u}} {g_{sw_u}} {h_{c_u}} {\\lambda_{E}} e^{\\left(\\frac{{M_{w}} {\\lambda_{E}}}{{{R_{mol}}} {T_{l_u}}}\\right)} - 611 \\, {M_{w}} {g_{sw_u}} {h_{c_u}} {\\lambda_{E}} e^{\\left(\\frac{{M_{w}} {\\lambda_{E}}}{273 \\, {{R_{mol}}}}\\right)}}{{{N_{Le}}}^{\\frac{2}{3}} {{R_{mol}}} {T_{l_u}} {{c_{pa}}} {g_{sw_u}} {\\rho_{a}} e^{\\left(\\frac{{M_{w}} {\\lambda_{E}}}{{{R_{mol}}} {T_{l_u}}}\\right)} + {{R_{mol}}} {T_{l_u}} {h_{c_u}} e^{\\left(\\frac{{M_{w}} {\\lambda_{E}}}{{{R_{mol}}} {T_{l_u}}}\\right)}}</script></html>"
      ],
      "text/plain": [
       "E_lu == -(C_wa*M_w*R_mol*T_lu*g_swu*h_cu*lambda_E*e^(M_w*lambda_E/(R_mol*T_lu)) - 611*M_w*g_swu*h_cu*lambda_E*e^(1/273*M_w*lambda_E/R_mol))/(Le^(2/3)*R_mol*T_lu*c_pa*g_swu*rho_a*e^(M_w*lambda_E/(R_mol*T_lu)) + R_mol*T_lu*h_cu*e^(M_w*lambda_E/(R_mol*T_lu)))"
      ]
     },
     "metadata": {},
     "output_type": "display_data"
    },
    {
     "data": {
      "text/html": [
       "<html><script type=\"math/tex; mode=display\">\\newcommand{\\Bold}[1]{\\mathbf{#1}}{E_{l_l}} = -\\frac{{{C_{wa}}} {M_{w}} {{R_{mol}}} {T_{l_l}} {g_{sw_l}} {h_{c_l}} {\\lambda_{E}} e^{\\left(\\frac{{M_{w}} {\\lambda_{E}}}{{{R_{mol}}} {T_{l_l}}}\\right)} - 611 \\, {M_{w}} {g_{sw_l}} {h_{c_l}} {\\lambda_{E}} e^{\\left(\\frac{{M_{w}} {\\lambda_{E}}}{273 \\, {{R_{mol}}}}\\right)}}{{{N_{Le}}}^{\\frac{2}{3}} {{R_{mol}}} {T_{l_l}} {{c_{pa}}} {g_{sw_l}} {\\rho_{a}} e^{\\left(\\frac{{M_{w}} {\\lambda_{E}}}{{{R_{mol}}} {T_{l_l}}}\\right)} + {{R_{mol}}} {T_{l_l}} {h_{c_l}} e^{\\left(\\frac{{M_{w}} {\\lambda_{E}}}{{{R_{mol}}} {T_{l_l}}}\\right)}}</script></html>"
      ],
      "text/plain": [
       "E_ll == -(C_wa*M_w*R_mol*T_ll*g_swl*h_cl*lambda_E*e^(M_w*lambda_E/(R_mol*T_ll)) - 611*M_w*g_swl*h_cl*lambda_E*e^(1/273*M_w*lambda_E/R_mol))/(Le^(2/3)*R_mol*T_ll*c_pa*g_swl*rho_a*e^(M_w*lambda_E/(R_mol*T_ll)) + R_mol*T_ll*h_cl*e^(M_w*lambda_E/(R_mol*T_ll)))"
      ]
     },
     "metadata": {},
     "output_type": "display_data"
    },
    {
     "data": {
      "text/html": [
       "<html><script type=\"math/tex; mode=display\">\\newcommand{\\Bold}[1]{\\mathbf{#1}}{E_{l_l}} = -\\frac{{{C_{wa}}} {M_{w}} {{R_{mol}}} {T_{l_l}} {g_{sw_l}} {h_{c_l}} {\\lambda_{E}} e^{\\left(\\frac{{M_{w}} {\\lambda_{E}}}{{{R_{mol}}} {T_{l_l}}}\\right)} - 611 \\, {M_{w}} {g_{sw_l}} {h_{c_l}} {\\lambda_{E}} e^{\\left(\\frac{{M_{w}} {\\lambda_{E}}}{273 \\, {{R_{mol}}}}\\right)}}{{{N_{Le}}}^{\\frac{2}{3}} {{R_{mol}}} {T_{l_l}} {{c_{pa}}} {g_{sw_l}} {\\rho_{a}} e^{\\left(\\frac{{M_{w}} {\\lambda_{E}}}{{{R_{mol}}} {T_{l_l}}}\\right)} + {{R_{mol}}} {T_{l_l}} {h_{c_l}} e^{\\left(\\frac{{M_{w}} {\\lambda_{E}}}{{{R_{mol}}} {T_{l_l}}}\\right)}}</script></html>"
      ],
      "text/plain": [
       "E_ll == -(C_wa*M_w*R_mol*T_ll*g_swl*h_cl*lambda_E*e^(M_w*lambda_E/(R_mol*T_ll)) - 611*M_w*g_swl*h_cl*lambda_E*e^(1/273*M_w*lambda_E/R_mol))/(Le^(2/3)*R_mol*T_ll*c_pa*g_swl*rho_a*e^(M_w*lambda_E/(R_mol*T_ll)) + R_mol*T_ll*h_cl*e^(M_w*lambda_E/(R_mol*T_ll)))"
      ]
     },
     "metadata": {},
     "output_type": "display_data"
    },
    {
     "name": "stdout",
     "output_type": "stream",
     "text": [
      "T_lu - T_ll: 0.778885052219\n",
      "E_ll: 353.485416225740\n",
      "isothermal: \n",
      "T_lu - T_ll: 1.59991486726e-09\n",
      "E_ll: 359.928949158802\n",
      "imported file temp/leaf_enbalance2s_eqs\n",
      "jupyter nbconvert  --to=python 'leaf_chamber_eqs.ipynb'\n",
      "Exporting specified worksheet to .py file...\n"
     ]
    },
    {
     "name": "stderr",
     "output_type": "stream",
     "text": [
      "nbconvert returned 0\n"
     ]
    },
    {
     "name": "stdout",
     "output_type": "stream",
     "text": [
      "Checking if specified ipynb file was run with sage kernel...\n",
      "Renaming .py file to .sage if notebook kernel was sage (to avoid exponent error)\n",
      "created file temp/leaf_chamber_eqs\n",
      "C_wa            0.647207041733317\n",
      "C_wl            1.12479267904924\n",
      "D_va            0.0000248765000000000\n",
      "E_l             142.258640360008\n",
      "E_lmol          0.00322581950929723\n",
      "H_l             -112.722448184652\n",
      "L_l             0.0300000000000000\n",
      "Le              0.888469037042992\n",
      "M_N2            0.0280000000000000\n",
      "M_O2            0.0320000000000000\n",
      "M_w             0.0180000000000000\n",
      "Nu              26.1863624980041\n",
      "P_a             101325         \n",
      "P_wa            1606.28367076831\n",
      "P_wl            2768.40610422238\n",
      "Pr              0.710000000000000\n",
      "R_ll            -29.5361921753575\n",
      "R_mol           8.31447200000000\n",
      "R_s             0.000000000000000\n",
      "Re              1927.40122068744\n",
      "Re_c            3000           \n",
      "T_a             298.500000000000\n",
      "T_l             296.021082253  \n",
      "T_w             298.500000000000\n",
      "a_s             1.00000000000000\n",
      "a_sh            2              \n",
      "alpha_a         0.0000221020000000000\n",
      "c_pa            1010           \n",
      "epsilon_l       1              \n",
      "g               9.81000000000000\n",
      "g_bw            0.0208112438130012\n",
      "g_sw            0.0100000000000000\n",
      "g_tw            0.00675443157676732\n",
      "h_c             22.7362219510171\n",
      "k_a             0.0260474000000000\n",
      "lambda_E        2.45000000000000e6\n",
      "nu_a            0.0000155650000000000\n",
      "rho_a           1.17040820486688\n",
      "sigm            5.67000000000000e-8\n",
      "v_w             1              \n",
      "Volume = 0.310000000000000 l\n",
      "min flow rate for flushing = 1.55000000000000e-11 m3/s\n",
      "min flow rate for flushing = 0.930000000000000 l/min\n",
      "flow rate for 1 m/s direct wind = 0.00150000000000000 m3/s\n",
      "flow rate for 1 m/s direct wind = 90.0000000000000 l/m\n",
      "flow rate for 5 m/s direct wind = 0.00750000000000000 m3/s\n",
      "flow rate for 5 m/s direct wind = 450.000000000000 l/m\n",
      "Volume = 0.400000000000000 l\n",
      "min flow rate for flushing = 2.00000000000000e-11 m3/s\n",
      "min flow rate for flushing = 1.20000000000000 l/min\n",
      "flow rate for 1 m/s direct wind = 0.00150000000000000 m3/s\n",
      "flow rate for 1 m/s direct wind = 90.0000000000000 l/m\n"
     ]
    },
    {
     "data": {
      "text/html": [
       "<html><script type=\"math/tex; mode=display\">\\newcommand{\\Bold}[1]{\\mathbf{#1}}Q_{i} = \\frac{A_{i} \\mathit{dT}_{i} \\lambda_{i}}{L_{i}}</script></html>"
      ],
      "text/plain": [
       "Q_i == A_i*dT_i*lambda_i/L_i"
      ]
     },
     "metadata": {},
     "output_type": "display_data"
    },
    {
     "data": {
      "text/html": [
       "<html><script type=\"math/tex; mode=display\">\\newcommand{\\Bold}[1]{\\mathbf{#1}}L_{i} = \\frac{A_{i} \\mathit{dT}_{i} \\lambda_{i}}{Q_{i}}</script></html>"
      ],
      "text/plain": [
       "L_i == A_i*dT_i*lambda_i/Q_i"
      ]
     },
     "metadata": {},
     "output_type": "display_data"
    },
    {
     "data": {
      "text/html": [
       "<html><script type=\"math/tex; mode=display\">\\newcommand{\\Bold}[1]{\\mathbf{#1}}L_{i} {c_{pi}} \\mathit{dT}_{i} \\rho_{i}</script></html>"
      ],
      "text/plain": [
       "L_i*c_pi*dT_i*rho_i"
      ]
     },
     "metadata": {},
     "output_type": "display_data"
    },
    {
     "data": {
      "text/html": [
       "<html><script type=\"math/tex; mode=display\">\\newcommand{\\Bold}[1]{\\mathbf{#1}}A_{i} L_{i} \\mathit{dT}_{i} \\lambda_{i}</script></html>"
      ],
      "text/plain": [
       "A_i*L_i*dT_i*lambda_i"
      ]
     },
     "metadata": {},
     "output_type": "display_data"
    },
    {
     "name": "stdout",
     "output_type": "stream",
     "text": [
      "[\n",
      "[R_d == S_s, R_lu == -S_a + S_s, R_ld == S_b, R_u == 0]\n",
      "]\n",
      "B_l == 0.0106559443973775\n",
      "B_l == 0.00119137080184970\n"
     ]
    },
    {
     "data": {
      "text/html": [
       "<html><script type=\"math/tex; mode=display\">\\newcommand{\\Bold}[1]{\\mathbf{#1}}V_{c} = H_{c} L_{c} W_{c}</script></html>"
      ],
      "text/plain": [
       "V_c == H_c*L_c*W_c"
      ]
     },
     "metadata": {},
     "output_type": "display_data"
    },
    {
     "name": "stdout",
     "output_type": "stream",
     "text": [
      "meter^3 == meter^3\n"
     ]
    },
    {
     "data": {
      "text/html": [
       "<html><script type=\"math/tex; mode=display\">\\newcommand{\\Bold}[1]{\\mathbf{#1}}{F_{in,mol,a}} = \\frac{{F_{in,v}} {\\left({P_{a}} - {P_{w,in}}\\right)}}{{R_{mol}} {T_{in}}}</script></html>"
      ],
      "text/plain": [
       "F_in_mola == F_in_v*(P_a - P_w_in)/(R_mol*T_in)"
      ]
     },
     "metadata": {},
     "output_type": "display_data"
    },
    {
     "name": "stdout",
     "output_type": "stream",
     "text": [
      "mole/second == mole/second\n"
     ]
    },
    {
     "data": {
      "text/html": [
       "<html><script type=\"math/tex; mode=display\">\\newcommand{\\Bold}[1]{\\mathbf{#1}}{F_{in,mol,w}} = \\frac{{F_{in,v}} {P_{w,in}}}{{R_{mol}} {T_{in}}}</script></html>"
      ],
      "text/plain": [
       "F_in_molw == F_in_v*P_w_in/(R_mol*T_in)"
      ]
     },
     "metadata": {},
     "output_type": "display_data"
    },
    {
     "name": "stdout",
     "output_type": "stream",
     "text": [
      "mole/second == mole/second\n"
     ]
    },
    {
     "data": {
      "text/html": [
       "<html><script type=\"math/tex; mode=display\">\\newcommand{\\Bold}[1]{\\mathbf{#1}}{F_{out,mol,a}} = \\frac{{F_{out,v}} {\\left({P_{a}} - {P_{w,out}}\\right)}}{{R_{mol}} {T_{out}}}</script></html>"
      ],
      "text/plain": [
       "F_out_mola == F_out_v*(P_a - P_w_out)/(R_mol*T_out)"
      ]
     },
     "metadata": {},
     "output_type": "display_data"
    },
    {
     "name": "stdout",
     "output_type": "stream",
     "text": [
      "mole/second == mole/second\n"
     ]
    },
    {
     "data": {
      "text/html": [
       "<html><script type=\"math/tex; mode=display\">\\newcommand{\\Bold}[1]{\\mathbf{#1}}{F_{out,mol,w}} = \\frac{{F_{out,v}} {P_{w,out}}}{{R_{mol}} {T_{out}}}</script></html>"
      ],
      "text/plain": [
       "F_out_molw == F_out_v*P_w_out/(R_mol*T_out)"
      ]
     },
     "metadata": {},
     "output_type": "display_data"
    },
    {
     "name": "stdout",
     "output_type": "stream",
     "text": [
      "mole/second == mole/second\n"
     ]
    },
    {
     "data": {
      "text/html": [
       "<html><script type=\"math/tex; mode=display\">\\newcommand{\\Bold}[1]{\\mathbf{#1}}{F_{out,v}} = \\frac{{\\left({F_{out,mol,a}} + {F_{out,mol,w}}\\right)} {R_{mol}} {T_{out}}}{{P_{a}}}</script></html>"
      ],
      "text/plain": [
       "F_out_v == (F_out_mola + F_out_molw)*R_mol*T_out/P_a"
      ]
     },
     "metadata": {},
     "output_type": "display_data"
    },
    {
     "name": "stdout",
     "output_type": "stream",
     "text": [
      "meter^3/second == meter^3/second\n"
     ]
    },
    {
     "data": {
      "text/html": [
       "<html><script type=\"math/tex; mode=display\">\\newcommand{\\Bold}[1]{\\mathbf{#1}}{F_{out,v}} = \\frac{{E_{l,mol}} L_{A} {R_{mol}} {T_{in}} {T_{out}} + {F_{in,v}} {P_{a}} {T_{out}}}{{P_{a}} {T_{in}}}</script></html>"
      ],
      "text/plain": [
       "F_out_v == (E_lmol*L_A*R_mol*T_in*T_out + F_in_v*P_a*T_out)/(P_a*T_in)"
      ]
     },
     "metadata": {},
     "output_type": "display_data"
    },
    {
     "data": {
      "text/html": [
       "<html><script type=\"math/tex; mode=display\">\\newcommand{\\Bold}[1]{\\mathbf{#1}}{F_{out,mol,w}} = {E_{l,mol}} L_{A} + {F_{in,mol,w}}</script></html>"
      ],
      "text/plain": [
       "F_out_molw == E_lmol*L_A + F_in_molw"
      ]
     },
     "metadata": {},
     "output_type": "display_data"
    },
    {
     "data": {
      "text/html": [
       "<html><script type=\"math/tex; mode=display\">\\newcommand{\\Bold}[1]{\\mathbf{#1}}{F_{out,v}} = \\frac{{\\left({F_{out,mol,a}} + {F_{out,mol,w}}\\right)} {R_{mol}} {T_{out}}}{{P_{a}}}</script></html>"
      ],
      "text/plain": [
       "F_out_v == (F_out_mola + F_out_molw)*R_mol*T_out/P_a"
      ]
     },
     "metadata": {},
     "output_type": "display_data"
    },
    {
     "data": {
      "text/html": [
       "<html><script type=\"math/tex; mode=display\">\\newcommand{\\Bold}[1]{\\mathbf{#1}}0 = {H_{l}} L_{A} + {\\left({F_{in,mol,a}} {M_{air}} {c_{pa}} + {F_{in,mol,w}} {M_{w}} {c_{pv}}\\right)} {T_{in}} - {\\left({F_{out,mol,a}} {M_{air}} {c_{pa}} + {F_{out,mol,w}} {M_{w}} {c_{pv}}\\right)} {T_{out}} + {Q_{in}}</script></html>"
      ],
      "text/plain": [
       "0 == H_l*L_A + (F_in_mola*M_air*c_pa + F_in_molw*M_w*c_pv)*T_in - (F_out_mola*M_air*c_pa + F_out_molw*M_w*c_pv)*T_out + Q_in"
      ]
     },
     "metadata": {},
     "output_type": "display_data"
    },
    {
     "data": {
      "text/html": [
       "<html><script type=\"math/tex; mode=display\">\\newcommand{\\Bold}[1]{\\mathbf{#1}}{H_{l}} = {E_{l,mol}} {M_{w}} {T_{out}} {c_{pv}} - \\frac{{F_{in,mol,a}} {M_{air}} {T_{in}} {c_{pa}}}{L_{A}} + \\frac{{F_{in,mol,a}} {M_{air}} {T_{out}} {c_{pa}}}{L_{A}} - \\frac{{F_{in,mol,w}} {M_{w}} {T_{in}} {c_{pv}}}{L_{A}} + \\frac{{F_{in,mol,w}} {M_{w}} {T_{out}} {c_{pv}}}{L_{A}} - \\frac{{Q_{in}}}{L_{A}}</script></html>"
      ],
      "text/plain": [
       "H_l == E_lmol*M_w*T_out*c_pv - F_in_mola*M_air*T_in*c_pa/L_A + F_in_mola*M_air*T_out*c_pa/L_A - F_in_molw*M_w*T_in*c_pv/L_A + F_in_molw*M_w*T_out*c_pv/L_A - Q_in/L_A"
      ]
     },
     "metadata": {},
     "output_type": "display_data"
    },
    {
     "name": "stdout",
     "output_type": "stream",
     "text": [
      "kilogram/second^3 == kilogram/second^3\n",
      "[\n",
      "T_out == (F_in_mola*M_air*T_in*c_pa + F_in_molw*M_w*T_in*c_pv + H_l*L_A + Q_in)/(E_lmol*L_A*M_w*c_pv + F_in_mola*M_air*c_pa + F_in_molw*M_w*c_pv)\n",
      "]\n"
     ]
    },
    {
     "data": {
      "text/html": [
       "<html><script type=\"math/tex; mode=display\">\\newcommand{\\Bold}[1]{\\mathbf{#1}}{T_{out}} = \\frac{{F_{in,mol,a}} {M_{air}} {T_{in}} {c_{pa}} + {F_{in,mol,w}} {M_{w}} {T_{in}} {c_{pv}} + {H_{l}} L_{A} + {Q_{in}}}{{E_{l,mol}} L_{A} {M_{w}} {c_{pv}} + {F_{in,mol,a}} {M_{air}} {c_{pa}} + {F_{in,mol,w}} {M_{w}} {c_{pv}}}</script></html>"
      ],
      "text/plain": [
       "T_out == (F_in_mola*M_air*T_in*c_pa + F_in_molw*M_w*T_in*c_pv + H_l*L_A + Q_in)/(E_lmol*L_A*M_w*c_pv + F_in_mola*M_air*c_pa + F_in_molw*M_w*c_pv)"
      ]
     },
     "metadata": {},
     "output_type": "display_data"
    },
    {
     "name": "stdout",
     "output_type": "stream",
     "text": [
      "T_out == (F_in_v*M_w*P_w_in*T_in*c_pv + H_l*L_A*R_mol*T_in + Q_in*R_mol*T_in + (F_in_v*M_air*P_a - F_in_v*M_air*P_w_in)*T_in*c_pa)/(E_lmol*L_A*M_w*R_mol*T_in*c_pv + F_in_v*M_w*P_w_in*c_pv + (F_in_v*M_air*P_a - F_in_v*M_air*P_w_in)*c_pa)\n"
     ]
    },
    {
     "data": {
      "text/html": [
       "<html><script type=\"math/tex; mode=display\">\\newcommand{\\Bold}[1]{\\mathbf{#1}}{T_{out}} = \\frac{{F_{in,v}} {M_{w}} {P_{w,in}} {T_{in}} {c_{pv}} + {H_{l}} L_{A} {R_{mol}} {T_{in}} + {Q_{in}} {R_{mol}} {T_{in}} + {\\left({F_{in,v}} {M_{air}} {P_{a}} - {F_{in,v}} {M_{air}} {P_{w,in}}\\right)} {T_{in}} {c_{pa}}}{{E_{l,mol}} L_{A} {M_{w}} {R_{mol}} {T_{in}} {c_{pv}} + {F_{in,v}} {M_{w}} {P_{w,in}} {c_{pv}} + {\\left({F_{in,v}} {M_{air}} {P_{a}} - {F_{in,v}} {M_{air}} {P_{w,in}}\\right)} {c_{pa}}}</script></html>"
      ],
      "text/plain": [
       "T_out == (F_in_v*M_w*P_w_in*T_in*c_pv + H_l*L_A*R_mol*T_in + Q_in*R_mol*T_in + (F_in_v*M_air*P_a - F_in_v*M_air*P_w_in)*T_in*c_pa)/(E_lmol*L_A*M_w*R_mol*T_in*c_pv + F_in_v*M_w*P_w_in*c_pv + (F_in_v*M_air*P_a - F_in_v*M_air*P_w_in)*c_pa)"
      ]
     },
     "metadata": {},
     "output_type": "display_data"
    },
    {
     "data": {
      "text/html": [
       "<html><script type=\"math/tex; mode=display\">\\newcommand{\\Bold}[1]{\\mathbf{#1}}{T_{out}} = \\frac{{F_{in,v}} {M_{w}} {P_{w,in}} {T_{in}} {c_{pv}} + {H_{l}} L_{A} {R_{mol}} {T_{in}} + {Q_{in}} {R_{mol}} {T_{in}} + {\\left({F_{in,v}} {M_{air}} {P_{a}} - {F_{in,v}} {M_{air}} {P_{w,in}}\\right)} {T_{in}} {c_{pa}}}{{E_{l,mol}} L_{A} {M_{w}} {R_{mol}} {T_{in}} {c_{pv}} + {F_{in,v}} {M_{w}} {P_{w,in}} {c_{pv}} + {\\left({F_{in,v}} {M_{air}} {P_{a}} - {F_{in,v}} {M_{air}} {P_{w,in}}\\right)} {c_{pa}}}</script></html>"
      ],
      "text/plain": [
       "T_out == (F_in_v*M_w*P_w_in*T_in*c_pv + H_l*L_A*R_mol*T_in + Q_in*R_mol*T_in + (F_in_v*M_air*P_a - F_in_v*M_air*P_w_in)*T_in*c_pa)/(E_lmol*L_A*M_w*R_mol*T_in*c_pv + F_in_v*M_w*P_w_in*c_pv + (F_in_v*M_air*P_a - F_in_v*M_air*P_w_in)*c_pa)"
      ]
     },
     "metadata": {},
     "output_type": "display_data"
    },
    {
     "data": {
      "text/html": [
       "<html><script type=\"math/tex; mode=display\">\\newcommand{\\Bold}[1]{\\mathbf{#1}}{F_{out,mol,a}} + {F_{out,mol,w}} = \\frac{{F_{out,v}} {P_{a}}}{{R_{mol}} {T_{out}}}</script></html>"
      ],
      "text/plain": [
       "F_out_mola + F_out_molw == F_out_v*P_a/(R_mol*T_out)"
      ]
     },
     "metadata": {},
     "output_type": "display_data"
    },
    {
     "data": {
      "text/html": [
       "<html><script type=\"math/tex; mode=display\">\\newcommand{\\Bold}[1]{\\mathbf{#1}}{E_{l,mol}} L_{A} + \\frac{{F_{in,v}} {\\left({P_{a}} - {P_{w,in}}\\right)}}{{R_{mol}} {T_{in}}} + \\frac{{F_{in,v}} {P_{w,in}}}{{R_{mol}} {T_{in}}} = \\frac{{F_{out,v}} {P_{a}}}{{R_{mol}} {T_{out}}}</script></html>"
      ],
      "text/plain": [
       "E_lmol*L_A + F_in_v*(P_a - P_w_in)/(R_mol*T_in) + F_in_v*P_w_in/(R_mol*T_in) == F_out_v*P_a/(R_mol*T_out)"
      ]
     },
     "metadata": {},
     "output_type": "display_data"
    },
    {
     "name": "stdout",
     "output_type": "stream",
     "text": [
      "[\n",
      "F_out_v == (E_lmol*L_A*R_mol*T_in*T_out + F_in_v*P_a*T_out)/(P_a*T_in)\n",
      "]\n"
     ]
    },
    {
     "data": {
      "text/html": [
       "<html><script type=\"math/tex; mode=display\">\\newcommand{\\Bold}[1]{\\mathbf{#1}}{F_{out,v}} = \\frac{{E_{l,mol}} L_{A} {R_{mol}} {T_{in}} {T_{out}} + {F_{in,v}} {P_{a}} {T_{out}}}{{P_{a}} {T_{in}}}</script></html>"
      ],
      "text/plain": [
       "F_out_v == (E_lmol*L_A*R_mol*T_in*T_out + F_in_v*P_a*T_out)/(P_a*T_in)"
      ]
     },
     "metadata": {},
     "output_type": "display_data"
    },
    {
     "data": {
      "text/html": [
       "<html><script type=\"math/tex; mode=display\">\\newcommand{\\Bold}[1]{\\mathbf{#1}}{F_{out,v}} = \\frac{{E_{l,mol}} L_{A} {R_{mol}} {T_{in}} {T_{out}} + {F_{in,v}} {P_{a}} {T_{out}}}{{P_{a}} {T_{in}}}</script></html>"
      ],
      "text/plain": [
       "F_out_v == (E_lmol*L_A*R_mol*T_in*T_out + F_in_v*P_a*T_out)/(P_a*T_in)"
      ]
     },
     "metadata": {},
     "output_type": "display_data"
    },
    {
     "data": {
      "text/html": [
       "<html><script type=\"math/tex; mode=display\">\\newcommand{\\Bold}[1]{\\mathbf{#1}}0 = {H_{l}} L_{A} + {\\left({F_{in,mol,a}} {M_{air}} {c_{pa}} + {F_{in,mol,w}} {M_{w}} {c_{pv}}\\right)} {T_{in}} - {\\left({F_{out,mol,a}} {M_{air}} {c_{pa}} + {F_{out,mol,w}} {M_{w}} {c_{pv}}\\right)} {T_{out}} + {Q_{in}}</script></html>"
      ],
      "text/plain": [
       "0 == H_l*L_A + (F_in_mola*M_air*c_pa + F_in_molw*M_w*c_pv)*T_in - (F_out_mola*M_air*c_pa + F_out_molw*M_w*c_pv)*T_out + Q_in"
      ]
     },
     "metadata": {},
     "output_type": "display_data"
    },
    {
     "name": "stdout",
     "output_type": "stream",
     "text": [
      "[\n",
      "T_in == (F_in_v*M_w*P_w_in*T_out*c_pv + (F_in_v*M_air*P_a - F_in_v*M_air*P_w_in)*T_out*c_pa)/(F_in_v*M_w*P_w_in*c_pv - (E_lmol*M_w*R_mol*T_out*c_pv - H_l*R_mol)*L_A + Q_in*R_mol + (F_in_v*M_air*P_a - F_in_v*M_air*P_w_in)*c_pa)\n",
      "]\n"
     ]
    },
    {
     "data": {
      "text/html": [
       "<html><script type=\"math/tex; mode=display\">\\newcommand{\\Bold}[1]{\\mathbf{#1}}{T_{in}} = \\frac{{F_{in,v}} {M_{w}} {P_{w,in}} {T_{out}} {c_{pv}} + {\\left({F_{in,v}} {M_{air}} {P_{a}} - {F_{in,v}} {M_{air}} {P_{w,in}}\\right)} {T_{out}} {c_{pa}}}{{F_{in,v}} {M_{w}} {P_{w,in}} {c_{pv}} - {\\left({E_{l,mol}} {M_{w}} {R_{mol}} {T_{out}} {c_{pv}} - {H_{l}} {R_{mol}}\\right)} L_{A} + {Q_{in}} {R_{mol}} + {\\left({F_{in,v}} {M_{air}} {P_{a}} - {F_{in,v}} {M_{air}} {P_{w,in}}\\right)} {c_{pa}}}</script></html>"
      ],
      "text/plain": [
       "T_in == (F_in_v*M_w*P_w_in*T_out*c_pv + (F_in_v*M_air*P_a - F_in_v*M_air*P_w_in)*T_out*c_pa)/(F_in_v*M_w*P_w_in*c_pv - (E_lmol*M_w*R_mol*T_out*c_pv - H_l*R_mol)*L_A + Q_in*R_mol + (F_in_v*M_air*P_a - F_in_v*M_air*P_w_in)*c_pa)"
      ]
     },
     "metadata": {},
     "output_type": "display_data"
    },
    {
     "name": "stdout",
     "output_type": "stream",
     "text": [
      "[\n",
      "Q_in == ((E_lmol*M_w*R_mol*T_in*T_out*c_pv - H_l*R_mol*T_in)*L_A - ((F_in_v*M_air*P_a - F_in_v*M_air*P_w_in)*T_in - (F_in_v*M_air*P_a - F_in_v*M_air*P_w_in)*T_out)*c_pa - (F_in_v*M_w*P_w_in*T_in - F_in_v*M_w*P_w_in*T_out)*c_pv)/(R_mol*T_in)\n",
      "]\n",
      "[\n",
      "H_l == (E_lmol*L_A*M_w*R_mol*T_in*T_out*c_pv - Q_in*R_mol*T_in - ((F_in_v*M_air*P_a - F_in_v*M_air*P_w_in)*T_in - (F_in_v*M_air*P_a - F_in_v*M_air*P_w_in)*T_out)*c_pa - (F_in_v*M_w*P_w_in*T_in - F_in_v*M_w*P_w_in*T_out)*c_pv)/(L_A*R_mol*T_in)\n",
      "]\n"
     ]
    },
    {
     "data": {
      "text/html": [
       "<html><script type=\"math/tex; mode=display\">\\newcommand{\\Bold}[1]{\\mathbf{#1}}{H_{l}} = \\frac{{E_{l,mol}} L_{A} {M_{w}} {R_{mol}} {T_{in}} {T_{out}} {c_{pv}} - {Q_{in}} {R_{mol}} {T_{in}} - {\\left({\\left({F_{in,v}} {M_{air}} {P_{a}} - {F_{in,v}} {M_{air}} {P_{w,in}}\\right)} {T_{in}} - {\\left({F_{in,v}} {M_{air}} {P_{a}} - {F_{in,v}} {M_{air}} {P_{w,in}}\\right)} {T_{out}}\\right)} {c_{pa}} - {\\left({F_{in,v}} {M_{w}} {P_{w,in}} {T_{in}} - {F_{in,v}} {M_{w}} {P_{w,in}} {T_{out}}\\right)} {c_{pv}}}{L_{A} {R_{mol}} {T_{in}}}</script></html>"
      ],
      "text/plain": [
       "H_l == (E_lmol*L_A*M_w*R_mol*T_in*T_out*c_pv - Q_in*R_mol*T_in - ((F_in_v*M_air*P_a - F_in_v*M_air*P_w_in)*T_in - (F_in_v*M_air*P_a - F_in_v*M_air*P_w_in)*T_out)*c_pa - (F_in_v*M_w*P_w_in*T_in - F_in_v*M_w*P_w_in*T_out)*c_pv)/(L_A*R_mol*T_in)"
      ]
     },
     "metadata": {},
     "output_type": "display_data"
    },
    {
     "name": "stdout",
     "output_type": "stream",
     "text": [
      "[\n",
      "H_l == -((F_in_mola*M_air*T_in - F_in_mola*M_air*T_out)*c_pa + (F_in_molw*M_w*T_in - F_out_molw*M_w*T_out)*c_pv + Q_in)/L_A\n",
      "]\n"
     ]
    },
    {
     "data": {
      "text/html": [
       "<html><script type=\"math/tex; mode=display\">\\newcommand{\\Bold}[1]{\\mathbf{#1}}{H_{l}} = -\\frac{{\\left({F_{in,mol,a}} {M_{air}} {T_{in}} - {F_{in,mol,a}} {M_{air}} {T_{out}}\\right)} {c_{pa}} + {\\left({F_{in,mol,w}} {M_{w}} {T_{in}} - {F_{out,mol,w}} {M_{w}} {T_{out}}\\right)} {c_{pv}} + {Q_{in}}}{L_{A}}</script></html>"
      ],
      "text/plain": [
       "H_l == -((F_in_mola*M_air*T_in - F_in_mola*M_air*T_out)*c_pa + (F_in_molw*M_w*T_in - F_out_molw*M_w*T_out)*c_pv + Q_in)/L_A"
      ]
     },
     "metadata": {},
     "output_type": "display_data"
    },
    {
     "name": "stdout",
     "output_type": "stream",
     "text": [
      "[19.1756620432331, 35.0631107274011, 62.0367042507648, 106.473009443655, 177.667645607840, 288.831780737493, 458.305321164456, 710.999051614674, 1080.07052944457, 1608.82992645281, 2352.86266113812, 3382.34604242497, 4784.52773726516, 6666.32514525647, 9156.99713166349]\n"
     ]
    },
    {
     "data": {
      "text/html": [
       "<html><script type=\"math/tex; mode=display\">\\newcommand{\\Bold}[1]{\\mathbf{#1}}{F_{in,mol,w}} = \\frac{{F_{in,v}} {P_{w,in}}}{{R_{mol}} {T_{in}}}</script></html>"
      ],
      "text/plain": [
       "F_in_molw == F_in_v*P_w_in/(R_mol*T_in)"
      ]
     },
     "metadata": {},
     "output_type": "display_data"
    },
    {
     "data": {
      "text/html": [
       "<html><script type=\"math/tex; mode=display\">\\newcommand{\\Bold}[1]{\\mathbf{#1}}{F_{in,v}} = \\frac{{\\left({F_{in,mol,a}} + {F_{in,mol,w}}\\right)} {R_{mol}} {T_{in}}}{{P_{a}}}</script></html>"
      ],
      "text/plain": [
       "F_in_v == (F_in_mola + F_in_molw)*R_mol*T_in/P_a"
      ]
     },
     "metadata": {},
     "output_type": "display_data"
    },
    {
     "data": {
      "text/html": [
       "<html><script type=\"math/tex; mode=display\">\\newcommand{\\Bold}[1]{\\mathbf{#1}}{F_{in,mol,a}} = \\frac{{F_{in,v,a,n}} P_{r}}{{R_{mol}} T_{r}}</script></html>"
      ],
      "text/plain": [
       "F_in_mola == F_in_va_n*P_r/(R_mol*T_r)"
      ]
     },
     "metadata": {},
     "output_type": "display_data"
    },
    {
     "name": "stdout",
     "output_type": "stream",
     "text": [
      "mole/second == mole/second\n"
     ]
    },
    {
     "data": {
      "text/html": [
       "<html><script type=\"math/tex; mode=display\">\\newcommand{\\Bold}[1]{\\mathbf{#1}}{F_{in,mol,w}} = \\frac{{F_{in,v}} {P_{w,in}}}{{R_{mol}} {T_{in}}}</script></html>"
      ],
      "text/plain": [
       "F_in_molw == F_in_v*P_w_in/(R_mol*T_in)"
      ]
     },
     "metadata": {},
     "output_type": "display_data"
    },
    {
     "name": "stdout",
     "output_type": "stream",
     "text": [
      "mole/second == mole/second\n"
     ]
    },
    {
     "data": {
      "text/html": [
       "<html><script type=\"math/tex; mode=display\">\\newcommand{\\Bold}[1]{\\mathbf{#1}}{F_{in,v}} = \\frac{{F_{in,mol,a}} {R_{mol}} {T_{in}}}{{P_{a}} - {P_{w,in}}}</script></html>"
      ],
      "text/plain": [
       "F_in_v == F_in_mola*R_mol*T_in/(P_a - P_w_in)"
      ]
     },
     "metadata": {},
     "output_type": "display_data"
    },
    {
     "name": "stdout",
     "output_type": "stream",
     "text": [
      "meter^3/second == meter^3/second\n"
     ]
    },
    {
     "data": {
      "text/html": [
       "<html><script type=\"math/tex; mode=display\">\\newcommand{\\Bold}[1]{\\mathbf{#1}}{F_{in,mol,w}} = \\frac{{F_{in,mol,a}} {P_{w,in}}}{{P_{a}} - {P_{w,in}}}</script></html>"
      ],
      "text/plain": [
       "F_in_molw == F_in_mola*P_w_in/(P_a - P_w_in)"
      ]
     },
     "metadata": {},
     "output_type": "display_data"
    },
    {
     "name": "stdout",
     "output_type": "stream",
     "text": [
      "mole/second == mole/second\n"
     ]
    },
    {
     "data": {
      "text/html": [
       "<html><script type=\"math/tex; mode=display\">\\newcommand{\\Bold}[1]{\\mathbf{#1}}{F_{in,v}} = \\frac{{F_{in,v,a,n}} P_{r} {T_{in}}}{{\\left({P_{a}} - {P_{w,in}}\\right)} T_{r}}</script></html>"
      ],
      "text/plain": [
       "F_in_v == F_in_va_n*P_r*T_in/((P_a - P_w_in)*T_r)"
      ]
     },
     "metadata": {},
     "output_type": "display_data"
    },
    {
     "name": "stdout",
     "output_type": "stream",
     "text": [
      "meter^3/second == meter^3/second\n",
      "1227.86016957787\n",
      "0.000166666666666667\n",
      "Volumentric flow at 0 oC: 0.000168711114309656 m3/s\n",
      "Volumentric flow at 25 oC: 0.000184152365848157 m3/s\n",
      "25oC/0oC: 1.09152480322167\n",
      "Volumentric flow at 25 oC without added vapour: 0.000181920800536946 m3/s\n"
     ]
    },
    {
     "data": {
      "text/html": [
       "<html><script type=\"math/tex; mode=display\">\\newcommand{\\Bold}[1]{\\mathbf{#1}}{F_{out,v}} = \\frac{{E_{l,mol}} L_{A} {R_{mol}} {T_{in}} {T_{out}} + {F_{in,v}} {P_{a}} {T_{out}}}{{P_{a}} {T_{in}}}</script></html>"
      ],
      "text/plain": [
       "F_out_v == (E_lmol*L_A*R_mol*T_in*T_out + F_in_v*P_a*T_out)/(P_a*T_in)"
      ]
     },
     "metadata": {},
     "output_type": "display_data"
    },
    {
     "data": {
      "text/html": [
       "<html><script type=\"math/tex; mode=display\">\\newcommand{\\Bold}[1]{\\mathbf{#1}}{F_{out,v}} = \\frac{{\\left({F_{out,mol,a}} + {F_{out,mol,w}}\\right)} {R_{mol}} {T_{out}}}{{P_{a}}}</script></html>"
      ],
      "text/plain": [
       "F_out_v == (F_out_mola + F_out_molw)*R_mol*T_out/P_a"
      ]
     },
     "metadata": {},
     "output_type": "display_data"
    },
    {
     "data": {
      "text/html": [
       "<html><script type=\"math/tex; mode=display\">\\newcommand{\\Bold}[1]{\\mathbf{#1}}{F_{in,mol,a}} = \\frac{{F_{in,v,a,n}} P_{r}}{{R_{mol}} T_{r}}</script></html>"
      ],
      "text/plain": [
       "F_in_mola == F_in_va_n*P_r/(R_mol*T_r)"
      ]
     },
     "metadata": {},
     "output_type": "display_data"
    },
    {
     "data": {
      "text/html": [
       "<html><script type=\"math/tex; mode=display\">\\newcommand{\\Bold}[1]{\\mathbf{#1}}{F_{in,v}} = \\frac{{F_{in,v,a,n}} P_{r} {T_{in}}}{{\\left({P_{a}} - {P_{w,in}}\\right)} T_{r}}</script></html>"
      ],
      "text/plain": [
       "F_in_v == F_in_va_n*P_r*T_in/((P_a - P_w_in)*T_r)"
      ]
     },
     "metadata": {},
     "output_type": "display_data"
    },
    {
     "data": {
      "text/html": [
       "<html><script type=\"math/tex; mode=display\">\\newcommand{\\Bold}[1]{\\mathbf{#1}}{F_{in,mol,w}} = \\frac{{F_{in,v}} {P_{w,in}}}{{R_{mol}} {T_{in}}}</script></html>"
      ],
      "text/plain": [
       "F_in_molw == F_in_v*P_w_in/(R_mol*T_in)"
      ]
     },
     "metadata": {},
     "output_type": "display_data"
    },
    {
     "data": {
      "text/html": [
       "<html><script type=\"math/tex; mode=display\">\\newcommand{\\Bold}[1]{\\mathbf{#1}}{F_{out,mol,w}} = \\frac{{F_{out,v}} {P_{w,out}}}{{R_{mol}} {T_{out}}}</script></html>"
      ],
      "text/plain": [
       "F_out_molw == F_out_v*P_w_out/(R_mol*T_out)"
      ]
     },
     "metadata": {},
     "output_type": "display_data"
    },
    {
     "data": {
      "text/html": [
       "<html><script type=\"math/tex; mode=display\">\\newcommand{\\Bold}[1]{\\mathbf{#1}}{F_{out,mol,w}} = {E_{l,mol}} L_{A} + {F_{in,mol,w}}</script></html>"
      ],
      "text/plain": [
       "F_out_molw == E_lmol*L_A + F_in_molw"
      ]
     },
     "metadata": {},
     "output_type": "display_data"
    },
    {
     "data": {
      "text/html": [
       "<html><script type=\"math/tex; mode=display\">\\newcommand{\\Bold}[1]{\\mathbf{#1}}\\frac{{F_{out,v}} {P_{w,out}}}{{R_{mol}} {T_{out}}} = {E_{l,mol}} L_{A} + \\frac{{F_{in,v}} {P_{w,in}}}{{R_{mol}} {T_{in}}}</script></html>"
      ],
      "text/plain": [
       "F_out_v*P_w_out/(R_mol*T_out) == E_lmol*L_A + F_in_v*P_w_in/(R_mol*T_in)"
      ]
     },
     "metadata": {},
     "output_type": "display_data"
    },
    {
     "data": {
      "text/html": [
       "<html><script type=\"math/tex; mode=display\">\\newcommand{\\Bold}[1]{\\mathbf{#1}}{P_{w,out}} = \\frac{{E_{l,mol}} L_{A} {P_{a}} {R_{mol}} {T_{in}} + {F_{in,v}} {P_{a}} {P_{w,in}}}{{E_{l,mol}} L_{A} {R_{mol}} {T_{in}} + {F_{in,v}} {P_{a}}}</script></html>"
      ],
      "text/plain": [
       "P_w_out == (E_lmol*L_A*P_a*R_mol*T_in + F_in_v*P_a*P_w_in)/(E_lmol*L_A*R_mol*T_in + F_in_v*P_a)"
      ]
     },
     "metadata": {},
     "output_type": "display_data"
    },
    {
     "name": "stdout",
     "output_type": "stream",
     "text": [
      "kilogram/(meter*second^2) == kilogram/(meter*second^2)\n"
     ]
    },
    {
     "data": {
      "text/html": [
       "<html><script type=\"math/tex; mode=display\">\\newcommand{\\Bold}[1]{\\mathbf{#1}}{P_{w,out}} = \\frac{{E_{l,mol}} L_{A} {P_{a}} {R_{mol}} {T_{in}} + {F_{in,v}} {P_{a}} {P_{w,in}}}{{E_{l,mol}} L_{A} {R_{mol}} {T_{in}} + {F_{in,v}} {P_{a}}}</script></html>"
      ],
      "text/plain": [
       "P_w_out == (E_lmol*L_A*P_a*R_mol*T_in + F_in_v*P_a*P_w_in)/(E_lmol*L_A*R_mol*T_in + F_in_v*P_a)"
      ]
     },
     "metadata": {},
     "output_type": "display_data"
    },
    {
     "data": {
      "text/html": [
       "<html><script type=\"math/tex; mode=display\">\\newcommand{\\Bold}[1]{\\mathbf{#1}}{P_{w,out}} = \\frac{{E_{l,mol}} L_{A} {P_{a}} {R_{mol}} {T_{in}} + {F_{in,v}} {P_{a}} {P_{w,in}}}{{E_{l,mol}} L_{A} {R_{mol}} {T_{in}} + {F_{in,v}} {P_{a}}}</script></html>"
      ],
      "text/plain": [
       "P_w_out == (E_lmol*L_A*P_a*R_mol*T_in + F_in_v*P_a*P_w_in)/(E_lmol*L_A*R_mol*T_in + F_in_v*P_a)"
      ]
     },
     "metadata": {},
     "output_type": "display_data"
    },
    {
     "data": {
      "text/html": [
       "<html><script type=\"math/tex; mode=display\">\\newcommand{\\Bold}[1]{\\mathbf{#1}}{P_{w,out}} = \\frac{{E_{l,mol}} L_{A} {P_{a}} {R_{mol}} {T_{in}} + {F_{in,v}} {P_{a}} {P_{w,in}}}{{E_{l,mol}} L_{A} {R_{mol}} {T_{in}} + {\\left({F_{in,mol,a}} + {F_{in,mol,w}}\\right)} {R_{mol}} {T_{in}}}</script></html>"
      ],
      "text/plain": [
       "P_w_out == (E_lmol*L_A*P_a*R_mol*T_in + F_in_v*P_a*P_w_in)/(E_lmol*L_A*R_mol*T_in + (F_in_mola + F_in_molw)*R_mol*T_in)"
      ]
     },
     "metadata": {},
     "output_type": "display_data"
    },
    {
     "data": {
      "text/html": [
       "<html><script type=\"math/tex; mode=display\">\\newcommand{\\Bold}[1]{\\mathbf{#1}}{P_{w,out}} = \\frac{{F_{in,v,a,n}} {P_{a}} P_{r} {P_{w,in}} + {\\left({E_{l,mol}} {P_{a}}^{2} - {E_{l,mol}} {P_{a}} {P_{w,in}}\\right)} L_{A} {R_{mol}} T_{r}}{{\\left({E_{l,mol}} {P_{a}} - {E_{l,mol}} {P_{w,in}}\\right)} L_{A} {R_{mol}} T_{r} + {F_{in,v,a,n}} {P_{a}} P_{r}}</script></html>"
      ],
      "text/plain": [
       "P_w_out == (F_in_va_n*P_a*P_r*P_w_in + (E_lmol*P_a^2 - E_lmol*P_a*P_w_in)*L_A*R_mol*T_r)/((E_lmol*P_a - E_lmol*P_w_in)*L_A*R_mol*T_r + F_in_va_n*P_a*P_r)"
      ]
     },
     "metadata": {},
     "output_type": "display_data"
    },
    {
     "data": {
      "text/html": [
       "<html><script type=\"math/tex; mode=display\">\\newcommand{\\Bold}[1]{\\mathbf{#1}}{P_{w,out}} = \\frac{{E_{l,mol}} L_{A} {R_{mol}} {T_{in}} {T_{out}} + {F_{in,v}} {P_{w,in}} {T_{out}}}{{F_{out,v}} {T_{in}}}</script></html>"
      ],
      "text/plain": [
       "P_w_out == (E_lmol*L_A*R_mol*T_in*T_out + F_in_v*P_w_in*T_out)/(F_out_v*T_in)"
      ]
     },
     "metadata": {},
     "output_type": "display_data"
    },
    {
     "data": {
      "text/html": [
       "<html><script type=\"math/tex; mode=display\">\\newcommand{\\Bold}[1]{\\mathbf{#1}}{F_{out,v}} = \\frac{{E_{l,mol}} L_{A} {R_{mol}} {T_{in}} {T_{out}} + {F_{in,v}} {P_{a}} {T_{out}}}{{P_{a}} {T_{in}}}</script></html>"
      ],
      "text/plain": [
       "F_out_v == (E_lmol*L_A*R_mol*T_in*T_out + F_in_v*P_a*T_out)/(P_a*T_in)"
      ]
     },
     "metadata": {},
     "output_type": "display_data"
    },
    {
     "data": {
      "text/html": [
       "<html><script type=\"math/tex; mode=display\">\\newcommand{\\Bold}[1]{\\mathbf{#1}}{F_{in,mol,w}} = \\frac{{F_{in,v}} {P_{w,in}}}{{R_{mol}} {T_{in}}}</script></html>"
      ],
      "text/plain": [
       "F_in_molw == F_in_v*P_w_in/(R_mol*T_in)"
      ]
     },
     "metadata": {},
     "output_type": "display_data"
    },
    {
     "data": {
      "text/html": [
       "<html><script type=\"math/tex; mode=display\">\\newcommand{\\Bold}[1]{\\mathbf{#1}}{P_{w,out}} = \\frac{{\\left({E_{l,mol}} L_{A} {R_{mol}} {T_{in}} {T_{out}} + {F_{in,v}} {P_{w,in}} {T_{out}}\\right)} {P_{a}}}{{E_{l,mol}} L_{A} {R_{mol}} {T_{in}} {T_{out}} + {F_{in,v}} {P_{a}} {T_{out}}}</script></html>"
      ],
      "text/plain": [
       "P_w_out == (E_lmol*L_A*R_mol*T_in*T_out + F_in_v*P_w_in*T_out)*P_a/(E_lmol*L_A*R_mol*T_in*T_out + F_in_v*P_a*T_out)"
      ]
     },
     "metadata": {},
     "output_type": "display_data"
    },
    {
     "data": {
      "text/html": [
       "<html><script type=\"math/tex; mode=display\">\\newcommand{\\Bold}[1]{\\mathbf{#1}}{P_{w,out}} = \\frac{{E_{l,mol}} L_{A} {P_{a}} {R_{mol}} {T_{in}} {T_{out}}}{{E_{l,mol}} L_{A} {R_{mol}} {T_{in}} {T_{out}} + {F_{in,v}} {P_{a}} {T_{out}}} + \\frac{{F_{in,v}} {P_{a}} {P_{w,in}} {T_{out}}}{{E_{l,mol}} L_{A} {R_{mol}} {T_{in}} {T_{out}} + {F_{in,v}} {P_{a}} {T_{out}}}</script></html>"
      ],
      "text/plain": [
       "P_w_out == E_lmol*L_A*P_a*R_mol*T_in*T_out/(E_lmol*L_A*R_mol*T_in*T_out + F_in_v*P_a*T_out) + F_in_v*P_a*P_w_in*T_out/(E_lmol*L_A*R_mol*T_in*T_out + F_in_v*P_a*T_out)"
      ]
     },
     "metadata": {},
     "output_type": "display_data"
    },
    {
     "data": {
      "text/html": [
       "<html><script type=\"math/tex; mode=display\">\\newcommand{\\Bold}[1]{\\mathbf{#1}}{E_{l,mol}} = \\frac{{E_{l}}}{{M_{w}} {\\lambda_{E}}}</script></html>"
      ],
      "text/plain": [
       "E_lmol == E_l/(M_w*lambda_E)"
      ]
     },
     "metadata": {},
     "output_type": "display_data"
    },
    {
     "name": "stdout",
     "output_type": "stream",
     "text": [
      "mole/(meter^2*second) == mole/(meter^2*second)\n"
     ]
    },
    {
     "data": {
      "text/html": [
       "<html><script type=\"math/tex; mode=display\">\\newcommand{\\Bold}[1]{\\mathbf{#1}}{P_{w,in}} = -\\frac{{\\left({E_{l,mol}} {P_{a}} - {E_{l,mol}} {P_{w,out}}\\right)} L_{A} {R_{mol}} {T_{in}} - {F_{in,v}} {P_{a}} {P_{w,out}}}{{F_{in,v}} {P_{a}}}</script></html>"
      ],
      "text/plain": [
       "P_w_in == -((E_lmol*P_a - E_lmol*P_w_out)*L_A*R_mol*T_in - F_in_v*P_a*P_w_out)/(F_in_v*P_a)"
      ]
     },
     "metadata": {},
     "output_type": "display_data"
    },
    {
     "name": "stdout",
     "output_type": "stream",
     "text": [
      "1227.86016957787\n",
      "0.000166666666666667\n",
      "Volumentric flow at 0 oC: 0.000168711114309656 m3/s\n",
      "Volumentric flow at 25 oC: 0.000184152365848157 m3/s\n",
      "25oC/0oC: 1.09152480322167\n",
      "Volumentric flow at 25 oC without added vapour: 0.000181920800536946 m3/s\n"
     ]
    },
    {
     "data": {
      "text/html": [
       "<html><script type=\"math/tex; mode=display\">\\newcommand{\\Bold}[1]{\\mathbf{#1}}F_{s} = \\frac{L_{\\mathit{ls}} {\\left(\\sqrt{{\\left(\\frac{{L_{l}}}{L_{\\mathit{ls}}} + \\frac{L_{s}}{L_{\\mathit{ls}}}\\right)}^{2} + 4} - \\sqrt{{\\left(\\frac{{L_{l}}}{L_{\\mathit{ls}}} - \\frac{L_{s}}{L_{\\mathit{ls}}}\\right)}^{2} + 4}\\right)}}{2 \\, L_{s}}</script></html>"
      ],
      "text/plain": [
       "F_s == 1/2*L_ls*(sqrt((L_l/L_ls + L_s/L_ls)^2 + 4) - sqrt((L_l/L_ls - L_s/L_ls)^2 + 4))/L_s"
      ]
     },
     "metadata": {},
     "output_type": "display_data"
    },
    {
     "name": "stdout",
     "output_type": "stream",
     "text": [
      "0.821854415126695\n",
      "imported file temp/leaf_chamber_eqs\n",
      "jupyter nbconvert  --to=python 'perforated_foils_data.ipynb'\n",
      "Exporting specified worksheet to .py file...\n"
     ]
    },
    {
     "name": "stderr",
     "output_type": "stream",
     "text": [
      "nbconvert returned 0\n"
     ]
    },
    {
     "name": "stdout",
     "output_type": "stream",
     "text": [
      "Checking if specified ipynb file was run with sage kernel...\n",
      "Renaming .py file to .sage if notebook kernel was sage (to avoid exponent error)\n",
      "created file temp/perforated_foils_data\n",
      "M_N2            0.0280000000000000\n",
      "M_O2            0.0320000000000000\n",
      "M_w             0.0180000000000000\n",
      "Pr              0.710000000000000\n",
      "R_mol           8.31447200000000\n",
      "a_sh            2              \n",
      "c_pa            1010           \n",
      "d_p             0.0000250000000000000\n",
      "epsilon_l       1              \n",
      "g               9.81000000000000\n",
      "lambda_E        2.45000000000000e6\n",
      "sigm            5.67000000000000e-8\n",
      "CSV Version,1\n",
      "\n",
      "\"File name\",\"63_7_1a.rpt\"\n",
      "\n",
      "\"Title\",\"\"\n",
      "\n",
      "\"Measurement date\",\"8/19/2013\"\n",
      "\n",
      "\"Measurement time\",\"4:18:28 PM\"\n",
      "\n",
      "\"User mode\",\"Easy\"\n",
      "\n",
      "\"Objective lens\",\"Standard lens 10.0\",\"x\"\n",
      "\n",
      "\"NA\",\"0.300\"\n",
      "\n",
      "\"Size\",\"Standard\"\n",
      "\n",
      "\"Mode\",\"Surface profile\"\n",
      "\n",
      "area_av         1278.07271087  \n",
      "area_perim      1.02329878749  \n",
      "area_perim      8.10321519641  \n",
      "area_std        362.405791974  \n",
      "density_mm      29.8887533355  \n",
      "diameter_a      39.8975434783  \n",
      "diameter_s      5.95639748961  \n",
      "fname           data/perforated_foils/35_4/new_analysis/35_2c_matte_10x_bump.csv\n",
      "gsp             0.0376151390555144\n",
      "gsp50           0.0564227085832717\n",
      "gsw             0.0172677642706621\n",
      "gsw50           0.0233278616128606\n",
      "gsw_r0          0.0243512590402737\n",
      "gsw_r050        0.0343492611501317\n",
      "perimeter_      31.8588941464  \n",
      "perimeter_      155.294034783  \n",
      "porosity        3.82           \n",
      "vdict           {T_l: 300, g: 9.81000000000000, D_va: 0.0000251000000000000, a_sh: 2, M_O2: 0.0320000000000000, k_dv: 0.00100000000000000, T_a: 300.000000000000, R_mol: 8.31447200000000, A_p: 1.2780727108695653e-09, F_p: 0.038199999999999998, s_p: 0.00018291364303436687, c_pa: 1010, M_N2: 0.0280000000000000, epsilon_l: 1, d_p: 0.0000250000000000000, sigm: 5.67000000000000e-8, P_a: 101325, Pr: 0.710000000000000, M_w: 0.0180000000000000, lambda_E: 2.45000000000000e6, r_p: 0.0000201698581832273, n_p: 29888753.335488852}\n",
      "number of holes per mm2: 64.29324922677597\n",
      "density_mm: 64.2933\n",
      "area_av: 1153.93\n",
      "diameter_av: 38.2712\n",
      "gsp: 0.0730541\n",
      "gsp50: 0.109581\n",
      "gsw: 0.0350147\n",
      "gsw50: 0.0476831\n",
      "gsw_r0: 0.0492183\n",
      "gsw_r050: 0.0702128\n",
      "['63_7_1a_bump_a.csv', '63_7_1b_bump_a.csv', '63_7_1c_bump_a.csv', '63_7_2a_bump_a.csv', '63_7_2c_bump_a.csv']\n",
      "number of holes per mm2: 64.9584048980769\n",
      "min/max BUMP:\n",
      "density_mm: (64.293251, 64.987022)\n",
      "area_av: (1104.2205, 1240.043)\n",
      "diameter_av: (37.327999, 39.672829)\n",
      "gsp: (0.070661321, 0.079208426)\n",
      "gsp50: (0.10599198, 0.11881264)\n",
      "gsw: (0.034224734, 0.03735587)\n",
      "gsw50: (0.046637036, 0.050835587)\n",
      "gsw_r0: (0.047885068, 0.052923851)\n",
      "gsw_r050: (0.068322606, 0.075518593)\n",
      "\n",
      "min/max BUMP at d_p = 0:\n",
      "gsp: (1766533.0, 1980210.6)\n",
      "gsp50: (2649799.5, 2970316.0)\n",
      "gsw: (0.06637188, 0.070698187)\n",
      "gsw50: (0.083281219, 0.088852197)\n",
      "gsw_r0: (0.1485592, 0.15948573)\n",
      "gsw_r050: (0.19224234, 0.20724706)\n",
      "['7_1a_bump_a.csv', '7_1b_bump_a.csv', '7_1c_bump_a.csv', '7_2a_bump_a.csv', '7_2b_bump_a.csv']\n",
      "number of holes per mm2: 7.805322698787334\n",
      "min/max BUMP:\n",
      "density_mm: (7.7868133, 7.8053226)\n",
      "area_av: (1040.2625, 1279.8959)\n",
      "diameter_av: (36.163334, 40.327499)\n",
      "gsp: (0.0079858322, 0.0098370481)\n",
      "gsp50: (0.011978748, 0.014755572)\n",
      "gsw: (0.0037912941, 0.0044257501)\n",
      "gsw50: (0.0051085786, 0.005937987)\n",
      "gsw_r0: (0.0052035498, 0.0061923591)\n",
      "gsw_r050: (0.0072833379, 0.0086374423)\n",
      "\n",
      "min/max BUMP at d_p = 0:\n",
      "gsp: (199645.8, 245926.2)\n",
      "gsp50: (299468.69, 368889.31)\n",
      "gsw: (0.0072181099, 0.008045448)\n",
      "gsw50: (0.0089072585, 0.0099367779)\n",
      "gsw_r0: (0.014935465, 0.016713232)\n",
      "gsw_r050: (0.018580968, 0.020831596)\n",
      "['7_3a_matte_bump.csv', '7_3a_shiny_bump.csv', '7_3b_matte_bump.csv', '7_3b_shiny_bump.csv', '7_3c_matte_bump.csv', '7_3c_shiny_bump.csv']\n",
      "number of holes per mm2: 7.797169108044727\n",
      "min/max BUMP:\n",
      "density_mm: (7.15868, 7.8058972)\n",
      "area_av: (889.82886, 1886.3206)\n",
      "diameter_av: (33.438446, 48.809765)\n",
      "gsp: (0.006272472, 0.014474936)\n",
      "gsp50: (0.0094087087, 0.021712404)\n",
      "gsw: (0.0030942585, 0.0058542057)\n",
      "gsw50: (0.0041823331, 0.0077960044)\n",
      "gsw_r0: (0.0041860864, 0.0085008573)\n",
      "gsw_r050: (0.0058728051, 0.011785813)\n",
      "\n",
      "min/max BUMP at d_p = 0:\n",
      "gsp: (156811.8, 361873.41)\n",
      "gsp50: (235217.7, 542810.06)\n",
      "gsw: (0.006106779, 0.0098297065)\n",
      "gsw50: (0.0075291856, 0.012163347)\n",
      "gsw_r0: (0.012584971, 0.02059721)\n",
      "gsw_r050: (0.015626986, 0.025779074)\n",
      "['35_4_1a_bump_a.csv', '35_4_1b_bump_a.csv', '35_4_2a_bump_a.csv', '35_4_2b_bump_a.csv', '35_4_2c_bump_a.csv']\n",
      "number of holes per mm2: 31.165016777105922\n",
      "min/max BUMP:\n",
      "density_mm: (29.87863, 38.201073)\n",
      "area_av: (1025.1473, 1321.1671)\n",
      "diameter_av: (35.967609, 40.90979)\n",
      "gsp: (0.03016104, 0.04969728)\n",
      "gsp50: (0.045241561, 0.07454592)\n",
      "gsw: (0.014615324, 0.022749657)\n",
      "gsw50: (0.019816091, 0.030777043)\n",
      "gsw_r0: (0.020159025, 0.032265101)\n",
      "gsw_r050: (0.028489189, 0.045647252)\n",
      "\n",
      "min/max BUMP at d_p = 0:\n",
      "gsp: (754026.0, 1242432.0)\n",
      "gsp50: (1131039.0, 1863648.0)\n",
      "gsw: (0.028355937, 0.041955315)\n",
      "gsw50: (0.03526035, 0.052418593)\n",
      "gsw_r0: (0.060789455, 0.091984354)\n",
      "gsw_r050: (0.076938085, 0.11774994)\n",
      "['35_2a_matte_10x_bump.csv', '35_2a_matte_20x_bump.csv', '35_2a_shiny_10x_bump.csv', '35_2a_shiny_20x_bump.csv', '35_2b_matte_10x_bump.csv', '35_2b_matte_20x_bump.csv', '35_2b_shiny_10x_bump.csv', '35_2b_shiny_20x_bump.csv', '35_2c_matte_10x_bump.csv', '35_2c_matte_20x_bump.csv', '35_2c_shiny_10x_bump.csv', '35_2c_shiny_20x_bump.csv']\n",
      "number of holes per mm2: 31.226058174159085\n",
      "min/max BUMP:\n",
      "density_mm: (27.281227, 33.849636)\n",
      "area_av: (709.81348, 1572.725)\n",
      "diameter_av: (29.252899, 44.566666)\n",
      "gsp: (0.021810872, 0.048358101)\n",
      "gsp50: (0.032716308, 0.072537154)\n",
      "gsw: (0.011516015, 0.02108092)\n",
      "gsw50: (0.015721614, 0.028402165)\n",
      "gsw_r0: (0.015341002, 0.030394502)\n",
      "gsw_r050: (0.021772785, 0.042844273)\n",
      "\n",
      "min/max BUMP at d_p = 0:\n",
      "gsp: (545271.81, 1208952.5)\n",
      "gsp50: (817907.75, 1813428.8)\n",
      "gsw: (0.024398038, 0.037474178)\n",
      "gsw50: (0.030265512, 0.046771899)\n",
      "gsw_r0: (0.051716745, 0.081822142)\n",
      "gsw_r050: (0.065091029, 0.10466488)\n",
      "['63_7_1a_bump_a.csv', '63_7_1b_bump_a.csv', '63_7_1c_bump_a.csv', '63_7_2a_bump_a.csv', '63_7_2c_bump_a.csv']\n",
      "number of holes per mm2: 64.9584048980769\n",
      "min/max BUMP:\n",
      "density_mm: (64.293251, 64.987022)\n",
      "area_av: (1104.2205, 1240.043)\n",
      "diameter_av: (37.327999, 39.672829)\n",
      "gsp: (0.070661321, 0.079208426)\n",
      "gsp50: (0.10599198, 0.11881264)\n",
      "gsw: (0.034224734, 0.03735587)\n",
      "gsw50: (0.046637036, 0.050835587)\n",
      "gsw_r0: (0.047885068, 0.052923851)\n",
      "gsw_r050: (0.068322606, 0.075518593)\n",
      "\n",
      "min/max BUMP at d_p = 0:\n",
      "gsp: (1766533.0, 1980210.6)\n",
      "gsp50: (2649799.5, 2970316.0)\n",
      "gsw: (0.06637188, 0.070698187)\n",
      "gsw50: (0.083281219, 0.088852197)\n",
      "gsw_r0: (0.1485592, 0.15948573)\n",
      "gsw_r050: (0.19224234, 0.20724706)\n",
      "['63_3a_matte_10x_bump.csv', '63_3a_matte_20x_bump.csv', '63_3a_shiny_10x_bump.csv', '63_3a_shiny_20x_bump.csv', '63_3b_matte_10x_bump.csv', '63_3b_matte_20x_bump.csv', '63_3b_shiny_10x_bump.csv', '63_3b_shiny_20x_bump.csv', '63_3c_matte_10x_bump.csv', '63_3c_matte_20x_bump.csv', '63_3c_shiny_10x_bump.csv', '63_3c_shiny_20x_bump.csv']\n",
      "number of holes per mm2: 62.4827827733611\n",
      "min/max BUMP:\n",
      "density_mm: (52.061836, 68.828247)\n",
      "area_av: (858.94696, 1150.6147)\n",
      "diameter_av: (32.76091, 38.138435)\n",
      "gsp: (0.046231173, 0.077386752)\n",
      "gsp50: (0.069346756, 0.11608012)\n",
      "gsw: (0.023610478, 0.037254516)\n",
      "gsw50: (0.032237127, 0.05077536)\n",
      "gsw_r0: (0.032135971, 0.052347913)\n",
      "gsw_r050: (0.045775522, 0.074764237)\n",
      "\n",
      "min/max BUMP at d_p = 0:\n",
      "gsp: (1155779.2, 1934668.8)\n",
      "gsp50: (1733669.0, 2902003.0)\n",
      "gsw: (0.04825405, 0.071837664)\n",
      "gsw50: (0.060241506, 0.090253912)\n",
      "gsw_r0: (0.10540348, 0.16179004)\n",
      "gsw_r050: (0.13467191, 0.21005583)\n",
      "\n",
      "63_7\n",
      "orig. foils: \n",
      "density_mm: (64.293251, 64.987022)\n",
      "area_av: (1104.2205, 1240.043)\n",
      "diameter_av: (37.327999, 39.672829)\n",
      "gsw_r0(d_p = 25 um) = (0.047885068, 0.052923851)\n",
      "gsw_r0(d_p = 0 um) = (0.1485592, 0.15948573)\n",
      "gsw_r050(d_p = 25 um) = (0.068322606, 0.075518593)\n",
      "gsw_r050(d_p = 0 um) = (0.19224234, 0.20724706)\n",
      "\n",
      "shiny 10x: \n",
      "density_mm: (63.709175, 68.828247)\n",
      "area_av: (1120.4038, 1150.6147)\n",
      "diameter_av: (37.644753, 38.138435)\n",
      "gsw_r0(d_p = 25 um) = (0.047509938, 0.052347913)\n",
      "gsw_r050(d_p = 25 um) = (0.067765139, 0.074764237)\n",
      "\n",
      "matte 10x: \n",
      "density_mm: (54.543026, 64.330421)\n",
      "area_av: (925.5542, 1147.6686)\n",
      "diameter_av: (34.081692, 38.124378)\n",
      "gsw_r0(d_p = 25 um) = (0.034235783, 0.049013514)\n",
      "gsw_r050(d_p = 25 um) = (0.048746478, 0.069921151)\n",
      "\n",
      "shiny 20x: \n",
      "density_mm: (62.475056, 62.503353)\n",
      "area_av: (1083.3384, 1108.9226)\n",
      "diameter_av: (37.004349, 37.42487)\n",
      "gsw_r0(d_p = 25 um) = (0.045208666, 0.046136644)\n",
      "gsw_r050(d_p = 25 um) = (0.064463899, 0.065785736)\n",
      "\n",
      "matte 20x: \n",
      "density_mm: (52.061836, 57.278458)\n",
      "area_av: (858.94696, 1028.3925)\n",
      "diameter_av: (32.76091, 36.034859)\n",
      "gsw_r0(d_p = 25 um) = (0.032135971, 0.037515156)\n",
      "gsw_r050(d_p = 25 um) = (0.045775522, 0.053439446)\n",
      "\n",
      "35_4\n",
      "orig. foils: \n",
      "density_mm: (29.87863, 38.201073)\n",
      "area_av: (1025.1473, 1321.1671)\n",
      "diameter_av: (35.967609, 40.90979)\n",
      "gsw_r0(d_p = 25 um) = (0.020159025, 0.032265101)\n",
      "gsw_r0(d_p = 0 um) = (0.060789455, 0.091984354)\n",
      "gsw_r050(d_p = 25 um) = (0.028489189, 0.045647252)\n",
      "gsw_r050(d_p = 0 um) = (0.076938085, 0.11774994)\n",
      "\n",
      "shiny 10x: \n",
      "density_mm: (31.166979, 31.187178)\n",
      "area_av: (980.21057, 1532.7119)\n",
      "diameter_av: (35.066257, 43.951447)\n",
      "gsw_r0(d_p = 25 um) = (0.020267569, 0.029678006)\n",
      "gsw_r050(d_p = 25 um) = (0.028666789, 0.041838255)\n",
      "\n",
      "matte 10x: \n",
      "density_mm: (27.281227, 31.187218)\n",
      "area_av: (953.76941, 1323.9398)\n",
      "diameter_av: (34.648388, 40.975193)\n",
      "gsw_r0(d_p = 25 um) = (0.017265696, 0.026217556)\n",
      "gsw_r050(d_p = 25 um) = (0.024397366, 0.036991689)\n",
      "\n",
      "shiny 20x: \n",
      "density_mm: (31.226059, 33.849636)\n",
      "area_av: (813.89355, 1572.725)\n",
      "diameter_av: (31.847984, 44.566666)\n",
      "gsw_r0(d_p = 25 um) = (0.018769046, 0.030394502)\n",
      "gsw_r050(d_p = 25 um) = (0.026615968, 0.042844273)\n",
      "\n",
      "matte 20x: \n",
      "density_mm: (31.205381, 31.246841)\n",
      "area_av: (709.81348, 1423.6976)\n",
      "diameter_av: (29.252899, 42.158333)\n",
      "gsw_r0(d_p = 25 um) = (0.015341002, 0.027936177)\n",
      "gsw_r050(d_p = 25 um) = (0.021772785, 0.039399493)\n",
      "\n",
      "7\n",
      "orig. foils: \n",
      "density_mm: (7.7868133, 7.8053226)\n",
      "area_av: (1040.2625, 1279.8959)\n",
      "diameter_av: (36.163334, 40.327499)\n",
      "gsw_r0(d_p = 25 um) = (0.0052035498, 0.0061923591)\n",
      "gsw_r0(d_p = 0 um) = (0.014935465, 0.016713232)\n",
      "gsw_r050(d_p = 25 um) = (0.0072833379, 0.0086374423)\n",
      "gsw_r050(d_p = 0 um) = (0.018580968, 0.020831596)\n",
      "\n",
      "shiny: \n",
      "density_mm: (7.7929487, 7.7974844)\n",
      "area_av: (1376.1405, 1886.3206)\n",
      "diameter_av: (41.763393, 48.809765)\n",
      "gsw_r0(d_p = 25 um) = (0.0065683112, 0.0085008573)\n",
      "gsw_r050(d_p = 25 um) = (0.0091509772, 0.011785813)\n",
      "\n",
      "matte: \n",
      "density_mm: (7.15868, 7.8058972)\n",
      "area_av: (889.82886, 1231.1205)\n",
      "diameter_av: (33.438446, 39.524734)\n",
      "gsw_r0(d_p = 25 um) = (0.0041860864, 0.0059963213)\n",
      "gsw_r050(d_p = 25 um) = (0.0058728051, 0.0083693545)\n",
      "\n",
      "63_7\n",
      "density_mm: (52.061836, 68.828247)\n",
      "area_av: (858.94696, 1240.043)\n",
      "diameter_av: (32.76091, 39.672829)\n",
      "gsw_r0(d_p = 25 um) = (0.032135971, 0.052923851)\n",
      "gsw_r050(d_p = 25 um) = (0.045775522, 0.075518593)\n",
      "\n",
      "35_4\n",
      "density_mm: (27.281227, 38.201073)\n",
      "area_av: (709.81348, 1572.725)\n",
      "diameter_av: (29.252899, 44.566666)\n",
      "gsw_r0(d_p = 25 um) = (0.015341002, 0.032265101)\n",
      "gsw_r050(d_p = 25 um) = (0.021772785, 0.045647252)\n",
      "\n",
      "7\n",
      "density_mm: (7.15868, 7.8058972)\n",
      "area_av: (889.82886, 1886.3206)\n",
      "diameter_av: (33.438446, 48.809765)\n",
      "gsw_r0(d_p = 25 um) = (0.0041860864, 0.0085008573)\n",
      "gsw_r050(d_p = 25 um) = (0.0058728051, 0.011785813)\n",
      "imported file temp/perforated_foils_data\n",
      "jupyter nbconvert  --to=python 'leaf_chamber_data.ipynb'\n",
      "Exporting specified worksheet to .py file...\n"
     ]
    },
    {
     "name": "stderr",
     "output_type": "stream",
     "text": [
      "nbconvert returned 0\n"
     ]
    },
    {
     "name": "stdout",
     "output_type": "stream",
     "text": [
      "Checking if specified ipynb file was run with sage kernel...\n",
      "Renaming .py file to .sage if notebook kernel was sage (to avoid exponent error)\n",
      "created file temp/leaf_chamber_data\n",
      "E_l             180.542235053942\n",
      "H_l             150.521099595469\n",
      "T_l             308.321395271  \n",
      "2 sides:\n",
      "E_ll            178.457403037396\n",
      "E_lu            -0.000000000000000\n",
      "H_ll            73.27906127241589\n",
      "H_lu            78.65857412879694\n",
      "T_ll            308.181291542  \n",
      "T_lu            308.561657011  \n"
     ]
    },
    {
     "data": {
      "text/html": [
       "<html><script type=\"math/tex; mode=display\">\\newcommand{\\Bold}[1]{\\mathbf{#1}}{H_{l}} = -\\frac{{\\left({T_{a}} - {T_{l}}\\right)} c_{\\mathit{pmol}}}{r_{\\mathit{bstar}}}</script></html>"
      ],
      "text/plain": [
       "H_l == -(T_a - T_l)*c_pmol/r_bstar"
      ]
     },
     "metadata": {},
     "output_type": "display_data"
    },
    {
     "name": "stdout",
     "output_type": "stream",
     "text": [
      "kilogram/second^3 == kilogram/second^3\n"
     ]
    },
    {
     "data": {
      "text/html": [
       "<html><script type=\"math/tex; mode=display\">\\newcommand{\\Bold}[1]{\\mathbf{#1}}{E_{l}} = -\\frac{L_{E} {\\left({P_{wa}} - {P_{wl}}\\right)}}{{P_{a}} {\\left(r_{b} + r_{s}\\right)}}</script></html>"
      ],
      "text/plain": [
       "E_l == -L_E*(P_wa - P_wl)/(P_a*(r_b + r_s))"
      ]
     },
     "metadata": {},
     "output_type": "display_data"
    },
    {
     "name": "stdout",
     "output_type": "stream",
     "text": [
      "kilogram/second^3 == kilogram/second^3\n",
      "h_c(Ball): 21.8153792127944\n",
      "g_vmol(Ball): 0.110506932339455\n",
      "g_vmol(SS): g_twmol == 0.117381005752392\n",
      "T_l(Ball): 309.125596874492\n",
      "T_l(SS): 308.321395271\n",
      "T_a: 303\n"
     ]
    },
    {
     "data": {
      "text/html": [
       "<html><script type=\"math/tex; mode=display\">\\newcommand{\\Bold}[1]{\\mathbf{#1}}{g_{sw}} = \\frac{{g_{bw}} {g_{tw}}}{{g_{bw}} - {g_{tw}}}</script></html>"
      ],
      "text/plain": [
       "g_sw == g_bw*g_tw/(g_bw - g_tw)"
      ]
     },
     "metadata": {},
     "output_type": "display_data"
    },
    {
     "data": {
      "text/html": [
       "<html><script type=\"math/tex; mode=display\">\\newcommand{\\Bold}[1]{\\mathbf{#1}}{g_{tw}} = \\frac{{E_{l,mol}} {R_{mol}} {T_{a}} {T_{l}}}{{P_{wl}} {T_{a}} - {P_{wa}} {T_{l}}}</script></html>"
      ],
      "text/plain": [
       "g_tw == E_lmol*R_mol*T_a*T_l/(P_wl*T_a - P_wa*T_l)"
      ]
     },
     "metadata": {},
     "output_type": "display_data"
    },
    {
     "data": {
      "text/html": [
       "<html><script type=\"math/tex; mode=display\">\\newcommand{\\Bold}[1]{\\mathbf{#1}}{h_{c}} = -\\frac{{H_{l}}}{{\\left({T_{a}} - {T_{l}}\\right)} {a_{sh}}}</script></html>"
      ],
      "text/plain": [
       "h_c == -H_l/((T_a - T_l)*a_sh)"
      ]
     },
     "metadata": {},
     "output_type": "display_data"
    },
    {
     "name": "stdout",
     "output_type": "stream",
     "text": [
      "2016_03_17_wet_leaf_Licor/2016-03-17_stan_windtunnel\n",
      "['OPEN 6.3.2']\n",
      "['Thr Mar 17 2016 11:31:28']\n",
      "['11:31:58 Artifcial leaf in wind tunnel, onl H2ORef important.']\n",
      "['$STARTOFDATA$']\n",
      " \n",
      "NEW data set\n",
      "length previous = 0\n",
      "['Obs', 'HHMMSS', 'FTime', 'EBal?', 'Photo', 'Cond', 'Ci', 'Trmmol', 'VpdL', 'CTleaf', 'Area', 'BLC_1', 'StmRat', 'BLCond', 'Tair', 'Tleaf', 'TBlk', 'CO2R', 'CO2S', 'H2OR', 'H2OS', 'RH_R', 'RH_S', 'Flow', 'PARi', 'PARo', 'Press', 'CsMch', 'HsMch', 'CsMchSD', 'HsMchSD', 'CrMchSD', 'HrMchSD', 'StableF', 'BLCslope', 'BLCoffst', 'f_parin', 'f_parout', 'alphaK', 'Status']\n",
      "['11:32:26 Flow: Off']\n",
      "['11:32:45 Launched AutoProg /User/Configs/AutoProgs/AutoLog2']\n",
      "['11:33:34 CO2 Mixer -> OFF']\n",
      "['11:33:34 Coolers: Off']\n",
      "['11:33:34 Flow: Off']\n",
      "['11:33:52 chamber air']\n",
      "['11:42:42 changing to humidifier']\n",
      "['11:45:40 increasinf tdew']\n",
      "['11:47:12 back to chamber air']\n",
      "['13:35:38 changing to humidifier']\n",
      "['13:37:35 changing dew point']\n",
      "['13:39:49 changing back to chamber air']\n",
      "['15:27:42 changing to humidifier']\n",
      "['15:31:45 back to chamber air and increasing Tdew']\n",
      "['17:00:41 changing to humidifier']\n",
      "['17:02:21 back to chamber and increasing dew point']\n",
      "['18:08:42 changing to humidifier']\n",
      "number of data sets: 1\n",
      "['TOA5', 'CR1000_net_radiometer', 'CR1000', '3985', 'CR1000.Std.28.02', 'CPU:NetRadiometer_Apog_v01.CR1', '46114', 'NetRadiometer']\n",
      "['TIMESTAMP', 'RECORD', 'Heat_Avg10s(1)', 'Heat_Avg10s(2)', 'Heat_Avg10s(3)', 'Heat_AvgW10s(1)', 'Heat_AvgW10s(2)', 'Heat_AvgW10s(3)', 'Rad_AvgW10s', 'Heat_V(1)', 'Heat_V(2)', 'Heat_V(3)', 'Heat_R(1)', 'Heat_R(2)', 'Heat_R(3)', 'Heat_R(4)', 'Rad_V', 'Rad_R', 'Heatc_Avg', 'Heat_Rc', 'NR_Wm2', 'TLeaf', 'VLeaf', 'VLeafAvg', 'TLeafAvg', 'sensirionSLG', 'sensirionSLI', 'T4', 'TargTempC']\n",
      "['TOA5', 'CR1000_leaf_chamber', 'CR1000', '9205', 'CR1000.Std.22', 'CPU:LeaveChamber_2wind_TC_v1.CR1', '35483', 'LeaveChamber_PT100']\n",
      "['TIMESTAMP', 'RECORD', 'PT100', 'TSurface', 'Temp_C(1)', 'Temp_C(2)', 'Temp_C(3)', 'Temp_C(4)', 'Temp_C(5)', 'Temp_C(6)', 'Temp_C(7)', 'Temp_C(8)', 'Temp_C(9)', 'Temp_C(10)', 'Temp_C(11)', 'Temp_C(12)', 'Temp_C(13)', 'Temp_C(14)', 'Temp_C(15)', 'Temp_C(16)', 'Temp_C(17)', 'Temp_C(18)', 'Temp_C(19)', 'Temp_C(20)', 'Temp_C(21)', 'Temp_C(22)', 'Temp_C(23)', 'Temp_C(24)', 'Temp_C(25)', 'Vw', 'Heat_R', 'Heat_V', 'Heat_Avg10s', 'FlowMeter', 'TempCavg(1)', 'TempCavg(2)', 'TempCavg(3)', 'TempCavg(4)', 'TempCavg(5)', 'TempCavg(6)', 'TempCavg(7)', 'TempCavg(8)', 'TempCavg(9)', 'TempCavg(10)', 'TempCavg(11)', 'TempCavg(12)', 'TempCavg(13)', 'TempCavg(14)', 'TempCavg(15)', 'TempCavg(16)', 'TempCavg(17)', 'TempCavg(18)', 'TempCavg(19)', 'TempCavg(20)', 'TempCavg(21)', 'TempCavg(22)', 'TempCavg(23)', 'TempCavg(24)', 'TempCavg(25)', 'Tempdiffavg_', 'TdewOut', 'TdewOut_Avg10s', 'FlowOut', 'miniCTA', 'CTAavg', 'miniCTA_wind', 'CTAavg_wind', 'miniCTA1', 'CTAavg1', 'miniCTA_wind1', 'CTAavg_wind1', 'pressure', 'V_pressure', 'CTA_On']\n"
     ]
    },
    {
     "data": {
      "text/html": [
       "<div class=\"notruncate\">\n",
       "<table  class=\"table_form\">\n",
       "<tbody>\n",
       "<tr>\n",
       "<th>lc_time</th>\n",
       "<th>T_in1</th>\n",
       "<th>T_in2</th>\n",
       "<th>T_wall_in</th>\n",
       "<th>T_wall_out</th>\n",
       "<th>T_outside</th>\n",
       "<th>T_outside_PT</th>\n",
       "<th>T_chamber</th>\n",
       "<th>T_chamber1</th>\n",
       "<th>T_leafTC_inlet</th>\n",
       "<th>T_leafTC</th>\n",
       "<th>Wind</th>\n",
       "<th>T_dew</th>\n",
       "<th>Air_inflow</th>\n",
       "<th>Air_outflow</th>\n",
       "<th>nr_time</th>\n",
       "<th>Rn_above_leaf</th>\n",
       "<th>Rn_below_leaf</th>\n",
       "<th>Rn_beside_leaf</th>\n",
       "<th>RnV_above_leaf</th>\n",
       "<th>RnV_below_leaf</th>\n",
       "<th>RnV_beside_leaf</th>\n",
       "<th>SensirionSLI</th>\n",
       "<th>Tleaf_IR</th>\n",
       "<th>pow_timefirst</th>\n",
       "<th>pow_timelast</th>\n",
       "<th>fan_power_avg</th>\n",
       "<th>fan_power_std</th>\n",
       "<th>fan_power_n</th>\n",
       "<th>Comment...................................................</th>\n",
       "</tr>\n",
       "<tr class =\"row-a\">\n",
       "<td>TS</td>\n",
       "<td>Deg C</td>\n",
       "<td>Deg C</td>\n",
       "<td>Deg C</td>\n",
       "<td>Deg C</td>\n",
       "<td>Deg C</td>\n",
       "<td>Deg C</td>\n",
       "<td>Deg C</td>\n",
       "<td>Deg C</td>\n",
       "<td>Deg C</td>\n",
       "<td>Deg C</td>\n",
       "<td>m/s</td>\n",
       "<td>degC</td>\n",
       "<td>SLPM</td>\n",
       "<td>SLPM</td>\n",
       "<td>TS</td>\n",
       "<td>W/m^2</td>\n",
       "<td>W/m^2</td>\n",
       "<td>W/m^2</td>\n",
       "<td>mV</td>\n",
       "<td>mV</td>\n",
       "<td>mV</td>\n",
       "<td>ul/min</td>\n",
       "<td></td>\n",
       "<td>TS</td>\n",
       "<td>TS</td>\n",
       "<td>W</td>\n",
       "<td>W</td>\n",
       "<td></td>\n",
       "<td></td>\n",
       "</tr>\n",
       "<tr class =\"row-b\">\n",
       "<td>2016-03-17 11:36:59</td>\n",
       "<td>21.80</td>\n",
       "<td>21.82</td>\n",
       "<td>22.24</td>\n",
       "<td>21.64</td>\n",
       "<td>22.01</td>\n",
       "<td>23.16</td>\n",
       "<td>22.24</td>\n",
       "<td>21.87</td>\n",
       "<td>16.43</td>\n",
       "<td>15.77</td>\n",
       "<td>3.872</td>\n",
       "<td>-19.56</td>\n",
       "<td>2.556</td>\n",
       "<td>0.5885</td>\n",
       "<td>2016-03-17 11:37:01</td>\n",
       "<td>14.22</td>\n",
       "<td>-14.80</td>\n",
       "<td>3.982</td>\n",
       "<td>-0.01704</td>\n",
       "<td>0.01538</td>\n",
       "<td>-0.005136</td>\n",
       "<td>-14.98</td>\n",
       "<td>18.33</td>\n",
       "<td>2016-03-17 11:36:05</td>\n",
       "<td>2016-03-17 11:37:04</td>\n",
       "<td>0.6391</td>\n",
       "<td>0.00006741</td>\n",
       "<td>53</td>\n",
       "<td>wet leaf, no radiation, -20 Tdew</td>\n",
       "</tr>\n",
       "<tr class =\"row-a\">\n",
       "<td>2016-03-17 13:31:29</td>\n",
       "<td>21.73</td>\n",
       "<td>21.75</td>\n",
       "<td>22.08</td>\n",
       "<td>22.45</td>\n",
       "<td>22.54</td>\n",
       "<td>23.71</td>\n",
       "<td>22.08</td>\n",
       "<td>21.74</td>\n",
       "<td>16.15</td>\n",
       "<td>15.45</td>\n",
       "<td>3.897</td>\n",
       "<td>-10.22</td>\n",
       "<td>3.434</td>\n",
       "<td>0.7098</td>\n",
       "<td>2016-03-17 13:31:34</td>\n",
       "<td>14.95</td>\n",
       "<td>-15.35</td>\n",
       "<td>4.534</td>\n",
       "<td>-0.01791</td>\n",
       "<td>0.01596</td>\n",
       "<td>-0.005851</td>\n",
       "<td>-15.73</td>\n",
       "<td>18.30</td>\n",
       "<td>2016-03-17 13:30:49</td>\n",
       "<td>2016-03-17 13:31:47</td>\n",
       "<td>0.6391</td>\n",
       "<td>0.00004365</td>\n",
       "<td>33</td>\n",
       "<td>wet leaf, no radiation, -10 Tdew</td>\n",
       "</tr>\n",
       "<tr class =\"row-b\">\n",
       "<td>2016-03-17 15:26:21</td>\n",
       "<td>21.60</td>\n",
       "<td>21.61</td>\n",
       "<td>22.16</td>\n",
       "<td>21.75</td>\n",
       "<td>22.19</td>\n",
       "<td>23.48</td>\n",
       "<td>22.15</td>\n",
       "<td>21.83</td>\n",
       "<td>16.49</td>\n",
       "<td>15.84</td>\n",
       "<td>3.891</td>\n",
       "<td>0.03776</td>\n",
       "<td>5.551</td>\n",
       "<td>0.9694</td>\n",
       "<td>2016-03-17 15:26:26</td>\n",
       "<td>13.05</td>\n",
       "<td>-14.01</td>\n",
       "<td>3.911</td>\n",
       "<td>-0.01564</td>\n",
       "<td>0.01456</td>\n",
       "<td>-0.005045</td>\n",
       "<td>-15.06</td>\n",
       "<td>18.36</td>\n",
       "<td>2016-03-17 15:25:27</td>\n",
       "<td>2016-03-17 15:26:26</td>\n",
       "<td>0.6391</td>\n",
       "<td>0.00005362</td>\n",
       "<td>54</td>\n",
       "<td>wet leaf, no radiation, 0 Tdew</td>\n",
       "</tr>\n",
       "<tr class =\"row-a\">\n",
       "<td>2016-03-17 16:58:43</td>\n",
       "<td>20.53</td>\n",
       "<td>20.55</td>\n",
       "<td>21.95</td>\n",
       "<td>21.34</td>\n",
       "<td>21.84</td>\n",
       "<td>23.18</td>\n",
       "<td>21.96</td>\n",
       "<td>21.69</td>\n",
       "<td>17.75</td>\n",
       "<td>17.28</td>\n",
       "<td>3.939</td>\n",
       "<td>10.14</td>\n",
       "<td>8.921</td>\n",
       "<td>1.463</td>\n",
       "<td>2016-03-17 16:58:48</td>\n",
       "<td>10.41</td>\n",
       "<td>-10.90</td>\n",
       "<td>3.336</td>\n",
       "<td>-0.01248</td>\n",
       "<td>0.01133</td>\n",
       "<td>-0.004300</td>\n",
       "<td>-10.97</td>\n",
       "<td>19.09</td>\n",
       "<td>2016-03-17 16:57:48</td>\n",
       "<td>2016-03-17 16:58:47</td>\n",
       "<td>0.6391</td>\n",
       "<td>0.00003802</td>\n",
       "<td>53</td>\n",
       "<td>wet leaf, no radiation, 10 Tdew</td>\n",
       "</tr>\n",
       "</tbody>\n",
       "</table>\n",
       "</div>"
      ],
      "text/plain": [
       "        lc_time         T_in1   T_in2   T_wall_in   T_wall_out   T_outside   T_outside_PT   T_chamber   T_chamber1   T_leafTC_inlet   T_leafTC   Wind     T_dew    Air_inflow   Air_outflow         nr_time         Rn_above_leaf   Rn_below_leaf   Rn_beside_leaf   RnV_above_leaf   RnV_below_leaf   RnV_beside_leaf   SensirionSLI   Tleaf_IR      pow_timefirst         pow_timelast       fan_power_avg   fan_power_std   fan_power_n   Comment...................................................\n",
       "+---------------------+-------+-------+-----------+------------+-----------+--------------+-----------+------------+----------------+----------+-------+---------+------------+-------------+---------------------+---------------+---------------+----------------+----------------+----------------+-----------------+--------------+----------+---------------------+---------------------+---------------+---------------+-------------+------------------------------------------------------------+\n",
       "          TS            Deg C   Deg C     Deg C       Deg C        Deg C        Deg C         Deg C       Deg C          Deg C         Deg C      m/s     degC        SLPM         SLPM               TS                W/m^2           W/m^2           W/m^2              mV               mV               mV             ul/min                         TS                    TS                  W               W\n",
       "  2016-03-17 11:36:59   21.80   21.82     22.24       21.64        22.01        23.16         22.24       21.87          16.43         15.77     3.872   -19.56      2.556        0.5885      2016-03-17 11:37:01       14.22          -14.80           3.982           -0.01704         0.01538          -0.005136         -14.98       18.33     2016-03-17 11:36:05   2016-03-17 11:37:04      0.6391        0.00006741         53                     wet leaf, no radiation, -20 Tdew\n",
       "  2016-03-17 13:31:29   21.73   21.75     22.08       22.45        22.54        23.71         22.08       21.74          16.15         15.45     3.897   -10.22      3.434        0.7098      2016-03-17 13:31:34       14.95          -15.35           4.534           -0.01791         0.01596          -0.005851         -15.73       18.30     2016-03-17 13:30:49   2016-03-17 13:31:47      0.6391        0.00004365         33                     wet leaf, no radiation, -10 Tdew\n",
       "  2016-03-17 15:26:21   21.60   21.61     22.16       21.75        22.19        23.48         22.15       21.83          16.49         15.84     3.891   0.03776     5.551        0.9694      2016-03-17 15:26:26       13.05          -14.01           3.911           -0.01564         0.01456          -0.005045         -15.06       18.36     2016-03-17 15:25:27   2016-03-17 15:26:26      0.6391        0.00005362         54                      wet leaf, no radiation, 0 Tdew\n",
       "  2016-03-17 16:58:43   20.53   20.55     21.95       21.34        21.84        23.18         21.96       21.69          17.75         17.28     3.939    10.14      8.921         1.463      2016-03-17 16:58:48       10.41          -10.90           3.336           -0.01248         0.01133          -0.004300         -10.97       19.09     2016-03-17 16:57:48   2016-03-17 16:58:47      0.6391        0.00003802         53                     wet leaf, no radiation, 10 Tdew"
      ]
     },
     "metadata": {},
     "output_type": "display_data"
    },
    {
     "name": "stdout",
     "output_type": "stream",
     "text": [
      "[57, 68]\n",
      "[704, 715]\n",
      "[1363, 1374]\n",
      "[1889, 1895]\n"
     ]
    },
    {
     "data": {
      "text/html": [
       "<html><script type=\"math/tex; mode=display\">\\newcommand{\\Bold}[1]{\\mathbf{#1}}T_{d} = \\frac{273 \\, {M_{w}} {\\lambda_{E}}}{{M_{w}} {\\lambda_{E}} + 273 \\, {R_{mol}} \\log\\left(\\frac{611}{{P_{wa}}}\\right)}</script></html>"
      ],
      "text/plain": [
       "T_d == 273*M_w*lambda_E/(M_w*lambda_E + 273*R_mol*log(611/P_wa))"
      ]
     },
     "metadata": {},
     "output_type": "display_data"
    },
    {
     "name": "stdout",
     "output_type": "stream",
     "text": [
      "[  861.98066   862.06968   861.98066 ...,  1663.61139  1663.41825\n",
      "  1663.51482]\n",
      "[  115.061879   243.9762     545.053539  1161.59244 ]\n",
      "R_s = (0.0, 0.0) joule/(R_s*meter^2*second)\n",
      "P_wa = (815.894013717, 1312.97802962) pascal/P_wa\n",
      "T_a = (295.11, 295.39) kelvin/T_a\n",
      "v_w = (3.872, 3.939) meter/(second*v_w)\n",
      "g_sw = (999.0, 999.0) meter/(g_sw*second)\n"
     ]
    },
    {
     "name": "stderr",
     "output_type": "stream",
     "text": [
      "/home/sschyman/Programs/sage-upgrade/local/lib/python2.7/site-packages/dateutil/rrule.py:450: DeprecationWarning: Using both 'count' and 'until' is inconsistent with RFC 2445 and has been deprecated in dateutil. Future versions will raise an error.\n",
      "  \"raise an error.\", DeprecationWarning)\n"
     ]
    },
    {
     "data": {
      "text/html": [
       "<div class=\"notruncate\">\n",
       "<table  class=\"table_form\">\n",
       "<tbody>\n",
       "<tr>\n",
       "<th>lc_time</th>\n",
       "<th>T_in1</th>\n",
       "<th>T_in2</th>\n",
       "<th>T_wall_in</th>\n",
       "<th>T_wall_out</th>\n",
       "<th>T_outside</th>\n",
       "<th>T_outside_PT</th>\n",
       "<th>T_chamber</th>\n",
       "<th>T_leaf1</th>\n",
       "<th>T_leaf2</th>\n",
       "<th>T_leaf_in</th>\n",
       "<th>Wind</th>\n",
       "<th>T_dew</th>\n",
       "<th>Air_inflow</th>\n",
       "<th>Air_outflow</th>\n",
       "<th>nr_time</th>\n",
       "<th>T_leaf_IR</th>\n",
       "<th>V_leaf_IR</th>\n",
       "<th>sens_timefirst</th>\n",
       "<th>sens_timelast</th>\n",
       "<th>water_flow_avg</th>\n",
       "<th>water_flow_std</th>\n",
       "<th>water_flow_n</th>\n",
       "<th>pow_timefirst</th>\n",
       "<th>pow_timelast</th>\n",
       "<th>fan_power_avg</th>\n",
       "<th>fan_power_std</th>\n",
       "<th>fan_power_n</th>\n",
       "<th>Comment...................................................</th>\n",
       "</tr>\n",
       "<tr class =\"row-a\">\n",
       "<td>TS</td>\n",
       "<td>K</td>\n",
       "<td>K</td>\n",
       "<td>K</td>\n",
       "<td>K</td>\n",
       "<td>K</td>\n",
       "<td>Deg C</td>\n",
       "<td>K</td>\n",
       "<td>K</td>\n",
       "<td>K</td>\n",
       "<td>K</td>\n",
       "<td>m/s</td>\n",
       "<td>degC</td>\n",
       "<td>SLPM</td>\n",
       "<td>SLPM</td>\n",
       "<td>TS</td>\n",
       "<td>Deg C</td>\n",
       "<td>mV</td>\n",
       "<td></td>\n",
       "<td></td>\n",
       "<td>ul/min</td>\n",
       "<td>ul/min</td>\n",
       "<td>ul/min</td>\n",
       "<td>TS</td>\n",
       "<td>TS</td>\n",
       "<td>W</td>\n",
       "<td>W</td>\n",
       "<td></td>\n",
       "<td></td>\n",
       "</tr>\n",
       "<tr class =\"row-b\">\n",
       "<td>2014-03-05 15:15:18</td>\n",
       "<td>16.23</td>\n",
       "<td>16.35</td>\n",
       "<td>22.73</td>\n",
       "<td>22.76</td>\n",
       "<td>22.75</td>\n",
       "<td>23.58</td>\n",
       "<td>22.70</td>\n",
       "<td>20.83</td>\n",
       "<td>21.22</td>\n",
       "<td>NaN</td>\n",
       "<td>4.943</td>\n",
       "<td>-17.90</td>\n",
       "<td>5.051</td>\n",
       "<td>2.278</td>\n",
       "<td>2014-03-05 15:15:19</td>\n",
       "<td>15.54</td>\n",
       "<td>-0.2384</td>\n",
       "<td>2014-03-05 15:15:07</td>\n",
       "<td>2014-03-05 15:15:17</td>\n",
       "<td>-17.19</td>\n",
       "<td>0.2266</td>\n",
       "<td>95</td>\n",
       "<td>2014-03-05 15:14:22</td>\n",
       "<td>2014-03-05 15:15:21</td>\n",
       "<td>1.407</td>\n",
       "<td>2.220e-16</td>\n",
       "<td>54</td>\n",
       "<td>lower Tdew, upwind CTA</td>\n",
       "</tr>\n",
       "<tr class =\"row-a\">\n",
       "<td>2014-03-05 15:32:02</td>\n",
       "<td>16.25</td>\n",
       "<td>16.36</td>\n",
       "<td>22.81</td>\n",
       "<td>22.85</td>\n",
       "<td>22.83</td>\n",
       "<td>23.70</td>\n",
       "<td>22.77</td>\n",
       "<td>20.99</td>\n",
       "<td>21.34</td>\n",
       "<td>NaN</td>\n",
       "<td>5.275</td>\n",
       "<td>-10.07</td>\n",
       "<td>5.046</td>\n",
       "<td>2.248</td>\n",
       "<td>2014-03-05 15:32:01</td>\n",
       "<td>15.86</td>\n",
       "<td>-0.2277</td>\n",
       "<td>2014-03-05 15:31:53</td>\n",
       "<td>2014-03-05 15:32:03</td>\n",
       "<td>-16.54</td>\n",
       "<td>0.3207</td>\n",
       "<td>100</td>\n",
       "<td>2014-03-05 15:31:04</td>\n",
       "<td>2014-03-05 15:32:03</td>\n",
       "<td>1.407</td>\n",
       "<td>2.220e-16</td>\n",
       "<td>54</td>\n",
       "<td>higher Tdew, upwind CTA</td>\n",
       "</tr>\n",
       "<tr class =\"row-b\">\n",
       "<td>2014-03-05 16:08:45</td>\n",
       "<td>16.24</td>\n",
       "<td>16.36</td>\n",
       "<td>22.86</td>\n",
       "<td>23.19</td>\n",
       "<td>23.19</td>\n",
       "<td>24.07</td>\n",
       "<td>22.82</td>\n",
       "<td>20.98</td>\n",
       "<td>21.41</td>\n",
       "<td>17.25</td>\n",
       "<td>5.329</td>\n",
       "<td>-5.019</td>\n",
       "<td>5.357</td>\n",
       "<td>2.387</td>\n",
       "<td>2014-03-05 16:08:45</td>\n",
       "<td>15.84</td>\n",
       "<td>-0.2283</td>\n",
       "<td>2014-03-05 16:08:36</td>\n",
       "<td>2014-03-05 16:08:45</td>\n",
       "<td>-15.94</td>\n",
       "<td>0.1731</td>\n",
       "<td>100</td>\n",
       "<td>2014-03-05 16:07:47</td>\n",
       "<td>2014-03-05 16:08:46</td>\n",
       "<td>1.407</td>\n",
       "<td>0.0000</td>\n",
       "<td>55</td>\n",
       "<td>sun has come out, outside wall suddenly started warming, rest unaffected</td>\n",
       "</tr>\n",
       "<tr class =\"row-a\">\n",
       "<td>2014-03-05 16:54:32</td>\n",
       "<td>16.23</td>\n",
       "<td>16.35</td>\n",
       "<td>23.08</td>\n",
       "<td>23.06</td>\n",
       "<td>23.01</td>\n",
       "<td>23.70</td>\n",
       "<td>23.05</td>\n",
       "<td>21.45</td>\n",
       "<td>21.74</td>\n",
       "<td>17.78</td>\n",
       "<td>5.252</td>\n",
       "<td>0.08289</td>\n",
       "<td>5.193</td>\n",
       "<td>2.409</td>\n",
       "<td>2014-03-05 16:54:33</td>\n",
       "<td>16.50</td>\n",
       "<td>-0.2055</td>\n",
       "<td>2014-03-05 16:54:25</td>\n",
       "<td>2014-03-05 16:54:35</td>\n",
       "<td>-15.02</td>\n",
       "<td>0.2545</td>\n",
       "<td>100</td>\n",
       "<td>2014-03-05 16:53:36</td>\n",
       "<td>2014-03-05 16:54:35</td>\n",
       "<td>1.406</td>\n",
       "<td>0.0000</td>\n",
       "<td>54</td>\n",
       "<td></td>\n",
       "</tr>\n",
       "<tr class =\"row-b\">\n",
       "<td>2014-03-06 10:35:50</td>\n",
       "<td>15.87</td>\n",
       "<td>15.97</td>\n",
       "<td>21.86</td>\n",
       "<td>21.81</td>\n",
       "<td>21.79</td>\n",
       "<td>22.57</td>\n",
       "<td>21.83</td>\n",
       "<td>20.06</td>\n",
       "<td>20.50</td>\n",
       "<td>16.32</td>\n",
       "<td>5.356</td>\n",
       "<td>0.09190</td>\n",
       "<td>5.265</td>\n",
       "<td>2.401</td>\n",
       "<td>2014-03-06 10:35:53</td>\n",
       "<td>16.65</td>\n",
       "<td>-0.2004</td>\n",
       "<td>2014-03-06 10:35:43</td>\n",
       "<td>2014-03-06 10:35:53</td>\n",
       "<td>-16.51</td>\n",
       "<td>0.1232</td>\n",
       "<td>100</td>\n",
       "<td>2014-03-06 10:34:54</td>\n",
       "<td>2014-03-06 10:35:53</td>\n",
       "<td>1.412</td>\n",
       "<td>0.0003413</td>\n",
       "<td>52</td>\n",
       "<td></td>\n",
       "</tr>\n",
       "<tr class =\"row-a\">\n",
       "<td>2014-03-06 11:11:22</td>\n",
       "<td>15.60</td>\n",
       "<td>15.69</td>\n",
       "<td>21.72</td>\n",
       "<td>21.77</td>\n",
       "<td>21.72</td>\n",
       "<td>22.53</td>\n",
       "<td>21.68</td>\n",
       "<td>20.13</td>\n",
       "<td>20.50</td>\n",
       "<td>16.78</td>\n",
       "<td>5.455</td>\n",
       "<td>5.125</td>\n",
       "<td>5.957</td>\n",
       "<td>2.635</td>\n",
       "<td>2014-03-06 11:11:24</td>\n",
       "<td>17.11</td>\n",
       "<td>-0.1843</td>\n",
       "<td>2014-03-06 11:11:06</td>\n",
       "<td>2014-03-06 11:11:16</td>\n",
       "<td>-14.94</td>\n",
       "<td>0.1902</td>\n",
       "<td>100</td>\n",
       "<td>2014-03-06 11:10:25</td>\n",
       "<td>2014-03-06 11:11:24</td>\n",
       "<td>1.412</td>\n",
       "<td>0.0000</td>\n",
       "<td>54</td>\n",
       "<td></td>\n",
       "</tr>\n",
       "<tr class =\"row-b\">\n",
       "<td>2014-03-06 12:54:16</td>\n",
       "<td>15.45</td>\n",
       "<td>15.54</td>\n",
       "<td>21.74</td>\n",
       "<td>21.77</td>\n",
       "<td>21.73</td>\n",
       "<td>22.41</td>\n",
       "<td>21.69</td>\n",
       "<td>20.35</td>\n",
       "<td>20.74</td>\n",
       "<td>17.71</td>\n",
       "<td>5.360</td>\n",
       "<td>10.21</td>\n",
       "<td>6.529</td>\n",
       "<td>2.843</td>\n",
       "<td>2014-03-06 12:54:17</td>\n",
       "<td>17.96</td>\n",
       "<td>-0.1545</td>\n",
       "<td>2014-03-06 12:54:10</td>\n",
       "<td>2014-03-06 12:54:18</td>\n",
       "<td>-12.30</td>\n",
       "<td>0.1152</td>\n",
       "<td>80</td>\n",
       "<td>2014-03-06 12:53:18</td>\n",
       "<td>2014-03-06 12:54:17</td>\n",
       "<td>1.412</td>\n",
       "<td>0.0000</td>\n",
       "<td>55</td>\n",
       "<td></td>\n",
       "</tr>\n",
       "<tr class =\"row-a\">\n",
       "<td>2014-03-06 13:58:02</td>\n",
       "<td>15.89</td>\n",
       "<td>15.99</td>\n",
       "<td>21.95</td>\n",
       "<td>21.93</td>\n",
       "<td>21.92</td>\n",
       "<td>22.69</td>\n",
       "<td>21.92</td>\n",
       "<td>20.20</td>\n",
       "<td>20.57</td>\n",
       "<td>16.46</td>\n",
       "<td>5.451</td>\n",
       "<td>-5.014</td>\n",
       "<td>5.410</td>\n",
       "<td>2.442</td>\n",
       "<td>2014-03-06 13:58:01</td>\n",
       "<td>16.46</td>\n",
       "<td>-0.2069</td>\n",
       "<td>2014-03-06 13:57:52</td>\n",
       "<td>2014-03-06 13:58:02</td>\n",
       "<td>-15.03</td>\n",
       "<td>0.1793</td>\n",
       "<td>100</td>\n",
       "<td>2014-03-06 13:57:04</td>\n",
       "<td>2014-03-06 13:58:03</td>\n",
       "<td>1.412</td>\n",
       "<td>0.0000</td>\n",
       "<td>54</td>\n",
       "<td></td>\n",
       "</tr>\n",
       "<tr class =\"row-b\">\n",
       "<td>2014-03-06 14:55:11</td>\n",
       "<td>15.26</td>\n",
       "<td>15.32</td>\n",
       "<td>22.22</td>\n",
       "<td>22.21</td>\n",
       "<td>22.19</td>\n",
       "<td>22.93</td>\n",
       "<td>22.24</td>\n",
       "<td>20.24</td>\n",
       "<td>21.08</td>\n",
       "<td>18.01</td>\n",
       "<td>0.8222</td>\n",
       "<td>10.21</td>\n",
       "<td>7.830</td>\n",
       "<td>3.616</td>\n",
       "<td>2014-03-06 14:55:10</td>\n",
       "<td>17.47</td>\n",
       "<td>-0.1719</td>\n",
       "<td>2014-03-06 14:55:02</td>\n",
       "<td>2014-03-06 14:55:12</td>\n",
       "<td>-6.361</td>\n",
       "<td>0.1421</td>\n",
       "<td>100</td>\n",
       "<td>2014-03-06 14:54:13</td>\n",
       "<td>2014-03-06 14:55:12</td>\n",
       "<td>1.412</td>\n",
       "<td>0.0000</td>\n",
       "<td>54</td>\n",
       "<td>low wind speed</td>\n",
       "</tr>\n",
       "<tr class =\"row-a\">\n",
       "<td>2014-03-06 15:18:23</td>\n",
       "<td>15.35</td>\n",
       "<td>15.41</td>\n",
       "<td>22.19</td>\n",
       "<td>22.24</td>\n",
       "<td>22.21</td>\n",
       "<td>23.02</td>\n",
       "<td>22.20</td>\n",
       "<td>20.51</td>\n",
       "<td>21.26</td>\n",
       "<td>17.94</td>\n",
       "<td>1.747</td>\n",
       "<td>10.20</td>\n",
       "<td>7.391</td>\n",
       "<td>3.424</td>\n",
       "<td>2014-03-06 15:18:27</td>\n",
       "<td>17.42</td>\n",
       "<td>-0.1735</td>\n",
       "<td>2014-03-06 15:18:16</td>\n",
       "<td>2014-03-06 15:18:26</td>\n",
       "<td>-7.879</td>\n",
       "<td>0.1374</td>\n",
       "<td>100</td>\n",
       "<td>2014-03-06 15:17:27</td>\n",
       "<td>2014-03-06 15:18:26</td>\n",
       "<td>1.412</td>\n",
       "<td>0.0000</td>\n",
       "<td>55</td>\n",
       "<td>varying wind speed</td>\n",
       "</tr>\n",
       "<tr class =\"row-b\">\n",
       "<td>2014-03-06 15:50:24</td>\n",
       "<td>15.55</td>\n",
       "<td>15.63</td>\n",
       "<td>22.27</td>\n",
       "<td>22.29</td>\n",
       "<td>22.25</td>\n",
       "<td>23.18</td>\n",
       "<td>22.28</td>\n",
       "<td>20.76</td>\n",
       "<td>21.46</td>\n",
       "<td>18.03</td>\n",
       "<td>2.620</td>\n",
       "<td>10.21</td>\n",
       "<td>6.851</td>\n",
       "<td>3.214</td>\n",
       "<td>2014-03-06 15:50:24</td>\n",
       "<td>17.45</td>\n",
       "<td>-0.1725</td>\n",
       "<td>2014-03-06 15:50:15</td>\n",
       "<td>2014-03-06 15:50:25</td>\n",
       "<td>-9.257</td>\n",
       "<td>0.1355</td>\n",
       "<td>100</td>\n",
       "<td>2014-03-06 15:49:26</td>\n",
       "<td>2014-03-06 15:50:25</td>\n",
       "<td>1.383</td>\n",
       "<td>0.0004356</td>\n",
       "<td>55</td>\n",
       "<td>varying wind speed</td>\n",
       "</tr>\n",
       "<tr class =\"row-a\">\n",
       "<td>2014-03-06 16:18:30</td>\n",
       "<td>15.75</td>\n",
       "<td>15.81</td>\n",
       "<td>22.31</td>\n",
       "<td>22.32</td>\n",
       "<td>22.30</td>\n",
       "<td>23.14</td>\n",
       "<td>22.34</td>\n",
       "<td>20.98</td>\n",
       "<td>21.65</td>\n",
       "<td>18.10</td>\n",
       "<td>3.481</td>\n",
       "<td>10.21</td>\n",
       "<td>6.357</td>\n",
       "<td>3.084</td>\n",
       "<td>2014-03-06 16:18:31</td>\n",
       "<td>17.52</td>\n",
       "<td>-0.1699</td>\n",
       "<td>2014-03-06 16:18:21</td>\n",
       "<td>2014-03-06 16:18:31</td>\n",
       "<td>-10.61</td>\n",
       "<td>0.1678</td>\n",
       "<td>100</td>\n",
       "<td>2014-03-06 16:17:33</td>\n",
       "<td>2014-03-06 16:18:31</td>\n",
       "<td>1.360</td>\n",
       "<td>0.0004644</td>\n",
       "<td>54</td>\n",
       "<td>varying wind speed</td>\n",
       "</tr>\n",
       "<tr class =\"row-b\">\n",
       "<td>2014-03-06 16:43:42</td>\n",
       "<td>15.82</td>\n",
       "<td>15.90</td>\n",
       "<td>22.41</td>\n",
       "<td>22.44</td>\n",
       "<td>22.44</td>\n",
       "<td>23.26</td>\n",
       "<td>22.41</td>\n",
       "<td>21.18</td>\n",
       "<td>21.74</td>\n",
       "<td>18.19</td>\n",
       "<td>4.478</td>\n",
       "<td>10.21</td>\n",
       "<td>6.251</td>\n",
       "<td>3.093</td>\n",
       "<td>2014-03-06 16:43:46</td>\n",
       "<td>17.62</td>\n",
       "<td>-0.1665</td>\n",
       "<td>2014-03-06 16:43:35</td>\n",
       "<td>2014-03-06 16:43:45</td>\n",
       "<td>-11.60</td>\n",
       "<td>0.1218</td>\n",
       "<td>100</td>\n",
       "<td>2014-03-06 16:42:46</td>\n",
       "<td>2014-03-06 16:43:45</td>\n",
       "<td>1.397</td>\n",
       "<td>0.0002597</td>\n",
       "<td>55</td>\n",
       "<td>varying wind speed</td>\n",
       "</tr>\n",
       "<tr class =\"row-a\">\n",
       "<td>2014-03-06 17:15:50</td>\n",
       "<td>15.79</td>\n",
       "<td>15.88</td>\n",
       "<td>22.49</td>\n",
       "<td>22.46</td>\n",
       "<td>22.44</td>\n",
       "<td>23.14</td>\n",
       "<td>22.46</td>\n",
       "<td>21.37</td>\n",
       "<td>21.92</td>\n",
       "<td>18.36</td>\n",
       "<td>5.468</td>\n",
       "<td>10.21</td>\n",
       "<td>6.136</td>\n",
       "<td>3.064</td>\n",
       "<td>2014-03-06 17:15:52</td>\n",
       "<td>17.79</td>\n",
       "<td>-0.1605</td>\n",
       "<td>2014-03-06 17:15:42</td>\n",
       "<td>2014-03-06 17:15:52</td>\n",
       "<td>-12.07</td>\n",
       "<td>0.1280</td>\n",
       "<td>100</td>\n",
       "<td>2014-03-06 17:14:53</td>\n",
       "<td>2014-03-06 17:15:52</td>\n",
       "<td>1.410</td>\n",
       "<td>0.0003118</td>\n",
       "<td>55</td>\n",
       "<td>varying wind speed</td>\n",
       "</tr>\n",
       "</tbody>\n",
       "</table>\n",
       "</div>"
      ],
      "text/plain": [
       "        lc_time         T_in1   T_in2   T_wall_in   T_wall_out   T_outside   T_outside_PT   T_chamber   T_leaf1   T_leaf2   T_leaf_in    Wind     T_dew    Air_inflow   Air_outflow         nr_time         T_leaf_IR   V_leaf_IR     sens_timefirst         sens_timelast      water_flow_avg   water_flow_std   water_flow_n      pow_timefirst         pow_timelast       fan_power_avg   fan_power_std   fan_power_n          Comment...................................................\n",
       "+---------------------+-------+-------+-----------+------------+-----------+--------------+-----------+---------+---------+-----------+--------+---------+------------+-------------+---------------------+-----------+-----------+---------------------+---------------------+----------------+----------------+--------------+---------------------+---------------------+---------------+---------------+-------------+--------------------------------------------------------------------------+\n",
       "          TS              K       K         K           K            K          Deg C           K          K         K          K        m/s      degC        SLPM         SLPM               TS              Deg C        mV                                                       ul/min           ul/min          ul/min              TS                    TS                  W               W\n",
       "  2014-03-05 15:15:18   16.23   16.35     22.73       22.76        22.75        23.58         22.70      20.83     21.22       NaN      4.943    -17.90      5.051         2.278      2014-03-05 15:15:19     15.54      -0.2384    2014-03-05 15:15:07   2014-03-05 15:15:17       -17.19           0.2266            95        2014-03-05 15:14:22   2014-03-05 15:15:21       1.407         2.220e-16         54                                 lower Tdew, upwind CTA\n",
       "  2014-03-05 15:32:02   16.25   16.36     22.81       22.85        22.83        23.70         22.77      20.99     21.34       NaN      5.275    -10.07      5.046         2.248      2014-03-05 15:32:01     15.86      -0.2277    2014-03-05 15:31:53   2014-03-05 15:32:03       -16.54           0.3207           100        2014-03-05 15:31:04   2014-03-05 15:32:03       1.407         2.220e-16         54                                higher Tdew, upwind CTA\n",
       "  2014-03-05 16:08:45   16.24   16.36     22.86       23.19        23.19        24.07         22.82      20.98     21.41      17.25     5.329    -5.019      5.357         2.387      2014-03-05 16:08:45     15.84      -0.2283    2014-03-05 16:08:36   2014-03-05 16:08:45       -15.94           0.1731           100        2014-03-05 16:07:47   2014-03-05 16:08:46       1.407          0.0000           55        sun has come out, outside wall suddenly started warming, rest unaffected\n",
       "  2014-03-05 16:54:32   16.23   16.35     23.08       23.06        23.01        23.70         23.05      21.45     21.74      17.78     5.252    0.08289     5.193         2.409      2014-03-05 16:54:33     16.50      -0.2055    2014-03-05 16:54:25   2014-03-05 16:54:35       -15.02           0.2545           100        2014-03-05 16:53:36   2014-03-05 16:54:35       1.406          0.0000           54\n",
       "  2014-03-06 10:35:50   15.87   15.97     21.86       21.81        21.79        22.57         21.83      20.06     20.50      16.32     5.356    0.09190     5.265         2.401      2014-03-06 10:35:53     16.65      -0.2004    2014-03-06 10:35:43   2014-03-06 10:35:53       -16.51           0.1232           100        2014-03-06 10:34:54   2014-03-06 10:35:53       1.412         0.0003413         52\n",
       "  2014-03-06 11:11:22   15.60   15.69     21.72       21.77        21.72        22.53         21.68      20.13     20.50      16.78     5.455     5.125      5.957         2.635      2014-03-06 11:11:24     17.11      -0.1843    2014-03-06 11:11:06   2014-03-06 11:11:16       -14.94           0.1902           100        2014-03-06 11:10:25   2014-03-06 11:11:24       1.412          0.0000           54\n",
       "  2014-03-06 12:54:16   15.45   15.54     21.74       21.77        21.73        22.41         21.69      20.35     20.74      17.71     5.360     10.21      6.529         2.843      2014-03-06 12:54:17     17.96      -0.1545    2014-03-06 12:54:10   2014-03-06 12:54:18       -12.30           0.1152            80        2014-03-06 12:53:18   2014-03-06 12:54:17       1.412          0.0000           55\n",
       "  2014-03-06 13:58:02   15.89   15.99     21.95       21.93        21.92        22.69         21.92      20.20     20.57      16.46     5.451    -5.014      5.410         2.442      2014-03-06 13:58:01     16.46      -0.2069    2014-03-06 13:57:52   2014-03-06 13:58:02       -15.03           0.1793           100        2014-03-06 13:57:04   2014-03-06 13:58:03       1.412          0.0000           54\n",
       "  2014-03-06 14:55:11   15.26   15.32     22.22       22.21        22.19        22.93         22.24      20.24     21.08      18.01     0.8222    10.21      7.830         3.616      2014-03-06 14:55:10     17.47      -0.1719    2014-03-06 14:55:02   2014-03-06 14:55:12       -6.361           0.1421           100        2014-03-06 14:54:13   2014-03-06 14:55:12       1.412          0.0000           54                                     low wind speed\n",
       "  2014-03-06 15:18:23   15.35   15.41     22.19       22.24        22.21        23.02         22.20      20.51     21.26      17.94     1.747     10.20      7.391         3.424      2014-03-06 15:18:27     17.42      -0.1735    2014-03-06 15:18:16   2014-03-06 15:18:26       -7.879           0.1374           100        2014-03-06 15:17:27   2014-03-06 15:18:26       1.412          0.0000           55                                   varying wind speed\n",
       "  2014-03-06 15:50:24   15.55   15.63     22.27       22.29        22.25        23.18         22.28      20.76     21.46      18.03     2.620     10.21      6.851         3.214      2014-03-06 15:50:24     17.45      -0.1725    2014-03-06 15:50:15   2014-03-06 15:50:25       -9.257           0.1355           100        2014-03-06 15:49:26   2014-03-06 15:50:25       1.383         0.0004356         55                                   varying wind speed\n",
       "  2014-03-06 16:18:30   15.75   15.81     22.31       22.32        22.30        23.14         22.34      20.98     21.65      18.10     3.481     10.21      6.357         3.084      2014-03-06 16:18:31     17.52      -0.1699    2014-03-06 16:18:21   2014-03-06 16:18:31       -10.61           0.1678           100        2014-03-06 16:17:33   2014-03-06 16:18:31       1.360         0.0004644         54                                   varying wind speed\n",
       "  2014-03-06 16:43:42   15.82   15.90     22.41       22.44        22.44        23.26         22.41      21.18     21.74      18.19     4.478     10.21      6.251         3.093      2014-03-06 16:43:46     17.62      -0.1665    2014-03-06 16:43:35   2014-03-06 16:43:45       -11.60           0.1218           100        2014-03-06 16:42:46   2014-03-06 16:43:45       1.397         0.0002597         55                                   varying wind speed\n",
       "  2014-03-06 17:15:50   15.79   15.88     22.49       22.46        22.44        23.14         22.46      21.37     21.92      18.36     5.468     10.21      6.136         3.064      2014-03-06 17:15:52     17.79      -0.1605    2014-03-06 17:15:42   2014-03-06 17:15:52       -12.07           0.1280           100        2014-03-06 17:14:53   2014-03-06 17:15:52       1.410         0.0003118         55                                   varying wind speed"
      ]
     },
     "metadata": {},
     "output_type": "display_data"
    },
    {
     "name": "stdout",
     "output_type": "stream",
     "text": [
      "R_s = (0.0, 0.0) joule/(R_s*meter^2*second)\n",
      "P_wa = (1200.40416881, 1342.46062459) pascal/P_wa\n",
      "T_a = (295.35, 295.61) kelvin/T_a\n",
      "v_w = (0.8222, 5.468) meter/(second*v_w)\n",
      "g_sw = (999.0, 999.0) meter/(g_sw*second)\n",
      "R_s = (0.0, 0.0) joule/(R_s*meter^2*second)\n",
      "P_wa = (1200.40416881, 1342.46062459) pascal/P_wa\n",
      "T_a = (295.35, 295.61) kelvin/T_a\n",
      "v_w = (0.8222, 5.468) meter/(second*v_w)\n",
      "g_sw = (999.0, 999.0) meter/(g_sw*second)\n"
     ]
    },
    {
     "data": {
      "text/html": [
       "<div class=\"notruncate\">\n",
       "<table  class=\"table_form\">\n",
       "<tbody>\n",
       "<tr>\n",
       "<th>lc_time</th>\n",
       "<th>T_in1</th>\n",
       "<th>T_in2</th>\n",
       "<th>T_wall_in</th>\n",
       "<th>T_wall_out</th>\n",
       "<th>T_outside</th>\n",
       "<th>T_outside_PT</th>\n",
       "<th>T_chamber</th>\n",
       "<th>T_leaf1</th>\n",
       "<th>T_leaf2</th>\n",
       "<th>T_leaf_in</th>\n",
       "<th>Wind</th>\n",
       "<th>T_dew</th>\n",
       "<th>Air_inflow</th>\n",
       "<th>Air_outflow</th>\n",
       "<th>nr_time</th>\n",
       "<th>T_leaf_IR</th>\n",
       "<th>V_leaf_IR</th>\n",
       "<th>Rn_above_leaf</th>\n",
       "<th>Rn_below_leaf</th>\n",
       "<th>Rn_beside_leaf</th>\n",
       "<th>RnV_above_leaf</th>\n",
       "<th>RnV_below_leaf</th>\n",
       "<th>RnV_beside_leaf</th>\n",
       "<th>sens_timefirst</th>\n",
       "<th>sens_timelast</th>\n",
       "<th>water_flow_avg</th>\n",
       "<th>water_flow_std</th>\n",
       "<th>water_flow_n</th>\n",
       "<th>pow_timefirst</th>\n",
       "<th>pow_timelast</th>\n",
       "<th>fan_power_avg</th>\n",
       "<th>fan_power_std</th>\n",
       "<th>fan_power_n</th>\n",
       "<th>Comment...................................................</th>\n",
       "</tr>\n",
       "<tr class =\"row-a\">\n",
       "<td>TS</td>\n",
       "<td>K</td>\n",
       "<td>K</td>\n",
       "<td>K</td>\n",
       "<td>K</td>\n",
       "<td>K</td>\n",
       "<td>Deg C</td>\n",
       "<td>K</td>\n",
       "<td>K</td>\n",
       "<td>K</td>\n",
       "<td>K</td>\n",
       "<td>m/s</td>\n",
       "<td>degC</td>\n",
       "<td>SLPM</td>\n",
       "<td>SLPM</td>\n",
       "<td>TS</td>\n",
       "<td>Deg C</td>\n",
       "<td>mV</td>\n",
       "<td>W/m^2</td>\n",
       "<td>W/m^2</td>\n",
       "<td>W/m^2</td>\n",
       "<td>mV</td>\n",
       "<td>mV</td>\n",
       "<td>mV</td>\n",
       "<td></td>\n",
       "<td></td>\n",
       "<td>ul/min</td>\n",
       "<td>ul/min</td>\n",
       "<td>ul/min</td>\n",
       "<td>TS</td>\n",
       "<td>TS</td>\n",
       "<td>W</td>\n",
       "<td>W</td>\n",
       "<td></td>\n",
       "<td></td>\n",
       "</tr>\n",
       "<tr class =\"row-b\">\n",
       "<td>2014-03-19 16:12:55</td>\n",
       "<td>26.47</td>\n",
       "<td>26.31</td>\n",
       "<td>22.72</td>\n",
       "<td>22.66</td>\n",
       "<td>22.50</td>\n",
       "<td>23.14</td>\n",
       "<td>22.73</td>\n",
       "<td>20.22</td>\n",
       "<td>21.84</td>\n",
       "<td>16.09</td>\n",
       "<td>1.000</td>\n",
       "<td>-10.07</td>\n",
       "<td>3.939</td>\n",
       "<td>2.150</td>\n",
       "<td>2014-03-19 16:12:57</td>\n",
       "<td>15.60</td>\n",
       "<td>-0.2363</td>\n",
       "<td>18.54</td>\n",
       "<td>-19.70</td>\n",
       "<td>-7.710</td>\n",
       "<td>-0.02218</td>\n",
       "<td>0.02048</td>\n",
       "<td>0.009957</td>\n",
       "<td>2014-03-19 16:12:20</td>\n",
       "<td>2014-03-19 16:12:27</td>\n",
       "<td>-9.747</td>\n",
       "<td>0.1542</td>\n",
       "<td>100</td>\n",
       "<td>2014-03-19 16:11:56</td>\n",
       "<td>2014-03-19 16:12:55</td>\n",
       "<td>0.06452</td>\n",
       "<td>0.00003198</td>\n",
       "<td>54</td>\n",
       "<td>Black leaf only with filter paper, varying Tdew, cooler set to 20oC, humidifier T increased if necessary for steady state</td>\n",
       "</tr>\n",
       "<tr class =\"row-a\">\n",
       "<td>2014-03-19 17:25:05</td>\n",
       "<td>26.42</td>\n",
       "<td>26.27</td>\n",
       "<td>22.64</td>\n",
       "<td>22.68</td>\n",
       "<td>22.53</td>\n",
       "<td>23.38</td>\n",
       "<td>22.62</td>\n",
       "<td>20.05</td>\n",
       "<td>21.76</td>\n",
       "<td>15.74</td>\n",
       "<td>1.040</td>\n",
       "<td>-14.81</td>\n",
       "<td>4.050</td>\n",
       "<td>2.244</td>\n",
       "<td>2014-03-19 17:25:06</td>\n",
       "<td>15.31</td>\n",
       "<td>-0.2463</td>\n",
       "<td>19.15</td>\n",
       "<td>-20.43</td>\n",
       "<td>-8.228</td>\n",
       "<td>-0.02292</td>\n",
       "<td>0.02124</td>\n",
       "<td>0.01063</td>\n",
       "<td>2014-03-19 17:24:52</td>\n",
       "<td>2014-03-19 17:24:59</td>\n",
       "<td>-10.07</td>\n",
       "<td>0.1254</td>\n",
       "<td>100</td>\n",
       "<td>2014-03-19 17:24:07</td>\n",
       "<td>2014-03-19 17:25:06</td>\n",
       "<td>0.06433</td>\n",
       "<td>0.00001351</td>\n",
       "<td>54</td>\n",
       "<td>varying Tdew</td>\n",
       "</tr>\n",
       "<tr class =\"row-b\">\n",
       "<td>2014-03-20 15:48:40</td>\n",
       "<td>25.20</td>\n",
       "<td>25.18</td>\n",
       "<td>23.32</td>\n",
       "<td>23.35</td>\n",
       "<td>23.13</td>\n",
       "<td>26.59</td>\n",
       "<td>23.34</td>\n",
       "<td>21.35</td>\n",
       "<td>21.46</td>\n",
       "<td>16.73</td>\n",
       "<td>1.016</td>\n",
       "<td>0.09124</td>\n",
       "<td>7.228</td>\n",
       "<td>3.876</td>\n",
       "<td>2014-03-20 15:48:40</td>\n",
       "<td>15.60</td>\n",
       "<td>-0.2362</td>\n",
       "<td>19.43</td>\n",
       "<td>-18.45</td>\n",
       "<td>26.66</td>\n",
       "<td>-0.02325</td>\n",
       "<td>0.01919</td>\n",
       "<td>-0.03457</td>\n",
       "<td>2014-03-20 15:48:19</td>\n",
       "<td>2014-03-20 15:48:26</td>\n",
       "<td>-9.434</td>\n",
       "<td>0.09447</td>\n",
       "<td>100</td>\n",
       "<td>2014-03-20 15:47:40</td>\n",
       "<td>2014-03-20 15:48:39</td>\n",
       "<td>0.06381</td>\n",
       "<td>0.00001725</td>\n",
       "<td>55</td>\n",
       "<td>varying Tdew</td>\n",
       "</tr>\n",
       "<tr class =\"row-a\">\n",
       "<td>2014-03-20 17:07:40</td>\n",
       "<td>25.19</td>\n",
       "<td>25.18</td>\n",
       "<td>23.40</td>\n",
       "<td>23.43</td>\n",
       "<td>23.34</td>\n",
       "<td>26.75</td>\n",
       "<td>23.42</td>\n",
       "<td>21.19</td>\n",
       "<td>21.30</td>\n",
       "<td>16.15</td>\n",
       "<td>1.034</td>\n",
       "<td>-5.024</td>\n",
       "<td>8.836</td>\n",
       "<td>4.576</td>\n",
       "<td>2014-03-20 17:07:40</td>\n",
       "<td>14.96</td>\n",
       "<td>-0.2582</td>\n",
       "<td>21.20</td>\n",
       "<td>-20.15</td>\n",
       "<td>26.72</td>\n",
       "<td>-0.02537</td>\n",
       "<td>0.02095</td>\n",
       "<td>-0.03465</td>\n",
       "<td>2014-03-20 17:07:26</td>\n",
       "<td>2014-03-20 17:07:33</td>\n",
       "<td>-10.28</td>\n",
       "<td>0.2422</td>\n",
       "<td>100</td>\n",
       "<td>2014-03-20 17:06:42</td>\n",
       "<td>2014-03-20 17:07:40</td>\n",
       "<td>0.06378</td>\n",
       "<td>0.00002570</td>\n",
       "<td>54</td>\n",
       "<td>varying Tdew</td>\n",
       "</tr>\n",
       "<tr class =\"row-b\">\n",
       "<td>2014-03-24 12:32:10</td>\n",
       "<td>26.41</td>\n",
       "<td>26.29</td>\n",
       "<td>22.33</td>\n",
       "<td>22.38</td>\n",
       "<td>22.29</td>\n",
       "<td>25.77</td>\n",
       "<td>22.35</td>\n",
       "<td>19.04</td>\n",
       "<td>21.25</td>\n",
       "<td>16.24</td>\n",
       "<td>1.018</td>\n",
       "<td>-5.015</td>\n",
       "<td>3.558</td>\n",
       "<td>2.085</td>\n",
       "<td>2014-03-24 12:32:12</td>\n",
       "<td>16.24</td>\n",
       "<td>-0.2142</td>\n",
       "<td>17.04</td>\n",
       "<td>-16.80</td>\n",
       "<td>-0.4545</td>\n",
       "<td>-0.02039</td>\n",
       "<td>0.01747</td>\n",
       "<td>0.0005564</td>\n",
       "<td>2014-03-24 12:32:03</td>\n",
       "<td>2014-03-24 12:32:10</td>\n",
       "<td>-8.945</td>\n",
       "<td>0.1869</td>\n",
       "<td>100</td>\n",
       "<td>2014-03-24 12:31:10</td>\n",
       "<td>2014-03-24 12:32:09</td>\n",
       "<td>0.06426</td>\n",
       "<td>0.00001137</td>\n",
       "<td>55</td>\n",
       "<td>varying Tdew</td>\n",
       "</tr>\n",
       "<tr class =\"row-a\">\n",
       "<td>2014-03-24 14:11:58</td>\n",
       "<td>24.02</td>\n",
       "<td>24.01</td>\n",
       "<td>22.56</td>\n",
       "<td>22.53</td>\n",
       "<td>22.45</td>\n",
       "<td>25.85</td>\n",
       "<td>22.58</td>\n",
       "<td>19.56</td>\n",
       "<td>21.55</td>\n",
       "<td>17.00</td>\n",
       "<td>1.009</td>\n",
       "<td>5.115</td>\n",
       "<td>8.549</td>\n",
       "<td>4.539</td>\n",
       "<td>2014-03-24 14:11:59</td>\n",
       "<td>16.82</td>\n",
       "<td>-0.1943</td>\n",
       "<td>15.65</td>\n",
       "<td>-15.06</td>\n",
       "<td>-0.7787</td>\n",
       "<td>-0.01872</td>\n",
       "<td>0.01566</td>\n",
       "<td>0.0009764</td>\n",
       "<td>2014-03-24 14:11:50</td>\n",
       "<td>2014-03-24 14:11:57</td>\n",
       "<td>-8.092</td>\n",
       "<td>0.1858</td>\n",
       "<td>100</td>\n",
       "<td>2014-03-24 14:10:58</td>\n",
       "<td>2014-03-24 14:11:57</td>\n",
       "<td>0.06428</td>\n",
       "<td>0.00001451</td>\n",
       "<td>55</td>\n",
       "<td>varying Tdew</td>\n",
       "</tr>\n",
       "<tr class =\"row-b\">\n",
       "<td>2014-03-24 14:43:04</td>\n",
       "<td>24.25</td>\n",
       "<td>24.23</td>\n",
       "<td>22.57</td>\n",
       "<td>22.58</td>\n",
       "<td>22.47</td>\n",
       "<td>25.93</td>\n",
       "<td>22.59</td>\n",
       "<td>20.20</td>\n",
       "<td>21.78</td>\n",
       "<td>18.19</td>\n",
       "<td>1.012</td>\n",
       "<td>10.21</td>\n",
       "<td>5.554</td>\n",
       "<td>3.175</td>\n",
       "<td>2014-03-24 14:43:06</td>\n",
       "<td>17.91</td>\n",
       "<td>-0.1562</td>\n",
       "<td>12.55</td>\n",
       "<td>-11.98</td>\n",
       "<td>-0.1198</td>\n",
       "<td>-0.01502</td>\n",
       "<td>0.01246</td>\n",
       "<td>0.0001227</td>\n",
       "<td>2014-03-24 14:42:49</td>\n",
       "<td>2014-03-24 14:42:56</td>\n",
       "<td>-6.581</td>\n",
       "<td>0.1051</td>\n",
       "<td>100</td>\n",
       "<td>2014-03-24 14:42:05</td>\n",
       "<td>2014-03-24 14:43:04</td>\n",
       "<td>0.06431</td>\n",
       "<td>0.00001674</td>\n",
       "<td>54</td>\n",
       "<td>varying Tdew</td>\n",
       "</tr>\n",
       "<tr class =\"row-a\">\n",
       "<td>2014-03-24 16:24:34</td>\n",
       "<td>23.23</td>\n",
       "<td>23.19</td>\n",
       "<td>22.21</td>\n",
       "<td>22.30</td>\n",
       "<td>22.24</td>\n",
       "<td>25.57</td>\n",
       "<td>22.22</td>\n",
       "<td>20.66</td>\n",
       "<td>21.69</td>\n",
       "<td>19.41</td>\n",
       "<td>1.038</td>\n",
       "<td>15.14</td>\n",
       "<td>4.038</td>\n",
       "<td>2.444</td>\n",
       "<td>2014-03-24 16:24:33</td>\n",
       "<td>19.09</td>\n",
       "<td>-0.1145</td>\n",
       "<td>7.638</td>\n",
       "<td>-8.015</td>\n",
       "<td>4.552</td>\n",
       "<td>-0.009139</td>\n",
       "<td>0.008339</td>\n",
       "<td>-0.005931</td>\n",
       "<td>2014-03-24 16:24:26</td>\n",
       "<td>2014-03-24 16:24:33</td>\n",
       "<td>-4.273</td>\n",
       "<td>0.1099</td>\n",
       "<td>100</td>\n",
       "<td>2014-03-24 16:23:34</td>\n",
       "<td>2014-03-24 16:24:33</td>\n",
       "<td>0.06441</td>\n",
       "<td>0.00001503</td>\n",
       "<td>54</td>\n",
       "<td>varying Tdew</td>\n",
       "</tr>\n",
       "<tr class =\"row-b\">\n",
       "<td>2014-03-24 18:05:16</td>\n",
       "<td>22.65</td>\n",
       "<td>22.65</td>\n",
       "<td>22.50</td>\n",
       "<td>22.38</td>\n",
       "<td>22.38</td>\n",
       "<td>25.89</td>\n",
       "<td>22.50</td>\n",
       "<td>21.80</td>\n",
       "<td>22.26</td>\n",
       "<td>21.30</td>\n",
       "<td>1.032</td>\n",
       "<td>20.10</td>\n",
       "<td>4.065</td>\n",
       "<td>2.476</td>\n",
       "<td>2014-03-24 18:05:19</td>\n",
       "<td>20.79</td>\n",
       "<td>-0.05258</td>\n",
       "<td>3.647</td>\n",
       "<td>-3.204</td>\n",
       "<td>1.439</td>\n",
       "<td>-0.004363</td>\n",
       "<td>0.003339</td>\n",
       "<td>-0.001896</td>\n",
       "<td>2014-03-24 18:04:58</td>\n",
       "<td>2014-03-24 18:05:05</td>\n",
       "<td>-1.934</td>\n",
       "<td>0.1372</td>\n",
       "<td>100</td>\n",
       "<td>2014-03-24 18:04:18</td>\n",
       "<td>2014-03-24 18:05:17</td>\n",
       "<td>0.06427</td>\n",
       "<td>0.00001650</td>\n",
       "<td>54</td>\n",
       "<td>varying Tdew</td>\n",
       "</tr>\n",
       "</tbody>\n",
       "</table>\n",
       "</div>"
      ],
      "text/plain": [
       "        lc_time         T_in1   T_in2   T_wall_in   T_wall_out   T_outside   T_outside_PT   T_chamber   T_leaf1   T_leaf2   T_leaf_in   Wind     T_dew    Air_inflow   Air_outflow         nr_time         T_leaf_IR   V_leaf_IR   Rn_above_leaf   Rn_below_leaf   Rn_beside_leaf   RnV_above_leaf   RnV_below_leaf   RnV_beside_leaf     sens_timefirst         sens_timelast      water_flow_avg   water_flow_std   water_flow_n      pow_timefirst         pow_timelast       fan_power_avg   fan_power_std   fan_power_n                                  Comment...................................................\n",
       "+---------------------+-------+-------+-----------+------------+-----------+--------------+-----------+---------+---------+-----------+-------+---------+------------+-------------+---------------------+-----------+-----------+---------------+---------------+----------------+----------------+----------------+-----------------+---------------------+---------------------+----------------+----------------+--------------+---------------------+---------------------+---------------+---------------+-------------+---------------------------------------------------------------------------------------------------------------------------+\n",
       "          TS              K       K         K           K            K          Deg C           K          K         K          K        m/s     degC        SLPM         SLPM               TS              Deg C        mV           W/m^2           W/m^2           W/m^2              mV               mV               mV                                                          ul/min           ul/min          ul/min              TS                    TS                  W               W\n",
       "  2014-03-19 16:12:55   26.47   26.31     22.72       22.66        22.50        23.14         22.73      20.22     21.84      16.09     1.000   -10.07      3.939         2.150      2014-03-19 16:12:57     15.60      -0.2363        18.54          -19.70           -7.710          -0.02218         0.02048          0.009957       2014-03-19 16:12:20   2014-03-19 16:12:27       -9.747           0.1542           100        2014-03-19 16:11:56   2014-03-19 16:12:55      0.06452       0.00003198         54        Black leaf only with filter paper, varying Tdew, cooler set to 20oC, humidifier T increased if necessary for steady state\n",
       "  2014-03-19 17:25:05   26.42   26.27     22.64       22.68        22.53        23.38         22.62      20.05     21.76      15.74     1.040   -14.81      4.050         2.244      2014-03-19 17:25:06     15.31      -0.2463        19.15          -20.43           -8.228          -0.02292         0.02124           0.01063       2014-03-19 17:24:52   2014-03-19 17:24:59       -10.07           0.1254           100        2014-03-19 17:24:07   2014-03-19 17:25:06      0.06433       0.00001351         54                                                              varying Tdew\n",
       "  2014-03-20 15:48:40   25.20   25.18     23.32       23.35        23.13        26.59         23.34      21.35     21.46      16.73     1.016   0.09124     7.228         3.876      2014-03-20 15:48:40     15.60      -0.2362        19.43          -18.45           26.66           -0.02325         0.01919          -0.03457       2014-03-20 15:48:19   2014-03-20 15:48:26       -9.434          0.09447           100        2014-03-20 15:47:40   2014-03-20 15:48:39      0.06381       0.00001725         55                                                              varying Tdew\n",
       "  2014-03-20 17:07:40   25.19   25.18     23.40       23.43        23.34        26.75         23.42      21.19     21.30      16.15     1.034   -5.024      8.836         4.576      2014-03-20 17:07:40     14.96      -0.2582        21.20          -20.15           26.72           -0.02537         0.02095          -0.03465       2014-03-20 17:07:26   2014-03-20 17:07:33       -10.28           0.2422           100        2014-03-20 17:06:42   2014-03-20 17:07:40      0.06378       0.00002570         54                                                              varying Tdew\n",
       "  2014-03-24 12:32:10   26.41   26.29     22.33       22.38        22.29        25.77         22.35      19.04     21.25      16.24     1.018   -5.015      3.558         2.085      2014-03-24 12:32:12     16.24      -0.2142        17.04          -16.80          -0.4545          -0.02039         0.01747          0.0005564      2014-03-24 12:32:03   2014-03-24 12:32:10       -8.945           0.1869           100        2014-03-24 12:31:10   2014-03-24 12:32:09      0.06426       0.00001137         55                                                              varying Tdew\n",
       "  2014-03-24 14:11:58   24.02   24.01     22.56       22.53        22.45        25.85         22.58      19.56     21.55      17.00     1.009    5.115      8.549         4.539      2014-03-24 14:11:59     16.82      -0.1943        15.65          -15.06          -0.7787          -0.01872         0.01566          0.0009764      2014-03-24 14:11:50   2014-03-24 14:11:57       -8.092           0.1858           100        2014-03-24 14:10:58   2014-03-24 14:11:57      0.06428       0.00001451         55                                                              varying Tdew\n",
       "  2014-03-24 14:43:04   24.25   24.23     22.57       22.58        22.47        25.93         22.59      20.20     21.78      18.19     1.012    10.21      5.554         3.175      2014-03-24 14:43:06     17.91      -0.1562        12.55          -11.98          -0.1198          -0.01502         0.01246          0.0001227      2014-03-24 14:42:49   2014-03-24 14:42:56       -6.581           0.1051           100        2014-03-24 14:42:05   2014-03-24 14:43:04      0.06431       0.00001674         54                                                              varying Tdew\n",
       "  2014-03-24 16:24:34   23.23   23.19     22.21       22.30        22.24        25.57         22.22      20.66     21.69      19.41     1.038    15.14      4.038         2.444      2014-03-24 16:24:33     19.09      -0.1145        7.638          -8.015           4.552          -0.009139         0.008339         -0.005931      2014-03-24 16:24:26   2014-03-24 16:24:33       -4.273           0.1099           100        2014-03-24 16:23:34   2014-03-24 16:24:33      0.06441       0.00001503         54                                                              varying Tdew\n",
       "  2014-03-24 18:05:16   22.65   22.65     22.50       22.38        22.38        25.89         22.50      21.80     22.26      21.30     1.032    20.10      4.065         2.476      2014-03-24 18:05:19     20.79     -0.05258        3.647          -3.204           1.439          -0.004363         0.003339         -0.001896      2014-03-24 18:04:58   2014-03-24 18:05:05       -1.934           0.1372           100        2014-03-24 18:04:18   2014-03-24 18:05:17      0.06427       0.00001650         54                                                              varying Tdew"
      ]
     },
     "metadata": {},
     "output_type": "display_data"
    },
    {
     "name": "stdout",
     "output_type": "stream",
     "text": [
      "R_s = (0.0, 0.0) joule/(R_s*meter^2*second)\n",
      "P_wa = (466.848762265, 2221.34112236) pascal/P_wa\n",
      "T_a = (295.37, 296.57) kelvin/T_a\n",
      "v_w = (1.0, 1.04) meter/(second*v_w)\n",
      "g_sw = (999.0, 999.0) meter/(g_sw*second)\n"
     ]
    },
    {
     "data": {
      "text/html": [
       "<div class=\"notruncate\">\n",
       "<table  class=\"table_form\">\n",
       "<tbody>\n",
       "<tr>\n",
       "<th>lc_time</th>\n",
       "<th>T_in1</th>\n",
       "<th>T_in2</th>\n",
       "<th>T_wall_in</th>\n",
       "<th>T_wall_out</th>\n",
       "<th>T_outside</th>\n",
       "<th>T_outside_PT</th>\n",
       "<th>T_chamber</th>\n",
       "<th>T_leaf1</th>\n",
       "<th>T_leaf2</th>\n",
       "<th>T_leaf_in</th>\n",
       "<th>Wind</th>\n",
       "<th>T_dew</th>\n",
       "<th>Air_inflow</th>\n",
       "<th>Air_outflow</th>\n",
       "<th>nr_time</th>\n",
       "<th>T_leaf_IR</th>\n",
       "<th>V_leaf_IR</th>\n",
       "<th>sens_timefirst</th>\n",
       "<th>sens_timelast</th>\n",
       "<th>water_flow_avg</th>\n",
       "<th>water_flow_std</th>\n",
       "<th>water_flow_n</th>\n",
       "<th>pow_timefirst</th>\n",
       "<th>pow_timelast</th>\n",
       "<th>fan_power_avg</th>\n",
       "<th>fan_power_std</th>\n",
       "<th>fan_power_n</th>\n",
       "<th>Comment...................................................</th>\n",
       "</tr>\n",
       "<tr class =\"row-a\">\n",
       "<td>TS</td>\n",
       "<td>K</td>\n",
       "<td>K</td>\n",
       "<td>K</td>\n",
       "<td>K</td>\n",
       "<td>K</td>\n",
       "<td>Deg C</td>\n",
       "<td>K</td>\n",
       "<td>K</td>\n",
       "<td>K</td>\n",
       "<td>K</td>\n",
       "<td>m/s</td>\n",
       "<td>degC</td>\n",
       "<td>SLPM</td>\n",
       "<td>SLPM</td>\n",
       "<td>TS</td>\n",
       "<td>Deg C</td>\n",
       "<td>mV</td>\n",
       "<td></td>\n",
       "<td></td>\n",
       "<td>ul/min</td>\n",
       "<td>ul/min</td>\n",
       "<td>ul/min</td>\n",
       "<td>TS</td>\n",
       "<td>TS</td>\n",
       "<td>W</td>\n",
       "<td>W</td>\n",
       "<td></td>\n",
       "<td></td>\n",
       "</tr>\n",
       "<tr class =\"row-b\">\n",
       "<td>2014-03-08 13:57:52</td>\n",
       "<td>15.27</td>\n",
       "<td>15.34</td>\n",
       "<td>22.01</td>\n",
       "<td>22.01</td>\n",
       "<td>21.99</td>\n",
       "<td>22.73</td>\n",
       "<td>21.95</td>\n",
       "<td>21.49</td>\n",
       "<td>21.64</td>\n",
       "<td>19.42</td>\n",
       "<td>5.559</td>\n",
       "<td>10.21</td>\n",
       "<td>7.192</td>\n",
       "<td>3.081</td>\n",
       "<td>2014-03-08 13:57:50</td>\n",
       "<td>20.46</td>\n",
       "<td>-0.06480</td>\n",
       "<td>2014-03-08 13:57:45</td>\n",
       "<td>2014-03-08 13:57:52</td>\n",
       "<td>-8.900</td>\n",
       "<td>0.09177</td>\n",
       "<td>100</td>\n",
       "<td>2014-03-08 13:56:53</td>\n",
       "<td>2014-03-08 13:57:52</td>\n",
       "<td>1.412</td>\n",
       "<td>0.0000</td>\n",
       "<td>54</td>\n",
       "<td>varying wind speed</td>\n",
       "</tr>\n",
       "<tr class =\"row-a\">\n",
       "<td>2014-03-08 14:22:57</td>\n",
       "<td>15.27</td>\n",
       "<td>15.33</td>\n",
       "<td>21.98</td>\n",
       "<td>22.05</td>\n",
       "<td>22.02</td>\n",
       "<td>22.85</td>\n",
       "<td>21.96</td>\n",
       "<td>21.44</td>\n",
       "<td>21.58</td>\n",
       "<td>19.34</td>\n",
       "<td>4.740</td>\n",
       "<td>10.21</td>\n",
       "<td>7.292</td>\n",
       "<td>3.095</td>\n",
       "<td>2014-03-08 14:22:58</td>\n",
       "<td>20.41</td>\n",
       "<td>-0.06680</td>\n",
       "<td>2014-03-08 14:22:52</td>\n",
       "<td>2014-03-08 14:22:59</td>\n",
       "<td>-8.492</td>\n",
       "<td>0.1071</td>\n",
       "<td>100</td>\n",
       "<td>2014-03-08 14:22:01</td>\n",
       "<td>2014-03-08 14:22:59</td>\n",
       "<td>1.411</td>\n",
       "<td>0.0000</td>\n",
       "<td>54</td>\n",
       "<td>varying wind speed</td>\n",
       "</tr>\n",
       "<tr class =\"row-b\">\n",
       "<td>2014-03-08 15:01:24</td>\n",
       "<td>15.38</td>\n",
       "<td>15.44</td>\n",
       "<td>22.05</td>\n",
       "<td>22.08</td>\n",
       "<td>22.06</td>\n",
       "<td>22.81</td>\n",
       "<td>22.09</td>\n",
       "<td>21.47</td>\n",
       "<td>21.64</td>\n",
       "<td>19.37</td>\n",
       "<td>3.887</td>\n",
       "<td>10.21</td>\n",
       "<td>7.042</td>\n",
       "<td>3.018</td>\n",
       "<td>2014-03-08 15:01:25</td>\n",
       "<td>20.46</td>\n",
       "<td>-0.06480</td>\n",
       "<td>2014-03-08 15:01:19</td>\n",
       "<td>2014-03-08 15:01:26</td>\n",
       "<td>-8.020</td>\n",
       "<td>0.08356</td>\n",
       "<td>100</td>\n",
       "<td>2014-03-08 15:00:28</td>\n",
       "<td>2014-03-08 15:01:27</td>\n",
       "<td>1.378</td>\n",
       "<td>0.0004714</td>\n",
       "<td>54</td>\n",
       "<td>varying wind speed</td>\n",
       "</tr>\n",
       "<tr class =\"row-a\">\n",
       "<td>2014-03-08 15:30:25</td>\n",
       "<td>15.36</td>\n",
       "<td>15.43</td>\n",
       "<td>22.08</td>\n",
       "<td>22.07</td>\n",
       "<td>22.03</td>\n",
       "<td>22.81</td>\n",
       "<td>22.10</td>\n",
       "<td>21.40</td>\n",
       "<td>21.62</td>\n",
       "<td>19.30</td>\n",
       "<td>3.192</td>\n",
       "<td>10.21</td>\n",
       "<td>7.146</td>\n",
       "<td>2.948</td>\n",
       "<td>2014-03-08 15:30:23</td>\n",
       "<td>20.41</td>\n",
       "<td>-0.06679</td>\n",
       "<td>2014-03-08 15:30:18</td>\n",
       "<td>2014-03-08 15:30:25</td>\n",
       "<td>-7.362</td>\n",
       "<td>0.1076</td>\n",
       "<td>100</td>\n",
       "<td>2014-03-08 15:29:27</td>\n",
       "<td>2014-03-08 15:30:25</td>\n",
       "<td>1.366</td>\n",
       "<td>0.0005000</td>\n",
       "<td>54</td>\n",
       "<td>varying wind speed</td>\n",
       "</tr>\n",
       "<tr class =\"row-b\">\n",
       "<td>2014-03-08 16:24:17</td>\n",
       "<td>15.27</td>\n",
       "<td>15.36</td>\n",
       "<td>22.05</td>\n",
       "<td>22.08</td>\n",
       "<td>22.02</td>\n",
       "<td>22.93</td>\n",
       "<td>22.07</td>\n",
       "<td>21.26</td>\n",
       "<td>21.53</td>\n",
       "<td>19.16</td>\n",
       "<td>2.480</td>\n",
       "<td>10.21</td>\n",
       "<td>7.420</td>\n",
       "<td>3.026</td>\n",
       "<td>2014-03-08 16:24:16</td>\n",
       "<td>20.35</td>\n",
       "<td>-0.06879</td>\n",
       "<td>2014-03-08 16:24:10</td>\n",
       "<td>2014-03-08 16:24:17</td>\n",
       "<td>-6.647</td>\n",
       "<td>0.1155</td>\n",
       "<td>100</td>\n",
       "<td>2014-03-08 16:23:18</td>\n",
       "<td>2014-03-08 16:24:17</td>\n",
       "<td>1.378</td>\n",
       "<td>0.0000</td>\n",
       "<td>55</td>\n",
       "<td>varying wind speed</td>\n",
       "</tr>\n",
       "<tr class =\"row-a\">\n",
       "<td>2014-03-08 16:40:37</td>\n",
       "<td>15.25</td>\n",
       "<td>15.33</td>\n",
       "<td>22.09</td>\n",
       "<td>22.08</td>\n",
       "<td>22.03</td>\n",
       "<td>22.89</td>\n",
       "<td>22.10</td>\n",
       "<td>21.09</td>\n",
       "<td>21.42</td>\n",
       "<td>18.99</td>\n",
       "<td>1.744</td>\n",
       "<td>10.21</td>\n",
       "<td>7.585</td>\n",
       "<td>3.110</td>\n",
       "<td>2014-03-08 16:40:38</td>\n",
       "<td>20.30</td>\n",
       "<td>-0.07079</td>\n",
       "<td>2014-03-08 16:24:19</td>\n",
       "<td>2014-03-08 16:24:25</td>\n",
       "<td>-5.803</td>\n",
       "<td>0.1403</td>\n",
       "<td>100</td>\n",
       "<td>2014-03-08 16:39:40</td>\n",
       "<td>2014-03-08 16:40:39</td>\n",
       "<td>1.378</td>\n",
       "<td>0.0000</td>\n",
       "<td>55</td>\n",
       "<td>varying wind speed</td>\n",
       "</tr>\n",
       "<tr class =\"row-b\">\n",
       "<td>2014-03-08 17:13:26</td>\n",
       "<td>15.13</td>\n",
       "<td>15.20</td>\n",
       "<td>22.09</td>\n",
       "<td>22.12</td>\n",
       "<td>22.06</td>\n",
       "<td>22.85</td>\n",
       "<td>22.09</td>\n",
       "<td>20.75</td>\n",
       "<td>21.13</td>\n",
       "<td>18.74</td>\n",
       "<td>0.8469</td>\n",
       "<td>10.20</td>\n",
       "<td>7.960</td>\n",
       "<td>3.221</td>\n",
       "<td>2014-03-08 17:13:29</td>\n",
       "<td>20.13</td>\n",
       "<td>-0.07677</td>\n",
       "<td>2014-03-08 17:13:21</td>\n",
       "<td>2014-03-08 17:13:28</td>\n",
       "<td>-4.810</td>\n",
       "<td>0.07704</td>\n",
       "<td>100</td>\n",
       "<td>2014-03-08 17:12:30</td>\n",
       "<td>2014-03-08 17:13:29</td>\n",
       "<td>1.378</td>\n",
       "<td>0.0000</td>\n",
       "<td>54</td>\n",
       "<td>varying wind speed</td>\n",
       "</tr>\n",
       "</tbody>\n",
       "</table>\n",
       "</div>"
      ],
      "text/plain": [
       "        lc_time         T_in1   T_in2   T_wall_in   T_wall_out   T_outside   T_outside_PT   T_chamber   T_leaf1   T_leaf2   T_leaf_in    Wind    T_dew   Air_inflow   Air_outflow         nr_time         T_leaf_IR   V_leaf_IR     sens_timefirst         sens_timelast      water_flow_avg   water_flow_std   water_flow_n      pow_timefirst         pow_timelast       fan_power_avg   fan_power_std   fan_power_n   Comment...................................................\n",
       "+---------------------+-------+-------+-----------+------------+-----------+--------------+-----------+---------+---------+-----------+--------+-------+------------+-------------+---------------------+-----------+-----------+---------------------+---------------------+----------------+----------------+--------------+---------------------+---------------------+---------------+---------------+-------------+------------------------------------------------------------+\n",
       "          TS              K       K         K           K            K          Deg C           K          K         K          K        m/s     degC       SLPM         SLPM               TS              Deg C        mV                                                       ul/min           ul/min          ul/min              TS                    TS                  W               W\n",
       "  2014-03-08 13:57:52   15.27   15.34     22.01       22.01        21.99        22.73         21.95      21.49     21.64      19.42     5.559    10.21     7.192         3.081      2014-03-08 13:57:50     20.46     -0.06480    2014-03-08 13:57:45   2014-03-08 13:57:52       -8.900          0.09177           100        2014-03-08 13:56:53   2014-03-08 13:57:52       1.412          0.0000           54                            varying wind speed\n",
       "  2014-03-08 14:22:57   15.27   15.33     21.98       22.05        22.02        22.85         21.96      21.44     21.58      19.34     4.740    10.21     7.292         3.095      2014-03-08 14:22:58     20.41     -0.06680    2014-03-08 14:22:52   2014-03-08 14:22:59       -8.492           0.1071           100        2014-03-08 14:22:01   2014-03-08 14:22:59       1.411          0.0000           54                            varying wind speed\n",
       "  2014-03-08 15:01:24   15.38   15.44     22.05       22.08        22.06        22.81         22.09      21.47     21.64      19.37     3.887    10.21     7.042         3.018      2014-03-08 15:01:25     20.46     -0.06480    2014-03-08 15:01:19   2014-03-08 15:01:26       -8.020          0.08356           100        2014-03-08 15:00:28   2014-03-08 15:01:27       1.378         0.0004714         54                            varying wind speed\n",
       "  2014-03-08 15:30:25   15.36   15.43     22.08       22.07        22.03        22.81         22.10      21.40     21.62      19.30     3.192    10.21     7.146         2.948      2014-03-08 15:30:23     20.41     -0.06679    2014-03-08 15:30:18   2014-03-08 15:30:25       -7.362           0.1076           100        2014-03-08 15:29:27   2014-03-08 15:30:25       1.366         0.0005000         54                            varying wind speed\n",
       "  2014-03-08 16:24:17   15.27   15.36     22.05       22.08        22.02        22.93         22.07      21.26     21.53      19.16     2.480    10.21     7.420         3.026      2014-03-08 16:24:16     20.35     -0.06879    2014-03-08 16:24:10   2014-03-08 16:24:17       -6.647           0.1155           100        2014-03-08 16:23:18   2014-03-08 16:24:17       1.378          0.0000           55                            varying wind speed\n",
       "  2014-03-08 16:40:37   15.25   15.33     22.09       22.08        22.03        22.89         22.10      21.09     21.42      18.99     1.744    10.21     7.585         3.110      2014-03-08 16:40:38     20.30     -0.07079    2014-03-08 16:24:19   2014-03-08 16:24:25       -5.803           0.1403           100        2014-03-08 16:39:40   2014-03-08 16:40:39       1.378          0.0000           55                            varying wind speed\n",
       "  2014-03-08 17:13:26   15.13   15.20     22.09       22.12        22.06        22.85         22.09      20.75     21.13      18.74     0.8469   10.20     7.960         3.221      2014-03-08 17:13:29     20.13     -0.07677    2014-03-08 17:13:21   2014-03-08 17:13:28       -4.810          0.07704           100        2014-03-08 17:12:30   2014-03-08 17:13:29       1.378          0.0000           54                            varying wind speed"
      ]
     },
     "metadata": {},
     "output_type": "display_data"
    },
    {
     "name": "stdout",
     "output_type": "stream",
     "text": [
      "R_s = (0.0, 0.0) joule/(R_s*meter^2*second)\n",
      "P_wa = (1173.97846865, 1252.74896325) pascal/P_wa\n",
      "T_a = (295.1, 295.25) kelvin/T_a\n",
      "v_w = (0.8469, 5.559) meter/(second*v_w)\n",
      "g_sw = (0.05, 0.05) meter/(g_sw*second)\n"
     ]
    },
    {
     "data": {
      "text/html": [
       "<div class=\"notruncate\">\n",
       "<table  class=\"table_form\">\n",
       "<tbody>\n",
       "<tr>\n",
       "<th>lc_time</th>\n",
       "<th>T_in1</th>\n",
       "<th>T_in2</th>\n",
       "<th>T_wall_in</th>\n",
       "<th>T_wall_out</th>\n",
       "<th>T_outside</th>\n",
       "<th>T_outside_PT</th>\n",
       "<th>T_chamber</th>\n",
       "<th>T_chamber1</th>\n",
       "<th>T_leaf1</th>\n",
       "<th>T_leaf2</th>\n",
       "<th>T_leaf_in</th>\n",
       "<th>Wind</th>\n",
       "<th>T_dew</th>\n",
       "<th>Air_inflow</th>\n",
       "<th>Air_outflow</th>\n",
       "<th>nr_time</th>\n",
       "<th>T_leaf_IR</th>\n",
       "<th>V_leaf_IR</th>\n",
       "<th>Rn_above_leaf</th>\n",
       "<th>Rn_below_leaf</th>\n",
       "<th>Rn_beside_leaf</th>\n",
       "<th>RnV_above_leaf</th>\n",
       "<th>RnV_below_leaf</th>\n",
       "<th>RnV_beside_leaf</th>\n",
       "<th>sens_timefirst</th>\n",
       "<th>sens_timelast</th>\n",
       "<th>water_flow_avg</th>\n",
       "<th>water_flow_std</th>\n",
       "<th>water_flow_n</th>\n",
       "<th>pow_timefirst</th>\n",
       "<th>pow_timelast</th>\n",
       "<th>fan_power_avg</th>\n",
       "<th>fan_power_std</th>\n",
       "<th>fan_power_n</th>\n",
       "<th>Comment...................................................</th>\n",
       "</tr>\n",
       "<tr class =\"row-a\">\n",
       "<td>TS</td>\n",
       "<td>K</td>\n",
       "<td>K</td>\n",
       "<td>K</td>\n",
       "<td>K</td>\n",
       "<td>K</td>\n",
       "<td>Deg C</td>\n",
       "<td>K</td>\n",
       "<td>K</td>\n",
       "<td>K</td>\n",
       "<td>K</td>\n",
       "<td>K</td>\n",
       "<td>m/s</td>\n",
       "<td>degC</td>\n",
       "<td>SLPM</td>\n",
       "<td>SLPM</td>\n",
       "<td>TS</td>\n",
       "<td>Deg C</td>\n",
       "<td>mV</td>\n",
       "<td>W/m^2</td>\n",
       "<td>W/m^2</td>\n",
       "<td>W/m^2</td>\n",
       "<td>mV</td>\n",
       "<td>mV</td>\n",
       "<td>mV</td>\n",
       "<td></td>\n",
       "<td></td>\n",
       "<td>ul/min</td>\n",
       "<td>ul/min</td>\n",
       "<td>ul/min</td>\n",
       "<td>TS</td>\n",
       "<td>TS</td>\n",
       "<td>W</td>\n",
       "<td>W</td>\n",
       "<td></td>\n",
       "<td></td>\n",
       "</tr>\n",
       "<tr class =\"row-b\">\n",
       "<td>2014-03-25 12:39:34</td>\n",
       "<td>23.98</td>\n",
       "<td>23.97</td>\n",
       "<td>22.56</td>\n",
       "<td>22.52</td>\n",
       "<td>22.50</td>\n",
       "<td>25.93</td>\n",
       "<td>22.58</td>\n",
       "<td>21.99</td>\n",
       "<td>19.92</td>\n",
       "<td>21.18</td>\n",
       "<td>16.53</td>\n",
       "<td>0.9999</td>\n",
       "<td>-19.32</td>\n",
       "<td>9.052</td>\n",
       "<td>4.451</td>\n",
       "<td>2014-03-25 12:39:35</td>\n",
       "<td>19.36</td>\n",
       "<td>-0.1045</td>\n",
       "<td>16.74</td>\n",
       "<td>-6.927</td>\n",
       "<td>-26.00</td>\n",
       "<td>-0.02004</td>\n",
       "<td>0.007208</td>\n",
       "<td>0.03366</td>\n",
       "<td>2014-03-25 12:39:21</td>\n",
       "<td>2014-03-25 12:39:28</td>\n",
       "<td>-8.233</td>\n",
       "<td>0.1577</td>\n",
       "<td>100</td>\n",
       "<td>2014-03-25 12:38:37</td>\n",
       "<td>2014-03-25 12:39:35</td>\n",
       "<td>0.06427</td>\n",
       "<td>0.00001266</td>\n",
       "<td>54</td>\n",
       "<td>Black leaf, silver perforated alu (35.4-1), varying Tdew</td>\n",
       "</tr>\n",
       "<tr class =\"row-a\">\n",
       "<td>2014-03-25 13:01:40</td>\n",
       "<td>23.97</td>\n",
       "<td>23.97</td>\n",
       "<td>22.57</td>\n",
       "<td>22.58</td>\n",
       "<td>22.54</td>\n",
       "<td>26.05</td>\n",
       "<td>22.58</td>\n",
       "<td>22.00</td>\n",
       "<td>20.00</td>\n",
       "<td>21.22</td>\n",
       "<td>16.68</td>\n",
       "<td>1.020</td>\n",
       "<td>-14.97</td>\n",
       "<td>8.490</td>\n",
       "<td>4.180</td>\n",
       "<td>2014-03-25 13:01:41</td>\n",
       "<td>19.36</td>\n",
       "<td>-0.1045</td>\n",
       "<td>16.25</td>\n",
       "<td>-6.859</td>\n",
       "<td>-25.52</td>\n",
       "<td>-0.01945</td>\n",
       "<td>0.007137</td>\n",
       "<td>0.03303</td>\n",
       "<td>2014-03-25 13:01:22</td>\n",
       "<td>2014-03-25 13:01:29</td>\n",
       "<td>-7.859</td>\n",
       "<td>0.3323</td>\n",
       "<td>100</td>\n",
       "<td>2014-03-25 13:00:39</td>\n",
       "<td>2014-03-25 13:01:38</td>\n",
       "<td>0.06428</td>\n",
       "<td>0.00002267</td>\n",
       "<td>55</td>\n",
       "<td>varying Tdew</td>\n",
       "</tr>\n",
       "<tr class =\"row-b\">\n",
       "<td>2014-03-25 14:07:31</td>\n",
       "<td>23.91</td>\n",
       "<td>23.91</td>\n",
       "<td>22.58</td>\n",
       "<td>22.59</td>\n",
       "<td>22.59</td>\n",
       "<td>26.10</td>\n",
       "<td>22.57</td>\n",
       "<td>22.04</td>\n",
       "<td>20.10</td>\n",
       "<td>21.26</td>\n",
       "<td>16.88</td>\n",
       "<td>1.021</td>\n",
       "<td>-10.08</td>\n",
       "<td>8.556</td>\n",
       "<td>4.293</td>\n",
       "<td>2014-03-25 14:07:31</td>\n",
       "<td>19.53</td>\n",
       "<td>-0.09854</td>\n",
       "<td>15.18</td>\n",
       "<td>-6.506</td>\n",
       "<td>-24.44</td>\n",
       "<td>-0.01817</td>\n",
       "<td>0.006771</td>\n",
       "<td>0.03163</td>\n",
       "<td>2014-03-25 14:07:11</td>\n",
       "<td>2014-03-25 14:07:18</td>\n",
       "<td>-7.807</td>\n",
       "<td>0.1403</td>\n",
       "<td>100</td>\n",
       "<td>2014-03-25 14:06:32</td>\n",
       "<td>2014-03-25 14:07:31</td>\n",
       "<td>0.06429</td>\n",
       "<td>0.00001291</td>\n",
       "<td>54</td>\n",
       "<td>varying Tdew</td>\n",
       "</tr>\n",
       "<tr class =\"row-a\">\n",
       "<td>2014-03-25 16:30:31</td>\n",
       "<td>24.25</td>\n",
       "<td>24.24</td>\n",
       "<td>22.76</td>\n",
       "<td>22.68</td>\n",
       "<td>22.67</td>\n",
       "<td>26.14</td>\n",
       "<td>22.77</td>\n",
       "<td>22.26</td>\n",
       "<td>20.43</td>\n",
       "<td>21.52</td>\n",
       "<td>17.38</td>\n",
       "<td>1.028</td>\n",
       "<td>-5.017</td>\n",
       "<td>7.524</td>\n",
       "<td>3.821</td>\n",
       "<td>2014-03-25 16:30:34</td>\n",
       "<td>19.81</td>\n",
       "<td>-0.08857</td>\n",
       "<td>14.46</td>\n",
       "<td>-6.187</td>\n",
       "<td>-22.65</td>\n",
       "<td>-0.01730</td>\n",
       "<td>0.006439</td>\n",
       "<td>0.02931</td>\n",
       "<td>2014-03-25 16:30:18</td>\n",
       "<td>2014-03-25 16:30:25</td>\n",
       "<td>-7.440</td>\n",
       "<td>0.07817</td>\n",
       "<td>100</td>\n",
       "<td>2014-03-25 16:29:33</td>\n",
       "<td>2014-03-25 16:30:32</td>\n",
       "<td>0.06417</td>\n",
       "<td>0.00001307</td>\n",
       "<td>54</td>\n",
       "<td>varying Tdew</td>\n",
       "</tr>\n",
       "<tr class =\"row-b\">\n",
       "<td>2014-03-25 16:48:46</td>\n",
       "<td>24.28</td>\n",
       "<td>24.23</td>\n",
       "<td>22.73</td>\n",
       "<td>22.73</td>\n",
       "<td>22.72</td>\n",
       "<td>26.02</td>\n",
       "<td>22.75</td>\n",
       "<td>22.25</td>\n",
       "<td>20.57</td>\n",
       "<td>21.61</td>\n",
       "<td>17.81</td>\n",
       "<td>1.019</td>\n",
       "<td>0.08945</td>\n",
       "<td>6.557</td>\n",
       "<td>3.387</td>\n",
       "<td>2014-03-25 16:48:48</td>\n",
       "<td>19.92</td>\n",
       "<td>-0.08459</td>\n",
       "<td>13.34</td>\n",
       "<td>-5.753</td>\n",
       "<td>-20.79</td>\n",
       "<td>-0.01596</td>\n",
       "<td>0.005988</td>\n",
       "<td>0.02690</td>\n",
       "<td>2014-03-25 16:48:26</td>\n",
       "<td>2014-03-25 16:48:33</td>\n",
       "<td>-6.759</td>\n",
       "<td>0.2183</td>\n",
       "<td>100</td>\n",
       "<td>2014-03-25 16:47:46</td>\n",
       "<td>2014-03-25 16:48:45</td>\n",
       "<td>0.06423</td>\n",
       "<td>0.00002734</td>\n",
       "<td>55</td>\n",
       "<td>varying Tdew</td>\n",
       "</tr>\n",
       "<tr class =\"row-a\">\n",
       "<td>2014-03-25 17:08:19</td>\n",
       "<td>24.24</td>\n",
       "<td>24.21</td>\n",
       "<td>22.75</td>\n",
       "<td>22.67</td>\n",
       "<td>22.68</td>\n",
       "<td>26.02</td>\n",
       "<td>22.74</td>\n",
       "<td>22.34</td>\n",
       "<td>20.86</td>\n",
       "<td>21.74</td>\n",
       "<td>18.41</td>\n",
       "<td>1.026</td>\n",
       "<td>5.120</td>\n",
       "<td>5.555</td>\n",
       "<td>2.939</td>\n",
       "<td>2014-03-25 17:08:22</td>\n",
       "<td>20.11</td>\n",
       "<td>-0.07734</td>\n",
       "<td>11.71</td>\n",
       "<td>-5.082</td>\n",
       "<td>-18.50</td>\n",
       "<td>-0.01401</td>\n",
       "<td>0.005290</td>\n",
       "<td>0.02393</td>\n",
       "<td>2014-03-25 17:08:08</td>\n",
       "<td>2014-03-25 17:08:15</td>\n",
       "<td>-5.926</td>\n",
       "<td>0.1492</td>\n",
       "<td>100</td>\n",
       "<td>2014-03-25 17:07:21</td>\n",
       "<td>2014-03-25 17:08:20</td>\n",
       "<td>0.06411</td>\n",
       "<td>0.00001511</td>\n",
       "<td>55</td>\n",
       "<td>varying Tdew</td>\n",
       "</tr>\n",
       "<tr class =\"row-b\">\n",
       "<td>2014-03-25 17:33:07</td>\n",
       "<td>24.16</td>\n",
       "<td>24.14</td>\n",
       "<td>22.79</td>\n",
       "<td>22.74</td>\n",
       "<td>22.69</td>\n",
       "<td>26.06</td>\n",
       "<td>22.80</td>\n",
       "<td>22.46</td>\n",
       "<td>21.25</td>\n",
       "<td>21.97</td>\n",
       "<td>19.27</td>\n",
       "<td>1.016</td>\n",
       "<td>10.21</td>\n",
       "<td>4.554</td>\n",
       "<td>2.509</td>\n",
       "<td>2014-03-25 17:33:08</td>\n",
       "<td>20.48</td>\n",
       "<td>-0.06401</td>\n",
       "<td>9.708</td>\n",
       "<td>-4.205</td>\n",
       "<td>-15.42</td>\n",
       "<td>-0.01162</td>\n",
       "<td>0.004379</td>\n",
       "<td>0.01994</td>\n",
       "<td>2014-03-25 17:32:52</td>\n",
       "<td>2014-03-25 17:32:59</td>\n",
       "<td>-5.070</td>\n",
       "<td>0.1435</td>\n",
       "<td>100</td>\n",
       "<td>2014-03-25 17:32:06</td>\n",
       "<td>2014-03-25 17:33:05</td>\n",
       "<td>0.06434</td>\n",
       "<td>0.00002586</td>\n",
       "<td>55</td>\n",
       "<td>varying Tdew</td>\n",
       "</tr>\n",
       "<tr class =\"row-a\">\n",
       "<td>2014-03-25 18:20:04</td>\n",
       "<td>23.97</td>\n",
       "<td>23.93</td>\n",
       "<td>22.78</td>\n",
       "<td>22.77</td>\n",
       "<td>22.75</td>\n",
       "<td>26.06</td>\n",
       "<td>22.79</td>\n",
       "<td>22.53</td>\n",
       "<td>21.71</td>\n",
       "<td>22.21</td>\n",
       "<td>20.36</td>\n",
       "<td>1.040</td>\n",
       "<td>15.16</td>\n",
       "<td>3.047</td>\n",
       "<td>1.719</td>\n",
       "<td>2014-03-25 18:20:06</td>\n",
       "<td>20.90</td>\n",
       "<td>-0.04869</td>\n",
       "<td>6.990</td>\n",
       "<td>-2.973</td>\n",
       "<td>-10.52</td>\n",
       "<td>-0.008364</td>\n",
       "<td>0.003099</td>\n",
       "<td>0.01360</td>\n",
       "<td>2014-03-25 18:19:53</td>\n",
       "<td>2014-03-25 18:20:00</td>\n",
       "<td>-3.535</td>\n",
       "<td>0.2791</td>\n",
       "<td>100</td>\n",
       "<td>2014-03-25 18:19:05</td>\n",
       "<td>2014-03-25 18:20:04</td>\n",
       "<td>0.06408</td>\n",
       "<td>0.00002733</td>\n",
       "<td>55</td>\n",
       "<td>varying Tdew</td>\n",
       "</tr>\n",
       "</tbody>\n",
       "</table>\n",
       "</div>"
      ],
      "text/plain": [
       "        lc_time         T_in1   T_in2   T_wall_in   T_wall_out   T_outside   T_outside_PT   T_chamber   T_chamber1   T_leaf1   T_leaf2   T_leaf_in    Wind     T_dew    Air_inflow   Air_outflow         nr_time         T_leaf_IR   V_leaf_IR   Rn_above_leaf   Rn_below_leaf   Rn_beside_leaf   RnV_above_leaf   RnV_below_leaf   RnV_beside_leaf     sens_timefirst         sens_timelast      water_flow_avg   water_flow_std   water_flow_n      pow_timefirst         pow_timelast       fan_power_avg   fan_power_std   fan_power_n   Comment...................................................\n",
       "+---------------------+-------+-------+-----------+------------+-----------+--------------+-----------+------------+---------+---------+-----------+--------+---------+------------+-------------+---------------------+-----------+-----------+---------------+---------------+----------------+----------------+----------------+-----------------+---------------------+---------------------+----------------+----------------+--------------+---------------------+---------------------+---------------+---------------+-------------+------------------------------------------------------------+\n",
       "          TS              K       K         K           K            K          Deg C           K           K           K         K          K        m/s      degC        SLPM         SLPM               TS              Deg C        mV           W/m^2           W/m^2           W/m^2              mV               mV               mV                                                          ul/min           ul/min          ul/min              TS                    TS                  W               W\n",
       "  2014-03-25 12:39:34   23.98   23.97     22.56       22.52        22.50        25.93         22.58       21.99       19.92     21.18      16.53     0.9999   -19.32      9.052         4.451      2014-03-25 12:39:35     19.36      -0.1045        16.74          -6.927           -26.00          -0.02004         0.007208          0.03366       2014-03-25 12:39:21   2014-03-25 12:39:28       -8.233           0.1577           100        2014-03-25 12:38:37   2014-03-25 12:39:35      0.06427       0.00001266         54         Black leaf, silver perforated alu (35.4-1), varying Tdew\n",
       "  2014-03-25 13:01:40   23.97   23.97     22.57       22.58        22.54        26.05         22.58       22.00       20.00     21.22      16.68     1.020    -14.97      8.490         4.180      2014-03-25 13:01:41     19.36      -0.1045        16.25          -6.859           -25.52          -0.01945         0.007137          0.03303       2014-03-25 13:01:22   2014-03-25 13:01:29       -7.859           0.3323           100        2014-03-25 13:00:39   2014-03-25 13:01:38      0.06428       0.00002267         55                               varying Tdew\n",
       "  2014-03-25 14:07:31   23.91   23.91     22.58       22.59        22.59        26.10         22.57       22.04       20.10     21.26      16.88     1.021    -10.08      8.556         4.293      2014-03-25 14:07:31     19.53     -0.09854        15.18          -6.506           -24.44          -0.01817         0.006771          0.03163       2014-03-25 14:07:11   2014-03-25 14:07:18       -7.807           0.1403           100        2014-03-25 14:06:32   2014-03-25 14:07:31      0.06429       0.00001291         54                               varying Tdew\n",
       "  2014-03-25 16:30:31   24.25   24.24     22.76       22.68        22.67        26.14         22.77       22.26       20.43     21.52      17.38     1.028    -5.017      7.524         3.821      2014-03-25 16:30:34     19.81     -0.08857        14.46          -6.187           -22.65          -0.01730         0.006439          0.02931       2014-03-25 16:30:18   2014-03-25 16:30:25       -7.440          0.07817           100        2014-03-25 16:29:33   2014-03-25 16:30:32      0.06417       0.00001307         54                               varying Tdew\n",
       "  2014-03-25 16:48:46   24.28   24.23     22.73       22.73        22.72        26.02         22.75       22.25       20.57     21.61      17.81     1.019    0.08945     6.557         3.387      2014-03-25 16:48:48     19.92     -0.08459        13.34          -5.753           -20.79          -0.01596         0.005988          0.02690       2014-03-25 16:48:26   2014-03-25 16:48:33       -6.759           0.2183           100        2014-03-25 16:47:46   2014-03-25 16:48:45      0.06423       0.00002734         55                               varying Tdew\n",
       "  2014-03-25 17:08:19   24.24   24.21     22.75       22.67        22.68        26.02         22.74       22.34       20.86     21.74      18.41     1.026     5.120      5.555         2.939      2014-03-25 17:08:22     20.11     -0.07734        11.71          -5.082           -18.50          -0.01401         0.005290          0.02393       2014-03-25 17:08:08   2014-03-25 17:08:15       -5.926           0.1492           100        2014-03-25 17:07:21   2014-03-25 17:08:20      0.06411       0.00001511         55                               varying Tdew\n",
       "  2014-03-25 17:33:07   24.16   24.14     22.79       22.74        22.69        26.06         22.80       22.46       21.25     21.97      19.27     1.016     10.21      4.554         2.509      2014-03-25 17:33:08     20.48     -0.06401        9.708          -4.205           -15.42          -0.01162         0.004379          0.01994       2014-03-25 17:32:52   2014-03-25 17:32:59       -5.070           0.1435           100        2014-03-25 17:32:06   2014-03-25 17:33:05      0.06434       0.00002586         55                               varying Tdew\n",
       "  2014-03-25 18:20:04   23.97   23.93     22.78       22.77        22.75        26.06         22.79       22.53       21.71     22.21      20.36     1.040     15.16      3.047         1.719      2014-03-25 18:20:06     20.90     -0.04869        6.990          -2.973           -10.52         -0.008364         0.003099          0.01360       2014-03-25 18:19:53   2014-03-25 18:20:00       -3.535           0.2791           100        2014-03-25 18:19:05   2014-03-25 18:20:04      0.06408       0.00002733         55                               varying Tdew"
      ]
     },
     "metadata": {},
     "output_type": "display_data"
    },
    {
     "name": "stdout",
     "output_type": "stream",
     "text": [
      "R_s = (0.0, 0.0) joule/(R_s*meter^2*second)\n",
      "P_wa = (218.598991722, 1694.78883295) pascal/P_wa\n",
      "T_a = (295.72, 295.95) kelvin/T_a\n",
      "v_w = (0.9999, 1.04) meter/(second*v_w)\n",
      "g_sw = (0.035, 0.035) meter/(g_sw*second)\n"
     ]
    },
    {
     "data": {
      "text/html": [
       "<div class=\"notruncate\">\n",
       "<table  class=\"table_form\">\n",
       "<tbody>\n",
       "<tr>\n",
       "<th>lc_time</th>\n",
       "<th>T_in1</th>\n",
       "<th>T_in2</th>\n",
       "<th>T_wall_in</th>\n",
       "<th>T_wall_out</th>\n",
       "<th>T_outside</th>\n",
       "<th>T_outside_PT</th>\n",
       "<th>T_chamber</th>\n",
       "<th>T_chamber1</th>\n",
       "<th>T_leaf1</th>\n",
       "<th>T_leaf2</th>\n",
       "<th>T_leaf_in</th>\n",
       "<th>Wind</th>\n",
       "<th>T_dew</th>\n",
       "<th>Air_inflow</th>\n",
       "<th>Air_outflow</th>\n",
       "<th>nr_time</th>\n",
       "<th>T_leaf_IR</th>\n",
       "<th>V_leaf_IR</th>\n",
       "<th>Rn_above_leaf</th>\n",
       "<th>Rn_below_leaf</th>\n",
       "<th>Rn_beside_leaf</th>\n",
       "<th>RnV_above_leaf</th>\n",
       "<th>RnV_below_leaf</th>\n",
       "<th>RnV_beside_leaf</th>\n",
       "<th>sens_timefirst</th>\n",
       "<th>sens_timelast</th>\n",
       "<th>water_flow_avg</th>\n",
       "<th>water_flow_std</th>\n",
       "<th>water_flow_n</th>\n",
       "<th>pow_timefirst</th>\n",
       "<th>pow_timelast</th>\n",
       "<th>fan_power_avg</th>\n",
       "<th>fan_power_std</th>\n",
       "<th>fan_power_n</th>\n",
       "<th>Comment...................................................</th>\n",
       "</tr>\n",
       "<tr class =\"row-a\">\n",
       "<td>TS</td>\n",
       "<td>K</td>\n",
       "<td>K</td>\n",
       "<td>K</td>\n",
       "<td>K</td>\n",
       "<td>K</td>\n",
       "<td>Deg C</td>\n",
       "<td>K</td>\n",
       "<td>K</td>\n",
       "<td>K</td>\n",
       "<td>K</td>\n",
       "<td>K</td>\n",
       "<td>m/s</td>\n",
       "<td>degC</td>\n",
       "<td>SLPM</td>\n",
       "<td>SLPM</td>\n",
       "<td>TS</td>\n",
       "<td>Deg C</td>\n",
       "<td>mV</td>\n",
       "<td>W/m^2</td>\n",
       "<td>W/m^2</td>\n",
       "<td>W/m^2</td>\n",
       "<td>mV</td>\n",
       "<td>mV</td>\n",
       "<td>mV</td>\n",
       "<td></td>\n",
       "<td></td>\n",
       "<td>ul/min</td>\n",
       "<td>ul/min</td>\n",
       "<td>ul/min</td>\n",
       "<td>TS</td>\n",
       "<td>TS</td>\n",
       "<td>W</td>\n",
       "<td>W</td>\n",
       "<td></td>\n",
       "<td></td>\n",
       "</tr>\n",
       "<tr class =\"row-b\">\n",
       "<td>2014-03-27 11:22:28</td>\n",
       "<td>15.30</td>\n",
       "<td>15.41</td>\n",
       "<td>21.98</td>\n",
       "<td>21.97</td>\n",
       "<td>21.88</td>\n",
       "<td>25.24</td>\n",
       "<td>22.00</td>\n",
       "<td>21.67</td>\n",
       "<td>20.29</td>\n",
       "<td>21.07</td>\n",
       "<td>18.41</td>\n",
       "<td>0.8333</td>\n",
       "<td>10.21</td>\n",
       "<td>6.827</td>\n",
       "<td>3.491</td>\n",
       "<td>2014-03-27 11:22:29</td>\n",
       "<td>20.30</td>\n",
       "<td>-0.07058</td>\n",
       "<td>9.835</td>\n",
       "<td>-3.912</td>\n",
       "<td>-13.66</td>\n",
       "<td>-0.01177</td>\n",
       "<td>0.004074</td>\n",
       "<td>0.01766</td>\n",
       "<td>2014-03-27 11:22:19</td>\n",
       "<td>2014-03-27 11:22:26</td>\n",
       "<td>-4.825</td>\n",
       "<td>0.1412</td>\n",
       "<td>100</td>\n",
       "<td>2014-03-27 11:21:28</td>\n",
       "<td>2014-03-27 11:22:27</td>\n",
       "<td>1.195</td>\n",
       "<td>0.0003885</td>\n",
       "<td>54</td>\n",
       "<td>Black leaf, silver perforated alu (35.4-1), varying wind speed</td>\n",
       "</tr>\n",
       "<tr class =\"row-a\">\n",
       "<td>2014-03-27 13:01:58</td>\n",
       "<td>15.54</td>\n",
       "<td>15.65</td>\n",
       "<td>22.22</td>\n",
       "<td>22.26</td>\n",
       "<td>22.22</td>\n",
       "<td>25.53</td>\n",
       "<td>22.22</td>\n",
       "<td>21.95</td>\n",
       "<td>20.72</td>\n",
       "<td>21.46</td>\n",
       "<td>18.72</td>\n",
       "<td>1.313</td>\n",
       "<td>10.21</td>\n",
       "<td>6.427</td>\n",
       "<td>3.324</td>\n",
       "<td>2014-03-27 13:02:01</td>\n",
       "<td>20.41</td>\n",
       "<td>-0.06664</td>\n",
       "<td>10.02</td>\n",
       "<td>-3.833</td>\n",
       "<td>-16.85</td>\n",
       "<td>-0.01199</td>\n",
       "<td>0.003993</td>\n",
       "<td>0.02180</td>\n",
       "<td>2014-03-27 13:01:48</td>\n",
       "<td>2014-03-27 13:01:55</td>\n",
       "<td>-5.543</td>\n",
       "<td>0.1600</td>\n",
       "<td>100</td>\n",
       "<td>2014-03-27 13:00:59</td>\n",
       "<td>2014-03-27 13:01:58</td>\n",
       "<td>1.181</td>\n",
       "<td>0.0004875</td>\n",
       "<td>54</td>\n",
       "<td>varying wind speed</td>\n",
       "</tr>\n",
       "<tr class =\"row-b\">\n",
       "<td>2014-03-27 14:04:25</td>\n",
       "<td>15.68</td>\n",
       "<td>15.80</td>\n",
       "<td>22.41</td>\n",
       "<td>22.40</td>\n",
       "<td>22.37</td>\n",
       "<td>25.69</td>\n",
       "<td>22.43</td>\n",
       "<td>22.17</td>\n",
       "<td>21.05</td>\n",
       "<td>21.76</td>\n",
       "<td>18.95</td>\n",
       "<td>1.796</td>\n",
       "<td>10.21</td>\n",
       "<td>6.251</td>\n",
       "<td>3.274</td>\n",
       "<td>2014-03-27 14:04:23</td>\n",
       "<td>20.36</td>\n",
       "<td>-0.06849</td>\n",
       "<td>10.02</td>\n",
       "<td>-3.781</td>\n",
       "<td>-17.83</td>\n",
       "<td>-0.01198</td>\n",
       "<td>0.003939</td>\n",
       "<td>0.02307</td>\n",
       "<td>2014-03-27 14:04:10</td>\n",
       "<td>2014-03-27 14:04:17</td>\n",
       "<td>-6.124</td>\n",
       "<td>0.1336</td>\n",
       "<td>100</td>\n",
       "<td>2014-03-27 14:03:24</td>\n",
       "<td>2014-03-27 14:04:23</td>\n",
       "<td>1.185</td>\n",
       "<td>0.0003885</td>\n",
       "<td>54</td>\n",
       "<td>varying wind speed</td>\n",
       "</tr>\n",
       "<tr class =\"row-a\">\n",
       "<td>2014-03-27 15:55:10</td>\n",
       "<td>15.74</td>\n",
       "<td>15.85</td>\n",
       "<td>22.40</td>\n",
       "<td>22.42</td>\n",
       "<td>22.36</td>\n",
       "<td>25.61</td>\n",
       "<td>22.42</td>\n",
       "<td>22.18</td>\n",
       "<td>21.22</td>\n",
       "<td>21.85</td>\n",
       "<td>19.06</td>\n",
       "<td>2.299</td>\n",
       "<td>10.21</td>\n",
       "<td>6.140</td>\n",
       "<td>3.202</td>\n",
       "<td>2014-03-27 15:55:11</td>\n",
       "<td>19.58</td>\n",
       "<td>-0.09654</td>\n",
       "<td>9.917</td>\n",
       "<td>-3.843</td>\n",
       "<td>-17.14</td>\n",
       "<td>-0.01187</td>\n",
       "<td>0.004003</td>\n",
       "<td>0.02218</td>\n",
       "<td>2014-03-27 15:55:01</td>\n",
       "<td>2014-03-27 15:55:08</td>\n",
       "<td>-6.583</td>\n",
       "<td>0.1710</td>\n",
       "<td>100</td>\n",
       "<td>2014-03-27 15:54:09</td>\n",
       "<td>2014-03-27 15:55:08</td>\n",
       "<td>1.169</td>\n",
       "<td>0.0004755</td>\n",
       "<td>55</td>\n",
       "<td>varying wind speed</td>\n",
       "</tr>\n",
       "<tr class =\"row-b\">\n",
       "<td>2014-03-27 17:01:01</td>\n",
       "<td>15.90</td>\n",
       "<td>16.02</td>\n",
       "<td>22.43</td>\n",
       "<td>22.48</td>\n",
       "<td>22.40</td>\n",
       "<td>25.81</td>\n",
       "<td>22.45</td>\n",
       "<td>22.22</td>\n",
       "<td>21.42</td>\n",
       "<td>21.96</td>\n",
       "<td>19.24</td>\n",
       "<td>2.995</td>\n",
       "<td>10.21</td>\n",
       "<td>5.851</td>\n",
       "<td>3.136</td>\n",
       "<td>2014-03-27 17:01:03</td>\n",
       "<td>20.03</td>\n",
       "<td>-0.08036</td>\n",
       "<td>8.408</td>\n",
       "<td>-3.625</td>\n",
       "<td>-16.34</td>\n",
       "<td>-0.01006</td>\n",
       "<td>0.003776</td>\n",
       "<td>0.02114</td>\n",
       "<td>2014-03-27 17:00:38</td>\n",
       "<td>2014-03-27 17:00:48</td>\n",
       "<td>-7.255</td>\n",
       "<td>0.1174</td>\n",
       "<td>100</td>\n",
       "<td>2014-03-27 17:00:04</td>\n",
       "<td>2014-03-27 17:01:03</td>\n",
       "<td>1.144</td>\n",
       "<td>0.0000</td>\n",
       "<td>54</td>\n",
       "<td>varying wind speed</td>\n",
       "</tr>\n",
       "<tr class =\"row-a\">\n",
       "<td>2014-03-27 19:00:22</td>\n",
       "<td>15.88</td>\n",
       "<td>15.99</td>\n",
       "<td>22.40</td>\n",
       "<td>22.38</td>\n",
       "<td>22.21</td>\n",
       "<td>25.57</td>\n",
       "<td>22.46</td>\n",
       "<td>22.24</td>\n",
       "<td>21.53</td>\n",
       "<td>22.03</td>\n",
       "<td>19.38</td>\n",
       "<td>3.831</td>\n",
       "<td>10.20</td>\n",
       "<td>5.750</td>\n",
       "<td>3.057</td>\n",
       "<td>2014-03-27 19:00:26</td>\n",
       "<td>19.20</td>\n",
       "<td>-0.1106</td>\n",
       "<td>8.123</td>\n",
       "<td>-3.345</td>\n",
       "<td>-14.00</td>\n",
       "<td>-0.009719</td>\n",
       "<td>0.003485</td>\n",
       "<td>0.01811</td>\n",
       "<td>2014-03-27 19:00:07</td>\n",
       "<td>2014-03-27 19:00:17</td>\n",
       "<td>-8.006</td>\n",
       "<td>0.1148</td>\n",
       "<td>100</td>\n",
       "<td>2014-03-27 18:59:24</td>\n",
       "<td>2014-03-27 19:00:23</td>\n",
       "<td>1.155</td>\n",
       "<td>0.0004130</td>\n",
       "<td>55</td>\n",
       "<td>varying wind speed</td>\n",
       "</tr>\n",
       "<tr class =\"row-b\">\n",
       "<td>2014-03-28 10:08:04</td>\n",
       "<td>15.46</td>\n",
       "<td>15.57</td>\n",
       "<td>21.81</td>\n",
       "<td>21.91</td>\n",
       "<td>21.85</td>\n",
       "<td>25.20</td>\n",
       "<td>21.85</td>\n",
       "<td>21.67</td>\n",
       "<td>20.98</td>\n",
       "<td>21.44</td>\n",
       "<td>18.93</td>\n",
       "<td>3.804</td>\n",
       "<td>10.20</td>\n",
       "<td>6.147</td>\n",
       "<td>3.245</td>\n",
       "<td>2014-03-28 10:08:10</td>\n",
       "<td>19.58</td>\n",
       "<td>-0.09655</td>\n",
       "<td>8.239</td>\n",
       "<td>-2.960</td>\n",
       "<td>-12.37</td>\n",
       "<td>-0.009857</td>\n",
       "<td>0.003085</td>\n",
       "<td>0.01600</td>\n",
       "<td>2014-03-28 10:07:52</td>\n",
       "<td>2014-03-28 10:08:02</td>\n",
       "<td>-7.736</td>\n",
       "<td>0.1666</td>\n",
       "<td>100</td>\n",
       "<td>2014-03-28 10:07:07</td>\n",
       "<td>2014-03-28 10:08:06</td>\n",
       "<td>1.159</td>\n",
       "<td>0.0001872</td>\n",
       "<td>55</td>\n",
       "<td>New day</td>\n",
       "</tr>\n",
       "<tr class =\"row-a\">\n",
       "<td>2014-03-28 11:29:49</td>\n",
       "<td>15.71</td>\n",
       "<td>15.83</td>\n",
       "<td>22.23</td>\n",
       "<td>22.21</td>\n",
       "<td>22.15</td>\n",
       "<td>25.57</td>\n",
       "<td>22.24</td>\n",
       "<td>22.08</td>\n",
       "<td>21.38</td>\n",
       "<td>21.84</td>\n",
       "<td>19.29</td>\n",
       "<td>4.335</td>\n",
       "<td>10.20</td>\n",
       "<td>5.858</td>\n",
       "<td>3.204</td>\n",
       "<td>2014-03-28 11:29:51</td>\n",
       "<td>19.47</td>\n",
       "<td>-0.1005</td>\n",
       "<td>8.058</td>\n",
       "<td>-3.227</td>\n",
       "<td>-12.36</td>\n",
       "<td>-0.009641</td>\n",
       "<td>0.003363</td>\n",
       "<td>0.01599</td>\n",
       "<td>2014-03-28 11:29:27</td>\n",
       "<td>2014-03-28 11:29:37</td>\n",
       "<td>-7.984</td>\n",
       "<td>0.08737</td>\n",
       "<td>100</td>\n",
       "<td>2014-03-28 11:28:49</td>\n",
       "<td>2014-03-28 11:29:48</td>\n",
       "<td>1.174</td>\n",
       "<td>0.0004692</td>\n",
       "<td>55</td>\n",
       "<td>New day</td>\n",
       "</tr>\n",
       "<tr class =\"row-b\">\n",
       "<td>2014-03-28 13:47:28</td>\n",
       "<td>15.80</td>\n",
       "<td>15.90</td>\n",
       "<td>22.35</td>\n",
       "<td>22.28</td>\n",
       "<td>22.21</td>\n",
       "<td>25.57</td>\n",
       "<td>22.31</td>\n",
       "<td>22.16</td>\n",
       "<td>21.54</td>\n",
       "<td>21.99</td>\n",
       "<td>19.46</td>\n",
       "<td>5.102</td>\n",
       "<td>10.20</td>\n",
       "<td>5.858</td>\n",
       "<td>3.131</td>\n",
       "<td>2014-03-28 13:47:29</td>\n",
       "<td>19.50</td>\n",
       "<td>-0.09967</td>\n",
       "<td>6.985</td>\n",
       "<td>-3.328</td>\n",
       "<td>-12.71</td>\n",
       "<td>-0.008357</td>\n",
       "<td>0.003468</td>\n",
       "<td>0.01643</td>\n",
       "<td>2014-03-28 13:47:18</td>\n",
       "<td>2014-03-28 13:47:27</td>\n",
       "<td>-8.505</td>\n",
       "<td>0.1932</td>\n",
       "<td>100</td>\n",
       "<td>2014-03-28 13:46:29</td>\n",
       "<td>2014-03-28 13:47:28</td>\n",
       "<td>1.186</td>\n",
       "<td>0.0004914</td>\n",
       "<td>54</td>\n",
       "<td>Reduced head difference (transpiration seemed low)</td>\n",
       "</tr>\n",
       "<tr class =\"row-a\">\n",
       "<td>2014-03-28 15:04:55</td>\n",
       "<td>15.76</td>\n",
       "<td>15.86</td>\n",
       "<td>22.38</td>\n",
       "<td>22.34</td>\n",
       "<td>22.20</td>\n",
       "<td>25.53</td>\n",
       "<td>22.37</td>\n",
       "<td>22.21</td>\n",
       "<td>21.55</td>\n",
       "<td>22.01</td>\n",
       "<td>19.44</td>\n",
       "<td>4.611</td>\n",
       "<td>10.20</td>\n",
       "<td>5.855</td>\n",
       "<td>3.163</td>\n",
       "<td>2014-03-28 15:04:56</td>\n",
       "<td>19.39</td>\n",
       "<td>-0.1037</td>\n",
       "<td>7.228</td>\n",
       "<td>-3.377</td>\n",
       "<td>-12.89</td>\n",
       "<td>-0.008648</td>\n",
       "<td>0.003519</td>\n",
       "<td>0.01667</td>\n",
       "<td>2014-03-28 15:04:45</td>\n",
       "<td>2014-03-28 15:04:55</td>\n",
       "<td>-8.219</td>\n",
       "<td>0.1147</td>\n",
       "<td>100</td>\n",
       "<td>2014-03-28 15:03:56</td>\n",
       "<td>2014-03-28 15:04:55</td>\n",
       "<td>1.182</td>\n",
       "<td>0.0003857</td>\n",
       "<td>55</td>\n",
       "<td>Reduced head difference (transpiration seemed low)</td>\n",
       "</tr>\n",
       "<tr class =\"row-b\">\n",
       "<td>2014-03-28 15:38:46</td>\n",
       "<td>15.77</td>\n",
       "<td>15.86</td>\n",
       "<td>22.30</td>\n",
       "<td>22.37</td>\n",
       "<td>22.30</td>\n",
       "<td>25.57</td>\n",
       "<td>22.33</td>\n",
       "<td>22.08</td>\n",
       "<td>21.44</td>\n",
       "<td>21.94</td>\n",
       "<td>19.34</td>\n",
       "<td>4.168</td>\n",
       "<td>10.21</td>\n",
       "<td>5.948</td>\n",
       "<td>3.144</td>\n",
       "<td>2014-03-28 15:38:49</td>\n",
       "<td>19.42</td>\n",
       "<td>-0.1023</td>\n",
       "<td>7.755</td>\n",
       "<td>-3.358</td>\n",
       "<td>-12.98</td>\n",
       "<td>-0.009278</td>\n",
       "<td>0.003499</td>\n",
       "<td>0.01679</td>\n",
       "<td>2014-03-28 15:38:37</td>\n",
       "<td>2014-03-28 15:38:47</td>\n",
       "<td>-7.979</td>\n",
       "<td>0.1037</td>\n",
       "<td>100</td>\n",
       "<td>2014-03-28 15:37:49</td>\n",
       "<td>2014-03-28 15:38:47</td>\n",
       "<td>1.168</td>\n",
       "<td>0.001412</td>\n",
       "<td>54</td>\n",
       "<td>Varying Tdew</td>\n",
       "</tr>\n",
       "<tr class =\"row-a\">\n",
       "<td>2014-03-31 12:42:52</td>\n",
       "<td>16.15</td>\n",
       "<td>16.28</td>\n",
       "<td>23.06</td>\n",
       "<td>23.06</td>\n",
       "<td>22.93</td>\n",
       "<td>26.30</td>\n",
       "<td>23.10</td>\n",
       "<td>22.89</td>\n",
       "<td>22.13</td>\n",
       "<td>22.64</td>\n",
       "<td>19.90</td>\n",
       "<td>3.325</td>\n",
       "<td>10.20</td>\n",
       "<td>5.259</td>\n",
       "<td>2.863</td>\n",
       "<td>2014-03-31 12:42:54</td>\n",
       "<td>19.57</td>\n",
       "<td>-0.09719</td>\n",
       "<td>8.972</td>\n",
       "<td>-3.413</td>\n",
       "<td>-14.55</td>\n",
       "<td>-0.01074</td>\n",
       "<td>0.003556</td>\n",
       "<td>0.01882</td>\n",
       "<td>2014-03-31 13:42:34</td>\n",
       "<td>2014-03-31 13:42:41</td>\n",
       "<td>-7.484</td>\n",
       "<td>0.09733</td>\n",
       "<td>100</td>\n",
       "<td>2014-03-31 13:41:52</td>\n",
       "<td>2014-03-31 13:42:51</td>\n",
       "<td>1.147</td>\n",
       "<td>0.0001906</td>\n",
       "<td>53</td>\n",
       "<td>New daz</td>\n",
       "</tr>\n",
       "<tr class =\"row-b\">\n",
       "<td>2014-03-31 14:49:10</td>\n",
       "<td>16.20</td>\n",
       "<td>16.33</td>\n",
       "<td>23.25</td>\n",
       "<td>23.34</td>\n",
       "<td>23.21</td>\n",
       "<td>26.63</td>\n",
       "<td>23.28</td>\n",
       "<td>23.04</td>\n",
       "<td>22.17</td>\n",
       "<td>22.75</td>\n",
       "<td>19.91</td>\n",
       "<td>2.637</td>\n",
       "<td>10.18</td>\n",
       "<td>5.346</td>\n",
       "<td>2.915</td>\n",
       "<td>2014-03-31 14:49:14</td>\n",
       "<td>19.81</td>\n",
       "<td>-0.08855</td>\n",
       "<td>9.860</td>\n",
       "<td>-3.661</td>\n",
       "<td>-16.83</td>\n",
       "<td>-0.01180</td>\n",
       "<td>0.003814</td>\n",
       "<td>0.02177</td>\n",
       "<td>2014-03-31 15:48:56</td>\n",
       "<td>2014-03-31 15:49:03</td>\n",
       "<td>-7.032</td>\n",
       "<td>0.1764</td>\n",
       "<td>100</td>\n",
       "<td>2014-03-31 15:48:12</td>\n",
       "<td>2014-03-31 15:49:11</td>\n",
       "<td>1.147</td>\n",
       "<td>0.0000</td>\n",
       "<td>53</td>\n",
       "<td>Varying wind</td>\n",
       "</tr>\n",
       "<tr class =\"row-a\">\n",
       "<td>2014-03-31 16:28:13</td>\n",
       "<td>16.03</td>\n",
       "<td>16.16</td>\n",
       "<td>23.37</td>\n",
       "<td>23.41</td>\n",
       "<td>23.29</td>\n",
       "<td>26.63</td>\n",
       "<td>23.38</td>\n",
       "<td>23.08</td>\n",
       "<td>21.63</td>\n",
       "<td>22.51</td>\n",
       "<td>19.59</td>\n",
       "<td>1.042</td>\n",
       "<td>10.19</td>\n",
       "<td>5.857</td>\n",
       "<td>3.016</td>\n",
       "<td>2014-03-31 16:28:15</td>\n",
       "<td>19.31</td>\n",
       "<td>-0.1065</td>\n",
       "<td>10.95</td>\n",
       "<td>-4.276</td>\n",
       "<td>-14.55</td>\n",
       "<td>-0.01310</td>\n",
       "<td>0.004454</td>\n",
       "<td>0.01881</td>\n",
       "<td>2014-03-31 17:28:06</td>\n",
       "<td>2014-03-31 17:28:13</td>\n",
       "<td>-5.120</td>\n",
       "<td>0.1585</td>\n",
       "<td>100</td>\n",
       "<td>2014-03-31 17:27:14</td>\n",
       "<td>2014-03-31 17:28:13</td>\n",
       "<td>1.147</td>\n",
       "<td>0.0000</td>\n",
       "<td>53</td>\n",
       "<td>Varying wind</td>\n",
       "</tr>\n",
       "</tbody>\n",
       "</table>\n",
       "</div>"
      ],
      "text/plain": [
       "        lc_time         T_in1   T_in2   T_wall_in   T_wall_out   T_outside   T_outside_PT   T_chamber   T_chamber1   T_leaf1   T_leaf2   T_leaf_in    Wind    T_dew   Air_inflow   Air_outflow         nr_time         T_leaf_IR   V_leaf_IR   Rn_above_leaf   Rn_below_leaf   Rn_beside_leaf   RnV_above_leaf   RnV_below_leaf   RnV_beside_leaf     sens_timefirst         sens_timelast      water_flow_avg   water_flow_std   water_flow_n      pow_timefirst         pow_timelast       fan_power_avg   fan_power_std   fan_power_n     Comment...................................................\n",
       "+---------------------+-------+-------+-----------+------------+-----------+--------------+-----------+------------+---------+---------+-----------+--------+-------+------------+-------------+---------------------+-----------+-----------+---------------+---------------+----------------+----------------+----------------+-----------------+---------------------+---------------------+----------------+----------------+--------------+---------------------+---------------------+---------------+---------------+-------------+----------------------------------------------------------------+\n",
       "          TS              K       K         K           K            K          Deg C           K           K           K         K          K        m/s     degC       SLPM         SLPM               TS              Deg C        mV           W/m^2           W/m^2           W/m^2              mV               mV               mV                                                          ul/min           ul/min          ul/min              TS                    TS                  W               W\n",
       "  2014-03-27 11:22:28   15.30   15.41     21.98       21.97        21.88        25.24         22.00       21.67       20.29     21.07      18.41     0.8333   10.21     6.827         3.491      2014-03-27 11:22:29     20.30     -0.07058        9.835          -3.912           -13.66          -0.01177         0.004074          0.01766       2014-03-27 11:22:19   2014-03-27 11:22:26       -4.825           0.1412           100        2014-03-27 11:21:28   2014-03-27 11:22:27       1.195         0.0003885         54        Black leaf, silver perforated alu (35.4-1), varying wind speed\n",
       "  2014-03-27 13:01:58   15.54   15.65     22.22       22.26        22.22        25.53         22.22       21.95       20.72     21.46      18.72     1.313    10.21     6.427         3.324      2014-03-27 13:02:01     20.41     -0.06664        10.02          -3.833           -16.85          -0.01199         0.003993          0.02180       2014-03-27 13:01:48   2014-03-27 13:01:55       -5.543           0.1600           100        2014-03-27 13:00:59   2014-03-27 13:01:58       1.181         0.0004875         54                              varying wind speed\n",
       "  2014-03-27 14:04:25   15.68   15.80     22.41       22.40        22.37        25.69         22.43       22.17       21.05     21.76      18.95     1.796    10.21     6.251         3.274      2014-03-27 14:04:23     20.36     -0.06849        10.02          -3.781           -17.83          -0.01198         0.003939          0.02307       2014-03-27 14:04:10   2014-03-27 14:04:17       -6.124           0.1336           100        2014-03-27 14:03:24   2014-03-27 14:04:23       1.185         0.0003885         54                              varying wind speed\n",
       "  2014-03-27 15:55:10   15.74   15.85     22.40       22.42        22.36        25.61         22.42       22.18       21.22     21.85      19.06     2.299    10.21     6.140         3.202      2014-03-27 15:55:11     19.58     -0.09654        9.917          -3.843           -17.14          -0.01187         0.004003          0.02218       2014-03-27 15:55:01   2014-03-27 15:55:08       -6.583           0.1710           100        2014-03-27 15:54:09   2014-03-27 15:55:08       1.169         0.0004755         55                              varying wind speed\n",
       "  2014-03-27 17:01:01   15.90   16.02     22.43       22.48        22.40        25.81         22.45       22.22       21.42     21.96      19.24     2.995    10.21     5.851         3.136      2014-03-27 17:01:03     20.03     -0.08036        8.408          -3.625           -16.34          -0.01006         0.003776          0.02114       2014-03-27 17:00:38   2014-03-27 17:00:48       -7.255           0.1174           100        2014-03-27 17:00:04   2014-03-27 17:01:03       1.144          0.0000           54                              varying wind speed\n",
       "  2014-03-27 19:00:22   15.88   15.99     22.40       22.38        22.21        25.57         22.46       22.24       21.53     22.03      19.38     3.831    10.20     5.750         3.057      2014-03-27 19:00:26     19.20      -0.1106        8.123          -3.345           -14.00         -0.009719         0.003485          0.01811       2014-03-27 19:00:07   2014-03-27 19:00:17       -8.006           0.1148           100        2014-03-27 18:59:24   2014-03-27 19:00:23       1.155         0.0004130         55                              varying wind speed\n",
       "  2014-03-28 10:08:04   15.46   15.57     21.81       21.91        21.85        25.20         21.85       21.67       20.98     21.44      18.93     3.804    10.20     6.147         3.245      2014-03-28 10:08:10     19.58     -0.09655        8.239          -2.960           -12.37         -0.009857         0.003085          0.01600       2014-03-28 10:07:52   2014-03-28 10:08:02       -7.736           0.1666           100        2014-03-28 10:07:07   2014-03-28 10:08:06       1.159         0.0001872         55                                   New day\n",
       "  2014-03-28 11:29:49   15.71   15.83     22.23       22.21        22.15        25.57         22.24       22.08       21.38     21.84      19.29     4.335    10.20     5.858         3.204      2014-03-28 11:29:51     19.47      -0.1005        8.058          -3.227           -12.36         -0.009641         0.003363          0.01599       2014-03-28 11:29:27   2014-03-28 11:29:37       -7.984          0.08737           100        2014-03-28 11:28:49   2014-03-28 11:29:48       1.174         0.0004692         55                                   New day\n",
       "  2014-03-28 13:47:28   15.80   15.90     22.35       22.28        22.21        25.57         22.31       22.16       21.54     21.99      19.46     5.102    10.20     5.858         3.131      2014-03-28 13:47:29     19.50     -0.09967        6.985          -3.328           -12.71         -0.008357         0.003468          0.01643       2014-03-28 13:47:18   2014-03-28 13:47:27       -8.505           0.1932           100        2014-03-28 13:46:29   2014-03-28 13:47:28       1.186         0.0004914         54              Reduced head difference (transpiration seemed low)\n",
       "  2014-03-28 15:04:55   15.76   15.86     22.38       22.34        22.20        25.53         22.37       22.21       21.55     22.01      19.44     4.611    10.20     5.855         3.163      2014-03-28 15:04:56     19.39      -0.1037        7.228          -3.377           -12.89         -0.008648         0.003519          0.01667       2014-03-28 15:04:45   2014-03-28 15:04:55       -8.219           0.1147           100        2014-03-28 15:03:56   2014-03-28 15:04:55       1.182         0.0003857         55              Reduced head difference (transpiration seemed low)\n",
       "  2014-03-28 15:38:46   15.77   15.86     22.30       22.37        22.30        25.57         22.33       22.08       21.44     21.94      19.34     4.168    10.21     5.948         3.144      2014-03-28 15:38:49     19.42      -0.1023        7.755          -3.358           -12.98         -0.009278         0.003499          0.01679       2014-03-28 15:38:37   2014-03-28 15:38:47       -7.979           0.1037           100        2014-03-28 15:37:49   2014-03-28 15:38:47       1.168         0.001412          54                                 Varying Tdew\n",
       "  2014-03-31 12:42:52   16.15   16.28     23.06       23.06        22.93        26.30         23.10       22.89       22.13     22.64      19.90     3.325    10.20     5.259         2.863      2014-03-31 12:42:54     19.57     -0.09719        8.972          -3.413           -14.55          -0.01074         0.003556          0.01882       2014-03-31 13:42:34   2014-03-31 13:42:41       -7.484          0.09733           100        2014-03-31 13:41:52   2014-03-31 13:42:51       1.147         0.0001906         53                                   New daz\n",
       "  2014-03-31 14:49:10   16.20   16.33     23.25       23.34        23.21        26.63         23.28       23.04       22.17     22.75      19.91     2.637    10.18     5.346         2.915      2014-03-31 14:49:14     19.81     -0.08855        9.860          -3.661           -16.83          -0.01180         0.003814          0.02177       2014-03-31 15:48:56   2014-03-31 15:49:03       -7.032           0.1764           100        2014-03-31 15:48:12   2014-03-31 15:49:11       1.147          0.0000           53                                 Varying wind\n",
       "  2014-03-31 16:28:13   16.03   16.16     23.37       23.41        23.29        26.63         23.38       23.08       21.63     22.51      19.59     1.042    10.19     5.857         3.016      2014-03-31 16:28:15     19.31      -0.1065        10.95          -4.276           -14.55          -0.01310         0.004454          0.01881       2014-03-31 17:28:06   2014-03-31 17:28:13       -5.120           0.1585           100        2014-03-31 17:27:14   2014-03-31 17:28:13       1.147          0.0000           53                                 Varying wind"
      ]
     },
     "metadata": {},
     "output_type": "display_data"
    },
    {
     "name": "stdout",
     "output_type": "stream",
     "text": [
      "0.0420000000000000\n",
      "R_s = (0.0, 0.0) joule/(R_s*meter^2*second)\n",
      "P_wa = (1187.38813505, 1278.34796382) pascal/P_wa\n",
      "T_a = (295.0, 296.53) kelvin/T_a\n",
      "v_w = (0.8333, 5.102) meter/(second*v_w)\n",
      "g_sw = (0.042, 0.042) meter/(g_sw*second)\n",
      "18\n",
      "['Date', 'Time', 'Inflow rate', 'Tdew humidifier', 'Incoming2 Temp_C(5)', 'Incoming3 Temp_C(6)', 'wall inside Temp_C(3) ', 'wall outside Temp_C(4)', 'chamber air Temp_C(1) ', 'Tl1', 'Tl2', 'TlIR', 'Tlin', 'Fan power', 'FlowMeter out', 'Wind speed', 'Sensirion', 'Comment']\n",
      "['', '', 'l/min', 'oC', 'oC', 'oC', 'oC', 'oC', 'oC', 'oC', 'oC', 'oC', 'oC', 'W', 'l/min', 'm/s', 'ul/min', '']\n",
      "R_s = (0.0, 0.0) joule/(R_s*meter^2*second)\n",
      "P_wa = (168.502255462, 1143.55502295) pascal/P_wa\n",
      "T_a = (296.05, 296.71) kelvin/T_a\n",
      "v_w = (0.7, 0.7) meter/(second*v_w)\n",
      "g_sw = (0.007, 0.007) meter/(g_sw*second)\n"
     ]
    },
    {
     "data": {
      "image/png": "[encoded data removed]",
      "text/plain": [
       "Graphics object consisting of 8 graphics primitives"
      ]
     },
     "metadata": {},
     "output_type": "display_data"
    },
    {
     "data": {
      "text/html": [
       "<html><script type=\"math/tex; mode=display\">\\newcommand{\\Bold}[1]{\\mathbf{#1}}-{R_{ll}} + {R_{s}} = R_{d} - {R_{ld}} - {R_{lu}} + R_{u}</script></html>"
      ],
      "text/plain": [
       "-R_ll + R_s == R_d - R_ld - R_lu + R_u"
      ]
     },
     "metadata": {},
     "output_type": "display_data"
    },
    {
     "data": {
      "text/html": [
       "<div class=\"notruncate\">\n",
       "<table  class=\"table_form\">\n",
       "<tbody>\n",
       "<tr>\n",
       "<th>lc_time</th>\n",
       "<th>T_in1</th>\n",
       "<th>T_in2</th>\n",
       "<th>T_wall_in</th>\n",
       "<th>T_wall_out</th>\n",
       "<th>T_outside</th>\n",
       "<th>T_outside_PT</th>\n",
       "<th>T_chamber</th>\n",
       "<th>T_chamber1</th>\n",
       "<th>T_leaf1</th>\n",
       "<th>T_leaf2</th>\n",
       "<th>T_leaf_in</th>\n",
       "<th>Wind</th>\n",
       "<th>T_dew</th>\n",
       "<th>Air_inflow</th>\n",
       "<th>Air_outflow</th>\n",
       "<th>nr_time</th>\n",
       "<th>T_leaf_IR</th>\n",
       "<th>V_leaf_IR</th>\n",
       "<th>Rn_above_leaf</th>\n",
       "<th>Rn_below_leaf</th>\n",
       "<th>Rn_beside_leaf</th>\n",
       "<th>RnV_above_leaf</th>\n",
       "<th>RnV_below_leaf</th>\n",
       "<th>RnV_beside_leaf</th>\n",
       "<th>sens_timefirst</th>\n",
       "<th>sens_timelast</th>\n",
       "<th>water_flow_avg</th>\n",
       "<th>water_flow_std</th>\n",
       "<th>water_flow_n</th>\n",
       "<th>pow_timefirst</th>\n",
       "<th>pow_timelast</th>\n",
       "<th>fan_power_avg</th>\n",
       "<th>fan_power_std</th>\n",
       "<th>fan_power_n</th>\n",
       "<th>Comment...................................................</th>\n",
       "</tr>\n",
       "<tr class =\"row-a\">\n",
       "<td>TS</td>\n",
       "<td>K</td>\n",
       "<td>K</td>\n",
       "<td>K</td>\n",
       "<td>K</td>\n",
       "<td>K</td>\n",
       "<td>Deg C</td>\n",
       "<td>K</td>\n",
       "<td>K</td>\n",
       "<td>K</td>\n",
       "<td>K</td>\n",
       "<td>K</td>\n",
       "<td>m/s</td>\n",
       "<td>degC</td>\n",
       "<td>SLPM</td>\n",
       "<td>SLPM</td>\n",
       "<td>TS</td>\n",
       "<td>Deg C</td>\n",
       "<td>mV</td>\n",
       "<td>W/m^2</td>\n",
       "<td>W/m^2</td>\n",
       "<td>W/m^2</td>\n",
       "<td>mV</td>\n",
       "<td>mV</td>\n",
       "<td>mV</td>\n",
       "<td></td>\n",
       "<td></td>\n",
       "<td>ul/min</td>\n",
       "<td>ul/min</td>\n",
       "<td>ul/min</td>\n",
       "<td>TS</td>\n",
       "<td>TS</td>\n",
       "<td>W</td>\n",
       "<td>W</td>\n",
       "<td></td>\n",
       "<td></td>\n",
       "</tr>\n",
       "<tr class =\"row-b\">\n",
       "<td>2014-05-12 13:32:19</td>\n",
       "<td>13.08</td>\n",
       "<td>13.30</td>\n",
       "<td>23.19</td>\n",
       "<td>23.18</td>\n",
       "<td>23.16</td>\n",
       "<td>26.59</td>\n",
       "<td>23.17</td>\n",
       "<td>22.99</td>\n",
       "<td>21.73</td>\n",
       "<td>22.80</td>\n",
       "<td>18.11</td>\n",
       "<td>5.155</td>\n",
       "<td>-10.15</td>\n",
       "<td>4.846</td>\n",
       "<td>2.292</td>\n",
       "<td>2014-05-12 13:32:21</td>\n",
       "<td>17.76</td>\n",
       "<td>-0.1615</td>\n",
       "<td>371.1</td>\n",
       "<td>-19.10</td>\n",
       "<td>225.6</td>\n",
       "<td>-0.4441</td>\n",
       "<td>0.01983</td>\n",
       "<td>-0.2922</td>\n",
       "<td>2014-05-12 13:32:09</td>\n",
       "<td>2014-05-12 13:32:16</td>\n",
       "<td>-20.85</td>\n",
       "<td>0.2724</td>\n",
       "<td>100</td>\n",
       "<td>2014-05-12 13:31:17</td>\n",
       "<td>2014-05-12 13:32:16</td>\n",
       "<td>1.188</td>\n",
       "<td>0.0000</td>\n",
       "<td>54</td>\n",
       "<td>unlimited gsv, R_s=370, varying v_w</td>\n",
       "</tr>\n",
       "<tr class =\"row-a\">\n",
       "<td>2014-05-12 14:18:10</td>\n",
       "<td>13.06</td>\n",
       "<td>13.24</td>\n",
       "<td>23.25</td>\n",
       "<td>23.35</td>\n",
       "<td>23.34</td>\n",
       "<td>26.79</td>\n",
       "<td>23.31</td>\n",
       "<td>23.11</td>\n",
       "<td>21.74</td>\n",
       "<td>22.89</td>\n",
       "<td>18.35</td>\n",
       "<td>3.973</td>\n",
       "<td>-10.09</td>\n",
       "<td>4.962</td>\n",
       "<td>2.336</td>\n",
       "<td>2014-05-12 14:18:10</td>\n",
       "<td>17.88</td>\n",
       "<td>-0.1575</td>\n",
       "<td>375.5</td>\n",
       "<td>-19.13</td>\n",
       "<td>231.6</td>\n",
       "<td>-0.4493</td>\n",
       "<td>0.01986</td>\n",
       "<td>-0.3001</td>\n",
       "<td>2014-05-12 14:17:59</td>\n",
       "<td>2014-05-12 14:18:06</td>\n",
       "<td>-19.82</td>\n",
       "<td>0.4223</td>\n",
       "<td>100</td>\n",
       "<td>2014-05-12 14:17:06</td>\n",
       "<td>2014-05-12 14:18:05</td>\n",
       "<td>1.188</td>\n",
       "<td>0.0000</td>\n",
       "<td>54</td>\n",
       "<td>When moving top sensor, Rs is 390 above the edge of leaf, 340 just beside leaf, varying v_w</td>\n",
       "</tr>\n",
       "<tr class =\"row-b\">\n",
       "<td>2014-05-12 14:18:10</td>\n",
       "<td>13.06</td>\n",
       "<td>13.24</td>\n",
       "<td>23.25</td>\n",
       "<td>23.35</td>\n",
       "<td>23.34</td>\n",
       "<td>26.79</td>\n",
       "<td>23.31</td>\n",
       "<td>23.11</td>\n",
       "<td>21.74</td>\n",
       "<td>22.89</td>\n",
       "<td>18.35</td>\n",
       "<td>3.126</td>\n",
       "<td>-10.09</td>\n",
       "<td>4.962</td>\n",
       "<td>2.336</td>\n",
       "<td>2014-05-12 14:18:10</td>\n",
       "<td>17.88</td>\n",
       "<td>-0.1575</td>\n",
       "<td>375.0</td>\n",
       "<td>-19.67</td>\n",
       "<td>243.0</td>\n",
       "<td>-0.4488</td>\n",
       "<td>0.02042</td>\n",
       "<td>-0.3148</td>\n",
       "<td>2014-05-12 14:17:59</td>\n",
       "<td>2014-05-12 14:18:06</td>\n",
       "<td>-19.82</td>\n",
       "<td>0.4223</td>\n",
       "<td>100</td>\n",
       "<td>2014-05-12 14:17:06</td>\n",
       "<td>2014-05-12 14:18:05</td>\n",
       "<td>1.188</td>\n",
       "<td>0.0000</td>\n",
       "<td>54</td>\n",
       "<td>varying v_w</td>\n",
       "</tr>\n",
       "<tr class =\"row-a\">\n",
       "<td>2014-05-12 16:16:31</td>\n",
       "<td>12.77</td>\n",
       "<td>12.97</td>\n",
       "<td>23.42</td>\n",
       "<td>23.40</td>\n",
       "<td>23.40</td>\n",
       "<td>26.75</td>\n",
       "<td>23.45</td>\n",
       "<td>23.31</td>\n",
       "<td>21.75</td>\n",
       "<td>22.99</td>\n",
       "<td>19.17</td>\n",
       "<td>2.138</td>\n",
       "<td>-10.11</td>\n",
       "<td>5.447</td>\n",
       "<td>2.379</td>\n",
       "<td>2014-05-12 16:16:34</td>\n",
       "<td>18.64</td>\n",
       "<td>-0.1307</td>\n",
       "<td>379.8</td>\n",
       "<td>-19.36</td>\n",
       "<td>254.9</td>\n",
       "<td>-0.4545</td>\n",
       "<td>0.02010</td>\n",
       "<td>-0.3302</td>\n",
       "<td>2014-05-12 16:16:24</td>\n",
       "<td>2014-05-12 16:16:31</td>\n",
       "<td>-16.59</td>\n",
       "<td>0.6848</td>\n",
       "<td>100</td>\n",
       "<td>2014-05-12 16:15:32</td>\n",
       "<td>2014-05-12 16:16:31</td>\n",
       "<td>1.188</td>\n",
       "<td>0.0001373</td>\n",
       "<td>52</td>\n",
       "<td>varying v_w</td>\n",
       "</tr>\n",
       "<tr class =\"row-b\">\n",
       "<td>2014-05-13 14:14:07</td>\n",
       "<td>12.43</td>\n",
       "<td>12.60</td>\n",
       "<td>22.94</td>\n",
       "<td>23.10</td>\n",
       "<td>23.11</td>\n",
       "<td>26.54</td>\n",
       "<td>22.97</td>\n",
       "<td>22.92</td>\n",
       "<td>20.50</td>\n",
       "<td>22.85</td>\n",
       "<td>18.84</td>\n",
       "<td>2.091</td>\n",
       "<td>-10.09</td>\n",
       "<td>5.544</td>\n",
       "<td>3.058</td>\n",
       "<td>2014-05-13 14:14:09</td>\n",
       "<td>18.68</td>\n",
       "<td>-0.1292</td>\n",
       "<td>374.8</td>\n",
       "<td>-18.97</td>\n",
       "<td>259.1</td>\n",
       "<td>-0.4486</td>\n",
       "<td>0.01970</td>\n",
       "<td>-0.3357</td>\n",
       "<td>2014-05-13 14:13:59</td>\n",
       "<td>2014-05-13 14:14:06</td>\n",
       "<td>-17.50</td>\n",
       "<td>0.2599</td>\n",
       "<td>100</td>\n",
       "<td>2014-05-13 14:13:08</td>\n",
       "<td>2014-05-13 14:14:06</td>\n",
       "<td>1.195</td>\n",
       "<td>0.0006326</td>\n",
       "<td>53</td>\n",
       "<td>new day, Rs=394 at edge of leaf, 330 just beside, but above BL, outside T had just gone up but inside stable, varying v_w</td>\n",
       "</tr>\n",
       "<tr class =\"row-a\">\n",
       "<td>2014-05-13 14:44:07</td>\n",
       "<td>12.28</td>\n",
       "<td>12.44</td>\n",
       "<td>23.20</td>\n",
       "<td>23.10</td>\n",
       "<td>23.08</td>\n",
       "<td>26.30</td>\n",
       "<td>23.21</td>\n",
       "<td>23.28</td>\n",
       "<td>21.28</td>\n",
       "<td>23.22</td>\n",
       "<td>20.56</td>\n",
       "<td>0.7194</td>\n",
       "<td>-10.08</td>\n",
       "<td>5.847</td>\n",
       "<td>3.133</td>\n",
       "<td>2014-05-13 14:44:07</td>\n",
       "<td>20.27</td>\n",
       "<td>-0.07185</td>\n",
       "<td>384.2</td>\n",
       "<td>-17.78</td>\n",
       "<td>284.7</td>\n",
       "<td>-0.4598</td>\n",
       "<td>0.01846</td>\n",
       "<td>-0.3689</td>\n",
       "<td>2014-05-13 14:43:56</td>\n",
       "<td>2014-05-13 14:44:03</td>\n",
       "<td>-13.52</td>\n",
       "<td>0.2529</td>\n",
       "<td>100</td>\n",
       "<td>2014-05-13 14:43:05</td>\n",
       "<td>2014-05-13 14:44:04</td>\n",
       "<td>1.195</td>\n",
       "<td>0.0004978</td>\n",
       "<td>53</td>\n",
       "<td>varying v_w</td>\n",
       "</tr>\n",
       "<tr class =\"row-b\">\n",
       "<td>2014-05-13 15:39:22</td>\n",
       "<td>12.51</td>\n",
       "<td>12.68</td>\n",
       "<td>23.26</td>\n",
       "<td>23.14</td>\n",
       "<td>23.12</td>\n",
       "<td>26.46</td>\n",
       "<td>23.28</td>\n",
       "<td>23.26</td>\n",
       "<td>20.89</td>\n",
       "<td>23.17</td>\n",
       "<td>19.62</td>\n",
       "<td>1.249</td>\n",
       "<td>-10.10</td>\n",
       "<td>5.651</td>\n",
       "<td>3.042</td>\n",
       "<td>2014-05-13 15:39:25</td>\n",
       "<td>19.34</td>\n",
       "<td>-0.1057</td>\n",
       "<td>380.0</td>\n",
       "<td>-18.90</td>\n",
       "<td>268.9</td>\n",
       "<td>-0.4548</td>\n",
       "<td>0.01962</td>\n",
       "<td>-0.3483</td>\n",
       "<td>2014-05-13 15:39:14</td>\n",
       "<td>2014-05-13 15:39:21</td>\n",
       "<td>-15.70</td>\n",
       "<td>0.1998</td>\n",
       "<td>100</td>\n",
       "<td>2014-05-13 15:38:22</td>\n",
       "<td>2014-05-13 15:39:21</td>\n",
       "<td>1.194</td>\n",
       "<td>0.0004736</td>\n",
       "<td>53</td>\n",
       "<td>T_w_out went down when opening the door, stable and equal to T_w_in before, varying v_w</td>\n",
       "</tr>\n",
       "<tr class =\"row-a\">\n",
       "<td>2014-05-13 16:31:52</td>\n",
       "<td>12.36</td>\n",
       "<td>12.52</td>\n",
       "<td>22.95</td>\n",
       "<td>23.02</td>\n",
       "<td>23.01</td>\n",
       "<td>26.26</td>\n",
       "<td>22.98</td>\n",
       "<td>22.94</td>\n",
       "<td>20.56</td>\n",
       "<td>22.86</td>\n",
       "<td>19.08</td>\n",
       "<td>1.708</td>\n",
       "<td>-10.08</td>\n",
       "<td>5.740</td>\n",
       "<td>3.068</td>\n",
       "<td>2014-05-13 16:31:53</td>\n",
       "<td>19.00</td>\n",
       "<td>-0.1177</td>\n",
       "<td>375.4</td>\n",
       "<td>-19.11</td>\n",
       "<td>264.1</td>\n",
       "<td>-0.4493</td>\n",
       "<td>0.01984</td>\n",
       "<td>-0.3421</td>\n",
       "<td>2014-05-13 16:31:44</td>\n",
       "<td>2014-05-13 16:31:51</td>\n",
       "<td>-16.62</td>\n",
       "<td>0.2411</td>\n",
       "<td>100</td>\n",
       "<td>2014-05-13 16:30:52</td>\n",
       "<td>2014-05-13 16:31:51</td>\n",
       "<td>1.194</td>\n",
       "<td>0.0004796</td>\n",
       "<td>53</td>\n",
       "<td>not quite steady-state, as both T_win and T_wout still decreasing, varying v_w</td>\n",
       "</tr>\n",
       "<tr class =\"row-b\">\n",
       "<td>2014-05-14 11:25:40</td>\n",
       "<td>12.44</td>\n",
       "<td>12.61</td>\n",
       "<td>22.58</td>\n",
       "<td>22.74</td>\n",
       "<td>22.74</td>\n",
       "<td>26.06</td>\n",
       "<td>22.61</td>\n",
       "<td>22.52</td>\n",
       "<td>20.17</td>\n",
       "<td>22.43</td>\n",
       "<td>18.32</td>\n",
       "<td>2.837</td>\n",
       "<td>-10.08</td>\n",
       "<td>5.360</td>\n",
       "<td>-2.438</td>\n",
       "<td>2014-05-14 11:25:42</td>\n",
       "<td>18.65</td>\n",
       "<td>-0.1303</td>\n",
       "<td>374.1</td>\n",
       "<td>-19.12</td>\n",
       "<td>258.2</td>\n",
       "<td>-0.4477</td>\n",
       "<td>0.01985</td>\n",
       "<td>-0.3345</td>\n",
       "<td>2014-05-14 11:25:31</td>\n",
       "<td>2014-05-14 11:25:38</td>\n",
       "<td>-18.64</td>\n",
       "<td>0.3499</td>\n",
       "<td>100</td>\n",
       "<td>2014-05-14 11:24:38</td>\n",
       "<td>2014-05-14 11:25:37</td>\n",
       "<td>1.149</td>\n",
       "<td>0.0000</td>\n",
       "<td>54</td>\n",
       "<td>T_win constant while T_wout varies, varying v_w</td>\n",
       "</tr>\n",
       "<tr class =\"row-a\">\n",
       "<td>2014-05-14 14:42:10</td>\n",
       "<td>12.68</td>\n",
       "<td>12.86</td>\n",
       "<td>22.77</td>\n",
       "<td>22.70</td>\n",
       "<td>22.69</td>\n",
       "<td>26.10</td>\n",
       "<td>22.83</td>\n",
       "<td>22.72</td>\n",
       "<td>20.39</td>\n",
       "<td>22.63</td>\n",
       "<td>18.27</td>\n",
       "<td>3.392</td>\n",
       "<td>-10.06</td>\n",
       "<td>5.062</td>\n",
       "<td>-2.312</td>\n",
       "<td>2014-05-14 14:42:12</td>\n",
       "<td>18.54</td>\n",
       "<td>-0.1340</td>\n",
       "<td>384.2</td>\n",
       "<td>-18.87</td>\n",
       "<td>255.4</td>\n",
       "<td>-0.4597</td>\n",
       "<td>0.01959</td>\n",
       "<td>-0.3308</td>\n",
       "<td>2014-05-14 14:42:00</td>\n",
       "<td>2014-05-14 14:42:07</td>\n",
       "<td>-19.91</td>\n",
       "<td>0.3556</td>\n",
       "<td>100</td>\n",
       "<td>2014-05-14 14:41:09</td>\n",
       "<td>2014-05-14 14:42:08</td>\n",
       "<td>1.149</td>\n",
       "<td>0.0002311</td>\n",
       "<td>53</td>\n",
       "<td>varying v_w</td>\n",
       "</tr>\n",
       "<tr class =\"row-b\">\n",
       "<td>2014-05-14 15:23:58</td>\n",
       "<td>12.77</td>\n",
       "<td>12.94</td>\n",
       "<td>22.73</td>\n",
       "<td>22.81</td>\n",
       "<td>22.82</td>\n",
       "<td>26.14</td>\n",
       "<td>22.72</td>\n",
       "<td>22.63</td>\n",
       "<td>20.33</td>\n",
       "<td>22.56</td>\n",
       "<td>17.97</td>\n",
       "<td>4.633</td>\n",
       "<td>-10.05</td>\n",
       "<td>4.956</td>\n",
       "<td>-1.916</td>\n",
       "<td>2014-05-14 15:23:57</td>\n",
       "<td>18.12</td>\n",
       "<td>-0.1489</td>\n",
       "<td>384.7</td>\n",
       "<td>-19.17</td>\n",
       "<td>247.5</td>\n",
       "<td>-0.4603</td>\n",
       "<td>0.01991</td>\n",
       "<td>-0.3207</td>\n",
       "<td>2014-05-14 15:23:47</td>\n",
       "<td>2014-05-14 15:23:54</td>\n",
       "<td>-21.69</td>\n",
       "<td>0.3075</td>\n",
       "<td>100</td>\n",
       "<td>2014-05-14 15:22:55</td>\n",
       "<td>2014-05-14 15:23:54</td>\n",
       "<td>1.149</td>\n",
       "<td>0.0000</td>\n",
       "<td>53</td>\n",
       "<td>varying v_w</td>\n",
       "</tr>\n",
       "<tr class =\"row-a\">\n",
       "<td>2014-05-14 16:47:43</td>\n",
       "<td>12.90</td>\n",
       "<td>13.08</td>\n",
       "<td>22.79</td>\n",
       "<td>22.92</td>\n",
       "<td>22.90</td>\n",
       "<td>26.22</td>\n",
       "<td>22.78</td>\n",
       "<td>22.69</td>\n",
       "<td>20.41</td>\n",
       "<td>22.64</td>\n",
       "<td>17.97</td>\n",
       "<td>5.107</td>\n",
       "<td>-10.09</td>\n",
       "<td>4.846</td>\n",
       "<td>2.785</td>\n",
       "<td>2014-05-14 16:47:46</td>\n",
       "<td>17.99</td>\n",
       "<td>-0.1535</td>\n",
       "<td>381.2</td>\n",
       "<td>-19.12</td>\n",
       "<td>243.1</td>\n",
       "<td>-0.4562</td>\n",
       "<td>0.01985</td>\n",
       "<td>-0.3150</td>\n",
       "<td>2014-05-14 16:47:36</td>\n",
       "<td>2014-05-14 16:47:43</td>\n",
       "<td>-22.17</td>\n",
       "<td>0.2809</td>\n",
       "<td>100</td>\n",
       "<td>2014-05-14 16:46:44</td>\n",
       "<td>2014-05-14 16:47:43</td>\n",
       "<td>1.149</td>\n",
       "<td>0.0000</td>\n",
       "<td>53</td>\n",
       "<td>varying v_w</td>\n",
       "</tr>\n",
       "</tbody>\n",
       "</table>\n",
       "</div>"
      ],
      "text/plain": [
       "        lc_time         T_in1   T_in2   T_wall_in   T_wall_out   T_outside   T_outside_PT   T_chamber   T_chamber1   T_leaf1   T_leaf2   T_leaf_in    Wind    T_dew    Air_inflow   Air_outflow         nr_time         T_leaf_IR   V_leaf_IR   Rn_above_leaf   Rn_below_leaf   Rn_beside_leaf   RnV_above_leaf   RnV_below_leaf   RnV_beside_leaf     sens_timefirst         sens_timelast      water_flow_avg   water_flow_std   water_flow_n      pow_timefirst         pow_timelast       fan_power_avg   fan_power_std   fan_power_n                                  Comment...................................................\n",
       "+---------------------+-------+-------+-----------+------------+-----------+--------------+-----------+------------+---------+---------+-----------+--------+--------+------------+-------------+---------------------+-----------+-----------+---------------+---------------+----------------+----------------+----------------+-----------------+---------------------+---------------------+----------------+----------------+--------------+---------------------+---------------------+---------------+---------------+-------------+---------------------------------------------------------------------------------------------------------------------------+\n",
       "          TS              K       K         K           K            K          Deg C           K           K           K         K          K        m/s      degC       SLPM         SLPM               TS              Deg C        mV           W/m^2           W/m^2           W/m^2              mV               mV               mV                                                          ul/min           ul/min          ul/min              TS                    TS                  W               W\n",
       "  2014-05-12 13:32:19   13.08   13.30     23.19       23.18        23.16        26.59         23.17       22.99       21.73     22.80      18.11     5.155    -10.15     4.846         2.292      2014-05-12 13:32:21     17.76      -0.1615        371.1          -19.10           225.6           -0.4441          0.01983           -0.2922       2014-05-12 13:32:09   2014-05-12 13:32:16       -20.85           0.2724           100        2014-05-12 13:31:17   2014-05-12 13:32:16       1.188          0.0000           54                                                   unlimited gsv, R_s=370, varying v_w\n",
       "  2014-05-12 14:18:10   13.06   13.24     23.25       23.35        23.34        26.79         23.31       23.11       21.74     22.89      18.35     3.973    -10.09     4.962         2.336      2014-05-12 14:18:10     17.88      -0.1575        375.5          -19.13           231.6           -0.4493          0.01986           -0.3001       2014-05-12 14:17:59   2014-05-12 14:18:06       -19.82           0.4223           100        2014-05-12 14:17:06   2014-05-12 14:18:05       1.188          0.0000           54                       When moving top sensor, Rs is 390 above the edge of leaf, 340 just beside leaf, varying v_w\n",
       "  2014-05-12 14:18:10   13.06   13.24     23.25       23.35        23.34        26.79         23.31       23.11       21.74     22.89      18.35     3.126    -10.09     4.962         2.336      2014-05-12 14:18:10     17.88      -0.1575        375.0          -19.67           243.0           -0.4488          0.02042           -0.3148       2014-05-12 14:17:59   2014-05-12 14:18:06       -19.82           0.4223           100        2014-05-12 14:17:06   2014-05-12 14:18:05       1.188          0.0000           54                                                               varying v_w\n",
       "  2014-05-12 16:16:31   12.77   12.97     23.42       23.40        23.40        26.75         23.45       23.31       21.75     22.99      19.17     2.138    -10.11     5.447         2.379      2014-05-12 16:16:34     18.64      -0.1307        379.8          -19.36           254.9           -0.4545          0.02010           -0.3302       2014-05-12 16:16:24   2014-05-12 16:16:31       -16.59           0.6848           100        2014-05-12 16:15:32   2014-05-12 16:16:31       1.188         0.0001373         52                                                               varying v_w\n",
       "  2014-05-13 14:14:07   12.43   12.60     22.94       23.10        23.11        26.54         22.97       22.92       20.50     22.85      18.84     2.091    -10.09     5.544         3.058      2014-05-13 14:14:09     18.68      -0.1292        374.8          -18.97           259.1           -0.4486          0.01970           -0.3357       2014-05-13 14:13:59   2014-05-13 14:14:06       -17.50           0.2599           100        2014-05-13 14:13:08   2014-05-13 14:14:06       1.195         0.0006326         53        new day, Rs=394 at edge of leaf, 330 just beside, but above BL, outside T had just gone up but inside stable, varying v_w\n",
       "  2014-05-13 14:44:07   12.28   12.44     23.20       23.10        23.08        26.30         23.21       23.28       21.28     23.22      20.56     0.7194   -10.08     5.847         3.133      2014-05-13 14:44:07     20.27     -0.07185        384.2          -17.78           284.7           -0.4598          0.01846           -0.3689       2014-05-13 14:43:56   2014-05-13 14:44:03       -13.52           0.2529           100        2014-05-13 14:43:05   2014-05-13 14:44:04       1.195         0.0004978         53                                                               varying v_w\n",
       "  2014-05-13 15:39:22   12.51   12.68     23.26       23.14        23.12        26.46         23.28       23.26       20.89     23.17      19.62     1.249    -10.10     5.651         3.042      2014-05-13 15:39:25     19.34      -0.1057        380.0          -18.90           268.9           -0.4548          0.01962           -0.3483       2014-05-13 15:39:14   2014-05-13 15:39:21       -15.70           0.1998           100        2014-05-13 15:38:22   2014-05-13 15:39:21       1.194         0.0004736         53                         T_w_out went down when opening the door, stable and equal to T_w_in before, varying v_w\n",
       "  2014-05-13 16:31:52   12.36   12.52     22.95       23.02        23.01        26.26         22.98       22.94       20.56     22.86      19.08     1.708    -10.08     5.740         3.068      2014-05-13 16:31:53     19.00      -0.1177        375.4          -19.11           264.1           -0.4493          0.01984           -0.3421       2014-05-13 16:31:44   2014-05-13 16:31:51       -16.62           0.2411           100        2014-05-13 16:30:52   2014-05-13 16:31:51       1.194         0.0004796         53                             not quite steady-state, as both T_win and T_wout still decreasing, varying v_w\n",
       "  2014-05-14 11:25:40   12.44   12.61     22.58       22.74        22.74        26.06         22.61       22.52       20.17     22.43      18.32     2.837    -10.08     5.360        -2.438      2014-05-14 11:25:42     18.65      -0.1303        374.1          -19.12           258.2           -0.4477          0.01985           -0.3345       2014-05-14 11:25:31   2014-05-14 11:25:38       -18.64           0.3499           100        2014-05-14 11:24:38   2014-05-14 11:25:37       1.149          0.0000           54                                             T_win constant while T_wout varies, varying v_w\n",
       "  2014-05-14 14:42:10   12.68   12.86     22.77       22.70        22.69        26.10         22.83       22.72       20.39     22.63      18.27     3.392    -10.06     5.062        -2.312      2014-05-14 14:42:12     18.54      -0.1340        384.2          -18.87           255.4           -0.4597          0.01959           -0.3308       2014-05-14 14:42:00   2014-05-14 14:42:07       -19.91           0.3556           100        2014-05-14 14:41:09   2014-05-14 14:42:08       1.149         0.0002311         53                                                               varying v_w\n",
       "  2014-05-14 15:23:58   12.77   12.94     22.73       22.81        22.82        26.14         22.72       22.63       20.33     22.56      17.97     4.633    -10.05     4.956        -1.916      2014-05-14 15:23:57     18.12      -0.1489        384.7          -19.17           247.5           -0.4603          0.01991           -0.3207       2014-05-14 15:23:47   2014-05-14 15:23:54       -21.69           0.3075           100        2014-05-14 15:22:55   2014-05-14 15:23:54       1.149          0.0000           53                                                               varying v_w\n",
       "  2014-05-14 16:47:43   12.90   13.08     22.79       22.92        22.90        26.22         22.78       22.69       20.41     22.64      17.97     5.107    -10.09     4.846         2.785      2014-05-14 16:47:46     17.99      -0.1535        381.2          -19.12           243.1           -0.4562          0.01985           -0.3150       2014-05-14 16:47:36   2014-05-14 16:47:43       -22.17           0.2809           100        2014-05-14 16:46:44   2014-05-14 16:47:43       1.149          0.0000           53                                                               varying v_w"
      ]
     },
     "metadata": {},
     "output_type": "display_data"
    },
    {
     "name": "stdout",
     "output_type": "stream",
     "text": [
      "R_s = (371.1, 384.7) joule/(R_s*meter^2*second)\n",
      "P_wa = (521.148378386, 802.717535554) pascal/P_wa\n",
      "T_a = (295.76, 296.6) kelvin/T_a\n",
      "v_w = (0.7194, 5.155) meter/(second*v_w)\n",
      "g_sw = (999.0, 999.0) meter/(g_sw*second)\n",
      "[-66.79455469 -63.69420353 -59.94529105 -57.25009905 -58.99117613\n",
      " -42.23206142 -49.78036043 -56.44617497 -64.55474572 -63.35658665\n",
      " -66.36692692 -66.61249155]\n",
      "[-38.2  -38.26 -39.34 -38.72 -37.94 -35.56 -37.8  -38.22 -38.24 -37.74\n",
      " -38.34 -38.24]\n"
     ]
    },
    {
     "data": {
      "text/html": [
       "<div class=\"notruncate\">\n",
       "<table  class=\"table_form\">\n",
       "<tbody>\n",
       "<tr>\n",
       "<th>lc_time</th>\n",
       "<th>T_in1</th>\n",
       "<th>T_in2</th>\n",
       "<th>T_wall_in</th>\n",
       "<th>T_wall_out</th>\n",
       "<th>T_outside</th>\n",
       "<th>T_outside_PT</th>\n",
       "<th>T_chamber</th>\n",
       "<th>T_chamber1</th>\n",
       "<th>T_leaf1</th>\n",
       "<th>T_leaf2</th>\n",
       "<th>T_leaf_in</th>\n",
       "<th>Wind</th>\n",
       "<th>T_dew</th>\n",
       "<th>Air_inflow</th>\n",
       "<th>Air_outflow</th>\n",
       "<th>nr_time</th>\n",
       "<th>T_leaf_IR</th>\n",
       "<th>V_leaf_IR</th>\n",
       "<th>Rn_above_leaf</th>\n",
       "<th>Rn_below_leaf</th>\n",
       "<th>Rn_beside_leaf</th>\n",
       "<th>RnV_above_leaf</th>\n",
       "<th>RnV_below_leaf</th>\n",
       "<th>RnV_beside_leaf</th>\n",
       "<th>sens_timefirst</th>\n",
       "<th>sens_timelast</th>\n",
       "<th>water_flow_avg</th>\n",
       "<th>water_flow_std</th>\n",
       "<th>water_flow_n</th>\n",
       "<th>pow_timefirst</th>\n",
       "<th>pow_timelast</th>\n",
       "<th>fan_power_avg</th>\n",
       "<th>fan_power_std</th>\n",
       "<th>fan_power_n</th>\n",
       "<th>Comment...................................................</th>\n",
       "</tr>\n",
       "<tr class =\"row-a\">\n",
       "<td>TS</td>\n",
       "<td>K</td>\n",
       "<td>K</td>\n",
       "<td>K</td>\n",
       "<td>K</td>\n",
       "<td>K</td>\n",
       "<td>Deg C</td>\n",
       "<td>K</td>\n",
       "<td>K</td>\n",
       "<td>K</td>\n",
       "<td>K</td>\n",
       "<td>K</td>\n",
       "<td>m/s</td>\n",
       "<td>degC</td>\n",
       "<td>SLPM</td>\n",
       "<td>SLPM</td>\n",
       "<td>TS</td>\n",
       "<td>Deg C</td>\n",
       "<td>mV</td>\n",
       "<td>W/m^2</td>\n",
       "<td>W/m^2</td>\n",
       "<td>W/m^2</td>\n",
       "<td>mV</td>\n",
       "<td>mV</td>\n",
       "<td>mV</td>\n",
       "<td></td>\n",
       "<td></td>\n",
       "<td>ul/min</td>\n",
       "<td>ul/min</td>\n",
       "<td>ul/min</td>\n",
       "<td>TS</td>\n",
       "<td>TS</td>\n",
       "<td>W</td>\n",
       "<td>W</td>\n",
       "<td></td>\n",
       "<td></td>\n",
       "</tr>\n",
       "<tr class =\"row-b\">\n",
       "<td>2014-04-24 12:20:42</td>\n",
       "<td>11.33</td>\n",
       "<td>11.48</td>\n",
       "<td>22.75</td>\n",
       "<td>22.75</td>\n",
       "<td>22.75</td>\n",
       "<td>26.18</td>\n",
       "<td>22.71</td>\n",
       "<td>22.78</td>\n",
       "<td>22.88</td>\n",
       "<td>22.89</td>\n",
       "<td>24.17</td>\n",
       "<td>5.239</td>\n",
       "<td>-10.09</td>\n",
       "<td>7.536</td>\n",
       "<td>3.664</td>\n",
       "<td>2014-04-24 12:20:44</td>\n",
       "<td>22.63</td>\n",
       "<td>0.01611</td>\n",
       "<td>540.8</td>\n",
       "<td>-3.318</td>\n",
       "<td>362.9</td>\n",
       "<td>-0.6472</td>\n",
       "<td>0.003458</td>\n",
       "<td>-0.4702</td>\n",
       "<td>2014-04-24 12:20:35</td>\n",
       "<td>2014-04-24 12:20:42</td>\n",
       "<td>-7.476</td>\n",
       "<td>0.1281</td>\n",
       "<td>100</td>\n",
       "<td>2014-04-24 12:19:43</td>\n",
       "<td>2014-04-24 12:20:42</td>\n",
       "<td>1.243</td>\n",
       "<td>0.0004275</td>\n",
       "<td>54</td>\n",
       "<td>Leaf 7-2, R_s=500, varying v_w, light source: Fiber lite PL-800, not fully reaching Rn_beside_leaf</td>\n",
       "</tr>\n",
       "<tr class =\"row-a\">\n",
       "<td>2014-04-24 13:14:51</td>\n",
       "<td>11.37</td>\n",
       "<td>11.53</td>\n",
       "<td>22.87</td>\n",
       "<td>22.85</td>\n",
       "<td>22.82</td>\n",
       "<td>26.14</td>\n",
       "<td>22.93</td>\n",
       "<td>22.98</td>\n",
       "<td>23.12</td>\n",
       "<td>23.14</td>\n",
       "<td>24.51</td>\n",
       "<td>3.990</td>\n",
       "<td>-10.08</td>\n",
       "<td>7.453</td>\n",
       "<td>3.636</td>\n",
       "<td>2014-04-24 13:14:55</td>\n",
       "<td>22.77</td>\n",
       "<td>0.02110</td>\n",
       "<td>532.0</td>\n",
       "<td>-3.465</td>\n",
       "<td>358.1</td>\n",
       "<td>-0.6366</td>\n",
       "<td>0.003610</td>\n",
       "<td>-0.4641</td>\n",
       "<td>2014-04-24 13:14:47</td>\n",
       "<td>2014-04-24 13:14:54</td>\n",
       "<td>-7.262</td>\n",
       "<td>0.1002</td>\n",
       "<td>100</td>\n",
       "<td>2014-04-24 13:13:55</td>\n",
       "<td>2014-04-24 13:14:54</td>\n",
       "<td>1.243</td>\n",
       "<td>0.0003552</td>\n",
       "<td>54</td>\n",
       "<td>Leaf 7-2, R_s=500, varying v_w</td>\n",
       "</tr>\n",
       "<tr class =\"row-b\">\n",
       "<td>2014-04-24 14:24:45</td>\n",
       "<td>11.43</td>\n",
       "<td>11.61</td>\n",
       "<td>22.98</td>\n",
       "<td>22.96</td>\n",
       "<td>22.92</td>\n",
       "<td>26.30</td>\n",
       "<td>23.02</td>\n",
       "<td>23.16</td>\n",
       "<td>23.42</td>\n",
       "<td>23.40</td>\n",
       "<td>25.11</td>\n",
       "<td>3.090</td>\n",
       "<td>-10.10</td>\n",
       "<td>7.437</td>\n",
       "<td>3.663</td>\n",
       "<td>2014-04-24 14:24:47</td>\n",
       "<td>23.07</td>\n",
       "<td>0.03283</td>\n",
       "<td>541.5</td>\n",
       "<td>-3.292</td>\n",
       "<td>379.7</td>\n",
       "<td>-0.6481</td>\n",
       "<td>0.003431</td>\n",
       "<td>-0.4920</td>\n",
       "<td>2014-04-24 14:24:39</td>\n",
       "<td>2014-04-24 14:24:46</td>\n",
       "<td>-7.256</td>\n",
       "<td>0.08109</td>\n",
       "<td>100</td>\n",
       "<td>2014-04-24 14:23:47</td>\n",
       "<td>2014-04-24 14:24:46</td>\n",
       "<td>1.243</td>\n",
       "<td>0.0000</td>\n",
       "<td>53</td>\n",
       "<td>Leaf 7-2, R_s=500, varying v_w</td>\n",
       "</tr>\n",
       "<tr class =\"row-a\">\n",
       "<td>2014-04-24 14:55:03</td>\n",
       "<td>11.56</td>\n",
       "<td>11.71</td>\n",
       "<td>23.10</td>\n",
       "<td>23.06</td>\n",
       "<td>23.07</td>\n",
       "<td>26.55</td>\n",
       "<td>23.10</td>\n",
       "<td>23.38</td>\n",
       "<td>23.87</td>\n",
       "<td>23.76</td>\n",
       "<td>26.01</td>\n",
       "<td>1.931</td>\n",
       "<td>-10.09</td>\n",
       "<td>7.240</td>\n",
       "<td>3.564</td>\n",
       "<td>2014-04-24 14:55:06</td>\n",
       "<td>23.44</td>\n",
       "<td>0.04701</td>\n",
       "<td>538.4</td>\n",
       "<td>-3.794</td>\n",
       "<td>397.3</td>\n",
       "<td>-0.6443</td>\n",
       "<td>0.003953</td>\n",
       "<td>-0.5148</td>\n",
       "<td>2014-04-24 14:54:57</td>\n",
       "<td>2014-04-24 14:55:04</td>\n",
       "<td>-7.211</td>\n",
       "<td>0.1762</td>\n",
       "<td>100</td>\n",
       "<td>2014-04-24 14:54:05</td>\n",
       "<td>2014-04-24 14:55:04</td>\n",
       "<td>1.243</td>\n",
       "<td>0.0003168</td>\n",
       "<td>53</td>\n",
       "<td>Leaf 7-2, R_s=500, varying v_w, closed lid of TC-multiplexer</td>\n",
       "</tr>\n",
       "<tr class =\"row-b\">\n",
       "<td>2014-04-24 16:06:00</td>\n",
       "<td>11.72</td>\n",
       "<td>11.86</td>\n",
       "<td>23.37</td>\n",
       "<td>23.23</td>\n",
       "<td>23.24</td>\n",
       "<td>26.67</td>\n",
       "<td>23.37</td>\n",
       "<td>23.95</td>\n",
       "<td>24.99</td>\n",
       "<td>24.85</td>\n",
       "<td>27.79</td>\n",
       "<td>0.7260</td>\n",
       "<td>-10.07</td>\n",
       "<td>7.039</td>\n",
       "<td>3.494</td>\n",
       "<td>2014-04-24 16:06:04</td>\n",
       "<td>24.32</td>\n",
       "<td>0.08090</td>\n",
       "<td>547.9</td>\n",
       "<td>-3.250</td>\n",
       "<td>415.7</td>\n",
       "<td>-0.6558</td>\n",
       "<td>0.003387</td>\n",
       "<td>-0.5386</td>\n",
       "<td>2014-04-24 16:05:54</td>\n",
       "<td>2014-04-24 16:06:01</td>\n",
       "<td>-6.924</td>\n",
       "<td>0.1938</td>\n",
       "<td>100</td>\n",
       "<td>2014-04-24 16:05:03</td>\n",
       "<td>2014-04-24 16:06:01</td>\n",
       "<td>1.243</td>\n",
       "<td>0.0004056</td>\n",
       "<td>53</td>\n",
       "<td>Leaf 7-2, R_s=500, varying v_w</td>\n",
       "</tr>\n",
       "<tr class =\"row-a\">\n",
       "<td>2014-04-24 17:10:39</td>\n",
       "<td>11.63</td>\n",
       "<td>11.78</td>\n",
       "<td>23.27</td>\n",
       "<td>23.22</td>\n",
       "<td>23.20</td>\n",
       "<td>26.55</td>\n",
       "<td>23.30</td>\n",
       "<td>23.70</td>\n",
       "<td>24.47</td>\n",
       "<td>24.34</td>\n",
       "<td>27.07</td>\n",
       "<td>1.136</td>\n",
       "<td>-10.08</td>\n",
       "<td>7.225</td>\n",
       "<td>3.531</td>\n",
       "<td>2014-04-24 17:10:41</td>\n",
       "<td>23.91</td>\n",
       "<td>0.06495</td>\n",
       "<td>554.4</td>\n",
       "<td>-2.676</td>\n",
       "<td>408.1</td>\n",
       "<td>-0.6635</td>\n",
       "<td>0.002791</td>\n",
       "<td>-0.5288</td>\n",
       "<td>2014-04-24 17:10:32</td>\n",
       "<td>2014-04-24 17:10:39</td>\n",
       "<td>-6.814</td>\n",
       "<td>0.1089</td>\n",
       "<td>100</td>\n",
       "<td>2014-04-24 17:09:40</td>\n",
       "<td>2014-04-24 17:10:39</td>\n",
       "<td>1.243</td>\n",
       "<td>0.0002642</td>\n",
       "<td>53</td>\n",
       "<td>Leaf 7-2, R_s=500, varying v_w</td>\n",
       "</tr>\n",
       "<tr class =\"row-b\">\n",
       "<td>2014-04-24 18:03:42</td>\n",
       "<td>11.47</td>\n",
       "<td>11.61</td>\n",
       "<td>23.26</td>\n",
       "<td>23.24</td>\n",
       "<td>23.22</td>\n",
       "<td>26.55</td>\n",
       "<td>23.22</td>\n",
       "<td>23.32</td>\n",
       "<td>23.43</td>\n",
       "<td>23.45</td>\n",
       "<td>24.97</td>\n",
       "<td>4.709</td>\n",
       "<td>-10.09</td>\n",
       "<td>7.549</td>\n",
       "<td>3.726</td>\n",
       "<td>2014-04-24 18:03:42</td>\n",
       "<td>22.77</td>\n",
       "<td>0.02109</td>\n",
       "<td>543.6</td>\n",
       "<td>-3.100</td>\n",
       "<td>364.2</td>\n",
       "<td>-0.6505</td>\n",
       "<td>0.003231</td>\n",
       "<td>-0.4719</td>\n",
       "<td>2014-04-24 18:03:34</td>\n",
       "<td>2014-04-24 18:03:41</td>\n",
       "<td>-6.617</td>\n",
       "<td>0.3075</td>\n",
       "<td>100</td>\n",
       "<td>2014-04-24 18:02:43</td>\n",
       "<td>2014-04-24 18:03:42</td>\n",
       "<td>1.243</td>\n",
       "<td>0.0005462</td>\n",
       "<td>53</td>\n",
       "<td>Leaf 7-2, R_s=500, varying v_w</td>\n",
       "</tr>\n",
       "</tbody>\n",
       "</table>\n",
       "</div>"
      ],
      "text/plain": [
       "        lc_time         T_in1   T_in2   T_wall_in   T_wall_out   T_outside   T_outside_PT   T_chamber   T_chamber1   T_leaf1   T_leaf2   T_leaf_in    Wind    T_dew    Air_inflow   Air_outflow         nr_time         T_leaf_IR   V_leaf_IR   Rn_above_leaf   Rn_below_leaf   Rn_beside_leaf   RnV_above_leaf   RnV_below_leaf   RnV_beside_leaf     sens_timefirst         sens_timelast      water_flow_avg   water_flow_std   water_flow_n      pow_timefirst         pow_timelast       fan_power_avg   fan_power_std   fan_power_n                       Comment...................................................\n",
       "+---------------------+-------+-------+-----------+------------+-----------+--------------+-----------+------------+---------+---------+-----------+--------+--------+------------+-------------+---------------------+-----------+-----------+---------------+---------------+----------------+----------------+----------------+-----------------+---------------------+---------------------+----------------+----------------+--------------+---------------------+---------------------+---------------+---------------+-------------+----------------------------------------------------------------------------------------------------+\n",
       "          TS              K       K         K           K            K          Deg C           K           K           K         K          K        m/s      degC       SLPM         SLPM               TS              Deg C        mV           W/m^2           W/m^2           W/m^2              mV               mV               mV                                                          ul/min           ul/min          ul/min              TS                    TS                  W               W\n",
       "  2014-04-24 12:20:42   11.33   11.48     22.75       22.75        22.75        26.18         22.71       22.78       22.88     22.89      24.17     5.239    -10.09     7.536         3.664      2014-04-24 12:20:44     22.63      0.01611        540.8          -3.318           362.9           -0.6472          0.003458          -0.4702       2014-04-24 12:20:35   2014-04-24 12:20:42       -7.476           0.1281           100        2014-04-24 12:19:43   2014-04-24 12:20:42       1.243         0.0004275         54        Leaf 7-2, R_s=500, varying v_w, light source: Fiber lite PL-800, not fully reaching Rn_beside_leaf\n",
       "  2014-04-24 13:14:51   11.37   11.53     22.87       22.85        22.82        26.14         22.93       22.98       23.12     23.14      24.51     3.990    -10.08     7.453         3.636      2014-04-24 13:14:55     22.77      0.02110        532.0          -3.465           358.1           -0.6366          0.003610          -0.4641       2014-04-24 13:14:47   2014-04-24 13:14:54       -7.262           0.1002           100        2014-04-24 13:13:55   2014-04-24 13:14:54       1.243         0.0003552         54                                          Leaf 7-2, R_s=500, varying v_w\n",
       "  2014-04-24 14:24:45   11.43   11.61     22.98       22.96        22.92        26.30         23.02       23.16       23.42     23.40      25.11     3.090    -10.10     7.437         3.663      2014-04-24 14:24:47     23.07      0.03283        541.5          -3.292           379.7           -0.6481          0.003431          -0.4920       2014-04-24 14:24:39   2014-04-24 14:24:46       -7.256          0.08109           100        2014-04-24 14:23:47   2014-04-24 14:24:46       1.243          0.0000           53                                          Leaf 7-2, R_s=500, varying v_w\n",
       "  2014-04-24 14:55:03   11.56   11.71     23.10       23.06        23.07        26.55         23.10       23.38       23.87     23.76      26.01     1.931    -10.09     7.240         3.564      2014-04-24 14:55:06     23.44      0.04701        538.4          -3.794           397.3           -0.6443          0.003953          -0.5148       2014-04-24 14:54:57   2014-04-24 14:55:04       -7.211           0.1762           100        2014-04-24 14:54:05   2014-04-24 14:55:04       1.243         0.0003168         53                           Leaf 7-2, R_s=500, varying v_w, closed lid of TC-multiplexer\n",
       "  2014-04-24 16:06:00   11.72   11.86     23.37       23.23        23.24        26.67         23.37       23.95       24.99     24.85      27.79     0.7260   -10.07     7.039         3.494      2014-04-24 16:06:04     24.32      0.08090        547.9          -3.250           415.7           -0.6558          0.003387          -0.5386       2014-04-24 16:05:54   2014-04-24 16:06:01       -6.924           0.1938           100        2014-04-24 16:05:03   2014-04-24 16:06:01       1.243         0.0004056         53                                          Leaf 7-2, R_s=500, varying v_w\n",
       "  2014-04-24 17:10:39   11.63   11.78     23.27       23.22        23.20        26.55         23.30       23.70       24.47     24.34      27.07     1.136    -10.08     7.225         3.531      2014-04-24 17:10:41     23.91      0.06495        554.4          -2.676           408.1           -0.6635          0.002791          -0.5288       2014-04-24 17:10:32   2014-04-24 17:10:39       -6.814           0.1089           100        2014-04-24 17:09:40   2014-04-24 17:10:39       1.243         0.0002642         53                                          Leaf 7-2, R_s=500, varying v_w\n",
       "  2014-04-24 18:03:42   11.47   11.61     23.26       23.24        23.22        26.55         23.22       23.32       23.43     23.45      24.97     4.709    -10.09     7.549         3.726      2014-04-24 18:03:42     22.77      0.02109        543.6          -3.100           364.2           -0.6505          0.003231          -0.4719       2014-04-24 18:03:34   2014-04-24 18:03:41       -6.617           0.3075           100        2014-04-24 18:02:43   2014-04-24 18:03:42       1.243         0.0005462         53                                          Leaf 7-2, R_s=500, varying v_w"
      ]
     },
     "metadata": {},
     "output_type": "display_data"
    },
    {
     "name": "stdout",
     "output_type": "stream",
     "text": [
      "R_s = (532.0, 554.4) joule/(R_s*meter^2*second)\n",
      "P_wa = (341.343007329, 356.31124279) pascal/P_wa\n",
      "T_a = (295.86, 296.52) kelvin/T_a\n",
      "v_w = (0.726, 5.239) meter/(second*v_w)\n",
      "g_sw = (0.008, 0.008) meter/(g_sw*second)\n",
      "imported file temp/leaf_chamber_data\n",
      "jupyter nbconvert  --to=python 'Tables_of_variables.ipynb'\n",
      "Exporting specified worksheet to .py file...\n"
     ]
    },
    {
     "name": "stderr",
     "output_type": "stream",
     "text": [
      "nbconvert returned 0\n"
     ]
    },
    {
     "name": "stdout",
     "output_type": "stream",
     "text": [
      "Checking if specified ipynb file was run with sage kernel...\n",
      "Renaming .py file to .sage if notebook kernel was sage (to avoid exponent error)\n",
      "created file temp/Tables_of_variables\n",
      "Tables_of_variables.ipynb\n",
      "perforated_foils_data.ipynb\n",
      "Worksheet_update.ipynb\n",
      "leaf_enbalance2s_eqs.ipynb\n",
      "Worksheet_setup.ipynb\n",
      "stomatal_cond_eqs.ipynb\n",
      "leaf_chamber_eqs.ipynb\n",
      "leaf_chamber_data.ipynb\n",
      "leaf_enbalance_eqs.ipynb\n",
      "E_PM_eqs.ipynb\n",
      "imported file temp/Tables_of_variables\n"
     ]
    }
   ],
   "source": [
    "list_wsnames = ['leaf_enbalance_eqs', 'E_PM_eqs', 'stomatal_cond_eqs','leaf_enbalance2s_eqs', 'leaf_chamber_eqs', 'perforated_foils_data', 'leaf_chamber_data', 'Tables_of_variables' ]\n",
    "folder = 'temp/'\n",
    "fun_export_load_ipynb(list_wsnames, folder, load1 = True)"
   ]
  },
  {
   "cell_type": "code",
   "execution_count": null,
   "metadata": {
    "collapsed": true
   },
   "outputs": [],
   "source": []
  }
 ],
 "metadata": {
  "kernelspec": {
   "display_name": "SageMath 7.3",
   "language": "",
   "name": "sagemath"
  },
  "language_info": {
   "codemirror_mode": {
    "name": "ipython",
    "version": 2
   },
   "file_extension": ".py",
   "mimetype": "text/x-python",
   "name": "python",
   "nbconvert_exporter": "python",
   "pygments_lexer": "ipython2",
   "version": "2.7.10"
  },
  "nav_menu": {},
  "toc": {
   "navigate_menu": true,
   "number_sections": true,
   "sideBar": true,
   "threshold": 6,
   "toc_cell": false,
   "toc_section_display": "block",
   "toc_window_display": true
  }
 },
 "nbformat": 4,
 "nbformat_minor": 0
}
