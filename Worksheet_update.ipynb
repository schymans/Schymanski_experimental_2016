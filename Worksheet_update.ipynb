{
 "cells": [
  {
   "cell_type": "markdown",
   "metadata": {},
   "source": [
    "# Sequential update of worksheet files\n",
    "This worksheet exports other worksheets to .sage files in order to save time when executing every particular worksheet."
   ]
  },
  {
   "cell_type": "code",
   "execution_count": 1,
   "metadata": {
    "collapsed": false
   },
   "outputs": [],
   "source": [
    "import json   # for reading notebook metadata\n",
    "def fun_export_ipynb(worksheet, folder):\n",
    "    '''\n",
    "    Exports worksheet.ipynb to a .py or .sage depending on kernel.\n",
    "    Example:\n",
    "    fun_export_ipynb('Worksheet_setup', 'temp/')\n",
    "    Need to import json before using this function. Unless option output=True is given,\n",
    "    each line of text has a semicolon added in the .py file, preventing any output.\n",
    "    '''\n",
    "    str1 = 'jupyter nbconvert  --to=python \\'' + worksheet+'.ipynb\\''\n",
    "    print str1\n",
    "    print 'Exporting specified worksheet to .py file...'\n",
    "    \n",
    "    try:\n",
    "        retcode = os.system(str1)\n",
    "        if retcode < 0:\n",
    "            print >>sys.stderr, \"nbconvert was terminated by signal\", -retcode\n",
    "        else:\n",
    "            print >>sys.stderr, \"nbconvert returned\", retcode\n",
    "    except OSError as e:\n",
    "        print >>sys.stderr, \"Execution failed:\", e\n",
    "        print >>sys.stderr, \"Trying ipython nbconvert instead...\"\n",
    "        str1 = 'ipython nbconvert  --to script \\'' + worksheet+'.ipynb\\''    # for new version of python\n",
    "        try:      \n",
    "            retcode = os.system(str1)\n",
    "            if retcode < 0:\n",
    "                print >>sys.stderr, \"nbconvert was terminated by signal\", -retcode\n",
    "            else:\n",
    "                print >>sys.stderr, \"nbconvert returned\", retcode\n",
    "        except OSError as e:\n",
    "            print >>sys.stderr, \"Execution failed:\", e              \n",
    "\n",
    "    str1 = worksheet + '.py'\n",
    "    \n",
    "    print 'Checking if specified ipynb file was run with sage kernel...'\n",
    "    with open(worksheet+'.ipynb') as data_file:    \n",
    "        data = json.load(data_file)\n",
    "    \n",
    "    if data['metadata']['kernelspec']['name'][0:4] == 'sage':\n",
    "        print 'Renaming .py file to .sage if notebook kernel was sage (to avoid exponent error)'\n",
    "        str2 = folder + worksheet + '.sage'\n",
    "        os.rename(str1, str2)"
   ]
  },
  {
   "cell_type": "code",
   "execution_count": 2,
   "metadata": {
    "collapsed": false
   },
   "outputs": [
    {
     "name": "stdout",
     "output_type": "stream",
     "text": [
      "jupyter nbconvert  --to=python 'Worksheet_setup.ipynb'\n",
      "Exporting specified worksheet to .py file...\n",
      "Checking if specified ipynb file was run with sage kernel...\n",
      "Renaming .py file to .sage if notebook kernel was sage (to avoid exponent error)\n"
     ]
    },
    {
     "name": "stderr",
     "output_type": "stream",
     "text": [
      "nbconvert returned 0\n"
     ]
    }
   ],
   "source": [
    "fun_export_ipynb('Worksheet_setup', 'temp/')"
   ]
  },
  {
   "cell_type": "code",
   "execution_count": null,
   "metadata": {
    "collapsed": true
   },
   "outputs": [],
   "source": []
  }
 ],
 "metadata": {
  "kernelspec": {
   "display_name": "SageMath 7.3",
   "language": "",
   "name": "sagemath"
  },
  "language_info": {
   "codemirror_mode": {
    "name": "ipython",
    "version": 2
   },
   "file_extension": ".py",
   "mimetype": "text/x-python",
   "name": "python",
   "nbconvert_exporter": "python",
   "pygments_lexer": "ipython2",
   "version": "2.7.10"
  },
  "nav_menu": {},
  "toc": {
   "navigate_menu": true,
   "number_sections": true,
   "sideBar": true,
   "threshold": 6,
   "toc_cell": false,
   "toc_section_display": "block",
   "toc_window_display": false
  }
 },
 "nbformat": 4,
 "nbformat_minor": 0
}
