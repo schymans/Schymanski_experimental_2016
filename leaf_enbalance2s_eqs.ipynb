{
 "cells": [
  {
   "cell_type": "code",
   "execution_count": 1,
   "metadata": {
    "collapsed": false
   },
   "outputs": [],
   "source": [
    "%%capture storage\n",
    "# The above redirects all output of the below commands to the variable 'storage' instead of displaying it.\n",
    "# It can be viewed by typing: 'storage()'\n",
    "# Setting up worksheet and importing equations for explicit leaf energy balance\n",
    "load('temp/Worksheet_setup.sage')\n",
    "load_session('temp/leaf_enbalance_eqs.sobj')\n",
    "fun_loadvars()   # re-loading variable definitions"
   ]
  },
  {
   "cell_type": "markdown",
   "metadata": {},
   "source": [
    "<h1>Consideration of heat transfer between two leaf sides</h1>\n",
    "<p>If one side of the leaf is illuminated only, or if transpiration happens on one side only, there would be a heat flux from one side of the leaf to the other, requiring a temperature gradient. How big would the temperature gradient be for typical leaves and would decoupling of leaf temperatures between both sides affect the fluxes?</p>"
   ]
  },
  {
   "cell_type": "code",
   "execution_count": 2,
   "metadata": {
    "collapsed": false
   },
   "outputs": [
    {
     "data": {
      "text/plain": [
       "z_l"
      ]
     },
     "execution_count": 2,
     "metadata": {},
     "output_type": "execute_result"
    }
   ],
   "source": [
    "var2('E_lu', 'Latent heat flux from upper side of leaf', joule/second/meter^2, latexname = 'E_{l_u}')\n",
    "var2('E_ll', 'Latent heat flux from lower side of leaf', joule/second/meter^2, latexname = 'E_{l_l}')\n",
    "var2('h_cu', 'Sensible heat flux coefficient on upper leaf side', joule/(kelvin*meter^2*second), latexname = 'h_{c_u}')\n",
    "var2('h_cl', 'Sensible heat flux coefficient on lower leaf side', joule/(kelvin*meter^2*second), latexname = 'h_{c_l}')\n",
    "var2('g_swu', 'Stomatal conductance to water vapour on upper side',  meter/second, latexname = 'g_{sw_u}')\n",
    "var2('g_swl', 'Stomatal conductance to water vapour on lower side',  meter/second, latexname = 'g_{sw_l}')\n",
    "var2('H_lu', 'Sensible heat flux from upper side of leaf', joule/second/meter^2, latexname = 'H_{l_u}')\n",
    "var2('H_ll', 'Sensible heat flux from lower side of leaf', joule/second/meter^2, latexname = 'H_{l_l}')\n",
    "var2('R_llu', 'Longwave heat flux from upper side of leaf', joule/second/meter^2, latexname = 'R_{ll_u}')\n",
    "var2('R_lll', 'Longwave heat flux from lower side of leaf', joule/second/meter^2, latexname = 'R_{ll_l}')\n",
    "\n",
    "\n",
    "var2('Q_l', 'Conductive heat flux from upper to lower side of leaf', joule/second/meter^2)\n",
    "var2('k_l', 'Thermal conductivity of a fresh leaf', joule/second/meter/kelvin)  # between 0.268 and 0.573 according to Hays_1975_The_thermal.pdf\n",
    "var2('T_lu', 'Leaf surface temperature of upper side', kelvin, latexname = 'T_{l_u}')\n",
    "var2('T_ll', 'Leaf surface temperature of lower side', kelvin, latexname = 'T_{l_l}')\n",
    "var2('z_l', 'Leaf thickness (m)',meter)"
   ]
  },
  {
   "cell_type": "code",
   "execution_count": 3,
   "metadata": {
    "collapsed": false
   },
   "outputs": [
    {
     "data": {
      "text/html": [
       "<html><script type=\"math/tex; mode=display\">\\newcommand{\\Bold}[1]{\\mathbf{#1}}Q_{l} = -\\frac{{\\left({T_{l_l}} - {T_{l_u}}\\right)} k_{l}}{z_{l}}</script></html>"
      ],
      "text/plain": [
       "Q_l == -(T_ll - T_lu)*k_l/z_l"
      ]
     },
     "metadata": {},
     "output_type": "display_data"
    },
    {
     "name": "stdout",
     "output_type": "stream",
     "text": [
      "kilogram/second^3 == kilogram/second^3\n",
      "Q_{l} = -\\frac{{\\left({T_{l_l}} - {T_{l_u}}\\right)} k_{l}}{z_{l}}\n"
     ]
    },
    {
     "data": {
      "text/html": [
       "<html><script type=\"math/tex; mode=display\">\\newcommand{\\Bold}[1]{\\mathbf{#1}}{T_{l_u}} = \\frac{{T_{l_l}} k_{l} + Q_{l} z_{l}}{k_{l}}</script></html>"
      ],
      "text/plain": [
       "T_lu == (T_ll*k_l + Q_l*z_l)/k_l"
      ]
     },
     "metadata": {},
     "output_type": "display_data"
    },
    {
     "name": "stdout",
     "output_type": "stream",
     "text": [
      "kelvin == kelvin\n"
     ]
    }
   ],
   "source": [
    "eq_Ql = Q_l == k_l*(T_lu - T_ll)/z_l\n",
    "print units_check(eq_Ql)\n",
    "print latex(eq_Ql)\n",
    "eq_Tlu_Ql = solve(eq_Ql, T_lu)[0]\n",
    "print units_check(eq_Tlu_Ql)"
   ]
  },
  {
   "cell_type": "code",
   "execution_count": 4,
   "metadata": {
    "collapsed": false
   },
   "outputs": [
    {
     "data": {
      "image/png": "[encoded data removed]",
      "text/plain": [
       "Graphics object consisting of 1 graphics primitive"
      ]
     },
     "execution_count": 4,
     "metadata": {},
     "output_type": "execute_result"
    }
   ],
   "source": [
    "var('dummy')\n",
    "vdict = cdict.copy()\n",
    "vdict[T_ll] = 300\n",
    "vdict[k_l] = 0.27\n",
    "vdict[Q_l] = 600\n",
    "P = plot(eq_Tlu_Ql.rhs().subs(vdict)(z_l = 1e-3*dummy) - vdict[T_ll], (z_l, 0.1, 1), frame = True)\n",
    "P.axes_labels(['Leaf thickness (mm)', '$T_{lu} - T_{ll}$ (K)'])\n",
    "P"
   ]
  },
  {
   "cell_type": "code",
   "execution_count": 5,
   "metadata": {
    "collapsed": false
   },
   "outputs": [],
   "source": [
    "# Energy balance of the upper and lower sides of leaf\n",
    "eq_enbalTlu = R_s - E_lu - H_lu - R_llu - Q_l\n",
    "eq_enbalTll = Q_l - E_ll - H_ll - R_lll"
   ]
  },
  {
   "cell_type": "code",
   "execution_count": 6,
   "metadata": {
    "collapsed": false
   },
   "outputs": [
    {
     "data": {
      "text/html": [
       "<html><script type=\"math/tex; mode=display\">\\newcommand{\\Bold}[1]{\\mathbf{#1}}{H_{l_u}} = -{\\left({T_{a}} - {T_{l_u}}\\right)} {h_{c_u}}</script></html>"
      ],
      "text/plain": [
       "H_lu == -(T_a - T_lu)*h_cu"
      ]
     },
     "metadata": {},
     "output_type": "display_data"
    },
    {
     "name": "stdout",
     "output_type": "stream",
     "text": [
      "kilogram/second^3 == (T_a^2 - T_lu)*kilogram/((T_a - T_lu)*second^3)\n"
     ]
    },
    {
     "data": {
      "text/html": [
       "<html><script type=\"math/tex; mode=display\">\\newcommand{\\Bold}[1]{\\mathbf{#1}}{H_{l_l}} = -{\\left({T_{a}} - {T_{l_l}}\\right)} {h_{c_l}}</script></html>"
      ],
      "text/plain": [
       "H_ll == -(T_a - T_ll)*h_cl"
      ]
     },
     "metadata": {},
     "output_type": "display_data"
    },
    {
     "name": "stdout",
     "output_type": "stream",
     "text": [
      "kilogram/second^3 == (T_a^2 - T_ll)*kilogram/((T_a - T_ll)*second^3)\n"
     ]
    }
   ],
   "source": [
    "eq_Hlu = H_lu == h_cu*(T_lu - T_a)\n",
    "print units_check(eq_Hlu)\n",
    "eq_Hll = H_ll == h_cl*(T_ll - T_a)\n",
    "print units_check(eq_Hll)"
   ]
  },
  {
   "cell_type": "code",
   "execution_count": 7,
   "metadata": {
    "collapsed": false
   },
   "outputs": [
    {
     "data": {
      "text/html": [
       "<html><script type=\"math/tex; mode=display\">\\newcommand{\\Bold}[1]{\\mathbf{#1}}{h_{c_u}} = \\frac{\\mathit{Nu} k_{a}}{L_{l}}</script></html>"
      ],
      "text/plain": [
       "h_cu == Nu*k_a/L_l"
      ]
     },
     "metadata": {},
     "output_type": "display_data"
    },
    {
     "name": "stdout",
     "output_type": "stream",
     "text": [
      "kilogram/(kelvin*second^3) == Nu*k_a*kilogram/(L_l*kelvin*second^3)\n"
     ]
    },
    {
     "data": {
      "text/html": [
       "<html><script type=\"math/tex; mode=display\">\\newcommand{\\Bold}[1]{\\mathbf{#1}}{h_{c_u}} = \\frac{\\mathit{Nu} k_{a}}{L_{l}}</script></html>"
      ],
      "text/plain": [
       "h_cu == Nu*k_a/L_l"
      ]
     },
     "metadata": {},
     "output_type": "display_data"
    },
    {
     "name": "stdout",
     "output_type": "stream",
     "text": [
      "kilogram/(kelvin*second^3) == Nu*k_a*kilogram/(L_l*kelvin*second^3)\n"
     ]
    }
   ],
   "source": [
    "# for forced convection, h_cu=h_cl=h_c\n",
    "eq_hcu = eq_hc(h_c = h_cu)\n",
    "print units_check(eq_hcu)\n",
    "eq_hcl = eq_hc(h_c = h_cl)\n",
    "print units_check(eq_hcu)"
   ]
  },
  {
   "cell_type": "code",
   "execution_count": 8,
   "metadata": {
    "collapsed": false
   },
   "outputs": [
    {
     "data": {
      "text/html": [
       "<html><script type=\"math/tex; mode=display\">\\newcommand{\\Bold}[1]{\\mathbf{#1}}{R_{ll_u}} = {\\left({T_{l_u}}^{4} - T_{w}^{4}\\right)} \\epsilon_{l} \\mathit{sigm}</script></html>"
      ],
      "text/plain": [
       "R_llu == (T_lu^4 - T_w^4)*epsilon_l*sigm"
      ]
     },
     "metadata": {},
     "output_type": "display_data"
    },
    {
     "name": "stdout",
     "output_type": "stream",
     "text": [
      "kilogram/second^3 == -(T_w^8 - T_lu^4)*epsilon_l*kilogram*sigm/((T_lu^4 - T_w^4)*second^3)\n"
     ]
    },
    {
     "data": {
      "text/html": [
       "<html><script type=\"math/tex; mode=display\">\\newcommand{\\Bold}[1]{\\mathbf{#1}}{R_{ll_l}} = {\\left({T_{l_l}}^{4} - T_{w}^{4}\\right)} \\epsilon_{l} \\mathit{sigm}</script></html>"
      ],
      "text/plain": [
       "R_lll == (T_ll^4 - T_w^4)*epsilon_l*sigm"
      ]
     },
     "metadata": {},
     "output_type": "display_data"
    },
    {
     "name": "stdout",
     "output_type": "stream",
     "text": [
      "kilogram/second^3 == -(T_w^8 - T_ll^4)*epsilon_l*kilogram*sigm/((T_ll^4 - T_w^4)*second^3)\n"
     ]
    }
   ],
   "source": [
    "# R_ll is given by eq_Rll with a_sh=1 and replacing T_l\n",
    "eq_Rllu = eq_Rll(R_ll = R_llu, a_sh = 1, T_l = T_lu)\n",
    "eq_Rlll = eq_Rll(R_ll = R_lll, a_sh = 1, T_l = T_ll)\n",
    "print units_check(eq_Rllu)\n",
    "print units_check(eq_Rlll)"
   ]
  },
  {
   "cell_type": "code",
   "execution_count": 9,
   "metadata": {
    "collapsed": false
   },
   "outputs": [
    {
     "name": "stdout",
     "output_type": "stream",
     "text": [
      "Fraction of one-sided leaf area covered by stomata (1 if stomata are on one side only, 2 if they are on both sides)\n",
      "Average 1-sided convective transfer coefficient\n"
     ]
    }
   ],
   "source": [
    "print docdict[a_s]\n",
    "print docdict[h_c]"
   ]
  },
  {
   "cell_type": "code",
   "execution_count": 10,
   "metadata": {
    "collapsed": false
   },
   "outputs": [
    {
     "data": {
      "text/plain": [
       "C_wl == 611*e^(-1/273*M_w*lambda_E*(273/T_l - 1)/R_mol)/(R_mol*T_l)"
      ]
     },
     "execution_count": 10,
     "metadata": {},
     "output_type": "execute_result"
    }
   ],
   "source": [
    "eq_Cwl.subs(eq_Pwl)"
   ]
  },
  {
   "cell_type": "code",
   "execution_count": 11,
   "metadata": {
    "collapsed": false
   },
   "outputs": [
    {
     "data": {
      "text/html": [
       "<html><script type=\"math/tex; mode=display\">\\newcommand{\\Bold}[1]{\\mathbf{#1}}{E_{l_u}} = -\\frac{{{C_{wa}}} {M_{w}} {{R_{mol}}} {T_{l_u}} {g_{sw_u}} {h_{c_u}} {\\lambda_{E}} e^{\\left(\\frac{{M_{w}} {\\lambda_{E}}}{{{R_{mol}}} {T_{l_u}}}\\right)} - 611 \\, {M_{w}} {g_{sw_u}} {h_{c_u}} {\\lambda_{E}} e^{\\left(\\frac{{M_{w}} {\\lambda_{E}}}{273 \\, {{R_{mol}}}}\\right)}}{{{N_{Le}}}^{\\frac{2}{3}} {{R_{mol}}} {T_{l_u}} {{c_{pa}}} {g_{sw_u}} {\\rho_{a}} e^{\\left(\\frac{{M_{w}} {\\lambda_{E}}}{{{R_{mol}}} {T_{l_u}}}\\right)} + {{R_{mol}}} {T_{l_u}} {h_{c_u}} e^{\\left(\\frac{{M_{w}} {\\lambda_{E}}}{{{R_{mol}}} {T_{l_u}}}\\right)}}</script></html>"
      ],
      "text/plain": [
       "E_lu == -(C_wa*M_w*R_mol*T_lu*g_swu*h_cu*lambda_E*e^(M_w*lambda_E/(R_mol*T_lu)) - 611*M_w*g_swu*h_cu*lambda_E*e^(1/273*M_w*lambda_E/R_mol))/(Le^(2/3)*R_mol*T_lu*c_pa*g_swu*rho_a*e^(M_w*lambda_E/(R_mol*T_lu)) + R_mol*T_lu*h_cu*e^(M_w*lambda_E/(R_mol*T_lu)))"
      ]
     },
     "metadata": {},
     "output_type": "display_data"
    }
   ],
   "source": [
    "# E_lu depends on upper side Elmol, with eq_gbw_ch and a_s=1 and g_swu\n",
    "eq_Elu = E_lu == eq_El.rhs().subs(eq_Elmol).subs(eq_gtw).subs(g_sw == g_swu, eq_gbw_hc(h_c=h_cu,a_s=1)).subs(eq_Cwl.subs(eq_Pwl)(T_l = T_lu)).simplify_full()\n",
    "eq_Elu.show()"
   ]
  },
  {
   "cell_type": "code",
   "execution_count": 12,
   "metadata": {
    "collapsed": false
   },
   "outputs": [
    {
     "data": {
      "text/html": [
       "<html><script type=\"math/tex; mode=display\">\\newcommand{\\Bold}[1]{\\mathbf{#1}}{E_{l_l}} = -\\frac{{{C_{wa}}} {M_{w}} {{R_{mol}}} {T_{l_l}} {g_{sw_l}} {h_{c_l}} {\\lambda_{E}} e^{\\left(\\frac{{M_{w}} {\\lambda_{E}}}{{{R_{mol}}} {T_{l_l}}}\\right)} - 611 \\, {M_{w}} {g_{sw_l}} {h_{c_l}} {\\lambda_{E}} e^{\\left(\\frac{{M_{w}} {\\lambda_{E}}}{273 \\, {{R_{mol}}}}\\right)}}{{{N_{Le}}}^{\\frac{2}{3}} {{R_{mol}}} {T_{l_l}} {{c_{pa}}} {g_{sw_l}} {\\rho_{a}} e^{\\left(\\frac{{M_{w}} {\\lambda_{E}}}{{{R_{mol}}} {T_{l_l}}}\\right)} + {{R_{mol}}} {T_{l_l}} {h_{c_l}} e^{\\left(\\frac{{M_{w}} {\\lambda_{E}}}{{{R_{mol}}} {T_{l_l}}}\\right)}}</script></html>"
      ],
      "text/plain": [
       "E_ll == -(C_wa*M_w*R_mol*T_ll*g_swl*h_cl*lambda_E*e^(M_w*lambda_E/(R_mol*T_ll)) - 611*M_w*g_swl*h_cl*lambda_E*e^(1/273*M_w*lambda_E/R_mol))/(Le^(2/3)*R_mol*T_ll*c_pa*g_swl*rho_a*e^(M_w*lambda_E/(R_mol*T_ll)) + R_mol*T_ll*h_cl*e^(M_w*lambda_E/(R_mol*T_ll)))"
      ]
     },
     "metadata": {},
     "output_type": "display_data"
    }
   ],
   "source": [
    "# E_ll depends on lower side Elmol, with eq_gbw_ch and a_s=1 and g_swu\n",
    "eq_Ell = E_ll == eq_El.rhs().subs(eq_Elmol).subs(eq_gtw).subs(g_sw == g_swl, eq_gbw_hc(h_c=h_cl,a_s=1)).subs(eq_Cwl.subs(eq_Pwl)(T_l = T_ll)).simplify_full()\n",
    "eq_Ell.show()"
   ]
  },
  {
   "cell_type": "code",
   "execution_count": 13,
   "metadata": {
    "collapsed": false
   },
   "outputs": [
    {
     "data": {
      "text/html": [
       "<html><script type=\"math/tex; mode=display\">\\newcommand{\\Bold}[1]{\\mathbf{#1}}{E_{l_l}} = -\\frac{{{C_{wa}}} {M_{w}} {{R_{mol}}} {T_{l_l}} {g_{sw_l}} {h_{c_l}} {\\lambda_{E}} e^{\\left(\\frac{{M_{w}} {\\lambda_{E}}}{{{R_{mol}}} {T_{l_l}}}\\right)} - 611 \\, {M_{w}} {g_{sw_l}} {h_{c_l}} {\\lambda_{E}} e^{\\left(\\frac{{M_{w}} {\\lambda_{E}}}{273 \\, {{R_{mol}}}}\\right)}}{{{N_{Le}}}^{\\frac{2}{3}} {{R_{mol}}} {T_{l_l}} {{c_{pa}}} {g_{sw_l}} {\\rho_{a}} e^{\\left(\\frac{{M_{w}} {\\lambda_{E}}}{{{R_{mol}}} {T_{l_l}}}\\right)} + {{R_{mol}}} {T_{l_l}} {h_{c_l}} e^{\\left(\\frac{{M_{w}} {\\lambda_{E}}}{{{R_{mol}}} {T_{l_l}}}\\right)}}</script></html>"
      ],
      "text/plain": [
       "E_ll == -(C_wa*M_w*R_mol*T_ll*g_swl*h_cl*lambda_E*e^(M_w*lambda_E/(R_mol*T_ll)) - 611*M_w*g_swl*h_cl*lambda_E*e^(1/273*M_w*lambda_E/R_mol))/(Le^(2/3)*R_mol*T_ll*c_pa*g_swl*rho_a*e^(M_w*lambda_E/(R_mol*T_ll)) + R_mol*T_ll*h_cl*e^(M_w*lambda_E/(R_mol*T_ll)))"
      ]
     },
     "metadata": {},
     "output_type": "display_data"
    }
   ],
   "source": [
    "eq_Ell.show()"
   ]
  },
  {
   "cell_type": "code",
   "execution_count": 14,
   "metadata": {
    "collapsed": false
   },
   "outputs": [],
   "source": [
    "from scipy.optimize import fsolve\n",
    "def fun_SS1(vdict1):\n",
    "    '''\n",
    "    Steady-state T_lu, T_ll, R_lll, R_llu, H_ll, H_lu, E_lu and E_ll under forced conditions.\n",
    "    Parameters are given in a dictionary (vdict) with the following entries:\n",
    "    a_s, a_sh, L_l, P_a, P_wa, R_s, Re_c, T_a, g_swu, g_swl, v_w\n",
    "    ''' \n",
    "    vdict = vdict1.copy()\n",
    "\n",
    "    vdict[C_wa] = eq_Cwl.rhs()(P_wl = P_wa, T_l = T_a).subs(vdict)\n",
    "    vdict[nu_a] = eq_nua.rhs().subs(vdict)\n",
    "    vdict[Re] = eq_Re.rhs().subs(vdict)\n",
    "    vdict[Nu] = eq_Nu_forced_all.rhs().subs(vdict)\n",
    "    vdict[k_a] = eq_ka.rhs().subs(vdict)\n",
    "    vdict[h_cu] = eq_hcu.rhs().subs(vdict)\n",
    "    vdict[h_cl] = eq_hcl.rhs().subs(vdict)\n",
    "    vdict[alpha_a] = eq_alphaa.rhs().subs(vdict)\n",
    "    vdict[D_va] = eq_Dva.rhs().subs(vdict)\n",
    "    vdict[Le] =  eq_Le.rhs().subs(vdict)\n",
    "    vdict[P_N2] = eq_PN2.rhs().subs(vdict)\n",
    "    vdict[P_O2] = eq_PO2.rhs().subs(vdict)\n",
    "    vdict[rho_a] =  eq_rhoa_Pwa_Ta.rhs().subs(vdict)\n",
    "        \n",
    "    eq1 = eq_enbalTlu.subs(eq_Elu, eq_Hlu, eq_Ql, eq_Rllu).subs(vdict)\n",
    "    eq2 = eq_enbalTll.subs(eq_Ell, eq_Hll, eq_Ql, eq_Rlll).subs(vdict)\n",
    "    def ff(v):\n",
    "        T_lu, T_ll = map(float, v)\n",
    "        return [eq1(T_lu=T_lu, T_ll=T_ll), eq2(T_lu=T_lu, T_ll=T_ll)]\n",
    "    \n",
    "    try:\n",
    "        soln = fsolve(ff, [300, 300])\n",
    "    except: \n",
    "        print 'too many unknowns for finding T_ll and T_lu: ' + str(eq1(T_lu=T_lu, T_ll=T_ll).args()) + '; ' + str(eq2(T_lu=T_lu, T_ll=T_ll).args())\n",
    "    \n",
    "    \n",
    "    vdict[T_lu] = soln[0]\n",
    "    vdict[T_ll] = soln[1]\n",
    "    vdict[Q_l] = eq_Ql.rhs().subs(vdict)\n",
    "    vdict[E_lu] = eq_Elu.rhs().subs(eq_Pwl(T_l = T_lu)).subs(vdict)\n",
    "    vdict[E_ll] = eq_Ell.rhs().subs(eq_Pwl(T_l = T_ll)).subs(vdict)\n",
    "    vdict[H_lu] = eq_Hlu.rhs().subs(vdict)\n",
    "    vdict[H_ll] = eq_Hll.rhs().subs(vdict)\n",
    "    vdict[R_llu] = eq_Rllu.rhs().subs(vdict)\n",
    "    vdict[R_lll] = eq_Rlll.rhs().subs(vdict)\n",
    "\n",
    "    \n",
    "    # Test for steady state\n",
    "    eq1 = eq_enbalTlu\n",
    "    if n(eq1.subs(vdict))>1.:\n",
    "        return 'error in energy balance: ' + str(eq1) + ' = ' + str(n(eq1.subs(vdict))) \n",
    "    eq1 = eq_enbalTll\n",
    "    if n(eq1.subs(vdict))>1.:\n",
    "        return 'error in energy balance: ' + str(eq1) + ' = ' + str(n(eq1.subs(vdict))) \n",
    "    \n",
    "    eq1 = R_s - R_llu - R_lll - H_lu - H_ll - E_lu - E_ll\n",
    "    if n(eq1.subs(vdict))>1.:\n",
    "        return 'error in energy balance: ' + str(eq1) + ' = ' + str(n(eq1.subs(vdict)))     \n",
    "            \n",
    "    return vdict"
   ]
  },
  {
   "cell_type": "code",
   "execution_count": 15,
   "metadata": {
    "collapsed": false
   },
   "outputs": [
    {
     "name": "stdout",
     "output_type": "stream",
     "text": [
      "T_lu - T_ll: 0.778885052219\n",
      "E_ll: 353.4854162257405\n",
      "isothermal: \n",
      "T_lu - T_ll: 1.59991486726e-09\n",
      "E_ll: 359.9289491588024\n"
     ]
    }
   ],
   "source": [
    "# Leaf thickness 0.4 mm, wet paper, realistic thermal conductance, darkness\n",
    "vdict = cdict.copy()\n",
    "vdict[k_l] = 0.3  # between 0.268 and 0.573 according to Hays_1975_The_thermal.pdf\n",
    "vdict[z_l] = 0.0005  # 0.5 mm thick leaf\n",
    "vdict[a_s] = 1.0    # one sided stomata\n",
    "vdict[g_swl] = 0.01 \n",
    "vdict[g_swu] = 0.\n",
    "vdict[T_a] = 273 + 25.5\n",
    "vdict[T_w] = vdict[T_a] # Wall temperature equal to air temperature\n",
    "vdict[P_a] = 101325\n",
    "rha = 0.3\n",
    "vdict[P_wa] = rha*eq_Pwl.rhs()(T_l = T_a).subs(vdict)\n",
    "vdict[L_l] = 0.03\n",
    "#vdict[L_A] = vdict[L_l]^2\n",
    "vdict[Re_c] = 3000\n",
    "vdict[R_s] = 600.\n",
    "#vdict[Q_in] = 0\n",
    "vdict[v_w] = 0.5\n",
    "\n",
    "resdict = fun_SS1(vdict)\n",
    "vdict[z_l] = 1e-12   # setting z_l close to 0 should result in isothermal conditions\n",
    "resdict_iso = fun_SS1(vdict)\n",
    "print 'T_lu - T_ll: ' + str(resdict[T_lu] - resdict[T_ll])\n",
    "print 'E_ll: ' + str(resdict[E_ll])\n",
    "print 'isothermal: '\n",
    "print 'T_lu - T_ll: ' + str(resdict_iso[T_lu] - resdict_iso[T_ll])\n",
    "print 'E_ll: ' + str(resdict_iso[E_ll])"
   ]
  },
  {
   "cell_type": "markdown",
   "metadata": {},
   "source": [
    "# Saving definitions to separate file\n",
    "In the below, we save the definitions and variables to a separate file in the /temp directory with the extension .sobj."
   ]
  },
  {
   "cell_type": "code",
   "execution_count": 16,
   "metadata": {
    "collapsed": true
   },
   "outputs": [],
   "source": [
    "save_session('temp/leaf_enbalance2s_eqs')"
   ]
  },
  {
   "cell_type": "markdown",
   "metadata": {},
   "source": [
    "# Table of symbols and units"
   ]
  },
  {
   "cell_type": "code",
   "execution_count": 17,
   "metadata": {
    "collapsed": false
   },
   "outputs": [
    {
     "data": {
      "text/html": [
       "<div class=\"notruncate\">\n",
       "<table  class=\"table_form\">\n",
       "<tbody>\n",
       "<tr>\n",
       "<th>Variable</th>\n",
       "<th>Description (value)</th>\n",
       "<th>Units</th>\n",
       "</tr>\n",
       "<tr class =\"row-a\">\n",
       "<td><script type=\"math/tex\">{a_{s}}</script></td>\n",
       "<td>Fraction of one-sided leaf area covered by stomata (1 if stomata are on one side only, 2 if they are on both sides)</td>\n",
       "<td><script type=\"math/tex\"> a_s</script></td>\n",
       "</tr>\n",
       "<tr class =\"row-b\">\n",
       "<td><script type=\"math/tex\">{{a_{sh}}}</script></td>\n",
       "<td>Fraction of projected area exchanging sensible heat with the air (2)</td>\n",
       "<td><script type=\"math/tex\"> a_sh</script></td>\n",
       "</tr>\n",
       "<tr class =\"row-a\">\n",
       "<td><script type=\"math/tex\">{\\alpha_{a}}</script></td>\n",
       "<td>Thermal diffusivity of dry air</td>\n",
       "<td><script type=\"math/tex\"> alpha_a m^{2}  s^{-1} </script></td>\n",
       "</tr>\n",
       "<tr class =\"row-b\">\n",
       "<td><script type=\"math/tex\">{{c_{pa}}}</script></td>\n",
       "<td>Specific heat of dry air (1010) </td>\n",
       "<td><script type=\"math/tex\"> J K^{-1}  c_pa kg^{-1} </script></td>\n",
       "</tr>\n",
       "<tr class =\"row-a\">\n",
       "<td><script type=\"math/tex\">{{C_{wa}}}</script></td>\n",
       "<td>Concentration of water in the free air </td>\n",
       "<td><script type=\"math/tex\"> C_wa m^{-3}  mol</script></td>\n",
       "</tr>\n",
       "<tr class =\"row-b\">\n",
       "<td><script type=\"math/tex\">{{C_{wl}}}</script></td>\n",
       "<td>Concentration of water in the leaf air space </td>\n",
       "<td><script type=\"math/tex\"> C_wl m^{-3}  mol</script></td>\n",
       "</tr>\n",
       "<tr class =\"row-a\">\n",
       "<td><script type=\"math/tex\">{{D_{va}}}</script></td>\n",
       "<td>Binary diffusion coefficient of water vapour in air</td>\n",
       "<td><script type=\"math/tex\"> D_va m^{2}  s^{-1} </script></td>\n",
       "</tr>\n",
       "<tr class =\"row-b\">\n",
       "<td><script type=\"math/tex\">{E_{l}}</script></td>\n",
       "<td>Latent heat flux from leaf</td>\n",
       "<td><script type=\"math/tex\"> E_l J m^{-2}  s^{-1} </script></td>\n",
       "</tr>\n",
       "<tr class =\"row-a\">\n",
       "<td><script type=\"math/tex\">{E_{l_l}}</script></td>\n",
       "<td>Latent heat flux from lower side of leaf</td>\n",
       "<td><script type=\"math/tex\"> J m^{-2}  s^{-1} </script></td>\n",
       "</tr>\n",
       "<tr class =\"row-b\">\n",
       "<td><script type=\"math/tex\">{{E_{l,mol}}}</script></td>\n",
       "<td>Transpiration rate in molar units</td>\n",
       "<td><script type=\"math/tex\"> E_lmol m^{-2}  mol s^{-1} </script></td>\n",
       "</tr>\n",
       "<tr class =\"row-a\">\n",
       "<td><script type=\"math/tex\">{E_{l_u}}</script></td>\n",
       "<td>Latent heat flux from upper side of leaf</td>\n",
       "<td><script type=\"math/tex\"> J m^{-2}  s^{-1} </script></td>\n",
       "</tr>\n",
       "<tr class =\"row-b\">\n",
       "<td><script type=\"math/tex\">{\\epsilon_{l}}</script></td>\n",
       "<td>Longwave emmissivity of the leaf surface (1.0)</td>\n",
       "<td><script type=\"math/tex\"> epsilon_l</script></td>\n",
       "</tr>\n",
       "<tr class =\"row-a\">\n",
       "<td><script type=\"math/tex\">{g}</script></td>\n",
       "<td>Gravitational acceleration (9.81)</td>\n",
       "<td><script type=\"math/tex\"> g m s^{-2} </script></td>\n",
       "</tr>\n",
       "<tr class =\"row-b\">\n",
       "<td><script type=\"math/tex\">{{g_{bw}}}</script></td>\n",
       "<td>Boundary layer conductance to water vapour </td>\n",
       "<td><script type=\"math/tex\"> g_bw m s^{-1} </script></td>\n",
       "</tr>\n",
       "<tr class =\"row-a\">\n",
       "<td><script type=\"math/tex\">{{g_{bw,mol}}}</script></td>\n",
       "<td>Boundary layer conductance to water vapour </td>\n",
       "<td><script type=\"math/tex\"> g_bwmol m^{-2}  mol s^{-1} </script></td>\n",
       "</tr>\n",
       "<tr class =\"row-b\">\n",
       "<td><script type=\"math/tex\">{{g_{sw}}}</script></td>\n",
       "<td>Stomatal conductance to water vapour</td>\n",
       "<td><script type=\"math/tex\"> g_sw m s^{-1} </script></td>\n",
       "</tr>\n",
       "<tr class =\"row-a\">\n",
       "<td><script type=\"math/tex\">{g_{sw_l}}</script></td>\n",
       "<td>Stomatal conductance to water vapour on lower side</td>\n",
       "<td><script type=\"math/tex\"> m s^{-1} </script></td>\n",
       "</tr>\n",
       "<tr class =\"row-b\">\n",
       "<td><script type=\"math/tex\">{{g_{sw,mol}}}</script></td>\n",
       "<td>Stomatal conductance to water vapour</td>\n",
       "<td><script type=\"math/tex\"> g_swmol m^{-2}  mol s^{-1} </script></td>\n",
       "</tr>\n",
       "<tr class =\"row-a\">\n",
       "<td><script type=\"math/tex\">{g_{sw_u}}</script></td>\n",
       "<td>Stomatal conductance to water vapour on upper side</td>\n",
       "<td><script type=\"math/tex\"> m s^{-1} </script></td>\n",
       "</tr>\n",
       "<tr class =\"row-b\">\n",
       "<td><script type=\"math/tex\">{{g_{tw}}}</script></td>\n",
       "<td>Total leaf conductance to water vapour</td>\n",
       "<td><script type=\"math/tex\"> g_tw m s^{-1} </script></td>\n",
       "</tr>\n",
       "<tr class =\"row-a\">\n",
       "<td><script type=\"math/tex\">{{g_{tw,mol}}}</script></td>\n",
       "<td>Total leaf layer conductance to water vapour</td>\n",
       "<td><script type=\"math/tex\"> g_twmol m^{-2}  mol s^{-1} </script></td>\n",
       "</tr>\n",
       "<tr class =\"row-b\">\n",
       "<td><script type=\"math/tex\">{h_{c}}</script></td>\n",
       "<td>Average 1-sided convective transfer coefficient</td>\n",
       "<td><script type=\"math/tex\"> J K^{-1}  h_c m^{-2}  s^{-1} </script></td>\n",
       "</tr>\n",
       "<tr class =\"row-a\">\n",
       "<td><script type=\"math/tex\">{h_{c_l}}</script></td>\n",
       "<td>Sensible heat flux coefficient on lower leaf side</td>\n",
       "<td><script type=\"math/tex\"> J K^{-1}  m^{-2}  s^{-1} </script></td>\n",
       "</tr>\n",
       "<tr class =\"row-b\">\n",
       "<td><script type=\"math/tex\">{h_{c_u}}</script></td>\n",
       "<td>Sensible heat flux coefficient on upper leaf side</td>\n",
       "<td><script type=\"math/tex\"> J K^{-1}  m^{-2}  s^{-1} </script></td>\n",
       "</tr>\n",
       "<tr class =\"row-a\">\n",
       "<td><script type=\"math/tex\">{H_{l}}</script></td>\n",
       "<td>Sensible heat flux from leaf</td>\n",
       "<td><script type=\"math/tex\"> H_l J m^{-2}  s^{-1} </script></td>\n",
       "</tr>\n",
       "<tr class =\"row-b\">\n",
       "<td><script type=\"math/tex\">{H_{l_l}}</script></td>\n",
       "<td>Sensible heat flux from lower side of leaf</td>\n",
       "<td><script type=\"math/tex\"> J m^{-2}  s^{-1} </script></td>\n",
       "</tr>\n",
       "<tr class =\"row-a\">\n",
       "<td><script type=\"math/tex\">{H_{l_u}}</script></td>\n",
       "<td>Sensible heat flux from upper side of leaf</td>\n",
       "<td><script type=\"math/tex\"> J m^{-2}  s^{-1} </script></td>\n",
       "</tr>\n",
       "<tr class =\"row-b\">\n",
       "<td><script type=\"math/tex\">{k_{a}}</script></td>\n",
       "<td>Thermal conductivity of dry air</td>\n",
       "<td><script type=\"math/tex\"> J K^{-1}  k_a m^{-1}  s^{-1} </script></td>\n",
       "</tr>\n",
       "<tr class =\"row-a\">\n",
       "<td><script type=\"math/tex\">k_{l}</script></td>\n",
       "<td>Thermal conductivity of a fresh leaf</td>\n",
       "<td><script type=\"math/tex\"> J K^{-1}  m^{-1}  s^{-1} </script></td>\n",
       "</tr>\n",
       "<tr class =\"row-b\">\n",
       "<td><script type=\"math/tex\">{L_{l}}</script></td>\n",
       "<td>Characteristic length scale for convection (size of leaf)</td>\n",
       "<td><script type=\"math/tex\"> L_l m</script></td>\n",
       "</tr>\n",
       "<tr class =\"row-a\">\n",
       "<td><script type=\"math/tex\">{\\lambda_{E}}</script></td>\n",
       "<td>Latent heat of evaporation (2.45e6)</td>\n",
       "<td><script type=\"math/tex\"> J kg^{-1}  lambda_E</script></td>\n",
       "</tr>\n",
       "<tr class =\"row-b\">\n",
       "<td><script type=\"math/tex\">{M_{N_{2}}}</script></td>\n",
       "<td>Molar mass of nitrogen (0.028)</td>\n",
       "<td><script type=\"math/tex\"> M_N2 kg mol^{-1} </script></td>\n",
       "</tr>\n",
       "<tr class =\"row-a\">\n",
       "<td><script type=\"math/tex\">{M_{O_{2}}}</script></td>\n",
       "<td>Molar mass of oxygen (0.032)</td>\n",
       "<td><script type=\"math/tex\"> M_O2 kg mol^{-1} </script></td>\n",
       "</tr>\n",
       "<tr class =\"row-b\">\n",
       "<td><script type=\"math/tex\">{M_{w}}</script></td>\n",
       "<td>Molar mass of water (0.018)</td>\n",
       "<td><script type=\"math/tex\"> M_w kg mol^{-1} </script></td>\n",
       "</tr>\n",
       "<tr class =\"row-a\">\n",
       "<td><script type=\"math/tex\">{{N_{Gr_L}}}</script></td>\n",
       "<td>Grashof number</td>\n",
       "<td><script type=\"math/tex\"> Gr</script></td>\n",
       "</tr>\n",
       "<tr class =\"row-b\">\n",
       "<td><script type=\"math/tex\">{{N_{Le}}}</script></td>\n",
       "<td>Lewis number</td>\n",
       "<td><script type=\"math/tex\"> Le</script></td>\n",
       "</tr>\n",
       "<tr class =\"row-a\">\n",
       "<td><script type=\"math/tex\">{{N_{Nu_L}}}</script></td>\n",
       "<td>Nusselt number</td>\n",
       "<td><script type=\"math/tex\"> Nu</script></td>\n",
       "</tr>\n",
       "<tr class =\"row-b\">\n",
       "<td><script type=\"math/tex\">{{N_{Re_L}}}</script></td>\n",
       "<td>Reynolds number</td>\n",
       "<td><script type=\"math/tex\"> Re</script></td>\n",
       "</tr>\n",
       "<tr class =\"row-a\">\n",
       "<td><script type=\"math/tex\">{{N_{Re_c}}}</script></td>\n",
       "<td>Critical Reynolds number for the onset of turbulence</td>\n",
       "<td><script type=\"math/tex\"> Re_c</script></td>\n",
       "</tr>\n",
       "<tr class =\"row-b\">\n",
       "<td><script type=\"math/tex\">{\\nu_{a}}</script></td>\n",
       "<td>Kinematic viscosity of dry air</td>\n",
       "<td><script type=\"math/tex\"> m^{2}  nu_a s^{-1} </script></td>\n",
       "</tr>\n",
       "<tr class =\"row-a\">\n",
       "<td><script type=\"math/tex\">{P_{a}}</script></td>\n",
       "<td>Air pressure</td>\n",
       "<td><script type=\"math/tex\"> P_a Pa</script></td>\n",
       "</tr>\n",
       "<tr class =\"row-b\">\n",
       "<td><script type=\"math/tex\">{{P_{N2}}}</script></td>\n",
       "<td>Partial pressure of nitrogen in the atmosphere</td>\n",
       "<td><script type=\"math/tex\"> P_N2 Pa</script></td>\n",
       "</tr>\n",
       "<tr class =\"row-a\">\n",
       "<td><script type=\"math/tex\">{{P_{O2}}}</script></td>\n",
       "<td>Partial pressure of oxygen in the atmosphere</td>\n",
       "<td><script type=\"math/tex\"> P_O2 Pa</script></td>\n",
       "</tr>\n",
       "<tr class =\"row-b\">\n",
       "<td><script type=\"math/tex\">{{P_{wa}}}</script></td>\n",
       "<td>Vapour pressure in the atmosphere</td>\n",
       "<td><script type=\"math/tex\"> P_wa Pa</script></td>\n",
       "</tr>\n",
       "<tr class =\"row-a\">\n",
       "<td><script type=\"math/tex\">{{P_{was}}}</script></td>\n",
       "<td>Saturation vapour pressure at air temperature</td>\n",
       "<td><script type=\"math/tex\"> P_was Pa</script></td>\n",
       "</tr>\n",
       "<tr class =\"row-b\">\n",
       "<td><script type=\"math/tex\">{{P_{wl}}}</script></td>\n",
       "<td>Vapour pressure inside the leaf</td>\n",
       "<td><script type=\"math/tex\"> P_wl Pa</script></td>\n",
       "</tr>\n",
       "<tr class =\"row-a\">\n",
       "<td><script type=\"math/tex\">{{N_{Pr}}}</script></td>\n",
       "<td>Prandtl number (0.71)</td>\n",
       "<td><script type=\"math/tex\"> Pr</script></td>\n",
       "</tr>\n",
       "<tr class =\"row-b\">\n",
       "<td><script type=\"math/tex\">Q_{l}</script></td>\n",
       "<td>Conductive heat flux from upper to lower side of leaf</td>\n",
       "<td><script type=\"math/tex\"> J m^{-2}  s^{-1} </script></td>\n",
       "</tr>\n",
       "<tr class =\"row-a\">\n",
       "<td><script type=\"math/tex\">{{r_{bw}}}</script></td>\n",
       "<td>Boundary layer resistance to water vapour, inverse of <script type=\"math/tex\">g_{bw}</script></td>\n",
       "<td><script type=\"math/tex\"> m^{-1}  r_bw s</script></td>\n",
       "</tr>\n",
       "<tr class =\"row-b\">\n",
       "<td><script type=\"math/tex\">{{R_{ll}}}</script></td>\n",
       "<td>Longwave radiation away from leaf</td>\n",
       "<td><script type=\"math/tex\"> J R_ll m^{-2}  s^{-1} </script></td>\n",
       "</tr>\n",
       "<tr class =\"row-a\">\n",
       "<td><script type=\"math/tex\">{R_{ll_l}}</script></td>\n",
       "<td>Longwave heat flux from lower side of leaf</td>\n",
       "<td><script type=\"math/tex\"> J m^{-2}  s^{-1} </script></td>\n",
       "</tr>\n",
       "<tr class =\"row-b\">\n",
       "<td><script type=\"math/tex\">{R_{ll_u}}</script></td>\n",
       "<td>Longwave heat flux from upper side of leaf</td>\n",
       "<td><script type=\"math/tex\"> J m^{-2}  s^{-1} </script></td>\n",
       "</tr>\n",
       "<tr class =\"row-a\">\n",
       "<td><script type=\"math/tex\">{{R_{mol}}}</script></td>\n",
       "<td>Molar gas constant (8.314472)</td>\n",
       "<td><script type=\"math/tex\"> J K^{-1}  R_mol mol^{-1} </script></td>\n",
       "</tr>\n",
       "<tr class =\"row-b\">\n",
       "<td><script type=\"math/tex\">{R_{s}}</script></td>\n",
       "<td>Solar shortwave flux</td>\n",
       "<td><script type=\"math/tex\"> J R_s m^{-2}  s^{-1} </script></td>\n",
       "</tr>\n",
       "<tr class =\"row-a\">\n",
       "<td><script type=\"math/tex\">{{r_{sw}}}</script></td>\n",
       "<td>Stomatal resistance to water vapour, inverse of <script type=\"math/tex\">g_{sw}</script></td>\n",
       "<td><script type=\"math/tex\"> m^{-1}  r_sw s</script></td>\n",
       "</tr>\n",
       "<tr class =\"row-b\">\n",
       "<td><script type=\"math/tex\">{{r_{tw}}}</script></td>\n",
       "<td>Total leaf resistance to water vapour, <script type=\"math/tex\">r_{bv} + r_{sv}</script></td>\n",
       "<td><script type=\"math/tex\"> m^{-1}  r_tw s</script></td>\n",
       "</tr>\n",
       "<tr class =\"row-a\">\n",
       "<td><script type=\"math/tex\">{\\rho_{a}}</script></td>\n",
       "<td>Density of dry air</td>\n",
       "<td><script type=\"math/tex\"> kg m^{-3}  rho_a</script></td>\n",
       "</tr>\n",
       "<tr class =\"row-b\">\n",
       "<td><script type=\"math/tex\">{\\rho_{\\mathit{al}}}</script></td>\n",
       "<td>Density of air at the leaf surface</td>\n",
       "<td><script type=\"math/tex\"> kg m^{-3}  rho_al</script></td>\n",
       "</tr>\n",
       "<tr class =\"row-a\">\n",
       "<td><script type=\"math/tex\">{{N_{Sh_L}}}</script></td>\n",
       "<td>Sherwood number</td>\n",
       "<td><script type=\"math/tex\"> Sh</script></td>\n",
       "</tr>\n",
       "<tr class =\"row-b\">\n",
       "<td><script type=\"math/tex\">{{\\sigma}}</script></td>\n",
       "<td>Stefan-Boltzmann constant (5.67e-8)</td>\n",
       "<td><script type=\"math/tex\"> J K^{-4}  m^{-2}  s^{-1}  sigm</script></td>\n",
       "</tr>\n",
       "<tr class =\"row-a\">\n",
       "<td><script type=\"math/tex\">{T_{a}}</script></td>\n",
       "<td>Air temperature</td>\n",
       "<td><script type=\"math/tex\"> K T_a</script></td>\n",
       "</tr>\n",
       "<tr class =\"row-b\">\n",
       "<td><script type=\"math/tex\">{T_{l}}</script></td>\n",
       "<td>Leaf temperature</td>\n",
       "<td><script type=\"math/tex\"> K T_l</script></td>\n",
       "</tr>\n",
       "<tr class =\"row-a\">\n",
       "<td><script type=\"math/tex\">{T_{l_l}}</script></td>\n",
       "<td>Leaf surface temperature of lower side</td>\n",
       "<td><script type=\"math/tex\"> K</script></td>\n",
       "</tr>\n",
       "<tr class =\"row-b\">\n",
       "<td><script type=\"math/tex\">{T_{l_u}}</script></td>\n",
       "<td>Leaf surface temperature of upper side</td>\n",
       "<td><script type=\"math/tex\"> K</script></td>\n",
       "</tr>\n",
       "<tr class =\"row-a\">\n",
       "<td><script type=\"math/tex\">{T_{w}}</script></td>\n",
       "<td>Radiative temperature of objects surrounding the leaf</td>\n",
       "<td><script type=\"math/tex\"> K T_w</script></td>\n",
       "</tr>\n",
       "<tr class =\"row-b\">\n",
       "<td><script type=\"math/tex\">{v_{w}}</script></td>\n",
       "<td>Wind velocity</td>\n",
       "<td><script type=\"math/tex\"> m s^{-1}  v_w</script></td>\n",
       "</tr>\n",
       "<tr class =\"row-a\">\n",
       "<td><script type=\"math/tex\">z_{l}</script></td>\n",
       "<td>Leaf thickness (m)</td>\n",
       "<td><script type=\"math/tex\"> m</script></td>\n",
       "</tr>\n",
       "</tbody>\n",
       "</table>\n",
       "</div>"
      ],
      "text/plain": [
       "  Variable    Description (value)                                                                                                   Units\n",
       "+-----------+---------------------------------------------------------------------------------------------------------------------+-----------------------------------+\n",
       "  a_s         Fraction of one-sided leaf area covered by stomata (1 if stomata are on one side only, 2 if they are on both sides)   $ a_s$\n",
       "  a_sh        Fraction of projected area exchanging sensible heat with the air (2)                                                  $ a_sh$\n",
       "  alpha_a     Thermal diffusivity of dry air                                                                                        $ alpha_a m^{2}  s^{-1} $\n",
       "  c_pa        Specific heat of dry air (1010)                                                                                       $ J K^{-1}  c_pa kg^{-1} $\n",
       "  C_wa        Concentration of water in the free air                                                                                $ C_wa m^{-3}  mol$\n",
       "  C_wl        Concentration of water in the leaf air space                                                                          $ C_wl m^{-3}  mol$\n",
       "  D_va        Binary diffusion coefficient of water vapour in air                                                                   $ D_va m^{2}  s^{-1} $\n",
       "  E_l         Latent heat flux from leaf                                                                                            $ E_l J m^{-2}  s^{-1} $\n",
       "  E_ll        Latent heat flux from lower side of leaf                                                                              $ J m^{-2}  s^{-1} $\n",
       "  E_lmol      Transpiration rate in molar units                                                                                     $ E_lmol m^{-2}  mol s^{-1} $\n",
       "  E_lu        Latent heat flux from upper side of leaf                                                                              $ J m^{-2}  s^{-1} $\n",
       "  epsilon_l   Longwave emmissivity of the leaf surface (1.0)                                                                        $ epsilon_l$\n",
       "  g           Gravitational acceleration (9.81)                                                                                     $ g m s^{-2} $\n",
       "  g_bw        Boundary layer conductance to water vapour                                                                            $ g_bw m s^{-1} $\n",
       "  g_bwmol     Boundary layer conductance to water vapour                                                                            $ g_bwmol m^{-2}  mol s^{-1} $\n",
       "  g_sw        Stomatal conductance to water vapour                                                                                  $ g_sw m s^{-1} $\n",
       "  g_swl       Stomatal conductance to water vapour on lower side                                                                    $ m s^{-1} $\n",
       "  g_swmol     Stomatal conductance to water vapour                                                                                  $ g_swmol m^{-2}  mol s^{-1} $\n",
       "  g_swu       Stomatal conductance to water vapour on upper side                                                                    $ m s^{-1} $\n",
       "  g_tw        Total leaf conductance to water vapour                                                                                $ g_tw m s^{-1} $\n",
       "  g_twmol     Total leaf layer conductance to water vapour                                                                          $ g_twmol m^{-2}  mol s^{-1} $\n",
       "  h_c         Average 1-sided convective transfer coefficient                                                                       $ J K^{-1}  h_c m^{-2}  s^{-1} $\n",
       "  h_cl        Sensible heat flux coefficient on lower leaf side                                                                     $ J K^{-1}  m^{-2}  s^{-1} $\n",
       "  h_cu        Sensible heat flux coefficient on upper leaf side                                                                     $ J K^{-1}  m^{-2}  s^{-1} $\n",
       "  H_l         Sensible heat flux from leaf                                                                                          $ H_l J m^{-2}  s^{-1} $\n",
       "  H_ll        Sensible heat flux from lower side of leaf                                                                            $ J m^{-2}  s^{-1} $\n",
       "  H_lu        Sensible heat flux from upper side of leaf                                                                            $ J m^{-2}  s^{-1} $\n",
       "  k_a         Thermal conductivity of dry air                                                                                       $ J K^{-1}  k_a m^{-1}  s^{-1} $\n",
       "  k_l         Thermal conductivity of a fresh leaf                                                                                  $ J K^{-1}  m^{-1}  s^{-1} $\n",
       "  L_l         Characteristic length scale for convection (size of leaf)                                                             $ L_l m$\n",
       "  lambda_E    Latent heat of evaporation (2.45e6)                                                                                   $ J kg^{-1}  lambda_E$\n",
       "  M_N2        Molar mass of nitrogen (0.028)                                                                                        $ M_N2 kg mol^{-1} $\n",
       "  M_O2        Molar mass of oxygen (0.032)                                                                                          $ M_O2 kg mol^{-1} $\n",
       "  M_w         Molar mass of water (0.018)                                                                                           $ M_w kg mol^{-1} $\n",
       "  Gr          Grashof number                                                                                                        $ Gr$\n",
       "  Le          Lewis number                                                                                                          $ Le$\n",
       "  Nu          Nusselt number                                                                                                        $ Nu$\n",
       "  Re          Reynolds number                                                                                                       $ Re$\n",
       "  Re_c        Critical Reynolds number for the onset of turbulence                                                                  $ Re_c$\n",
       "  nu_a        Kinematic viscosity of dry air                                                                                        $ m^{2}  nu_a s^{-1} $\n",
       "  P_a         Air pressure                                                                                                          $ P_a Pa$\n",
       "  P_N2        Partial pressure of nitrogen in the atmosphere                                                                        $ P_N2 Pa$\n",
       "  P_O2        Partial pressure of oxygen in the atmosphere                                                                          $ P_O2 Pa$\n",
       "  P_wa        Vapour pressure in the atmosphere                                                                                     $ P_wa Pa$\n",
       "  P_was       Saturation vapour pressure at air temperature                                                                         $ P_was Pa$\n",
       "  P_wl        Vapour pressure inside the leaf                                                                                       $ P_wl Pa$\n",
       "  Pr          Prandtl number (0.71)                                                                                                 $ Pr$\n",
       "  Q_l         Conductive heat flux from upper to lower side of leaf                                                                 $ J m^{-2}  s^{-1} $\n",
       "  r_bw        Boundary layer resistance to water vapour, inverse of $g_{bw}$                                                        $ m^{-1}  r_bw s$\n",
       "  R_ll        Longwave radiation away from leaf                                                                                     $ J R_ll m^{-2}  s^{-1} $\n",
       "  R_lll       Longwave heat flux from lower side of leaf                                                                            $ J m^{-2}  s^{-1} $\n",
       "  R_llu       Longwave heat flux from upper side of leaf                                                                            $ J m^{-2}  s^{-1} $\n",
       "  R_mol       Molar gas constant (8.314472)                                                                                         $ J K^{-1}  R_mol mol^{-1} $\n",
       "  R_s         Solar shortwave flux                                                                                                  $ J R_s m^{-2}  s^{-1} $\n",
       "  r_sw        Stomatal resistance to water vapour, inverse of $g_{sw}$                                                              $ m^{-1}  r_sw s$\n",
       "  r_tw        Total leaf resistance to water vapour, $r_{bv} + r_{sv}$                                                              $ m^{-1}  r_tw s$\n",
       "  rho_a       Density of dry air                                                                                                    $ kg m^{-3}  rho_a$\n",
       "  rho_al      Density of air at the leaf surface                                                                                    $ kg m^{-3}  rho_al$\n",
       "  Sh          Sherwood number                                                                                                       $ Sh$\n",
       "  sigm        Stefan-Boltzmann constant (5.67e-8)                                                                                   $ J K^{-4}  m^{-2}  s^{-1}  sigm$\n",
       "  T_a         Air temperature                                                                                                       $ K T_a$\n",
       "  T_l         Leaf temperature                                                                                                      $ K T_l$\n",
       "  T_ll        Leaf surface temperature of lower side                                                                                $ K$\n",
       "  T_lu        Leaf surface temperature of upper side                                                                                $ K$\n",
       "  T_w         Radiative temperature of objects surrounding the leaf                                                                 $ K T_w$\n",
       "  v_w         Wind velocity                                                                                                         $ m s^{-1}  v_w$\n",
       "  z_l         Leaf thickness (m)                                                                                                    $ m$"
      ]
     },
     "execution_count": 17,
     "metadata": {},
     "output_type": "execute_result"
    }
   ],
   "source": [
    "def fun_units_formatted(variable):\n",
    "    '''\n",
    "    Returns units of variable expanded to exponential notation.\n",
    "    \n",
    "    '''\n",
    "    units1 = (udict[eval(variable)]/eval(variable)).subs(subsdict)\n",
    "    facs = units1.factor_list()\n",
    "    str1 = ''\n",
    "    for term1 in facs:\n",
    "        str1 = str1 +' ' + str(term1[0])\n",
    "        op1 = term1[1]\n",
    "        if op1!=1:\n",
    "            str1 = str1 + '^{' + str(op1) + '} '\n",
    "    return '$'+str1+'$'\n",
    "\n",
    "# Creating dictionary to substitute names of units with shorter forms\n",
    "var('m s J Pa K kg mol')\n",
    "subsdict = {meter: m, second: s, joule: J, pascal: Pa, kelvin: K, kilogram: kg, mole: mol}\n",
    "var('N_Re N_Re_c N_Le N_Nu N_Gr')\n",
    "dict_varnew = {Re: N_Re, Re_c: N_Re_c, Le: N_Le, Nu: N_Nu, Gr: N_Gr}\n",
    "dict_varold = {v: k for k, v in dict_varnew.iteritems()}\n",
    "variables = sorted([str(variable.subs(dict_varnew)) for variable in udict.keys()],key=str.lower)\n",
    "tableheader = [('Variable', 'Description (value)', 'Units')]\n",
    "tabledata = [('Variable', 'Description (value)', 'Units')]\n",
    "for variable1 in variables:\n",
    "    variable2 = eval(variable1).subs(dict_varold)\n",
    "    variable = str(variable2)\n",
    "    tabledata.append((eval(variable),docdict[eval(variable)],fun_units_formatted(variable)))\n",
    "#tabledata = [(str(latex(eval(variable))),docdict[eval(variable)],fun_units_formatted(variable)) for variable in variables]\n",
    "table(tabledata, header_row=True)"
   ]
  },
  {
   "cell_type": "code",
   "execution_count": 18,
   "metadata": {
    "collapsed": false
   },
   "outputs": [
    {
     "data": {
      "text/plain": [
       "\\begin{tabular}{lll}\n",
       "Variable & Description (value) & Units \\\\\n",
       "${a_{s}}$ & Fraction of one-sided leaf area covered by stomata (1 if stomata are on one side only, 2 if they are on both sides) & $ a_s$ \\\\\n",
       "${{a_{sh}}}$ & Fraction of projected area exchanging sensible heat with the air (2) & $ a_sh$ \\\\\n",
       "${\\alpha_{a}}$ & Thermal diffusivity of dry air & $ alpha_a m^{2}  s^{-1} $ \\\\\n",
       "${{c_{pa}}}$ & Specific heat of dry air (1010)  & $ J K^{-1}  c_pa kg^{-1} $ \\\\\n",
       "${{C_{wa}}}$ & Concentration of water in the free air  & $ C_wa m^{-3}  mol$ \\\\\n",
       "${{C_{wl}}}$ & Concentration of water in the leaf air space  & $ C_wl m^{-3}  mol$ \\\\\n",
       "${{D_{va}}}$ & Binary diffusion coefficient of water vapour in air & $ D_va m^{2}  s^{-1} $ \\\\\n",
       "${E_{l}}$ & Latent heat flux from leaf & $ E_l J m^{-2}  s^{-1} $ \\\\\n",
       "${E_{l_l}}$ & Latent heat flux from lower side of leaf & $ J m^{-2}  s^{-1} $ \\\\\n",
       "${{E_{l,mol}}}$ & Transpiration rate in molar units & $ E_lmol m^{-2}  mol s^{-1} $ \\\\\n",
       "${E_{l_u}}$ & Latent heat flux from upper side of leaf & $ J m^{-2}  s^{-1} $ \\\\\n",
       "${\\epsilon_{l}}$ & Longwave emmissivity of the leaf surface (1.0) & $ epsilon_l$ \\\\\n",
       "${g}$ & Gravitational acceleration (9.81) & $ g m s^{-2} $ \\\\\n",
       "${{g_{bw}}}$ & Boundary layer conductance to water vapour  & $ g_bw m s^{-1} $ \\\\\n",
       "${{g_{bw,mol}}}$ & Boundary layer conductance to water vapour  & $ g_bwmol m^{-2}  mol s^{-1} $ \\\\\n",
       "${{g_{sw}}}$ & Stomatal conductance to water vapour & $ g_sw m s^{-1} $ \\\\\n",
       "${g_{sw_l}}$ & Stomatal conductance to water vapour on lower side & $ m s^{-1} $ \\\\\n",
       "${{g_{sw,mol}}}$ & Stomatal conductance to water vapour & $ g_swmol m^{-2}  mol s^{-1} $ \\\\\n",
       "${g_{sw_u}}$ & Stomatal conductance to water vapour on upper side & $ m s^{-1} $ \\\\\n",
       "${{g_{tw}}}$ & Total leaf conductance to water vapour & $ g_tw m s^{-1} $ \\\\\n",
       "${{g_{tw,mol}}}$ & Total leaf layer conductance to water vapour & $ g_twmol m^{-2}  mol s^{-1} $ \\\\\n",
       "${h_{c}}$ & Average 1-sided convective transfer coefficient & $ J K^{-1}  h_c m^{-2}  s^{-1} $ \\\\\n",
       "${h_{c_l}}$ & Sensible heat flux coefficient on lower leaf side & $ J K^{-1}  m^{-2}  s^{-1} $ \\\\\n",
       "${h_{c_u}}$ & Sensible heat flux coefficient on upper leaf side & $ J K^{-1}  m^{-2}  s^{-1} $ \\\\\n",
       "${H_{l}}$ & Sensible heat flux from leaf & $ H_l J m^{-2}  s^{-1} $ \\\\\n",
       "${H_{l_l}}$ & Sensible heat flux from lower side of leaf & $ J m^{-2}  s^{-1} $ \\\\\n",
       "${H_{l_u}}$ & Sensible heat flux from upper side of leaf & $ J m^{-2}  s^{-1} $ \\\\\n",
       "${k_{a}}$ & Thermal conductivity of dry air & $ J K^{-1}  k_a m^{-1}  s^{-1} $ \\\\\n",
       "$k_{l}$ & Thermal conductivity of a fresh leaf & $ J K^{-1}  m^{-1}  s^{-1} $ \\\\\n",
       "${L_{l}}$ & Characteristic length scale for convection (size of leaf) & $ L_l m$ \\\\\n",
       "${\\lambda_{E}}$ & Latent heat of evaporation (2.45e6) & $ J kg^{-1}  lambda_E$ \\\\\n",
       "${M_{N_{2}}}$ & Molar mass of nitrogen (0.028) & $ M_N2 kg mol^{-1} $ \\\\\n",
       "${M_{O_{2}}}$ & Molar mass of oxygen (0.032) & $ M_O2 kg mol^{-1} $ \\\\\n",
       "${M_{w}}$ & Molar mass of water (0.018) & $ M_w kg mol^{-1} $ \\\\\n",
       "${{N_{Gr_L}}}$ & Grashof number & $ Gr$ \\\\\n",
       "${{N_{Le}}}$ & Lewis number & $ Le$ \\\\\n",
       "${{N_{Nu_L}}}$ & Nusselt number & $ Nu$ \\\\\n",
       "${{N_{Re_L}}}$ & Reynolds number & $ Re$ \\\\\n",
       "${{N_{Re_c}}}$ & Critical Reynolds number for the onset of turbulence & $ Re_c$ \\\\\n",
       "${\\nu_{a}}$ & Kinematic viscosity of dry air & $ m^{2}  nu_a s^{-1} $ \\\\\n",
       "${P_{a}}$ & Air pressure & $ P_a Pa$ \\\\\n",
       "${{P_{N2}}}$ & Partial pressure of nitrogen in the atmosphere & $ P_N2 Pa$ \\\\\n",
       "${{P_{O2}}}$ & Partial pressure of oxygen in the atmosphere & $ P_O2 Pa$ \\\\\n",
       "${{P_{wa}}}$ & Vapour pressure in the atmosphere & $ P_wa Pa$ \\\\\n",
       "${{P_{was}}}$ & Saturation vapour pressure at air temperature & $ P_was Pa$ \\\\\n",
       "${{P_{wl}}}$ & Vapour pressure inside the leaf & $ P_wl Pa$ \\\\\n",
       "${{N_{Pr}}}$ & Prandtl number (0.71) & $ Pr$ \\\\\n",
       "$Q_{l}$ & Conductive heat flux from upper to lower side of leaf & $ J m^{-2}  s^{-1} $ \\\\\n",
       "${{r_{bw}}}$ & Boundary layer resistance to water vapour, inverse of $g_{bw}$ & $ m^{-1}  r_bw s$ \\\\\n",
       "${{R_{ll}}}$ & Longwave radiation away from leaf & $ J R_ll m^{-2}  s^{-1} $ \\\\\n",
       "${R_{ll_l}}$ & Longwave heat flux from lower side of leaf & $ J m^{-2}  s^{-1} $ \\\\\n",
       "${R_{ll_u}}$ & Longwave heat flux from upper side of leaf & $ J m^{-2}  s^{-1} $ \\\\\n",
       "${{R_{mol}}}$ & Molar gas constant (8.314472) & $ J K^{-1}  R_mol mol^{-1} $ \\\\\n",
       "${R_{s}}$ & Solar shortwave flux & $ J R_s m^{-2}  s^{-1} $ \\\\\n",
       "${{r_{sw}}}$ & Stomatal resistance to water vapour, inverse of $g_{sw}$ & $ m^{-1}  r_sw s$ \\\\\n",
       "${{r_{tw}}}$ & Total leaf resistance to water vapour, $r_{bv} + r_{sv}$ & $ m^{-1}  r_tw s$ \\\\\n",
       "${\\rho_{a}}$ & Density of dry air & $ kg m^{-3}  rho_a$ \\\\\n",
       "${\\rho_{\\mathit{al}}}$ & Density of air at the leaf surface & $ kg m^{-3}  rho_al$ \\\\\n",
       "${{N_{Sh_L}}}$ & Sherwood number & $ Sh$ \\\\\n",
       "${{\\sigma}}$ & Stefan-Boltzmann constant (5.67e-8) & $ J K^{-4}  m^{-2}  s^{-1}  sigm$ \\\\\n",
       "${T_{a}}$ & Air temperature & $ K T_a$ \\\\\n",
       "${T_{l}}$ & Leaf temperature & $ K T_l$ \\\\\n",
       "${T_{l_l}}$ & Leaf surface temperature of lower side & $ K$ \\\\\n",
       "${T_{l_u}}$ & Leaf surface temperature of upper side & $ K$ \\\\\n",
       "${T_{w}}$ & Radiative temperature of objects surrounding the leaf & $ K T_w$ \\\\\n",
       "${v_{w}}$ & Wind velocity & $ m s^{-1}  v_w$ \\\\\n",
       "$z_{l}$ & Leaf thickness (m) & $ m$ \\\\\n",
       "\\end{tabular}"
      ]
     },
     "execution_count": 18,
     "metadata": {},
     "output_type": "execute_result"
    }
   ],
   "source": [
    "latex(table(tabledata))"
   ]
  },
  {
   "cell_type": "code",
   "execution_count": null,
   "metadata": {
    "collapsed": true
   },
   "outputs": [],
   "source": []
  }
 ],
 "metadata": {
  "kernelspec": {
   "display_name": "SageMath 7.3",
   "language": "",
   "name": "sagemath"
  },
  "language": "python",
  "language_info": {
   "codemirror_mode": {
    "name": "ipython",
    "version": 2
   },
   "file_extension": ".py",
   "mimetype": "text/x-python",
   "name": "python",
   "nbconvert_exporter": "python",
   "pygments_lexer": "ipython2",
   "version": "2.7.10"
  },
  "nav_menu": {},
  "toc": {
   "navigate_menu": true,
   "number_sections": true,
   "sideBar": true,
   "threshold": 6,
   "toc_cell": false,
   "toc_section_display": "block",
   "toc_window_display": true
  }
 },
 "nbformat": 4,
 "nbformat_minor": 0
}
