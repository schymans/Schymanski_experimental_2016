{
 "cells": [
  {
   "cell_type": "markdown",
   "metadata": {
    "collapsed": true
   },
   "source": [
    "# Analysis of images of perforated foils and calculation of diffusive conductances\n",
    "Author: stan.schymanski@env.ethz.ch"
   ]
  },
  {
   "cell_type": "markdown",
   "metadata": {},
   "source": [
    "# Functions to read data files and compute conductances"
   ]
  },
  {
   "cell_type": "code",
   "execution_count": 1,
   "metadata": {
    "collapsed": false
   },
   "outputs": [],
   "source": [
    "%%capture storage\n",
    "# The above redirects all output of the below commands to the variable 'storage' instead of displaying it.\n",
    "# It can be viewed by typing: 'storage()'\n",
    "\n",
    "# Setup of worksheet, incl. importing of packages and defining general custom functions\n",
    "load('temp/Worksheet_setup.sage')\n",
    "# From stomatal_cond_eqs\n",
    "load_session('temp/stomatal_cond_eqs.sobj')\n",
    "import csv"
   ]
  },
  {
   "cell_type": "code",
   "execution_count": 2,
   "metadata": {
    "collapsed": true
   },
   "outputs": [],
   "source": [
    "path_data = 'data/perforated_foils/'"
   ]
  },
  {
   "cell_type": "code",
   "execution_count": 3,
   "metadata": {
    "collapsed": false
   },
   "outputs": [
    {
     "name": "stdout",
     "output_type": "stream",
     "text": [
      "M_N2            0.0280000000000000\n",
      "M_O2            0.0320000000000000\n",
      "M_w             0.0180000000000000\n",
      "Pr              0.710000000000000\n",
      "R_mol           8.31447200000000\n",
      "a_sh            2              \n",
      "c_pa            1010           \n",
      "d_p             0.0000250000000000000\n",
      "epsilon_l       1              \n",
      "g               9.81000000000000\n",
      "lambda_E        2.45000000000000e6\n",
      "sigm            5.67000000000000e-8\n"
     ]
    }
   ],
   "source": [
    "# Adding foil thickness to dictionary of general constants, cdict:\n",
    "cdict[d_p] = 25e-6   # Foil thickness was 25 um.\n",
    "dict_print(cdict)"
   ]
  },
  {
   "cell_type": "markdown",
   "metadata": {},
   "source": [
    "## Functions to read bump data and compute conductances"
   ]
  },
  {
   "cell_type": "code",
   "execution_count": 4,
   "metadata": {
    "collapsed": false
   },
   "outputs": [
    {
     "name": "stdout",
     "output_type": "stream",
     "text": [
      "CSV Version,1\r\n",
      "\n",
      "\"File name\",\"63_7_1a.rpt\"\r\n",
      "\n",
      "\"Title\",\"\"\r\n",
      "\n",
      "\"Measurement date\",\"8/19/2013\"\r\n",
      "\n",
      "\"Measurement time\",\"4:18:28 PM\"\r\n",
      "\n",
      "\"User mode\",\"Easy\"\r\n",
      "\n",
      "\"Objective lens\",\"Standard lens 10.0\",\"x\"\r\n",
      "\n",
      "\"NA\",\"0.300\"\r\n",
      "\n",
      "\"Size\",\"Standard\"\r\n",
      "\n",
      "\"Mode\",\"Surface profile\"\r\n",
      "\n"
     ]
    }
   ],
   "source": [
    "fname =path_data+'63_7/63_7_1a_bump_a.csv'\n",
    "fh = open(fname)\n",
    "for i in srange(10):\n",
    "    row = fh.readline()\n",
    "    print row"
   ]
  },
  {
   "cell_type": "code",
   "execution_count": 5,
   "metadata": {
    "collapsed": false
   },
   "outputs": [],
   "source": [
    "def stat_bump(fname, delimiter1=','):\n",
    "    '''\n",
    "    Returns statistics of holes in image, given name of csv file\n",
    "    '''\n",
    "\n",
    "    # Determining number of rows to skip\n",
    "    with open(fname, 'U') as fh:\n",
    "        data = []\n",
    "        # Counting rows to be skipped\n",
    "        skiplines = 0\n",
    "        dataline = fh.readline()\n",
    "        #print dataline\n",
    "        while(len(dataline)<100):\n",
    "            skiplines = skiplines+1\n",
    "            dataline = fh.readline()\n",
    "            if len(dataline) == 0:\n",
    "                return 'empty line encountered'\n",
    "\n",
    "    #print skiplines\n",
    "\n",
    "    # Reading whole file\n",
    "    with open(fname, 'rb') as fh:\n",
    "        reader = csv.reader(fh, delimiter=delimiter1, quotechar='\"')\n",
    "        for i in srange(skiplines):\n",
    "            reader.next()  \n",
    "\n",
    "\n",
    "        # Creating list of column names\n",
    "        nameslist = reader.next()\n",
    "        #print nameslist[0]\n",
    "        ncols = len(nameslist)\n",
    "        nameslist1 = []\n",
    "        name = \"\"\n",
    "        for i in srange(ncols):\n",
    "            if nameslist[i]!= \"\":\n",
    "                name = nameslist[i]\n",
    "            else:\n",
    "                name = \"unit_\"+name\n",
    "            nameslist1.append(name)\n",
    "        formatslist = []\n",
    "        for name in nameslist1:\n",
    "            fmt = 'f8'\n",
    "            if (name[0:4] == 'unit') or (name[0:4] == 'Comm'):\n",
    "                fmt = 'S100'\n",
    "            formatslist.append(fmt)  \n",
    "\n",
    "        # Saving data in array\n",
    "        data = []\n",
    "        for row in reader:\n",
    "            if len(row) != len(nameslist1):\n",
    "                break\n",
    "            data.append(tuple(row))  \n",
    "\n",
    "    try:    data = np.array(data,dtype = zip(nameslist1,formatslist))\n",
    "    except:\n",
    "        print data[0]\n",
    "        print nameslist1\n",
    "        print formatslist\n",
    "    \n",
    "    # Removing artefacts (areas smaller than 1% of median)\n",
    "    med_area = np.median(data['Surface area'])\n",
    "    pos = np.where(data['Surface area'] < med_area/100.)\n",
    "    data1 = np.delete(data,pos)\n",
    "    data = data1.copy()\n",
    "\n",
    "    porosity = sum(data['Area ratio'])\n",
    "    area_av = np.average(data['C.S. area'])\n",
    "    density_mm = (porosity/100.)/(area_av*(1e-6^2))*0.001^2   # number of pores per mm2\n",
    "\n",
    "    area_std = np.std(data['C.S. area'])\n",
    "    perimeter_av = np.average(data['Perimeter'])\n",
    "    perimeter_std = np.std(data['Perimeter'])\n",
    "    area_perimeter_av = np.average(data['C.S. area']/data['Perimeter'])\n",
    "    area_perimeter_std = np.std(data['C.S. area']/data['Perimeter'])\n",
    "    diameter_av = np.average(data['Circle equivalent dia'])\n",
    "    diameter_std = np.std(data['Circle equivalent dia'])\n",
    "    #print 'area based on diameter_av: ' + str(((diameter_av/2)^2*pi).n())\n",
    "    #print 'C.S. area: ' + str(area_av)\n",
    "\n",
    "    resdict = {}\n",
    "    list_props = ['porosity', 'area_av', 'density_mm', 'area_std', 'perimeter_av', 'perimeter_std', 'area_perimeter_av', 'area_perimeter_std', 'diameter_av', 'diameter_std']\n",
    "    for dummy in list_props:\n",
    "        resdict[dummy] = eval(dummy)\n",
    "    return resdict"
   ]
  },
  {
   "cell_type": "code",
   "execution_count": 6,
   "metadata": {
    "collapsed": false
   },
   "outputs": [],
   "source": [
    "def gsv_bump(vdict_in, fname, delimiter1=','):\n",
    "    # Standard values\n",
    "    vdict = cdict.copy()\n",
    "    vdict[T_a] = 300.     # Assumption\n",
    "    vdict[P_a] = 101325\n",
    "    vdict[k_dv] = 1e-3\n",
    "    vdict[D_va] = eq_Dva.rhs().subs(vdict)\n",
    "    vdict.update(vdict_in)  # updating all entries occurring in vdict_in\n",
    "    example1 = stat_bump(fname, delimiter1 = delimiter1)\n",
    "    \n",
    "    try:\n",
    "        vdict[F_p] = example1['porosity']/100.\n",
    "        vdict[A_p] = example1['area_av']*(1e-6^2)\n",
    "        vdict[n_p] = (F_p/A_p).subs(vdict)  # For regular pore distribution we can derive the pore density from porosity and pore area\n",
    "        vdict[s_p] = eq_sp_np.rhs().subs(vdict)\n",
    "        rp_keyence = example1['diameter_av']/2*1e-6  \n",
    "        vdict[r_p] = eq_rp_Ap.rhs().subs(vdict).n()\n",
    "        rperror = abs(rp_keyence - vdict[r_p])/rp_keyence\n",
    "        if rperror > 0.05:\n",
    "            print 'mismatch by ' + str(rperror*100)+ '%! rp_keyence: ' + str(rp_keyence) + '; r_p:' + str(vdict[r_p])\n",
    "        \n",
    "    except Exception, e:\n",
    "        print e\n",
    "        vdict[g_sw] = NaN\n",
    "        return vdict\n",
    "\n",
    "    gsp = eq_gsw_gswmol_iso.rhs().subs(g_swmol == 1/eq_rsp_rp.rhs()).subs(vdict).n()\n",
    "    gsw = eq_gsw_gswmol_iso.rhs().subs(eq_gswmol.subs(eq_rend_rp, eq_rsp_rp, eq_rvs_B)).subs(vdict).n()\n",
    "    gsw_r0 = eq_gsw_gswmol_iso.rhs().subs(eq_gswmol.subs(r_end==0, eq_rsp_rp, eq_rvs_B)).subs(vdict).n()\n",
    "    #gsw_r0_S = eq_gsw_gswmol_iso.rhs().subs(eq_gswmol.subs(r_end==0, eq_rsp_rp, eq_rvs_S)).subs(vdict).n()\n",
    "\n",
    "    # Now computing gsw assuming 50% bigger stomatal area\n",
    "    vdict1 = vdict.copy()\n",
    "    vdict1[A_p] = 1.5*vdict[A_p]\n",
    "    vdict1[r_p] = eq_rp_Ap.rhs().subs(vdict1)\n",
    "    gsp50 = eq_gsw_gswmol_iso.rhs().subs(g_swmol == 1/eq_rsp_rp.rhs()).subs(vdict1).n()\n",
    "    gsw50 = eq_gsw_gswmol_iso.rhs().subs(eq_gswmol.subs(eq_rend_rp, eq_rsp_rp, eq_rvs_B)).subs(vdict1).n()\n",
    "    gsw_r050 = eq_gsw_gswmol_iso.rhs().subs(eq_gswmol.subs(r_end==0, eq_rsp_rp, eq_rvs_B)).subs(vdict1).n()    \n",
    "    \n",
    "    #vdict[g_sw] = gsw\n",
    "    \n",
    "    resdict = {}\n",
    "    list_props = ['fname', 'gsp', 'gsw', 'gsw_r0', 'gsp50', 'gsw50', 'gsw_r050']\n",
    "    \n",
    "    for dummy in list_props:\n",
    "        resdict[dummy] = eval(dummy)\n",
    "    for dummy in example1.keys():\n",
    "        resdict[str(dummy)] = example1[dummy]\n",
    "    resdict['vdict'] = vdict\n",
    "    return resdict"
   ]
  },
  {
   "cell_type": "code",
   "execution_count": 7,
   "metadata": {
    "collapsed": false
   },
   "outputs": [
    {
     "name": "stdout",
     "output_type": "stream",
     "text": [
      "area_av         1278.07271087  \n",
      "area_perim      1.02329878749  \n",
      "area_perim      8.10321519641  \n",
      "area_std        362.405791974  \n",
      "density_mm      29.8887533355  \n",
      "diameter_a      39.8975434783  \n",
      "diameter_s      5.95639748961  \n",
      "fname           data/perforated_foils/35_4/new_analysis/35_2c_matte_10x_bump.csv\n",
      "gsp             0.0376151390555144\n",
      "gsp50           0.0564227085832717\n",
      "gsw             0.0172677642706621\n",
      "gsw50           0.0233278616128606\n",
      "gsw_r0          0.0243512590402737\n",
      "gsw_r050        0.0343492611501317\n",
      "perimeter_      31.8588941464  \n",
      "perimeter_      155.294034783  \n",
      "porosity        3.82           \n",
      "vdict           {g: 9.81000000000000, k_dv: 0.00100000000000000, c_pa: 1010, r_p: 0.0000201698581832273, Pr: 0.710000000000000, d_p: 0.0000250000000000000, T_l: 300, A_p: 1.2780727108695653e-09, sigm: 5.67000000000000e-8, s_p: 0.00018291364303436687, lambda_E: 2.45000000000000e6, M_w: 0.0180000000000000, F_p: 0.038199999999999998, R_mol: 8.31447200000000, a_sh: 2, n_p: 29888753.335488852, M_N2: 0.0280000000000000, D_va: 0.0000251000000000000, T_a: 300.000000000000, epsilon_l: 1, P_a: 101325, M_O2: 0.0320000000000000}\n"
     ]
    }
   ],
   "source": [
    "# Test\n",
    "vdict1 = {}\n",
    "vdict1[T_l] = 300\n",
    "dict_print(gsv_bump(vdict1, path_data + '35_4/new_analysis/35_2c_matte_10x_bump.csv', delimiter1=';'))"
   ]
  },
  {
   "cell_type": "markdown",
   "metadata": {},
   "source": [
    "<h1>Results</h1>"
   ]
  },
  {
   "cell_type": "code",
   "execution_count": 8,
   "metadata": {
    "collapsed": false
   },
   "outputs": [],
   "source": [
    "# Creating named array for storing data of bump analyses\n",
    "pathname = path_data + '63_7/'\n",
    "fname = '63_7_1a_bump_a'\n",
    "result_dict = gsv_bump(vdict1, pathname + fname + '.csv')\n",
    "\n",
    "# Creating named array for storing data\n",
    "names = [str(name) for name in result_dict.keys()]\n",
    "formats = ['f4' for i in srange(len(names))]\n",
    "for i in srange(len(names)):\n",
    "    if names[i] == 'fname':\n",
    "        formats[i] = 'S200'\n",
    "    if names[i] == 'vdict':\n",
    "        formats[i] = 'object'\n",
    "           \n",
    "results_array_b = np.array([],dtype = zip(names, formats))\n",
    "\n",
    "# Arrays for computations with d_p=0\n",
    "results_array_b0 = np.array([],dtype = zip(names, formats))\n"
   ]
  },
  {
   "cell_type": "code",
   "execution_count": 9,
   "metadata": {
    "collapsed": false
   },
   "outputs": [],
   "source": [
    "def fun_append(results_array, result_dict, print_names = ['density_mm', 'area_av', 'diameter_av', 'radius_area_av', 'gsp', 'gsp50', 'gsw', 'gsw50', 'gsw_r0', 'gsw_r050']):\n",
    "    '''\n",
    "    Append content of results_dict to results_array in the order of names in results_array.\n",
    "    results_array.dtype.names must be equal to result_dict.keys()\n",
    "    Example:\n",
    "        sage: fun_append(results_array, result_dict)\n",
    "    '''\n",
    "    if not list(results_array.dtype.names) == result_dict.keys():\n",
    "        print sorted(results_array.dtype.names)\n",
    "        print sorted(result_dict.keys())\n",
    "        return 'dictionary does not have the same entries as array'\n",
    "    dtype1 = results_array.dtype\n",
    "    try: \n",
    "        line1 = np.array(tuple([result_dict[name1] for name1 in dtype1.names]), dtype = dtype1)\n",
    "        outarray = np.append(results_array, line1)\n",
    "    except Exception, e:\n",
    "        print e\n",
    "        print 'dtype: ' + str(dtype1)\n",
    "        print 'result_dict: ' + str(result_dict)\n",
    "    for name1 in print_names:\n",
    "        try:    print name1 + ': ' + str(outarray[name1][-1])\n",
    "        except: pass\n",
    "    return outarray"
   ]
  },
  {
   "cell_type": "code",
   "execution_count": 10,
   "metadata": {
    "collapsed": false
   },
   "outputs": [
    {
     "name": "stdout",
     "output_type": "stream",
     "text": [
      "number of holes per mm2: 64.29324922677597\n",
      "density_mm: 64.2933\n",
      "area_av: 1153.93\n",
      "diameter_av: 38.2712\n",
      "gsp: 0.0730541\n",
      "gsp50: 0.109581\n",
      "gsw: 0.0350147\n",
      "gsw50: 0.0476831\n",
      "gsw_r0: 0.0492183\n",
      "gsw_r050: 0.0702128\n"
     ]
    }
   ],
   "source": [
    "# Test\n",
    "pathname = path_data + '63_7/'\n",
    "fname = '63_7_1a_bump_a'\n",
    "vdict1 = cdict.copy()\n",
    "result_dict = gsv_bump(vdict1, pathname + fname + '.csv')\n",
    "print 'number of holes per mm2: ' + str(result_dict['vdict'][n_p]*0.001^2)\n",
    "blah = fun_append(results_array_b, result_dict)"
   ]
  },
  {
   "cell_type": "code",
   "execution_count": 11,
   "metadata": {
    "collapsed": false
   },
   "outputs": [],
   "source": [
    "def fun_printminmax(results_array, varname, pathname, fnameconds = [], list_files = None, print1 = True):\n",
    "    '''\n",
    "    Finds all entries in pathname that contain all elements of\n",
    "    fnameconds and returns min and max of varname. Prepend 'vdict_' to varname\n",
    "    if it is stored in vdict.\n",
    "    '''\n",
    "\n",
    "    poslist = []\n",
    "    for i in srange(len(results_array)):\n",
    "        if list_files: \n",
    "            if any(s in results_array['fname'][i] for s in list_files):\n",
    "                poslist.append(i)            \n",
    "        else:\n",
    "            fname = results_array['fname'][i]\n",
    "            if fname[0:len(pathname)] == pathname:\n",
    "                fnameconds1 = [True]\n",
    "                for cond in fnameconds:\n",
    "                    fnameconds1.append(cond in fname)\n",
    "                    #print fname\n",
    "                    #print fnameconds1\n",
    "                if False not in fnameconds1:\n",
    "                    #print 'true!'\n",
    "                    poslist.append(i)\n",
    "\n",
    "    if varname[0:6] == 'vdict_':\n",
    "        listval = [results_array['vdict'][pos1][var(varname[6:])] for pos1 in poslist]\n",
    "        minval = min(listval)\n",
    "        maxval = max(listval)      \n",
    "    else:   \n",
    "        minval = min(results_array[varname][poslist])\n",
    "        maxval = max(results_array[varname][poslist])\n",
    "    if print1 == True:\n",
    "        print varname + ': ' + str((minval, maxval))\n",
    "    return (minval, maxval)"
   ]
  },
  {
   "cell_type": "code",
   "execution_count": 12,
   "metadata": {
    "collapsed": false
   },
   "outputs": [
    {
     "name": "stdout",
     "output_type": "stream",
     "text": [
      "['63_7_1a_bump_a.csv', '63_7_1b_bump_a.csv', '63_7_1c_bump_a.csv', '63_7_2a_bump_a.csv', '63_7_2c_bump_a.csv']\n",
      "number of holes per mm2: 64.9584048980769\n",
      "min/max BUMP:\n",
      "density_mm: (64.293251, 64.987022)\n",
      "area_av: (1104.2205, 1240.043)\n",
      "diameter_av: (37.327999, 39.672829)\n",
      "gsp: (0.070661321, 0.079208426)\n",
      "gsp50: (0.10599198, 0.11881264)\n",
      "gsw: (0.034224734, 0.03735587)\n",
      "gsw50: (0.046637036, 0.050835587)\n",
      "gsw_r0: (0.047885068, 0.052923851)\n",
      "gsw_r050: (0.068322606, 0.075518593)\n",
      "\n",
      "min/max BUMP at d_p = 0:\n",
      "gsp: (1766533.0, 1980210.6)\n",
      "gsp50: (2649799.5, 2970316.0)\n",
      "gsw: (0.06637188, 0.070698187)\n",
      "gsw50: (0.083281219, 0.088852197)\n",
      "gsw_r0: (0.1485592, 0.15948573)\n",
      "gsw_r050: (0.19224234, 0.20724706)\n"
     ]
    }
   ],
   "source": [
    "def fun_calc_all(pathname = 'data/', \\\n",
    "                 list_fnames_b = None, \\\n",
    "                 list_printnames = ['density_mm', 'area_av', 'diameter_av', 'radius_area_av', 'gsp', 'gsp50', 'gsw', 'gsw50','gsw_r0', 'gsw_r050'], \\\n",
    "                 append1 = True, delimiter1 = \",\", vdict1 = False):\n",
    "    '''\n",
    "    Runs all calculations, appends to arrays and prints summaries. \n",
    "    Boundary conditions are taken from cdict, unless provided as vdict1.\n",
    "    '''\n",
    "    global results_array_b, results_array_b0\n",
    "   \n",
    "    out_results_array_b = results_array_b.copy()\n",
    "    out_results_array_b0 = results_array_b0.copy()\n",
    "    \n",
    "    if list_fnames_b is None:  # finding all csv files with \"bump\" in their names\n",
    "        list_files = os.listdir(pathname)\n",
    "        list_fnames_b1 =[s for s in list_files if \"csv\" in s and \"bump\" in s]\n",
    "        list_fnames_b = sorted(list_fnames_b1)\n",
    "    print list_fnames_b\n",
    "\n",
    "    for fname in list_fnames_b:\n",
    "        if vdict1 is False:\n",
    "            vdict2 = cdict.copy()\n",
    "        else:\n",
    "            vdict2 = vdict1.copy()\n",
    "            \n",
    "        if fname[-4:] != '.csv':\n",
    "            fullpath = pathname + fname + '.csv'\n",
    "        else:\n",
    "            fullpath = pathname + fname\n",
    "        result_dict = gsv_bump(vdict2, fullpath, delimiter1 = delimiter1)\n",
    "        #print 'number of holes per mm2: ' + str(result_dict['vdict'][n_p]*0.001^2)\n",
    "        if NaN not in result_dict.values():\n",
    "            out_results_array_b = fun_append(out_results_array_b, result_dict, print_names = [])\n",
    "\n",
    "        # Same for d_p = 0\n",
    "        vdict2[d_p] = 1e-12\n",
    "        result_dict = gsv_bump(vdict2, fullpath, delimiter1 = delimiter1)\n",
    "        #print 'number of holes per mm2: ' + str(result_dict['vdict'][n_p]*0.001^2)\n",
    "        if NaN not in result_dict.values():\n",
    "            out_results_array_b0 = fun_append(out_results_array_b0, result_dict, print_names = [])    \n",
    "            \n",
    "    print 'number of holes per mm2: ' + str(result_dict['vdict'][n_p]*0.001^2)\n",
    "    print 'min/max BUMP:'\n",
    "    for varname in list_printnames:\n",
    "        try: blah = fun_printminmax(out_results_array_b, varname, pathname, list_files = list_fnames_b);\n",
    "        except: pass\n",
    "\n",
    "    print ''\n",
    "    print 'min/max BUMP at d_p = 0:'\n",
    "    for varname in list_printnames[4:]:\n",
    "        try: blah = fun_printminmax(out_results_array_b0, varname, pathname, list_files = list_fnames_b);\n",
    "        except: pass\n",
    "\n",
    "    if append1:\n",
    "        results_array_b = out_results_array_b\n",
    "        results_array_b0 = out_results_array_b0\n",
    "        \n",
    "pathname1 = path_data + '63_7/'\n",
    "fun_calc_all(pathname = pathname1, append1 = False)"
   ]
  },
  {
   "cell_type": "markdown",
   "metadata": {},
   "source": [
    "<h2>7 holes per mm2</h2>"
   ]
  },
  {
   "cell_type": "code",
   "execution_count": 13,
   "metadata": {
    "collapsed": false,
    "scrolled": false
   },
   "outputs": [
    {
     "name": "stdout",
     "output_type": "stream",
     "text": [
      "['7_1a_bump_a.csv', '7_1b_bump_a.csv', '7_1c_bump_a.csv', '7_2a_bump_a.csv', '7_2b_bump_a.csv']\n",
      "number of holes per mm2: 7.805322698787334\n",
      "min/max BUMP:\n",
      "density_mm: (7.7868133, 7.8053226)\n",
      "area_av: (1040.2625, 1279.8959)\n",
      "diameter_av: (36.163334, 40.327499)\n",
      "gsp: (0.0079858322, 0.0098370481)\n",
      "gsp50: (0.011978748, 0.014755572)\n",
      "gsw: (0.0037912941, 0.0044257501)\n",
      "gsw50: (0.0051085786, 0.005937987)\n",
      "gsw_r0: (0.0052035498, 0.0061923591)\n",
      "gsw_r050: (0.0072833379, 0.0086374423)\n",
      "\n",
      "min/max BUMP at d_p = 0:\n",
      "gsp: (199645.8, 245926.2)\n",
      "gsp50: (299468.69, 368889.31)\n",
      "gsw: (0.0072181099, 0.008045448)\n",
      "gsw50: (0.0089072585, 0.0099367779)\n",
      "gsw_r0: (0.014935465, 0.016713232)\n",
      "gsw_r050: (0.018580968, 0.020831596)\n"
     ]
    }
   ],
   "source": [
    "pathname1 = path_data + '7/'\n",
    "fun_calc_all(pathname = pathname1, delimiter1 = \",\")"
   ]
  },
  {
   "cell_type": "code",
   "execution_count": 14,
   "metadata": {
    "collapsed": false
   },
   "outputs": [
    {
     "name": "stdout",
     "output_type": "stream",
     "text": [
      "['7_3a_matte_bump.csv', '7_3a_shiny_bump.csv', '7_3b_matte_bump.csv', '7_3b_shiny_bump.csv', '7_3c_matte_bump.csv', '7_3c_shiny_bump.csv']\n",
      "number of holes per mm2: 7.797169108044727\n",
      "min/max BUMP:\n",
      "density_mm: (7.15868, 7.8058972)\n",
      "area_av: (889.82886, 1886.3206)\n",
      "diameter_av: (33.438446, 48.809765)\n",
      "gsp: (0.006272472, 0.014474936)\n",
      "gsp50: (0.0094087087, 0.021712404)\n",
      "gsw: (0.0030942585, 0.0058542057)\n",
      "gsw50: (0.0041823331, 0.0077960044)\n",
      "gsw_r0: (0.0041860864, 0.0085008573)\n",
      "gsw_r050: (0.0058728051, 0.011785813)\n",
      "\n",
      "min/max BUMP at d_p = 0:\n",
      "gsp: (156811.8, 361873.41)\n",
      "gsp50: (235217.7, 542810.06)\n",
      "gsw: (0.006106779, 0.0098297065)\n",
      "gsw50: (0.0075291856, 0.012163347)\n",
      "gsw_r0: (0.012584971, 0.02059721)\n",
      "gsw_r050: (0.015626986, 0.025779074)\n"
     ]
    }
   ],
   "source": [
    "pathname1 = path_data + '7/new_analysis/'\n",
    "fun_calc_all(pathname = pathname1, delimiter1 = \";\")"
   ]
  },
  {
   "cell_type": "markdown",
   "metadata": {},
   "source": [
    "<h2>35.4 holes/mm2</h2>"
   ]
  },
  {
   "cell_type": "code",
   "execution_count": 15,
   "metadata": {
    "collapsed": false
   },
   "outputs": [
    {
     "name": "stdout",
     "output_type": "stream",
     "text": [
      "['35_4_1a_bump_a.csv', '35_4_1b_bump_a.csv', '35_4_2a_bump_a.csv', '35_4_2b_bump_a.csv', '35_4_2c_bump_a.csv']\n",
      "number of holes per mm2: 31.165016777105922\n",
      "min/max BUMP:\n",
      "density_mm: (29.87863, 38.201073)\n",
      "area_av: (1025.1473, 1321.1671)\n",
      "diameter_av: (35.967609, 40.90979)\n",
      "gsp: (0.03016104, 0.04969728)\n",
      "gsp50: (0.045241561, 0.07454592)\n",
      "gsw: (0.014615324, 0.022749657)\n",
      "gsw50: (0.019816091, 0.030777043)\n",
      "gsw_r0: (0.020159025, 0.032265101)\n",
      "gsw_r050: (0.028489189, 0.045647252)\n",
      "\n",
      "min/max BUMP at d_p = 0:\n",
      "gsp: (754026.0, 1242432.0)\n",
      "gsp50: (1131039.0, 1863648.0)\n",
      "gsw: (0.028355937, 0.041955315)\n",
      "gsw50: (0.03526035, 0.052418593)\n",
      "gsw_r0: (0.060789455, 0.091984354)\n",
      "gsw_r050: (0.076938085, 0.11774994)\n"
     ]
    }
   ],
   "source": [
    "pathname1 = path_data + '35_4/'\n",
    "fun_calc_all(pathname = pathname1, delimiter1 = \",\")"
   ]
  },
  {
   "cell_type": "code",
   "execution_count": 16,
   "metadata": {
    "collapsed": false
   },
   "outputs": [
    {
     "name": "stdout",
     "output_type": "stream",
     "text": [
      "['35_2a_matte_10x_bump.csv', '35_2a_matte_20x_bump.csv', '35_2a_shiny_10x_bump.csv', '35_2a_shiny_20x_bump.csv', '35_2b_matte_10x_bump.csv', '35_2b_matte_20x_bump.csv', '35_2b_shiny_10x_bump.csv', '35_2b_shiny_20x_bump.csv', '35_2c_matte_10x_bump.csv', '35_2c_matte_20x_bump.csv', '35_2c_shiny_10x_bump.csv', '35_2c_shiny_20x_bump.csv']\n",
      "number of holes per mm2: 31.226058174159085\n",
      "min/max BUMP:\n",
      "density_mm: (27.281227, 33.849636)\n",
      "area_av: (709.81348, 1572.725)\n",
      "diameter_av: (29.252899, 44.566666)\n",
      "gsp: (0.021810872, 0.048358101)\n",
      "gsp50: (0.032716308, 0.072537154)\n",
      "gsw: (0.011516015, 0.02108092)\n",
      "gsw50: (0.015721614, 0.028402165)\n",
      "gsw_r0: (0.015341002, 0.030394502)\n",
      "gsw_r050: (0.021772785, 0.042844273)\n",
      "\n",
      "min/max BUMP at d_p = 0:\n",
      "gsp: (545271.81, 1208952.5)\n",
      "gsp50: (817907.75, 1813428.8)\n",
      "gsw: (0.024398038, 0.037474178)\n",
      "gsw50: (0.030265512, 0.046771899)\n",
      "gsw_r0: (0.051716745, 0.081822142)\n",
      "gsw_r050: (0.065091029, 0.10466488)\n"
     ]
    }
   ],
   "source": [
    "pathname1 = path_data + '35_4/new_analysis/'\n",
    "fun_calc_all(pathname = pathname1, delimiter1 = \";\")"
   ]
  },
  {
   "cell_type": "markdown",
   "metadata": {},
   "source": [
    "<h2>63.7 holes per mm1</h2>"
   ]
  },
  {
   "cell_type": "code",
   "execution_count": 17,
   "metadata": {
    "collapsed": false
   },
   "outputs": [
    {
     "name": "stdout",
     "output_type": "stream",
     "text": [
      "['63_7_1a_bump_a.csv', '63_7_1b_bump_a.csv', '63_7_1c_bump_a.csv', '63_7_2a_bump_a.csv', '63_7_2c_bump_a.csv']\n",
      "number of holes per mm2: 64.9584048980769\n",
      "min/max BUMP:\n",
      "density_mm: (64.293251, 64.987022)\n",
      "area_av: (1104.2205, 1240.043)\n",
      "diameter_av: (37.327999, 39.672829)\n",
      "gsp: (0.070661321, 0.079208426)\n",
      "gsp50: (0.10599198, 0.11881264)\n",
      "gsw: (0.034224734, 0.03735587)\n",
      "gsw50: (0.046637036, 0.050835587)\n",
      "gsw_r0: (0.047885068, 0.052923851)\n",
      "gsw_r050: (0.068322606, 0.075518593)\n",
      "\n",
      "min/max BUMP at d_p = 0:\n",
      "gsp: (1766533.0, 1980210.6)\n",
      "gsp50: (2649799.5, 2970316.0)\n",
      "gsw: (0.06637188, 0.070698187)\n",
      "gsw50: (0.083281219, 0.088852197)\n",
      "gsw_r0: (0.1485592, 0.15948573)\n",
      "gsw_r050: (0.19224234, 0.20724706)\n"
     ]
    }
   ],
   "source": [
    "pathname1 = path_data + '63_7/'\n",
    "fun_calc_all(pathname = pathname1, delimiter1 = \",\")"
   ]
  },
  {
   "cell_type": "code",
   "execution_count": 18,
   "metadata": {
    "collapsed": false
   },
   "outputs": [
    {
     "name": "stdout",
     "output_type": "stream",
     "text": [
      "['63_3a_matte_10x_bump.csv', '63_3a_matte_20x_bump.csv', '63_3a_shiny_10x_bump.csv', '63_3a_shiny_20x_bump.csv', '63_3b_matte_10x_bump.csv', '63_3b_matte_20x_bump.csv', '63_3b_shiny_10x_bump.csv', '63_3b_shiny_20x_bump.csv', '63_3c_matte_10x_bump.csv', '63_3c_matte_20x_bump.csv', '63_3c_shiny_10x_bump.csv', '63_3c_shiny_20x_bump.csv']\n",
      "number of holes per mm2: 62.4827827733611\n",
      "min/max BUMP:\n",
      "density_mm: (52.061836, 68.828247)\n",
      "area_av: (858.94696, 1150.6147)\n",
      "diameter_av: (32.76091, 38.138435)\n",
      "gsp: (0.046231173, 0.077386752)\n",
      "gsp50: (0.069346756, 0.11608012)\n",
      "gsw: (0.023610478, 0.037254516)\n",
      "gsw50: (0.032237127, 0.05077536)\n",
      "gsw_r0: (0.032135971, 0.052347913)\n",
      "gsw_r050: (0.045775522, 0.074764237)\n",
      "\n",
      "min/max BUMP at d_p = 0:\n",
      "gsp: (1155779.2, 1934668.8)\n",
      "gsp50: (1733669.0, 2902003.0)\n",
      "gsw: (0.04825405, 0.071837664)\n",
      "gsw50: (0.060241506, 0.090253912)\n",
      "gsw_r0: (0.10540348, 0.16179004)\n",
      "gsw_r050: (0.13467191, 0.21005583)\n"
     ]
    }
   ],
   "source": [
    "pathname1 = path_data + '63_7/new_analysis/'\n",
    "fun_calc_all(pathname = pathname1, delimiter1 = \";\")"
   ]
  },
  {
   "cell_type": "markdown",
   "metadata": {},
   "source": [
    "# Summary"
   ]
  },
  {
   "cell_type": "code",
   "execution_count": 19,
   "metadata": {
    "collapsed": false
   },
   "outputs": [
    {
     "data": {
      "text/plain": [
       "array(['data/perforated_foils/7/7_1a_bump_a.csv',\n",
       "       'data/perforated_foils/7/7_1b_bump_a.csv',\n",
       "       'data/perforated_foils/7/7_1c_bump_a.csv',\n",
       "       'data/perforated_foils/7/7_2a_bump_a.csv',\n",
       "       'data/perforated_foils/7/7_2b_bump_a.csv',\n",
       "       'data/perforated_foils/7/new_analysis/7_3a_matte_bump.csv',\n",
       "       'data/perforated_foils/7/new_analysis/7_3a_shiny_bump.csv',\n",
       "       'data/perforated_foils/7/new_analysis/7_3b_matte_bump.csv',\n",
       "       'data/perforated_foils/7/new_analysis/7_3b_shiny_bump.csv',\n",
       "       'data/perforated_foils/7/new_analysis/7_3c_matte_bump.csv',\n",
       "       'data/perforated_foils/7/new_analysis/7_3c_shiny_bump.csv',\n",
       "       'data/perforated_foils/35_4/35_4_1a_bump_a.csv',\n",
       "       'data/perforated_foils/35_4/35_4_1b_bump_a.csv',\n",
       "       'data/perforated_foils/35_4/35_4_2a_bump_a.csv',\n",
       "       'data/perforated_foils/35_4/35_4_2b_bump_a.csv',\n",
       "       'data/perforated_foils/35_4/35_4_2c_bump_a.csv',\n",
       "       'data/perforated_foils/35_4/new_analysis/35_2a_matte_10x_bump.csv',\n",
       "       'data/perforated_foils/35_4/new_analysis/35_2a_matte_20x_bump.csv',\n",
       "       'data/perforated_foils/35_4/new_analysis/35_2a_shiny_10x_bump.csv',\n",
       "       'data/perforated_foils/35_4/new_analysis/35_2a_shiny_20x_bump.csv',\n",
       "       'data/perforated_foils/35_4/new_analysis/35_2b_matte_10x_bump.csv',\n",
       "       'data/perforated_foils/35_4/new_analysis/35_2b_matte_20x_bump.csv',\n",
       "       'data/perforated_foils/35_4/new_analysis/35_2b_shiny_10x_bump.csv',\n",
       "       'data/perforated_foils/35_4/new_analysis/35_2b_shiny_20x_bump.csv',\n",
       "       'data/perforated_foils/35_4/new_analysis/35_2c_matte_10x_bump.csv',\n",
       "       'data/perforated_foils/35_4/new_analysis/35_2c_matte_20x_bump.csv',\n",
       "       'data/perforated_foils/35_4/new_analysis/35_2c_shiny_10x_bump.csv',\n",
       "       'data/perforated_foils/35_4/new_analysis/35_2c_shiny_20x_bump.csv',\n",
       "       'data/perforated_foils/63_7/63_7_1a_bump_a.csv',\n",
       "       'data/perforated_foils/63_7/63_7_1b_bump_a.csv',\n",
       "       'data/perforated_foils/63_7/63_7_1c_bump_a.csv',\n",
       "       'data/perforated_foils/63_7/63_7_2a_bump_a.csv',\n",
       "       'data/perforated_foils/63_7/63_7_2c_bump_a.csv',\n",
       "       'data/perforated_foils/63_7/new_analysis/63_3a_matte_10x_bump.csv',\n",
       "       'data/perforated_foils/63_7/new_analysis/63_3a_matte_20x_bump.csv',\n",
       "       'data/perforated_foils/63_7/new_analysis/63_3a_shiny_10x_bump.csv',\n",
       "       'data/perforated_foils/63_7/new_analysis/63_3a_shiny_20x_bump.csv',\n",
       "       'data/perforated_foils/63_7/new_analysis/63_3b_matte_10x_bump.csv',\n",
       "       'data/perforated_foils/63_7/new_analysis/63_3b_matte_20x_bump.csv',\n",
       "       'data/perforated_foils/63_7/new_analysis/63_3b_shiny_10x_bump.csv',\n",
       "       'data/perforated_foils/63_7/new_analysis/63_3b_shiny_20x_bump.csv',\n",
       "       'data/perforated_foils/63_7/new_analysis/63_3c_matte_10x_bump.csv',\n",
       "       'data/perforated_foils/63_7/new_analysis/63_3c_matte_20x_bump.csv',\n",
       "       'data/perforated_foils/63_7/new_analysis/63_3c_shiny_10x_bump.csv',\n",
       "       'data/perforated_foils/63_7/new_analysis/63_3c_shiny_20x_bump.csv'], \n",
       "      dtype='|S200')"
      ]
     },
     "execution_count": 19,
     "metadata": {},
     "output_type": "execute_result"
    }
   ],
   "source": [
    "results_array_b['fname']"
   ]
  },
  {
   "cell_type": "code",
   "execution_count": 20,
   "metadata": {
    "collapsed": false
   },
   "outputs": [
    {
     "name": "stdout",
     "output_type": "stream",
     "text": [
      "\n",
      "63_7\n",
      "orig. foils: \n",
      "density_mm: (64.293251, 64.987022)\n",
      "area_av: (1104.2205, 1240.043)\n",
      "diameter_av: (37.327999, 39.672829)\n",
      "gsw_r0(d_p = 25 um) = (0.047885068, 0.052923851)\n",
      "gsw_r0(d_p = 0 um) = (0.1485592, 0.15948573)\n",
      "gsw_r050(d_p = 25 um) = (0.068322606, 0.075518593)\n",
      "gsw_r050(d_p = 0 um) = (0.19224234, 0.20724706)\n",
      "\n",
      "shiny 10x: \n",
      "density_mm: (63.709175, 68.828247)\n",
      "area_av: (1120.4038, 1150.6147)\n",
      "diameter_av: (37.644753, 38.138435)\n",
      "gsw_r0(d_p = 25 um) = (0.047509938, 0.052347913)\n",
      "gsw_r050(d_p = 25 um) = (0.067765139, 0.074764237)\n",
      "\n",
      "matte 10x: \n",
      "density_mm: (54.543026, 64.330421)\n",
      "area_av: (925.5542, 1147.6686)\n",
      "diameter_av: (34.081692, 38.124378)\n",
      "gsw_r0(d_p = 25 um) = (0.034235783, 0.049013514)\n",
      "gsw_r050(d_p = 25 um) = (0.048746478, 0.069921151)\n",
      "\n",
      "shiny 20x: \n",
      "density_mm: (62.475056, 62.503353)\n",
      "area_av: (1083.3384, 1108.9226)\n",
      "diameter_av: (37.004349, 37.42487)\n",
      "gsw_r0(d_p = 25 um) = (0.045208666, 0.046136644)\n",
      "gsw_r050(d_p = 25 um) = (0.064463899, 0.065785736)\n",
      "\n",
      "matte 20x: \n",
      "density_mm: (52.061836, 57.278458)\n",
      "area_av: (858.94696, 1028.3925)\n",
      "diameter_av: (32.76091, 36.034859)\n",
      "gsw_r0(d_p = 25 um) = (0.032135971, 0.037515156)\n",
      "gsw_r050(d_p = 25 um) = (0.045775522, 0.053439446)\n",
      "\n",
      "35_4\n",
      "orig. foils: \n",
      "density_mm: (29.87863, 38.201073)\n",
      "area_av: (1025.1473, 1321.1671)\n",
      "diameter_av: (35.967609, 40.90979)\n",
      "gsw_r0(d_p = 25 um) = (0.020159025, 0.032265101)\n",
      "gsw_r0(d_p = 0 um) = (0.060789455, 0.091984354)\n",
      "gsw_r050(d_p = 25 um) = (0.028489189, 0.045647252)\n",
      "gsw_r050(d_p = 0 um) = (0.076938085, 0.11774994)\n",
      "\n",
      "shiny 10x: \n",
      "density_mm: (31.166979, 31.187178)\n",
      "area_av: (980.21057, 1532.7119)\n",
      "diameter_av: (35.066257, 43.951447)\n",
      "gsw_r0(d_p = 25 um) = (0.020267569, 0.029678006)\n",
      "gsw_r050(d_p = 25 um) = (0.028666789, 0.041838255)\n",
      "\n",
      "matte 10x: \n",
      "density_mm: (27.281227, 31.187218)\n",
      "area_av: (953.76941, 1323.9398)\n",
      "diameter_av: (34.648388, 40.975193)\n",
      "gsw_r0(d_p = 25 um) = (0.017265696, 0.026217556)\n",
      "gsw_r050(d_p = 25 um) = (0.024397366, 0.036991689)\n",
      "\n",
      "shiny 20x: \n",
      "density_mm: (31.226059, 33.849636)\n",
      "area_av: (813.89355, 1572.725)\n",
      "diameter_av: (31.847984, 44.566666)\n",
      "gsw_r0(d_p = 25 um) = (0.018769046, 0.030394502)\n",
      "gsw_r050(d_p = 25 um) = (0.026615968, 0.042844273)\n",
      "\n",
      "matte 20x: \n",
      "density_mm: (31.205381, 31.246841)\n",
      "area_av: (709.81348, 1423.6976)\n",
      "diameter_av: (29.252899, 42.158333)\n",
      "gsw_r0(d_p = 25 um) = (0.015341002, 0.027936177)\n",
      "gsw_r050(d_p = 25 um) = (0.021772785, 0.039399493)\n",
      "\n",
      "7\n",
      "orig. foils: \n",
      "density_mm: (7.7868133, 7.8053226)\n",
      "area_av: (1040.2625, 1279.8959)\n",
      "diameter_av: (36.163334, 40.327499)\n",
      "gsw_r0(d_p = 25 um) = (0.0052035498, 0.0061923591)\n",
      "gsw_r0(d_p = 0 um) = (0.014935465, 0.016713232)\n",
      "gsw_r050(d_p = 25 um) = (0.0072833379, 0.0086374423)\n",
      "gsw_r050(d_p = 0 um) = (0.018580968, 0.020831596)\n",
      "\n",
      "shiny: \n",
      "density_mm: (7.7929487, 7.7974844)\n",
      "area_av: (1376.1405, 1886.3206)\n",
      "diameter_av: (41.763393, 48.809765)\n",
      "gsw_r0(d_p = 25 um) = (0.0065683112, 0.0085008573)\n",
      "gsw_r050(d_p = 25 um) = (0.0091509772, 0.011785813)\n",
      "\n",
      "matte: \n",
      "density_mm: (7.15868, 7.8058972)\n",
      "area_av: (889.82886, 1231.1205)\n",
      "diameter_av: (33.438446, 39.524734)\n",
      "gsw_r0(d_p = 25 um) = (0.0041860864, 0.0059963213)\n",
      "gsw_r050(d_p = 25 um) = (0.0058728051, 0.0083693545)\n"
     ]
    }
   ],
   "source": [
    "list_names = ['63_7', '35_4']\n",
    "list_varnames1 = ['density_mm', 'area_av', 'diameter_av']\n",
    "list_varnames2 = ['gsw_r0', 'gsw_r050']\n",
    "\n",
    "results_array = results_array_b.copy()\n",
    "\n",
    "for name1 in list_names:\n",
    "    print ''\n",
    "    print name1\n",
    "    print 'orig. foils: '\n",
    "    pathname = 'data/perforated_foils/' + name1 + '/' + name1\n",
    "    for varname in list_varnames1:\n",
    "        blah = fun_printminmax(results_array, varname, pathname)\n",
    "    for varname in list_varnames2:\n",
    "        blah = fun_printminmax(results_array, varname, pathname, print1 = False)\n",
    "        print varname + '(d_p = ' + str(int(cdict[d_p]*1e6)) + ' um) = ' + str(blah)\n",
    "        blah = fun_printminmax(results_array_b0, varname, pathname, print1 = False)\n",
    "        print varname + '(d_p = 0 um) = ' + str(blah)\n",
    "    \n",
    "    print ''    \n",
    "    print 'shiny 10x: '\n",
    "    pathname = 'data/perforated_foils/' + name1 + '/new_analysis/'\n",
    "    for varname in list_varnames1:\n",
    "        blah = fun_printminmax(results_array, varname, pathname, fnameconds = ['10x', 'shiny'])\n",
    "    for varname in list_varnames2:\n",
    "        blah = fun_printminmax(results_array, varname, pathname, fnameconds = ['10x', 'shiny'], print1 = False)\n",
    "        print varname + '(d_p = ' + str(int(cdict[d_p]*1e6)) + ' um) = ' + str(blah)\n",
    "\n",
    "    print ''    \n",
    "    print 'matte 10x: '\n",
    "    pathname = 'data/perforated_foils/' + name1 + '/new_analysis/'\n",
    "    for varname in list_varnames1:\n",
    "        blah = fun_printminmax(results_array, varname, pathname, fnameconds = ['10x', 'matte'])\n",
    "    for varname in list_varnames2:\n",
    "        blah = fun_printminmax(results_array, varname, pathname, fnameconds = ['10x', 'matte'], print1 = False)\n",
    "        print varname + '(d_p = ' + str(int(cdict[d_p]*1e6)) + ' um) = ' + str(blah)\n",
    "\n",
    "    print ''    \n",
    "    print 'shiny 20x: '\n",
    "    pathname = 'data/perforated_foils/' + name1 + '/new_analysis/'\n",
    "    for varname in list_varnames1:\n",
    "        blah = fun_printminmax(results_array, varname, pathname, fnameconds = ['20x', 'shiny'])\n",
    "    for varname in list_varnames2:\n",
    "        blah = fun_printminmax(results_array, varname, pathname, fnameconds = ['20x', 'shiny'], print1 = False)\n",
    "        print varname + '(d_p = ' + str(int(cdict[d_p]*1e6)) + ' um) = ' + str(blah)\n",
    "    \n",
    "    print ''\n",
    "    print 'matte 20x: '\n",
    "    pathname = 'data/perforated_foils/' + name1 + '/new_analysis/'\n",
    "    for varname in list_varnames1:\n",
    "        blah = fun_printminmax(results_array, varname, pathname, fnameconds = ['20x', 'matte'])\n",
    "    for varname in list_varnames2:\n",
    "        blah = fun_printminmax(results_array, varname, pathname, fnameconds = ['20x', 'matte'], print1 = False)\n",
    "        print varname + '(d_p = ' + str(int(cdict[d_p]*1e6)) + ' um) = ' + str(blah)\n",
    "        \n",
    "name1 = '7'\n",
    "print ''\n",
    "print name1\n",
    "print 'orig. foils: '\n",
    "pathname = 'data/perforated_foils/' + name1 + '/' + name1\n",
    "for varname in list_varnames1:\n",
    "    blah = fun_printminmax(results_array, varname, pathname)\n",
    "for varname in list_varnames2:\n",
    "    blah = fun_printminmax(results_array, varname, pathname, print1 = False)\n",
    "    print varname + '(d_p = ' + str(int(cdict[d_p]*1e6)) + ' um) = ' + str(blah)\n",
    "    blah = fun_printminmax(results_array_b0, varname, pathname, print1 = False)\n",
    "    print varname + '(d_p = 0 um) = ' + str(blah)\n",
    "\n",
    "print ''    \n",
    "print 'shiny: '\n",
    "pathname = 'data/perforated_foils/' + name1 + '/new_analysis/'\n",
    "for varname in list_varnames1:\n",
    "    blah = fun_printminmax(results_array, varname, pathname, fnameconds = ['shiny'])\n",
    "for varname in list_varnames2:\n",
    "    blah = fun_printminmax(results_array, varname, pathname, fnameconds = ['shiny'], print1 = False)\n",
    "    print varname + '(d_p = ' + str(int(cdict[d_p]*1e6)) + ' um) = ' + str(blah)\n",
    "\n",
    "print ''    \n",
    "print 'matte: '\n",
    "pathname = 'data/perforated_foils/' + name1 + '/new_analysis/'\n",
    "for varname in list_varnames1:\n",
    "    blah = fun_printminmax(results_array, varname, pathname, fnameconds = ['matte'])\n",
    "for varname in list_varnames2:\n",
    "    blah = fun_printminmax(results_array, varname, pathname, fnameconds = ['matte'], print1 = False)\n",
    "    print varname + '(d_p = ' + str(int(cdict[d_p]*1e6)) + ' um) = ' + str(blah)"
   ]
  },
  {
   "cell_type": "markdown",
   "metadata": {},
   "source": [
    "## Summary for Table 1 in Schymanski et al. (2016, HESSD)"
   ]
  },
  {
   "cell_type": "code",
   "execution_count": 21,
   "metadata": {
    "collapsed": false
   },
   "outputs": [
    {
     "name": "stdout",
     "output_type": "stream",
     "text": [
      "\n",
      "63_7\n",
      "density_mm: (52.061836, 68.828247)\n",
      "area_av: (858.94696, 1240.043)\n",
      "diameter_av: (32.76091, 39.672829)\n",
      "gsw_r0(d_p = 25 um) = (0.032135971, 0.052923851)\n",
      "gsw_r050(d_p = 25 um) = (0.045775522, 0.075518593)\n",
      "\n",
      "35_4\n",
      "density_mm: (27.281227, 38.201073)\n",
      "area_av: (709.81348, 1572.725)\n",
      "diameter_av: (29.252899, 44.566666)\n",
      "gsw_r0(d_p = 25 um) = (0.015341002, 0.032265101)\n",
      "gsw_r050(d_p = 25 um) = (0.021772785, 0.045647252)\n",
      "\n",
      "7\n",
      "density_mm: (7.15868, 7.8058972)\n",
      "area_av: (889.82886, 1886.3206)\n",
      "diameter_av: (33.438446, 48.809765)\n",
      "gsw_r0(d_p = 25 um) = (0.0041860864, 0.0085008573)\n",
      "gsw_r050(d_p = 25 um) = (0.0058728051, 0.011785813)\n"
     ]
    }
   ],
   "source": [
    "list_names = ['63_7', '35_4', '7']\n",
    "list_varnames1 = ['density_mm', 'area_av', 'diameter_av']\n",
    "list_varnames2 = ['gsw_r0', 'gsw_r050']\n",
    "\n",
    "array_summary = []\n",
    "for name1 in list_names:\n",
    "    print ''\n",
    "    print name1\n",
    "    pathname = 'data/perforated_foils/' + name1 + '/'\n",
    "    for varname in list_varnames1:\n",
    "        blah = fun_printminmax(results_array_b, varname, pathname)\n",
    "    for varname in list_varnames2:\n",
    "        blah = fun_printminmax(results_array_b, varname, pathname, print1 = False)\n",
    "        print varname + '(d_p = ' + str(int(cdict[d_p]*1e6)) + ' um) = ' + str(blah)\n",
    "        #blah = fun_printminmax(results_array_b0, varname, pathname, print1 = False)\n",
    "        #print varname + '(d_p = 0 um) = ' + str(blah)"
   ]
  },
  {
   "cell_type": "code",
   "execution_count": null,
   "metadata": {
    "collapsed": true
   },
   "outputs": [],
   "source": []
  }
 ],
 "metadata": {
  "kernelspec": {
   "display_name": "SageMath 7.3",
   "language": "",
   "name": "sagemath"
  },
  "language": "python",
  "language_info": {
   "codemirror_mode": {
    "name": "ipython",
    "version": 2
   },
   "file_extension": ".py",
   "mimetype": "text/x-python",
   "name": "python",
   "nbconvert_exporter": "python",
   "pygments_lexer": "ipython2",
   "version": "2.7.10"
  },
  "nav_menu": {},
  "toc": {
   "navigate_menu": true,
   "number_sections": true,
   "sideBar": true,
   "threshold": 6,
   "toc_cell": false,
   "toc_section_display": "block",
   "toc_window_display": true
  },
  "toc_position": {
   "height": "1141px",
   "left": "0px",
   "right": "2188px",
   "top": "108px",
   "width": "212px"
  }
 },
 "nbformat": 4,
 "nbformat_minor": 0
}
